{
 "cells": [
  {
   "attachments": {},
   "cell_type": "markdown",
   "metadata": {},
   "source": [
    "# Packages and Functions"
   ]
  },
  {
   "cell_type": "code",
   "execution_count": 1,
   "metadata": {},
   "outputs": [
    {
     "data": {
      "text/plain": [
       "'c:\\\\Users\\\\gilramolete\\\\OneDrive - UNIONBANK of the Philippines\\\\Documents 1\\\\Python and ML Learnings with AI COE\\\\Spatial Programming & Remote Sensing'"
      ]
     },
     "execution_count": 1,
     "metadata": {},
     "output_type": "execute_result"
    }
   ],
   "source": [
    "import pandas as pd\n",
    "import numpy as np\n",
    "import matplotlib.pyplot as plt\n",
    "\n",
    "import osmnx as ox\n",
    "import geopandas as gpd\n",
    "import rasterio\n",
    "from rasterio.coords import BoundingBox\n",
    "# import geowombat as gw\n",
    "# from geowombat.data import l8_224078_20200518, l8_224078_20200518_B2, l8_224078_20200518_B3, l8_224078_20200518_B4, l8_224077_20200518_B2, l8_224077_20200518_B4\n",
    "\n",
    "import os\n",
    "os.getcwd()"
   ]
  },
  {
   "attachments": {},
   "cell_type": "markdown",
   "metadata": {},
   "source": [
    "# Reading/Writing Remote Sensed Images"
   ]
  },
  {
   "attachments": {},
   "cell_type": "markdown",
   "metadata": {},
   "source": [
    "GeoWombat’s file opening is meant to mimic Xarray and Rasterio. That is, rasters are typically opened with a context manager using the function `geowombat.open`. GeoWombat uses `xarray.open_rasterio` to load data into an `xarray.DataArray`. In GeoWombat, the data are always chunked, meaning the data are always loaded as Dask arrays. As with `xarray.open_rasterio`, the opened DataArrays always have at least 1 band."
   ]
  },
  {
   "attachments": {},
   "cell_type": "markdown",
   "metadata": {},
   "source": [
    "## Opening a single image"
   ]
  },
  {
   "attachments": {},
   "cell_type": "markdown",
   "metadata": {},
   "source": [
    "Opening an image with default settings looks similar to `xarray.open_rasterio` and `rasterio.open`. `geowombat.open` expects a file name (`str` or `pathlib.Path`)."
   ]
  },
  {
   "cell_type": "code",
   "execution_count": 2,
   "metadata": {},
   "outputs": [],
   "source": [
    "# with gw.open(l8_224078_20200518) as src:\n",
    "#     print(src)"
   ]
  },
  {
   "attachments": {},
   "cell_type": "markdown",
   "metadata": {},
   "source": [
    "In the example above, `src` is an `xarray.DataArray`. Thus, printing the object will display the underlying Dask array dimensions and chunks, the DataArray named coordinates, and the DataArray attributes.\n",
    "\n",
    "It automatically converts the coordinates stored in `x` and `y`, and the different bands are stored in `band`. To select a single band we can simply select it with `src.sel(band = 1)`.\n",
    "\n",
    "Let’s plot out what we have while removing missing values, stored at `0`, and switch the band order around to be RGB."
   ]
  },
  {
   "cell_type": "code",
   "execution_count": 3,
   "metadata": {},
   "outputs": [],
   "source": [
    "# fig, ax = plt.subplots(dpi = 200)\n",
    "# with gw.open(l8_224078_20200518) as src:\n",
    "#     src.where(src != 0).sel(band = [3, 2, 1]).gw.imshow(robust = True, ax = ax)\n",
    "# plt.tight_layout(pad = 1)"
   ]
  },
  {
   "attachments": {},
   "cell_type": "markdown",
   "metadata": {},
   "source": [
    "## Opening multiple bands as a stack"
   ]
  },
  {
   "attachments": {},
   "cell_type": "markdown",
   "metadata": {},
   "source": [
    "Often, satellite bands will be stored in separate raster files. To open the files as one DataArray, specify a list instead of a file name."
   ]
  },
  {
   "cell_type": "code",
   "execution_count": 4,
   "metadata": {},
   "outputs": [],
   "source": [
    "# with gw.open([l8_224078_20200518_B2, l8_224078_20200518_B3, l8_224078_20200518_B4]) as src:\n",
    "#     print(src)"
   ]
  },
  {
   "attachments": {},
   "cell_type": "markdown",
   "metadata": {},
   "source": [
    "By default, GeoWombat will stack multiple files by time. So, to stack multiple bands with the same timestamp, change the `stack_dim` keyword.\n",
    "\n",
    "Also note the use of `band_names` parameter. Here we can set it to anything we want for instance `['blue','green','red']`."
   ]
  },
  {
   "cell_type": "code",
   "execution_count": 5,
   "metadata": {},
   "outputs": [],
   "source": [
    "# with gw.open(\n",
    "#     [l8_224078_20200518_B2, l8_224078_20200518_B3, l8_224078_20200518_B4],\n",
    "#     stack_dim = \"band\",\n",
    "#     band_names = [1, 2, 3],\n",
    "# ) as src:\n",
    "#     print(src)"
   ]
  },
  {
   "attachments": {},
   "cell_type": "markdown",
   "metadata": {},
   "source": [
    "You will see this looks the same as the multiband raster:"
   ]
  },
  {
   "cell_type": "code",
   "execution_count": 6,
   "metadata": {},
   "outputs": [],
   "source": [
    "# fig, ax = plt.subplots(dpi = 200)\n",
    "# with gw.open(\n",
    "#     [l8_224078_20200518_B2, l8_224078_20200518_B3, l8_224078_20200518_B4],\n",
    "#     stack_dim = \"band\",\n",
    "#     band_names = ['blue','green','red'],\n",
    "# ) as src:\n",
    "#     src.where(src != 0).sel(band = ['red','blue','green']).gw.imshow(robust = True, ax = ax)\n",
    "# plt.tight_layout(pad = 1)"
   ]
  },
  {
   "attachments": {},
   "cell_type": "markdown",
   "metadata": {},
   "source": [
    "If time names are not specified with `stack_dim` = ‘time’, GeoWombat will attempt to parse dates from the file names. This could incur significant overhead when the file list is long. Therefore, it is good practice to specify the time names."
   ]
  },
  {
   "attachments": {},
   "cell_type": "markdown",
   "metadata": {},
   "source": [
    "## Opening images from different sensors"
   ]
  },
  {
   "attachments": {},
   "cell_type": "markdown",
   "metadata": {},
   "source": [
    "One of many complications of using remotely sensed data is that there are so many different sensors such as LandSat, Sentinel, PlantScope etc each with their own band order and properties. Geowombat makes this much easier by providing a broad list of potential sensor configurations. [Read in more detail about sensor configurations here](https://pygis.io/docs/f_rs_config.html#f-rs-crs-sensors). For this section, let’s keep things simple and show you how to open a Sentinel 2 image using the configuration manager, frankly, it’s pretty easy:"
   ]
  },
  {
   "cell_type": "code",
   "execution_count": 7,
   "metadata": {},
   "outputs": [],
   "source": [
    "# with gw.config.update(sensor = 's2'):\n",
    "#     with gw.open('filepath.tif') as src:\n",
    "#         print(src.band)"
   ]
  },
  {
   "attachments": {},
   "cell_type": "markdown",
   "metadata": {},
   "source": [
    "To see all available sensor names, use the **avail_sensors** property:"
   ]
  },
  {
   "cell_type": "code",
   "execution_count": 8,
   "metadata": {},
   "outputs": [],
   "source": [
    "# with gw.open('filepath.tif') as src:\n",
    "#     for sensor_name in src.gw.avail_sensors:\n",
    "#         print(sensor_name)"
   ]
  },
  {
   "attachments": {},
   "cell_type": "markdown",
   "metadata": {},
   "source": [
    "## Opening multiple bands as a mosaic"
   ]
  },
  {
   "attachments": {},
   "cell_type": "markdown",
   "metadata": {},
   "source": [
    "When a list of files are given, GeoWombat will stack the data by default. To mosaic multiple files into the same band coordinate, use the **mosaic** keyword."
   ]
  },
  {
   "cell_type": "code",
   "execution_count": 9,
   "metadata": {},
   "outputs": [],
   "source": [
    "# with gw.open([l8_224077_20200518_B2, l8_224078_20200518_B2],\n",
    "#               mosaic = True) as src:\n",
    "#     print(src)"
   ]
  },
  {
   "attachments": {},
   "cell_type": "markdown",
   "metadata": {},
   "source": [
    "Now let's take a look at the mosaiced band 2 image values."
   ]
  },
  {
   "cell_type": "code",
   "execution_count": 10,
   "metadata": {},
   "outputs": [],
   "source": [
    "# fig, ax = plt.subplots(dpi = 200)\n",
    "# with gw.open([l8_224077_20200518_B2, l8_224078_20200518_B2],\n",
    "#               mosaic = True) as src:\n",
    "#     src.where(src != 0).sel(band = 1).gw.imshow(robust = True, ax = ax)\n",
    "# plt.tight_layout(pad = 1)"
   ]
  },
  {
   "attachments": {},
   "cell_type": "markdown",
   "metadata": {},
   "source": [
    "## Create a Time Series Stack"
   ]
  },
  {
   "attachments": {},
   "cell_type": "markdown",
   "metadata": {},
   "source": [
    "Let’s pretend for a moment that we have a time series of images from the same tile. We can stack them by passing a list of file names `[l8_224078_20200518, l8_224078_20200518]`, it also helps to be specific and assign `time_names = ['t1', 't2']`, and specify which dimension we want to stack our data along with `stack_dim = 'time'`."
   ]
  },
  {
   "cell_type": "code",
   "execution_count": 11,
   "metadata": {},
   "outputs": [],
   "source": [
    "# with gw.open([l8_224078_20200518, l8_224078_20200518],\n",
    "#             band_names = ['blue', 'green', 'red'],\n",
    "#             time_names = ['t1', 't2'],\n",
    "#             stack_dim = 'time') as src:\n",
    "#     print(src)"
   ]
  },
  {
   "attachments": {},
   "cell_type": "markdown",
   "metadata": {},
   "source": [
    "## Setting Missing Values"
   ]
  },
  {
   "attachments": {},
   "cell_type": "markdown",
   "metadata": {},
   "source": [
    "Many raster files do not have the missing value set properly in their profile. Geowombat makes it easy to set or update the missing data value using `nodata` in either `gw.open` or even in `gw.config.update` if you prefer."
   ]
  },
  {
   "cell_type": "code",
   "execution_count": 12,
   "metadata": {},
   "outputs": [],
   "source": [
    "# fig, ax = plt.subplots(dpi=200)\n",
    "# with gw.open(l8_224078_20200518, nodata = 0) as src:\n",
    "#     # replace 0 with nan\n",
    "#     src = src.gw.mask_nodata()\n",
    "#     src.sel(band = [3, 2, 1]).gw.imshow(robust = True, ax = ax)\n",
    "# plt.tight_layout(pad = 1)"
   ]
  },
  {
   "attachments": {},
   "cell_type": "markdown",
   "metadata": {},
   "source": [
    "## Writing DataArrays to file"
   ]
  },
  {
   "attachments": {},
   "cell_type": "markdown",
   "metadata": {},
   "source": [
    "GeoWombat’s I/O can be accessed through the `to_vrt` and `to_raster` functions. These functions use Rasterio’s `write` and Dask.array `store` functions as I/O backends. In the examples below, src is an `xarray.DataArray` with the necessary transform information to write to an image file.\n",
    "\n",
    "Write to a VRT file."
   ]
  },
  {
   "cell_type": "code",
   "execution_count": 13,
   "metadata": {},
   "outputs": [],
   "source": [
    "# # Transform the data to lat/lon\n",
    "# with gw.config.update(ref_crs = 4326):\n",
    "\n",
    "#     with gw.open(l8_224077_20200518_B4) as src:\n",
    "\n",
    "#         # Write the data to a VRT\n",
    "#         gw.to_vrt(src, 'lat_lon_file.vrt')"
   ]
  },
  {
   "attachments": {},
   "cell_type": "markdown",
   "metadata": {},
   "source": [
    "Write to a raster file."
   ]
  },
  {
   "cell_type": "code",
   "execution_count": 14,
   "metadata": {},
   "outputs": [],
   "source": [
    "# with gw.open(l8_224077_20200518_B4) as src:\n",
    "\n",
    "#     # Xarray drops attributes\n",
    "#     attrs = src.attrs.copy()\n",
    "\n",
    "#     # Apply operations on the DataArray\n",
    "#     src = src * 10.0\n",
    "\n",
    "#     src.attrs = attrs\n",
    "\n",
    "#     # Write the data to a GeoTiff\n",
    "#     src.gw.save('output.tif',\n",
    "#                 n_workers = 4,    # number of process workers sent to ``concurrent.futures``\n",
    "#                 )   "
   ]
  },
  {
   "cell_type": "code",
   "execution_count": null,
   "metadata": {},
   "outputs": [],
   "source": []
  }
 ],
 "metadata": {
  "kernelspec": {
   "display_name": "pls",
   "language": "python",
   "name": "python3"
  },
  "language_info": {
   "codemirror_mode": {
    "name": "ipython",
    "version": 3
   },
   "file_extension": ".py",
   "mimetype": "text/x-python",
   "name": "python",
   "nbconvert_exporter": "python",
   "pygments_lexer": "ipython3",
   "version": "3.11.0"
  },
  "orig_nbformat": 4,
  "vscode": {
   "interpreter": {
    "hash": "61cfd1d7e19a6689a1c619413d2befd5deb448ce1bb4a01fd856187b64fd8ffb"
   }
  }
 },
 "nbformat": 4,
 "nbformat_minor": 2
}
