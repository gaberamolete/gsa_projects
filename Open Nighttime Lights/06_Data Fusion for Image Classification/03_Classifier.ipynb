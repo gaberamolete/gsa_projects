{
 "cells": [
  {
   "cell_type": "markdown",
   "metadata": {},
   "source": [
    "# Packages"
   ]
  },
  {
   "cell_type": "code",
   "execution_count": 1,
   "metadata": {},
   "outputs": [
    {
     "data": {
      "text/plain": [
       "'c:\\\\Users\\\\gilramolete\\\\OneDrive - UNIONBANK of the Philippines\\\\Documents 1\\\\Open Nighttime Lights\\\\06_Data Fusion for Image Classification'"
      ]
     },
     "execution_count": 1,
     "metadata": {},
     "output_type": "execute_result"
    }
   ],
   "source": [
    "import ee\n",
    "import geemap\n",
    "\n",
    "import pandas as pd\n",
    "import numpy as np\n",
    "import matplotlib.pyplot as plt\n",
    "import seaborn as sns\n",
    "\n",
    "try:\n",
    "    ee.Initialize()\n",
    "except Exception as e:\n",
    "    ee.Authenticate()\n",
    "    ee.Initialize()\n",
    "\n",
    "import os\n",
    "os.getcwd()"
   ]
  },
  {
   "cell_type": "markdown",
   "metadata": {},
   "source": [
    "Now that we have processed and explored our data, we will try to classify built-up areas with a Random Forest ensemble of decision trees.\n",
    "\n",
    "Decision tree models like Random Forest are among the most powerful, easy to use, and simple to understand models in the machine learning portfolio."
   ]
  },
  {
   "cell_type": "markdown",
   "metadata": {},
   "source": [
    "# Training Data"
   ]
  },
  {
   "cell_type": "code",
   "execution_count": 2,
   "metadata": {},
   "outputs": [
    {
     "data": {
      "text/html": [
       "\n",
       "            <style>\n",
       "                .geemap-dark {\n",
       "                    --jp-widgets-color: white;\n",
       "                    --jp-widgets-label-color: white;\n",
       "                    --jp-ui-font-color1: white;\n",
       "                    --jp-layout-color2: #454545;\n",
       "                    background-color: #383838;\n",
       "                }\n",
       "                    \n",
       "                .geemap-dark .jupyter-button {\n",
       "                    --jp-layout-color3: #383838;\n",
       "                }\n",
       "                \n",
       "                .geemap-colab {\n",
       "                    background-color: var(--colab-primary-surface-color, white);\n",
       "                }\n",
       "                    \n",
       "                .geemap-colab .jupyter-button {\n",
       "                    --jp-layout-color3: var(--colab-primary-surface-color, white);\n",
       "                }\n",
       "            </style>\n",
       "            "
      ],
      "text/plain": [
       "<IPython.core.display.HTML object>"
      ]
     },
     "metadata": {},
     "output_type": "display_data"
    },
    {
     "data": {
      "text/plain": [
       "{'max': 1,\n",
       " 'mean': 0.18796029458853666,\n",
       " 'min': 0,\n",
       " 'sample_sd': 0.39071173874702697,\n",
       " 'sample_var': 0.15265566279472506,\n",
       " 'sum': 1174,\n",
       " 'sum_sq': 1174,\n",
       " 'total_count': 6246,\n",
       " 'total_sd': 0.39068046053869543,\n",
       " 'total_var': 0.15263122224672718,\n",
       " 'valid_count': 6246,\n",
       " 'weight_sum': 6246,\n",
       " 'weighted_sum': 1174}"
      ]
     },
     "execution_count": 2,
     "metadata": {},
     "output_type": "execute_result"
    }
   ],
   "source": [
    "# define some functions and variables\n",
    "def se2mask(image):\n",
    "    quality_band = image.select('QA60')\n",
    "    cloudmask = 1 << 10\n",
    "    cirrusmask = 1 << 11\n",
    "    mask = quality_band.bitwiseAnd(cloudmask).eq(0) and (quality_band.bitwiseAnd(cirrusmask).eq(0))\n",
    "    return image.updateMask(mask).divide(10000)\n",
    "\n",
    "\n",
    "se2bands = ['B2', 'B3', 'B4', 'B5', 'B6', 'B7','B8','B8A']\n",
    "trainingbands = se2bands + ['avg_rad']\n",
    "label = 'smod_code'\n",
    "scaleFactor=1000\n",
    "\n",
    "# create training data\n",
    "roi = ee.FeatureCollection(\"FAO/GAUL/2015/level2\").filter(ee.Filter.eq('ADM2_NAME','Bagmati')).geometry()\n",
    "\n",
    "se2 = ee.ImageCollection('COPERNICUS/S2').filterDate(\n",
    "    \"2015-07-01\",\"2015-12-31\").filterBounds(roi).filter(\n",
    "    ee.Filter.lt(\"CLOUDY_PIXEL_PERCENTAGE\",20)).map(se2mask).median().select(se2bands).clip(roi)\n",
    "\n",
    "viirs = ee.Image(ee.ImageCollection(\"NOAA/VIIRS/DNB/MONTHLY_V1/VCMSLCFG\").filterDate(\n",
    "    \"2015-07-01\",\"2019-12-31\").filterBounds(roi).median().select('avg_rad').clip(roi))\n",
    "\n",
    "fused = se2.addBands(viirs)\n",
    "\n",
    "# create and overlay labels to training data\n",
    "ghsl = ee.ImageCollection('JRC/GHSL/P2016/SMOD_POP_GLOBE_V1').filter(ee.Filter.date(\n",
    "    '2015-01-01', '2015-12-31')).select(label).median().gte(2).clip(roi)\n",
    "\n",
    "points = ghsl.sample(**{\"region\":roi, \"scale\":scaleFactor,\"seed\":0,'geometries':True})\n",
    "\n",
    "data = fused.select(trainingbands).sampleRegions(collection=points,\n",
    "                                                        properties=[label],\n",
    "                                                        scale=scaleFactor)\n",
    "\n",
    "# Look at the stats\n",
    "data.aggregate_stats(label).getInfo()"
   ]
  },
  {
   "cell_type": "markdown",
   "metadata": {},
   "source": [
    "In our total training dataset, we have 6,246 observations and our label clasification shows that about 19% (the mean value above) of our data are classified as built-up (1) with the rest not."
   ]
  },
  {
   "cell_type": "markdown",
   "metadata": {},
   "source": [
    "# Cross-validation"
   ]
  },
  {
   "cell_type": "markdown",
   "metadata": {},
   "source": [
    "Cross-validation is one of the most important aspects of machine learning development. Last section we talked about several attributes of the training data that may impact classification:\n",
    "- varying spatial resolution and choices for re-sample rate\n",
    "- choices about data cleaning\n",
    "- decisions about which bands to include\n",
    "\n",
    "We also may decide to create new features (known as feature engineering) by transforming our data sources mathmatically (getting derivatives, information about neighboring pixels, etc) or even fusing additional data.\n",
    "\n",
    "The classification algorithm itself will have hyperparameters than may be adjusted (known as hyperparameter tuning). How do we decide these things?\n",
    "\n",
    "Often we will experiment empirically and see what works, this is a big advantage to advances in computing resources and machine learning packages. However, if we just tweak our data until we get the best performance on our training data and leave it at that, we are at risk of over-fitting our model.\n",
    "\n",
    "Over-fitting a model means making it too specific to our data on-hand in a way that will fail us on unseen data. This could impact the final analysis and ultimately stakeholder trust and their ability to make informed decisions, so we want to think about strategies to avoid this. That is our situation here: since we dont have any “ground truth” for our data after 2015 in terms of settlements, we will want to validate our classifier as best we can with the labeled data we have before “releasing it to the wild.”\n",
    "\n",
    "A key way to do that is to split our labeled data into two components: training and testing sets (or even train, validation and test sets). There are many strategies for this, including a K-fold sample technique (or a stratified K-Fold technique, which addresses the class imbalance issue we noted earlier). Unfortunately things can get quite complex with time series or sequential data (since observations in time are “dependent” on observations before, we cannot fairly randomly split them).\n",
    "\n",
    "For our purposes, a simple 80/20 train/test split randomly among the pixels in our 2015 training image will be fine, but this is another great topic to learn more about."
   ]
  },
  {
   "cell_type": "code",
   "execution_count": 3,
   "metadata": {},
   "outputs": [
    {
     "data": {
      "text/html": [
       "\n",
       "            <style>\n",
       "                .geemap-dark {\n",
       "                    --jp-widgets-color: white;\n",
       "                    --jp-widgets-label-color: white;\n",
       "                    --jp-ui-font-color1: white;\n",
       "                    --jp-layout-color2: #454545;\n",
       "                    background-color: #383838;\n",
       "                }\n",
       "                    \n",
       "                .geemap-dark .jupyter-button {\n",
       "                    --jp-layout-color3: #383838;\n",
       "                }\n",
       "                \n",
       "                .geemap-colab {\n",
       "                    background-color: var(--colab-primary-surface-color, white);\n",
       "                }\n",
       "                    \n",
       "                .geemap-colab .jupyter-button {\n",
       "                    --jp-layout-color3: var(--colab-primary-surface-color, white);\n",
       "                }\n",
       "            </style>\n",
       "            "
      ],
      "text/plain": [
       "<IPython.core.display.HTML object>"
      ]
     },
     "metadata": {},
     "output_type": "display_data"
    },
    {
     "data": {
      "text/plain": [
       "({'max': 1,\n",
       "  'mean': 0.18225709112854557,\n",
       "  'min': 0,\n",
       "  'sample_sd': 0.3860951070365603,\n",
       "  'sample_var': 0.14906943167757297,\n",
       "  'sum': 906,\n",
       "  'sum_sq': 906,\n",
       "  'total_count': 4971,\n",
       "  'total_sd': 0.3860562703310317,\n",
       "  'total_var': 0.1490394438619066,\n",
       "  'valid_count': 4971,\n",
       "  'weight_sum': 4971,\n",
       "  'weighted_sum': 906},\n",
       " {'max': 1,\n",
       "  'mean': 0.21019607843137256,\n",
       "  'min': 0,\n",
       "  'sample_sd': 0.40760764965829877,\n",
       "  'sample_var': 0.16614399605996244,\n",
       "  'sum': 268,\n",
       "  'sum_sq': 268,\n",
       "  'total_count': 1275,\n",
       "  'total_sd': 0.4074477721665009,\n",
       "  'total_var': 0.16601368704344482,\n",
       "  'valid_count': 1275,\n",
       "  'weight_sum': 1275,\n",
       "  'weighted_sum': 268})"
      ]
     },
     "execution_count": 3,
     "metadata": {},
     "output_type": "execute_result"
    }
   ],
   "source": [
    "# We'll create a column of random numbers\n",
    "data = data.randomColumn(seed = 42)\n",
    "split_thresh = 0.8\n",
    "\n",
    "train = data.filter(ee.Filter.lt('random', split_thresh))\n",
    "test = data.filter(ee.Filter.gte('random', split_thresh))\n",
    "\n",
    "train.aggregate_stats(label).getInfo(), test.aggregate_stats(label).getInfo()"
   ]
  },
  {
   "cell_type": "markdown",
   "metadata": {},
   "source": [
    "We have ~5,000 observations (pixels) in our training set and ~1,200 in our test set.\n",
    "\n",
    "And notice balance of our label is similar for training and testing (~18% and ~20% classified as built-up, respectively), which we’d expect in a random split."
   ]
  },
  {
   "cell_type": "markdown",
   "metadata": {},
   "source": [
    "# Train the classifier"
   ]
  },
  {
   "cell_type": "code",
   "execution_count": 4,
   "metadata": {},
   "outputs": [
    {
     "data": {
      "text/html": [
       "\n",
       "            <style>\n",
       "                .geemap-dark {\n",
       "                    --jp-widgets-color: white;\n",
       "                    --jp-widgets-label-color: white;\n",
       "                    --jp-ui-font-color1: white;\n",
       "                    --jp-layout-color2: #454545;\n",
       "                    background-color: #383838;\n",
       "                }\n",
       "                    \n",
       "                .geemap-dark .jupyter-button {\n",
       "                    --jp-layout-color3: #383838;\n",
       "                }\n",
       "                \n",
       "                .geemap-colab {\n",
       "                    background-color: var(--colab-primary-surface-color, white);\n",
       "                }\n",
       "                    \n",
       "                .geemap-colab .jupyter-button {\n",
       "                    --jp-layout-color3: var(--colab-primary-surface-color, white);\n",
       "                }\n",
       "            </style>\n",
       "            "
      ],
      "text/plain": [
       "<IPython.core.display.HTML object>"
      ]
     },
     "metadata": {},
     "output_type": "display_data"
    },
    {
     "data": {
      "text/html": [
       "<div><style>:root {\n",
       "  --font-color-primary: var(--jp-content-font-color0, rgba(0, 0, 0, 1));\n",
       "  --font-color-secondary: var(--jp-content-font-color2, rgba(0, 0, 0, 0.6));\n",
       "  --font-color-accent: rgba(123, 31, 162, 1);\n",
       "  --border-color: var(--jp-border-color2, #e0e0e0);\n",
       "  --background-color: var(--jp-layout-color0, white);\n",
       "  --background-color-row-even: var(--jp-layout-color1, white);\n",
       "  --background-color-row-odd: var(--jp-layout-color2, #eeeeee);\n",
       "}\n",
       "\n",
       "html[theme=\"dark\"],\n",
       "body[data-theme=\"dark\"],\n",
       "body.vscode-dark {\n",
       "  --font-color-primary: rgba(255, 255, 255, 1);\n",
       "  --font-color-secondary: rgba(255, 255, 255, 0.6);\n",
       "  --font-color-accent: rgb(173, 132, 190);\n",
       "  --border-color: #2e2e2e;\n",
       "  --background-color: #111111;\n",
       "  --background-color-row-even: #111111;\n",
       "  --background-color-row-odd: #313131;\n",
       "}\n",
       "\n",
       ".ee {\n",
       "  padding: 1em;\n",
       "  line-height: 1.5em;\n",
       "  min-width: 300px;\n",
       "  max-width: 1200px;\n",
       "  overflow-y: scroll;\n",
       "  max-height: 600px;\n",
       "  border: 1px solid var(--border-color);\n",
       "  font-family: monospace;\n",
       "}\n",
       "\n",
       ".ee li {\n",
       "  list-style-type: none;\n",
       "}\n",
       "\n",
       ".ee ul {\n",
       "  padding-left: 1.5em !important;\n",
       "  margin: 0;\n",
       "}\n",
       "\n",
       ".ee > ul {\n",
       "  padding-left: 0 !important;\n",
       "}\n",
       "\n",
       ".ee-open,\n",
       ".ee-shut {\n",
       "  color: var(--font-color-secondary);\n",
       "  cursor: pointer;\n",
       "  margin: 0;\n",
       "}\n",
       "\n",
       ".ee-open:hover,\n",
       ".ee-shut:hover {\n",
       "  color: var(--font-color-primary);\n",
       "}\n",
       "\n",
       ".ee-k {\n",
       "  color: var(--font-color-accent);\n",
       "  margin-right: 6px;\n",
       "}\n",
       "\n",
       ".ee-v {\n",
       "  color: var(--font-color-primary);\n",
       "}\n",
       "\n",
       ".ee-toggle {\n",
       "  display: none;\n",
       "}\n",
       "\n",
       ".ee-shut + ul {\n",
       "  display: none;\n",
       "}\n",
       "\n",
       ".ee-open + ul {\n",
       "  display: block;\n",
       "}\n",
       "\n",
       ".ee-shut::before {\n",
       "  display: inline-block;\n",
       "  content: \"▼\";\n",
       "  margin-right: 6px;\n",
       "  transform: rotate(-90deg);\n",
       "  transition: transform 0.2s;\n",
       "}\n",
       "\n",
       ".ee-open::before {\n",
       "  transform: rotate(0deg);\n",
       "  display: inline-block;\n",
       "  content: \"▼\";\n",
       "  margin-right: 6px;\n",
       "  transition: transform 0.2s;\n",
       "}\n",
       "</style><div class='ee'><ul><li><label class='ee-shut'>Classifier.train<input type='checkbox' class='ee-toggle'></label><ul><li><span class='ee-k'>type:</span><span class='ee-v'>Classifier.train</span></li><li><span class='ee-k'>classProperty:</span><span class='ee-v'>smod_code</span></li><li><label class='ee-shut'>classifier: Classifier.smileRandomForest<input type='checkbox' class='ee-toggle'></label><ul><li><span class='ee-k'>type:</span><span class='ee-v'>Classifier.smileRandomForest</span></li><li><span class='ee-k'>numberOfTrees:</span><span class='ee-v'>100</span></li><li><span class='ee-k'>seed:</span><span class='ee-v'>42</span></li></ul></li><li><label class='ee-shut'>features: FeatureCollection (0 elements, 1 column)<input type='checkbox' class='ee-toggle'></label><ul><li><span class='ee-k'>type:</span><span class='ee-v'>FeatureCollection</span></li><li><label class='ee-shut'>columns: Object (1 property)<input type='checkbox' class='ee-toggle'></label><ul><li><span class='ee-k'>random:</span><span class='ee-v'><any></span></li></ul></li></ul></li><li><label class='ee-shut'>inputProperties: List (9 elements)<input type='checkbox' class='ee-toggle'></label><ul><li><span class='ee-k'>0:</span><span class='ee-v'>B2</span></li><li><span class='ee-k'>1:</span><span class='ee-v'>B3</span></li><li><span class='ee-k'>2:</span><span class='ee-v'>B4</span></li><li><span class='ee-k'>3:</span><span class='ee-v'>B5</span></li><li><span class='ee-k'>4:</span><span class='ee-v'>B6</span></li><li><span class='ee-k'>5:</span><span class='ee-v'>B7</span></li><li><span class='ee-k'>6:</span><span class='ee-v'>B8</span></li><li><span class='ee-k'>7:</span><span class='ee-v'>B8A</span></li><li><span class='ee-k'>8:</span><span class='ee-v'>avg_rad</span></li></ul></li></ul></li></ul></div><script>function toggleHeader() {\n",
       "    const parent = this.parentElement;\n",
       "    parent.className = parent.className === \"ee-open\" ? \"ee-shut\" : \"ee-open\";\n",
       "}\n",
       "\n",
       "for (let c of document.getElementsByClassName(\"ee-toggle\")) {\n",
       "    c.onclick = toggleHeader;\n",
       "}</script></div>"
      ],
      "text/plain": [
       "<ee.Classifier at 0x1936f868730>"
      ]
     },
     "execution_count": 4,
     "metadata": {},
     "output_type": "execute_result"
    }
   ],
   "source": [
    "init_params = {\n",
    "    'numberOfTrees': 100,       # Number of individual decision tree models\n",
    "    'variablesPerSplit': None,  # Number of features to use per split\n",
    "    'minLeafPopulation': 1,     # Smallest sample size possible per leaf\n",
    "    'bagFraction': 0.5,         # Fraction of data to include for each individual tree model\n",
    "    'maxNodes': None,           # Max Number of leafs/nodes per tree\n",
    "    'seed': 42                  # Random seed for \"random\" choices like sampling\n",
    "}\n",
    "\n",
    "clf = ee.Classifier.smileRandomForest(**init_params).train(train, label, trainingbands)\n",
    "clf"
   ]
  },
  {
   "cell_type": "markdown",
   "metadata": {},
   "source": [
    "# Evaluation"
   ]
  },
  {
   "cell_type": "markdown",
   "metadata": {},
   "source": [
    "We need metrics to determine how well the classifier performs. We just have a simple binary schema so we can visaulize a confusion matrix, which shows the actual labels (y axis) and the predicted labels (x axis)."
   ]
  },
  {
   "cell_type": "code",
   "execution_count": 5,
   "metadata": {},
   "outputs": [
    {
     "data": {
      "text/html": [
       "\n",
       "            <style>\n",
       "                .geemap-dark {\n",
       "                    --jp-widgets-color: white;\n",
       "                    --jp-widgets-label-color: white;\n",
       "                    --jp-ui-font-color1: white;\n",
       "                    --jp-layout-color2: #454545;\n",
       "                    background-color: #383838;\n",
       "                }\n",
       "                    \n",
       "                .geemap-dark .jupyter-button {\n",
       "                    --jp-layout-color3: #383838;\n",
       "                }\n",
       "                \n",
       "                .geemap-colab {\n",
       "                    background-color: var(--colab-primary-surface-color, white);\n",
       "                }\n",
       "                    \n",
       "                .geemap-colab .jupyter-button {\n",
       "                    --jp-layout-color3: var(--colab-primary-surface-color, white);\n",
       "                }\n",
       "            </style>\n",
       "            "
      ],
      "text/plain": [
       "<IPython.core.display.HTML object>"
      ]
     },
     "metadata": {},
     "output_type": "display_data"
    },
    {
     "data": {
      "image/png": "[encoded data removed]",
      "text/plain": [
       "<Figure size 720x720 with 2 Axes>"
      ]
     },
     "metadata": {
      "needs_background": "light"
     },
     "output_type": "display_data"
    }
   ],
   "source": [
    "trainResults = clf.confusionMatrix().getInfo()\n",
    "trainCM = pd.DataFrame(np.asarray(trainResults), index = ['not', 'built-up'], columns = ['not', 'built-up'])\n",
    "\n",
    "fig, ax = plt.subplots(1, figsize = (10, 10))\n",
    "sns.heatmap(trainCM / trainCM.sum(axis = 1), annot = True)\n",
    "\n",
    "ax.set_xlabel('model predictions', fontsize = 20)\n",
    "ax.set_ylabel('actual', fontsize = 20)\n",
    "plt.title('Training data confusion matrix', fontsize = 20)\n",
    "plt.show()"
   ]
  },
  {
   "cell_type": "markdown",
   "metadata": {},
   "source": [
    "The matrix shows True Negatives (top left), False Positives (top right), True Positives (bottom right) and False Negatives (bottom left). Accuracy measures the ratio of hits for both positive (built up) and negative (not) classes.\n",
    "\n",
    "$$ ACC = \\frac{TP + TN}{TP + TN + FP + FN} $$"
   ]
  },
  {
   "cell_type": "code",
   "execution_count": 6,
   "metadata": {},
   "outputs": [
    {
     "data": {
      "text/html": [
       "\n",
       "            <style>\n",
       "                .geemap-dark {\n",
       "                    --jp-widgets-color: white;\n",
       "                    --jp-widgets-label-color: white;\n",
       "                    --jp-ui-font-color1: white;\n",
       "                    --jp-layout-color2: #454545;\n",
       "                    background-color: #383838;\n",
       "                }\n",
       "                    \n",
       "                .geemap-dark .jupyter-button {\n",
       "                    --jp-layout-color3: #383838;\n",
       "                }\n",
       "                \n",
       "                .geemap-colab {\n",
       "                    background-color: var(--colab-primary-surface-color, white);\n",
       "                }\n",
       "                    \n",
       "                .geemap-colab .jupyter-button {\n",
       "                    --jp-layout-color3: var(--colab-primary-surface-color, white);\n",
       "                }\n",
       "            </style>\n",
       "            "
      ],
      "text/plain": [
       "<IPython.core.display.HTML object>"
      ]
     },
     "metadata": {},
     "output_type": "display_data"
    },
    {
     "name": "stdout",
     "output_type": "stream",
     "text": [
      "Our classifier has an accuracy of 0.99155 on the training data.\n"
     ]
    }
   ],
   "source": [
    "acc = (trainCM.loc['built-up', 'built-up'] + trainCM.loc['not', 'not']) / trainCM.sum().sum()\n",
    "\n",
    "print(f\"Our classifier has an accuracy of {acc:.5f} on the training data.\")"
   ]
  },
  {
   "cell_type": "markdown",
   "metadata": {},
   "source": [
    "With a balanced class (~50% built up and 50% not), this metric might be ok, assuming we didnt care at all about false positives or negatives. But accuracy is not a great metric.\n",
    "\n",
    "Consider an extreme (but realistic) example where 1 out of 100 observations are in the positive class. A classifier could predict that everything is negative and be right 99 of 100 times…99% accuracy might be considered good, but there is no predictive power here and no information is yielded. If you do care about false negatives (say, if the test is for a disease or something with high stakes) you do not want a classifier that just predicts negatives naively: 1 miss in 100 could be terrible for real world consequences.\n",
    "\n",
    "For binary classification there are many options. The Matthews correlation coefficient (based on Pearson’s phi coefficient) is a better score, so let’s use that.\n",
    "\n",
    "$$ MCC = \\frac{TP * TN - FP * FN}{\\sqrt{(TP + FP)(TP + FN)(TN + FP)(TN + FN)}} $$"
   ]
  },
  {
   "cell_type": "code",
   "execution_count": 7,
   "metadata": {},
   "outputs": [
    {
     "data": {
      "text/html": [
       "\n",
       "            <style>\n",
       "                .geemap-dark {\n",
       "                    --jp-widgets-color: white;\n",
       "                    --jp-widgets-label-color: white;\n",
       "                    --jp-ui-font-color1: white;\n",
       "                    --jp-layout-color2: #454545;\n",
       "                    background-color: #383838;\n",
       "                }\n",
       "                    \n",
       "                .geemap-dark .jupyter-button {\n",
       "                    --jp-layout-color3: #383838;\n",
       "                }\n",
       "                \n",
       "                .geemap-colab {\n",
       "                    background-color: var(--colab-primary-surface-color, white);\n",
       "                }\n",
       "                    \n",
       "                .geemap-colab .jupyter-button {\n",
       "                    --jp-layout-color3: var(--colab-primary-surface-color, white);\n",
       "                }\n",
       "            </style>\n",
       "            "
      ],
      "text/plain": [
       "<IPython.core.display.HTML object>"
      ]
     },
     "metadata": {},
     "output_type": "display_data"
    },
    {
     "name": "stdout",
     "output_type": "stream",
     "text": [
      "Our classifier has an MCC score of 95.46896 on the training data.\n"
     ]
    },
    {
     "name": "stderr",
     "output_type": "stream",
     "text": [
      "C:\\Users\\gilramolete\\AppData\\Local\\Temp\\ipykernel_34116\\4105784805.py:7: RuntimeWarning: overflow encountered in scalar multiply\n",
      "  return (tp * tn - fp * fn)/(np.sqrt((tp + fp)*(tp + fn) * (tn + fp)* (tn +fn)))\n"
     ]
    }
   ],
   "source": [
    "def get_mcc(cm, pos_label='built-up',neg_label='not'):\n",
    "    tp = cm.loc[pos_label, pos_label]\n",
    "    tn = cm.loc[neg_label, neg_label]\n",
    "    fn = cm.loc[pos_label, neg_label]\n",
    "    fp = cm.loc[neg_label, pos_label]\n",
    "    \n",
    "    return (tp * tn - fp * fn)/(np.sqrt((tp + fp)*(tp + fn) * (tn + fp)* (tn +fn)))\n",
    "\n",
    "mcc = get_mcc(trainCM)\n",
    "print(f\"Our classifier has an MCC score of {mcc:.5f} on the training data.\")"
   ]
  },
  {
   "cell_type": "markdown",
   "metadata": {},
   "source": [
    "# Test Results"
   ]
  },
  {
   "cell_type": "markdown",
   "metadata": {},
   "source": [
    "Either way, the performance seems good, but remember this is the data we trained the classifier on, so it really just learned about this specific data. Never base your model evaluation on your training data alone!\n",
    "\n",
    "We need to look at the out sample that it was not trained on to get a better indication of how this classifier will do on unseen data, which is what we are relying on to get accurate predictions of 2016 through 2019 land use classification."
   ]
  },
  {
   "cell_type": "code",
   "execution_count": 8,
   "metadata": {},
   "outputs": [
    {
     "data": {
      "text/html": [
       "\n",
       "            <style>\n",
       "                .geemap-dark {\n",
       "                    --jp-widgets-color: white;\n",
       "                    --jp-widgets-label-color: white;\n",
       "                    --jp-ui-font-color1: white;\n",
       "                    --jp-layout-color2: #454545;\n",
       "                    background-color: #383838;\n",
       "                }\n",
       "                    \n",
       "                .geemap-dark .jupyter-button {\n",
       "                    --jp-layout-color3: #383838;\n",
       "                }\n",
       "                \n",
       "                .geemap-colab {\n",
       "                    background-color: var(--colab-primary-surface-color, white);\n",
       "                }\n",
       "                    \n",
       "                .geemap-colab .jupyter-button {\n",
       "                    --jp-layout-color3: var(--colab-primary-surface-color, white);\n",
       "                }\n",
       "            </style>\n",
       "            "
      ],
      "text/plain": [
       "<IPython.core.display.HTML object>"
      ]
     },
     "metadata": {},
     "output_type": "display_data"
    },
    {
     "name": "stdout",
     "output_type": "stream",
     "text": [
      "Our classifier has an accuracy of 0.89961 on the test data.\n",
      "Our classifier has an MCC score of nan on the test data.\n"
     ]
    },
    {
     "name": "stderr",
     "output_type": "stream",
     "text": [
      "C:\\Users\\gilramolete\\AppData\\Local\\Temp\\ipykernel_34116\\4105784805.py:7: RuntimeWarning: overflow encountered in scalar multiply\n",
      "  return (tp * tn - fp * fn)/(np.sqrt((tp + fp)*(tp + fn) * (tn + fp)* (tn +fn)))\n",
      "C:\\Users\\gilramolete\\AppData\\Local\\Temp\\ipykernel_34116\\4105784805.py:7: RuntimeWarning: invalid value encountered in sqrt\n",
      "  return (tp * tn - fp * fn)/(np.sqrt((tp + fp)*(tp + fn) * (tn + fp)* (tn +fn)))\n"
     ]
    },
    {
     "data": {
      "image/png": "[encoded data removed]",
      "text/plain": [
       "<Figure size 720x720 with 2 Axes>"
      ]
     },
     "metadata": {
      "needs_background": "light"
     },
     "output_type": "display_data"
    }
   ],
   "source": [
    "testResults = test.classify(clf).errorMatrix(label, 'classification').getInfo()\n",
    "testCM = pd.DataFrame(np.asarray(testResults), index=['not','built-up'], columns=['not','built-up'])\n",
    "\n",
    "fig, ax = plt.subplots(1, figsize=(10,10))\n",
    "sns.heatmap(testCM/testCM.sum(axis=1), annot=True)\n",
    "ax.set_xlabel('model predictions', fontsize=20)\n",
    "ax.set_ylabel('actual', fontsize=20)\n",
    "plt.title(\"Test data confusion matrix\", fontsize=20);\n",
    "acc = (testCM.loc['built-up','built-up'] + testCM.loc['not','not']) / testCM.sum().sum()\n",
    "mcc = get_mcc(testCM)\n",
    "print(f\"Our classifier has an accuracy of {acc:.5f} on the test data.\")\n",
    "print(f\"Our classifier has an MCC score of {mcc:.5f} on the test data.\")"
   ]
  },
  {
   "cell_type": "markdown",
   "metadata": {},
   "source": [
    "We can see the difference in the confusion matrix and in the lower accuracy – and far lower MCC scores. On unseen data, our classifier seems to be over-predicting built up areas and producing a lot of false positives. This might impact our final analysis…this over-prediction translates into a final assessment of increased economic growth that might be in error.\n",
    "\n",
    "Let’s see if increasing he number of estimators (trees) in our ensemble improves things on our test data results."
   ]
  },
  {
   "cell_type": "code",
   "execution_count": 9,
   "metadata": {},
   "outputs": [
    {
     "data": {
      "text/html": [
       "\n",
       "            <style>\n",
       "                .geemap-dark {\n",
       "                    --jp-widgets-color: white;\n",
       "                    --jp-widgets-label-color: white;\n",
       "                    --jp-ui-font-color1: white;\n",
       "                    --jp-layout-color2: #454545;\n",
       "                    background-color: #383838;\n",
       "                }\n",
       "                    \n",
       "                .geemap-dark .jupyter-button {\n",
       "                    --jp-layout-color3: #383838;\n",
       "                }\n",
       "                \n",
       "                .geemap-colab {\n",
       "                    background-color: var(--colab-primary-surface-color, white);\n",
       "                }\n",
       "                    \n",
       "                .geemap-colab .jupyter-button {\n",
       "                    --jp-layout-color3: var(--colab-primary-surface-color, white);\n",
       "                }\n",
       "            </style>\n",
       "            "
      ],
      "text/plain": [
       "<IPython.core.display.HTML object>"
      ]
     },
     "metadata": {},
     "output_type": "display_data"
    },
    {
     "data": {
      "text/html": [
       "<div><style>:root {\n",
       "  --font-color-primary: var(--jp-content-font-color0, rgba(0, 0, 0, 1));\n",
       "  --font-color-secondary: var(--jp-content-font-color2, rgba(0, 0, 0, 0.6));\n",
       "  --font-color-accent: rgba(123, 31, 162, 1);\n",
       "  --border-color: var(--jp-border-color2, #e0e0e0);\n",
       "  --background-color: var(--jp-layout-color0, white);\n",
       "  --background-color-row-even: var(--jp-layout-color1, white);\n",
       "  --background-color-row-odd: var(--jp-layout-color2, #eeeeee);\n",
       "}\n",
       "\n",
       "html[theme=\"dark\"],\n",
       "body[data-theme=\"dark\"],\n",
       "body.vscode-dark {\n",
       "  --font-color-primary: rgba(255, 255, 255, 1);\n",
       "  --font-color-secondary: rgba(255, 255, 255, 0.6);\n",
       "  --font-color-accent: rgb(173, 132, 190);\n",
       "  --border-color: #2e2e2e;\n",
       "  --background-color: #111111;\n",
       "  --background-color-row-even: #111111;\n",
       "  --background-color-row-odd: #313131;\n",
       "}\n",
       "\n",
       ".ee {\n",
       "  padding: 1em;\n",
       "  line-height: 1.5em;\n",
       "  min-width: 300px;\n",
       "  max-width: 1200px;\n",
       "  overflow-y: scroll;\n",
       "  max-height: 600px;\n",
       "  border: 1px solid var(--border-color);\n",
       "  font-family: monospace;\n",
       "}\n",
       "\n",
       ".ee li {\n",
       "  list-style-type: none;\n",
       "}\n",
       "\n",
       ".ee ul {\n",
       "  padding-left: 1.5em !important;\n",
       "  margin: 0;\n",
       "}\n",
       "\n",
       ".ee > ul {\n",
       "  padding-left: 0 !important;\n",
       "}\n",
       "\n",
       ".ee-open,\n",
       ".ee-shut {\n",
       "  color: var(--font-color-secondary);\n",
       "  cursor: pointer;\n",
       "  margin: 0;\n",
       "}\n",
       "\n",
       ".ee-open:hover,\n",
       ".ee-shut:hover {\n",
       "  color: var(--font-color-primary);\n",
       "}\n",
       "\n",
       ".ee-k {\n",
       "  color: var(--font-color-accent);\n",
       "  margin-right: 6px;\n",
       "}\n",
       "\n",
       ".ee-v {\n",
       "  color: var(--font-color-primary);\n",
       "}\n",
       "\n",
       ".ee-toggle {\n",
       "  display: none;\n",
       "}\n",
       "\n",
       ".ee-shut + ul {\n",
       "  display: none;\n",
       "}\n",
       "\n",
       ".ee-open + ul {\n",
       "  display: block;\n",
       "}\n",
       "\n",
       ".ee-shut::before {\n",
       "  display: inline-block;\n",
       "  content: \"▼\";\n",
       "  margin-right: 6px;\n",
       "  transform: rotate(-90deg);\n",
       "  transition: transform 0.2s;\n",
       "}\n",
       "\n",
       ".ee-open::before {\n",
       "  transform: rotate(0deg);\n",
       "  display: inline-block;\n",
       "  content: \"▼\";\n",
       "  margin-right: 6px;\n",
       "  transition: transform 0.2s;\n",
       "}\n",
       "</style><div class='ee'><ul><li><label class='ee-shut'>Classifier.train<input type='checkbox' class='ee-toggle'></label><ul><li><span class='ee-k'>type:</span><span class='ee-v'>Classifier.train</span></li><li><span class='ee-k'>classProperty:</span><span class='ee-v'>smod_code</span></li><li><label class='ee-shut'>classifier: Classifier.smileRandomForest<input type='checkbox' class='ee-toggle'></label><ul><li><span class='ee-k'>type:</span><span class='ee-v'>Classifier.smileRandomForest</span></li><li><span class='ee-k'>numberOfTrees:</span><span class='ee-v'>500</span></li></ul></li><li><label class='ee-shut'>features: FeatureCollection (0 elements, 1 column)<input type='checkbox' class='ee-toggle'></label><ul><li><span class='ee-k'>type:</span><span class='ee-v'>FeatureCollection</span></li><li><label class='ee-shut'>columns: Object (1 property)<input type='checkbox' class='ee-toggle'></label><ul><li><span class='ee-k'>random:</span><span class='ee-v'><any></span></li></ul></li></ul></li><li><label class='ee-shut'>inputProperties: List (9 elements)<input type='checkbox' class='ee-toggle'></label><ul><li><span class='ee-k'>0:</span><span class='ee-v'>B2</span></li><li><span class='ee-k'>1:</span><span class='ee-v'>B3</span></li><li><span class='ee-k'>2:</span><span class='ee-v'>B4</span></li><li><span class='ee-k'>3:</span><span class='ee-v'>B5</span></li><li><span class='ee-k'>4:</span><span class='ee-v'>B6</span></li><li><span class='ee-k'>5:</span><span class='ee-v'>B7</span></li><li><span class='ee-k'>6:</span><span class='ee-v'>B8</span></li><li><span class='ee-k'>7:</span><span class='ee-v'>B8A</span></li><li><span class='ee-k'>8:</span><span class='ee-v'>avg_rad</span></li></ul></li></ul></li></ul></div><script>function toggleHeader() {\n",
       "    const parent = this.parentElement;\n",
       "    parent.className = parent.className === \"ee-open\" ? \"ee-shut\" : \"ee-open\";\n",
       "}\n",
       "\n",
       "for (let c of document.getElementsByClassName(\"ee-toggle\")) {\n",
       "    c.onclick = toggleHeader;\n",
       "}</script></div>"
      ],
      "text/plain": [
       "<ee.Classifier at 0x1936f885ff0>"
      ]
     },
     "execution_count": 9,
     "metadata": {},
     "output_type": "execute_result"
    }
   ],
   "source": [
    "new_params = {\"numberOfTrees\":500, \n",
    "              \"variablesPerSplit\":None,  \n",
    "              \"minLeafPopulation\":1, \n",
    "              \"bagFraction\":0.5, \n",
    "              \"maxNodes\":None, \n",
    "               \"seed\":0}\n",
    "\n",
    "clf2 = ee.Classifier.smileRandomForest(**new_params).train(train, label, trainingbands)\n",
    "clf2"
   ]
  },
  {
   "cell_type": "code",
   "execution_count": 10,
   "metadata": {},
   "outputs": [
    {
     "data": {
      "text/html": [
       "\n",
       "            <style>\n",
       "                .geemap-dark {\n",
       "                    --jp-widgets-color: white;\n",
       "                    --jp-widgets-label-color: white;\n",
       "                    --jp-ui-font-color1: white;\n",
       "                    --jp-layout-color2: #454545;\n",
       "                    background-color: #383838;\n",
       "                }\n",
       "                    \n",
       "                .geemap-dark .jupyter-button {\n",
       "                    --jp-layout-color3: #383838;\n",
       "                }\n",
       "                \n",
       "                .geemap-colab {\n",
       "                    background-color: var(--colab-primary-surface-color, white);\n",
       "                }\n",
       "                    \n",
       "                .geemap-colab .jupyter-button {\n",
       "                    --jp-layout-color3: var(--colab-primary-surface-color, white);\n",
       "                }\n",
       "            </style>\n",
       "            "
      ],
      "text/plain": [
       "<IPython.core.display.HTML object>"
      ]
     },
     "metadata": {},
     "output_type": "display_data"
    },
    {
     "name": "stdout",
     "output_type": "stream",
     "text": [
      "Our classifier has an accuracy of 0.89804 on the test data.\n",
      "Our classifier has an MCC score of 3.79976 on the test data.\n"
     ]
    },
    {
     "name": "stderr",
     "output_type": "stream",
     "text": [
      "C:\\Users\\gilramolete\\AppData\\Local\\Temp\\ipykernel_34116\\4105784805.py:7: RuntimeWarning: overflow encountered in scalar multiply\n",
      "  return (tp * tn - fp * fn)/(np.sqrt((tp + fp)*(tp + fn) * (tn + fp)* (tn +fn)))\n"
     ]
    },
    {
     "data": {
      "image/png": "[encoded data removed]",
      "text/plain": [
       "<Figure size 720x720 with 2 Axes>"
      ]
     },
     "metadata": {
      "needs_background": "light"
     },
     "output_type": "display_data"
    }
   ],
   "source": [
    "testResults = test.classify(clf2).errorMatrix(label, 'classification').getInfo()\n",
    "testCM = pd.DataFrame(np.asarray(testResults), index=['not','built-up'], columns=['not','built-up'])\n",
    "\n",
    "fig, ax = plt.subplots(1, figsize=(10,10))\n",
    "sns.heatmap(testCM/testCM.sum(axis=1), annot=True)\n",
    "ax.set_xlabel('model predictions', fontsize=20)\n",
    "ax.set_ylabel('actual', fontsize=20)\n",
    "plt.title(\"Test data confusion matrix\", fontsize=20);\n",
    "acc = (testCM.loc['built-up','built-up'] + testCM.loc['not','not']) / testCM.sum().sum()\n",
    "mcc = get_mcc(testCM)\n",
    "print(f\"Our classifier has an accuracy of {acc:.5f} on the test data.\")\n",
    "print(f\"Our classifier has an MCC score of {mcc:.5f} on the test data.\")"
   ]
  },
  {
   "cell_type": "markdown",
   "metadata": {},
   "source": [
    "…it’s about the same.\n",
    "\n",
    "If you spend a lot of time with machine learning algorithms, you will see that model tuning at best usually delivers incremental results. But thinking more about the data that is put into the model (feature engineering, additional sources, etc) is usually more likely to imrpove your model.\n",
    "\n",
    "What happens when we try cleaning the data like we did before by standardizing the VIIRS-DNB band?"
   ]
  },
  {
   "cell_type": "code",
   "execution_count": 11,
   "metadata": {},
   "outputs": [
    {
     "data": {
      "text/html": [
       "\n",
       "            <style>\n",
       "                .geemap-dark {\n",
       "                    --jp-widgets-color: white;\n",
       "                    --jp-widgets-label-color: white;\n",
       "                    --jp-ui-font-color1: white;\n",
       "                    --jp-layout-color2: #454545;\n",
       "                    background-color: #383838;\n",
       "                }\n",
       "                    \n",
       "                .geemap-dark .jupyter-button {\n",
       "                    --jp-layout-color3: #383838;\n",
       "                }\n",
       "                \n",
       "                .geemap-colab {\n",
       "                    background-color: var(--colab-primary-surface-color, white);\n",
       "                }\n",
       "                    \n",
       "                .geemap-colab .jupyter-button {\n",
       "                    --jp-layout-color3: var(--colab-primary-surface-color, white);\n",
       "                }\n",
       "            </style>\n",
       "            "
      ],
      "text/plain": [
       "<IPython.core.display.HTML object>"
      ]
     },
     "metadata": {},
     "output_type": "display_data"
    },
    {
     "name": "stdout",
     "output_type": "stream",
     "text": [
      "Our classifier has an accuracy of 0.89717 on the test data.\n",
      "Our classifier has an MCC score of nan on the test data.\n"
     ]
    },
    {
     "name": "stderr",
     "output_type": "stream",
     "text": [
      "C:\\Users\\gilramolete\\AppData\\Local\\Temp\\ipykernel_34116\\4105784805.py:7: RuntimeWarning: overflow encountered in scalar multiply\n",
      "  return (tp * tn - fp * fn)/(np.sqrt((tp + fp)*(tp + fn) * (tn + fp)* (tn +fn)))\n",
      "C:\\Users\\gilramolete\\AppData\\Local\\Temp\\ipykernel_34116\\4105784805.py:7: RuntimeWarning: invalid value encountered in sqrt\n",
      "  return (tp * tn - fp * fn)/(np.sqrt((tp + fp)*(tp + fn) * (tn + fp)* (tn +fn)))\n"
     ]
    },
    {
     "data": {
      "image/png": "[encoded data removed]",
      "text/plain": [
       "<Figure size 720x720 with 2 Axes>"
      ]
     },
     "metadata": {
      "needs_background": "light"
     },
     "output_type": "display_data"
    }
   ],
   "source": [
    "vmu = viirs.reduceRegion(reducer=ee.Reducer.mean(),scale=scaleFactor)\n",
    "vstd = viirs.reduceRegion(reducer=ee.Reducer.stdDev(),scale=scaleFactor)\n",
    "\n",
    "vmu = ee.Number(vmu.get('avg_rad'))\n",
    "vstd = ee.Number(vstd.get('avg_rad'))\n",
    "\n",
    "viirsclean = viirs.subtract(vmu).divide(vstd)\n",
    "\n",
    "fusedclean = se2.addBands(viirsclean)\n",
    "\n",
    "dataclean = fusedclean.select(trainingbands).sampleRegions(collection=points,\n",
    "                                                        properties=[label],\n",
    "                                                        scale=scaleFactor)\n",
    "\n",
    "# we'll create a column of random numbers\n",
    "dataclean = dataclean.randomColumn(seed=0)\n",
    "split_thresh = 0.8\n",
    "\n",
    "trainclean = dataclean.filter(ee.Filter.lt('random',split_thresh))\n",
    "testclean = dataclean.filter(ee.Filter.gte('random',split_thresh))\n",
    "\n",
    "clf3 = ee.Classifier.smileRandomForest(**new_params).train(trainclean, label, trainingbands)\n",
    "\n",
    "testResults = testclean.classify(clf3).errorMatrix(label, 'classification').getInfo()\n",
    "testCM = pd.DataFrame(np.asarray(testResults), index=['not','built-up'], columns=['not','built-up'])\n",
    "\n",
    "fig, ax = plt.subplots(1, figsize=(10,10))\n",
    "sns.heatmap(testCM/testCM.sum(axis=1), annot=True)\n",
    "ax.set_xlabel('model predictions', fontsize=20)\n",
    "ax.set_ylabel('actual', fontsize=20)\n",
    "plt.title(\"Test data confusion matrix\", fontsize=20);\n",
    "acc = (testCM.loc['built-up','built-up'] + testCM.loc['not','not']) / testCM.sum().sum()\n",
    "mcc = get_mcc(testCM)\n",
    "print(f\"Our classifier has an accuracy of {acc:.5f} on the test data.\")\n",
    "print(f\"Our classifier has an MCC score of {mcc:.5f} on the test data.\")"
   ]
  },
  {
   "cell_type": "markdown",
   "metadata": {},
   "source": [
    "Improvement, albeit barely perceptible. Probably not worth adding this cleaning step to our final model pipeline, but worth exploring further – there are many ways to improve signal to noise ratios in images.\n",
    "\n",
    "In a real scenario, you would spend a lot of time in this phase of research trying to validate your model. You should also look to independent sources of economic growth not just for additional data inputs but as validators.\n",
    "\n",
    "We’ll move on for now, but think about some ways you might improve this model using the data we have (or exploring other data!)."
   ]
  },
  {
   "cell_type": "markdown",
   "metadata": {},
   "source": [
    "# Visualize perception"
   ]
  },
  {
   "cell_type": "code",
   "execution_count": 12,
   "metadata": {},
   "outputs": [
    {
     "data": {
      "text/html": [
       "\n",
       "            <style>\n",
       "                .geemap-dark {\n",
       "                    --jp-widgets-color: white;\n",
       "                    --jp-widgets-label-color: white;\n",
       "                    --jp-ui-font-color1: white;\n",
       "                    --jp-layout-color2: #454545;\n",
       "                    background-color: #383838;\n",
       "                }\n",
       "                    \n",
       "                .geemap-dark .jupyter-button {\n",
       "                    --jp-layout-color3: #383838;\n",
       "                }\n",
       "                \n",
       "                .geemap-colab {\n",
       "                    background-color: var(--colab-primary-surface-color, white);\n",
       "                }\n",
       "                    \n",
       "                .geemap-colab .jupyter-button {\n",
       "                    --jp-layout-color3: var(--colab-primary-surface-color, white);\n",
       "                }\n",
       "            </style>\n",
       "            "
      ],
      "text/plain": [
       "<IPython.core.display.HTML object>"
      ]
     },
     "metadata": {},
     "output_type": "display_data"
    },
    {
     "data": {
      "text/html": [
       "<div><style>:root {\n",
       "  --font-color-primary: var(--jp-content-font-color0, rgba(0, 0, 0, 1));\n",
       "  --font-color-secondary: var(--jp-content-font-color2, rgba(0, 0, 0, 0.6));\n",
       "  --font-color-accent: rgba(123, 31, 162, 1);\n",
       "  --border-color: var(--jp-border-color2, #e0e0e0);\n",
       "  --background-color: var(--jp-layout-color0, white);\n",
       "  --background-color-row-even: var(--jp-layout-color1, white);\n",
       "  --background-color-row-odd: var(--jp-layout-color2, #eeeeee);\n",
       "}\n",
       "\n",
       "html[theme=\"dark\"],\n",
       "body[data-theme=\"dark\"],\n",
       "body.vscode-dark {\n",
       "  --font-color-primary: rgba(255, 255, 255, 1);\n",
       "  --font-color-secondary: rgba(255, 255, 255, 0.6);\n",
       "  --font-color-accent: rgb(173, 132, 190);\n",
       "  --border-color: #2e2e2e;\n",
       "  --background-color: #111111;\n",
       "  --background-color-row-even: #111111;\n",
       "  --background-color-row-odd: #313131;\n",
       "}\n",
       "\n",
       ".ee {\n",
       "  padding: 1em;\n",
       "  line-height: 1.5em;\n",
       "  min-width: 300px;\n",
       "  max-width: 1200px;\n",
       "  overflow-y: scroll;\n",
       "  max-height: 600px;\n",
       "  border: 1px solid var(--border-color);\n",
       "  font-family: monospace;\n",
       "}\n",
       "\n",
       ".ee li {\n",
       "  list-style-type: none;\n",
       "}\n",
       "\n",
       ".ee ul {\n",
       "  padding-left: 1.5em !important;\n",
       "  margin: 0;\n",
       "}\n",
       "\n",
       ".ee > ul {\n",
       "  padding-left: 0 !important;\n",
       "}\n",
       "\n",
       ".ee-open,\n",
       ".ee-shut {\n",
       "  color: var(--font-color-secondary);\n",
       "  cursor: pointer;\n",
       "  margin: 0;\n",
       "}\n",
       "\n",
       ".ee-open:hover,\n",
       ".ee-shut:hover {\n",
       "  color: var(--font-color-primary);\n",
       "}\n",
       "\n",
       ".ee-k {\n",
       "  color: var(--font-color-accent);\n",
       "  margin-right: 6px;\n",
       "}\n",
       "\n",
       ".ee-v {\n",
       "  color: var(--font-color-primary);\n",
       "}\n",
       "\n",
       ".ee-toggle {\n",
       "  display: none;\n",
       "}\n",
       "\n",
       ".ee-shut + ul {\n",
       "  display: none;\n",
       "}\n",
       "\n",
       ".ee-open + ul {\n",
       "  display: block;\n",
       "}\n",
       "\n",
       ".ee-shut::before {\n",
       "  display: inline-block;\n",
       "  content: \"▼\";\n",
       "  margin-right: 6px;\n",
       "  transform: rotate(-90deg);\n",
       "  transition: transform 0.2s;\n",
       "}\n",
       "\n",
       ".ee-open::before {\n",
       "  transform: rotate(0deg);\n",
       "  display: inline-block;\n",
       "  content: \"▼\";\n",
       "  margin-right: 6px;\n",
       "  transition: transform 0.2s;\n",
       "}\n",
       "</style><div class='ee'><ul><li><label class='ee-shut'>Image (1 band)<input type='checkbox' class='ee-toggle'></label><ul><li><span class='ee-k'>type:</span><span class='ee-v'>Image</span></li><li><label class='ee-shut'>bands: List (1 element)<input type='checkbox' class='ee-toggle'></label><ul><li><label class='ee-shut'>0: \"classification\", signed int32, EPSG:4326, 3x3 px<input type='checkbox' class='ee-toggle'></label><ul><li><span class='ee-k'>id:</span><span class='ee-v'>classification</span></li><li><span class='ee-k'>crs:</span><span class='ee-v'>EPSG:4326</span></li><li><label class='ee-shut'>crs_transform: [1, 0, 0, 0, 1, 0]<input type='checkbox' class='ee-toggle'></label><ul><li><span class='ee-k'>0:</span><span class='ee-v'>1</span></li><li><span class='ee-k'>1:</span><span class='ee-v'>0</span></li><li><span class='ee-k'>2:</span><span class='ee-v'>0</span></li><li><span class='ee-k'>3:</span><span class='ee-v'>0</span></li><li><span class='ee-k'>4:</span><span class='ee-v'>1</span></li><li><span class='ee-k'>5:</span><span class='ee-v'>0</span></li></ul></li><li><label class='ee-shut'>data_type: signed int32<input type='checkbox' class='ee-toggle'></label><ul><li><span class='ee-k'>type:</span><span class='ee-v'>PixelType</span></li><li><span class='ee-k'>max:</span><span class='ee-v'>2147483647</span></li><li><span class='ee-k'>min:</span><span class='ee-v'>-2147483648</span></li><li><span class='ee-k'>precision:</span><span class='ee-v'>int</span></li></ul></li><li><label class='ee-shut'>dimensions: [3, 3]<input type='checkbox' class='ee-toggle'></label><ul><li><span class='ee-k'>0:</span><span class='ee-v'>3</span></li><li><span class='ee-k'>1:</span><span class='ee-v'>3</span></li></ul></li><li><label class='ee-shut'>origin: [84, 26]<input type='checkbox' class='ee-toggle'></label><ul><li><span class='ee-k'>0:</span><span class='ee-v'>84</span></li><li><span class='ee-k'>1:</span><span class='ee-v'>26</span></li></ul></li></ul></li></ul></li><li><label class='ee-shut'>properties: Object (1 property)<input type='checkbox' class='ee-toggle'></label><ul><li><label class='ee-shut'>system:footprint: Polygon (379 vertices)<input type='checkbox' class='ee-toggle'></label><ul><li><span class='ee-k'>type:</span><span class='ee-v'>Polygon</span></li><li><label class='ee-shut'>coordinates: List (1 element)<input type='checkbox' class='ee-toggle'></label><ul><li><label class='ee-shut'>0: List (379 elements)<input type='checkbox' class='ee-toggle'></label><ul><li><label class='ee-shut'>0: [84.62599256147314, 27.74283228453003]<input type='checkbox' class='ee-toggle'></label><ul><li><span class='ee-k'>0:</span><span class='ee-v'>84.62599256147314</span></li><li><span class='ee-k'>1:</span><span class='ee-v'>27.74283228453003</span></li></ul></li><li><label class='ee-shut'>1: [84.62908719048272, 27.72951745142667]<input type='checkbox' class='ee-toggle'></label><ul><li><span class='ee-k'>0:</span><span class='ee-v'>84.62908719048272</span></li><li><span class='ee-k'>1:</span><span class='ee-v'>27.72951745142667</span></li></ul></li><li><label class='ee-shut'>2: [84.64300398280945, 27.7253882986486]<input type='checkbox' class='ee-toggle'></label><ul><li><span class='ee-k'>0:</span><span class='ee-v'>84.64300398280945</span></li><li><span class='ee-k'>1:</span><span class='ee-v'>27.7253882986486</span></li></ul></li><li><label class='ee-shut'>3: [84.66620021920642, 27.725388319363145]<input type='checkbox' class='ee-toggle'></label><ul><li><span class='ee-k'>0:</span><span class='ee-v'>84.66620021920642</span></li><li><span class='ee-k'>1:</span><span class='ee-v'>27.725388319363145</span></li></ul></li><li><label class='ee-shut'>4: [84.71308326235494, 27.71436097190165]<input type='checkbox' class='ee-toggle'></label><ul><li><span class='ee-k'>0:</span><span class='ee-v'>84.71308326235494</span></li><li><span class='ee-k'>1:</span><span class='ee-v'>27.71436097190165</span></li></ul></li><li><label class='ee-shut'>5: [84.73678779773859, 27.716639508861604]<input type='checkbox' class='ee-toggle'></label><ul><li><span class='ee-k'>0:</span><span class='ee-v'>84.73678779773859</span></li><li><span class='ee-k'>1:</span><span class='ee-v'>27.716639508861604</span></li></ul></li><li><label class='ee-shut'>6: [84.756880499487, 27.72259686830576]<input type='checkbox' class='ee-toggle'></label><ul><li><span class='ee-k'>0:</span><span class='ee-v'>84.756880499487</span></li><li><span class='ee-k'>1:</span><span class='ee-v'>27.72259686830576</span></li></ul></li><li><label class='ee-shut'>7: [84.76563370970004, 27.711114746632493]<input type='checkbox' class='ee-toggle'></label><ul><li><span class='ee-k'>0:</span><span class='ee-v'>84.76563370970004</span></li><li><span class='ee-k'>1:</span><span class='ee-v'>27.711114746632493</span></li></ul></li><li><label class='ee-shut'>8: [84.79344069767656, 27.700524357744012]<input type='checkbox' class='ee-toggle'></label><ul><li><span class='ee-k'>0:</span><span class='ee-v'>84.79344069767656</span></li><li><span class='ee-k'>1:</span><span class='ee-v'>27.700524357744012</span></li></ul></li><li><label class='ee-shut'>9: [84.79753858911361, 27.678482963738514]<input type='checkbox' class='ee-toggle'></label><ul><li><span class='ee-k'>0:</span><span class='ee-v'>84.79753858911361</span></li><li><span class='ee-k'>1:</span><span class='ee-v'>27.678482963738514</span></li></ul></li><li><label class='ee-shut'>10: [84.80494520959664, 27.673939160280295]<input type='checkbox' class='ee-toggle'></label><ul><li><span class='ee-k'>0:</span><span class='ee-v'>84.80494520959664</span></li><li><span class='ee-k'>1:</span><span class='ee-v'>27.673939160280295</span></li></ul></li><li><label class='ee-shut'>11: [84.81555340802306, 27.667442256293292]<input type='checkbox' class='ee-toggle'></label><ul><li><span class='ee-k'>0:</span><span class='ee-v'>84.81555340802306</span></li><li><span class='ee-k'>1:</span><span class='ee-v'>27.667442256293292</span></li></ul></li><li><label class='ee-shut'>12: [84.82790508349778, 27.66742887516464]<input type='checkbox' class='ee-toggle'></label><ul><li><span class='ee-k'>0:</span><span class='ee-v'>84.82790508349778</span></li><li><span class='ee-k'>1:</span><span class='ee-v'>27.66742887516464</span></li></ul></li><li><label class='ee-shut'>13: [84.84696774786255, 27.671535699290768]<input type='checkbox' class='ee-toggle'></label><ul><li><span class='ee-k'>0:</span><span class='ee-v'>84.84696774786255</span></li><li><span class='ee-k'>1:</span><span class='ee-v'>27.671535699290768</span></li></ul></li><li><label class='ee-shut'>14: [84.859832254351, 27.66370998073057]<input type='checkbox' class='ee-toggle'></label><ul><li><span class='ee-k'>0:</span><span class='ee-v'>84.859832254351</span></li><li><span class='ee-k'>1:</span><span class='ee-v'>27.66370998073057</span></li></ul></li><li><label class='ee-shut'>15: [84.88557460778078, 27.66091417714188]<input type='checkbox' class='ee-toggle'></label><ul><li><span class='ee-k'>0:</span><span class='ee-v'>84.88557460778078</span></li><li><span class='ee-k'>1:</span><span class='ee-v'>27.66091417714188</span></li></ul></li><li><label class='ee-shut'>16: [84.89591085690769, 27.67696692863145]<input type='checkbox' class='ee-toggle'></label><ul><li><span class='ee-k'>0:</span><span class='ee-v'>84.89591085690769</span></li><li><span class='ee-k'>1:</span><span class='ee-v'>27.67696692863145</span></li></ul></li><li><label class='ee-shut'>17: [84.91088006262673, 27.692087722307743]<input type='checkbox' class='ee-toggle'></label><ul><li><span class='ee-k'>0:</span><span class='ee-v'>84.91088006262673</span></li><li><span class='ee-k'>1:</span><span class='ee-v'>27.692087722307743</span></li></ul></li><li><label class='ee-shut'>18: [84.92889479355179, 27.68287073179997]<input type='checkbox' class='ee-toggle'></label><ul><li><span class='ee-k'>0:</span><span class='ee-v'>84.92889479355179</span></li><li><span class='ee-k'>1:</span><span class='ee-v'>27.68287073179997</span></li></ul></li><li><label class='ee-shut'>19: [84.94895185144077, 27.675482049471455]<input type='checkbox' class='ee-toggle'></label><ul><li><span class='ee-k'>0:</span><span class='ee-v'>84.94895185144077</span></li><li><span class='ee-k'>1:</span><span class='ee-v'>27.675482049471455</span></li></ul></li><li><label class='ee-shut'>20: [84.96031365534114, 27.682803892080315]<input type='checkbox' class='ee-toggle'></label><ul><li><span class='ee-k'>0:</span><span class='ee-v'>84.96031365534114</span></li><li><span class='ee-k'>1:</span><span class='ee-v'>27.682803892080315</span></li></ul></li><li><label class='ee-shut'>21: [84.97733400101447, 27.69102642622733]<input type='checkbox' class='ee-toggle'></label><ul><li><span class='ee-k'>0:</span><span class='ee-v'>84.97733400101447</span></li><li><span class='ee-k'>1:</span><span class='ee-v'>27.69102642622733</span></li></ul></li><li><label class='ee-shut'>22: [84.99588832476952, 27.6951154583815]<input type='checkbox' class='ee-toggle'></label><ul><li><span class='ee-k'>0:</span><span class='ee-v'>84.99588832476952</span></li><li><span class='ee-k'>1:</span><span class='ee-v'>27.6951154583815</span></li></ul></li><li><label class='ee-shut'>23: [85.00928350406166, 27.69645765693465]<input type='checkbox' class='ee-toggle'></label><ul><li><span class='ee-k'>0:</span><span class='ee-v'>85.00928350406166</span></li><li><span class='ee-k'>1:</span><span class='ee-v'>27.69645765693465</span></li></ul></li><li><label class='ee-shut'>24: [85.03713059761068, 27.7060224548361]<input type='checkbox' class='ee-toggle'></label><ul><li><span class='ee-k'>0:</span><span class='ee-v'>85.03713059761068</span></li><li><span class='ee-k'>1:</span><span class='ee-v'>27.7060224548361</span></li></ul></li><li><label class='ee-shut'>25: [85.04744891991618, 27.70782832632511]<input type='checkbox' class='ee-toggle'></label><ul><li><span class='ee-k'>0:</span><span class='ee-v'>85.04744891991618</span></li><li><span class='ee-k'>1:</span><span class='ee-v'>27.70782832632511</span></li></ul></li><li><label class='ee-shut'>26: [85.0747296935748, 27.701777351152757]<input type='checkbox' class='ee-toggle'></label><ul><li><span class='ee-k'>0:</span><span class='ee-v'>85.0747296935748</span></li><li><span class='ee-k'>1:</span><span class='ee-v'>27.701777351152757</span></li></ul></li><li><label class='ee-shut'>27: [85.09682455007002, 27.686553987803997]<input type='checkbox' class='ee-toggle'></label><ul><li><span class='ee-k'>0:</span><span class='ee-v'>85.09682455007002</span></li><li><span class='ee-k'>1:</span><span class='ee-v'>27.686553987803997</span></li></ul></li><li><label class='ee-shut'>28: [85.11792058432529, 27.681894228161656]<input type='checkbox' class='ee-toggle'></label><ul><li><span class='ee-k'>0:</span><span class='ee-v'>85.11792058432529</span></li><li><span class='ee-k'>1:</span><span class='ee-v'>27.681894228161656</span></li></ul></li><li><label class='ee-shut'>29: [85.14876416644766, 27.669850171205187]<input type='checkbox' class='ee-toggle'></label><ul><li><span class='ee-k'>0:</span><span class='ee-v'>85.14876416644766</span></li><li><span class='ee-k'>1:</span><span class='ee-v'>27.669850171205187</span></li></ul></li><li><label class='ee-shut'>30: [85.17914402449776, 27.66697854203149]<input type='checkbox' class='ee-toggle'></label><ul><li><span class='ee-k'>0:</span><span class='ee-v'>85.17914402449776</span></li><li><span class='ee-k'>1:</span><span class='ee-v'>27.66697854203149</span></li></ul></li><li><label class='ee-shut'>31: [85.18847694223581, 27.665694304402024]<input type='checkbox' class='ee-toggle'></label><ul><li><span class='ee-k'>0:</span><span class='ee-v'>85.18847694223581</span></li><li><span class='ee-k'>1:</span><span class='ee-v'>27.665694304402024</span></li></ul></li><li><label class='ee-shut'>32: [85.21002328836796, 27.662724547692793]<input type='checkbox' class='ee-toggle'></label><ul><li><span class='ee-k'>0:</span><span class='ee-v'>85.21002328836796</span></li><li><span class='ee-k'>1:</span><span class='ee-v'>27.662724547692793</span></li></ul></li><li><label class='ee-shut'>33: [85.22586647307577, 27.640161486324928]<input type='checkbox' class='ee-toggle'></label><ul><li><span class='ee-k'>0:</span><span class='ee-v'>85.22586647307577</span></li><li><span class='ee-k'>1:</span><span class='ee-v'>27.640161486324928</span></li></ul></li><li><label class='ee-shut'>34: [85.23600200661046, 27.60843501786107]<input type='checkbox' class='ee-toggle'></label><ul><li><span class='ee-k'>0:</span><span class='ee-v'>85.23600200661046</span></li><li><span class='ee-k'>1:</span><span class='ee-v'>27.60843501786107</span></li></ul></li><li><label class='ee-shut'>35: [85.2369072324752, 27.585934383892596]<input type='checkbox' class='ee-toggle'></label><ul><li><span class='ee-k'>0:</span><span class='ee-v'>85.2369072324752</span></li><li><span class='ee-k'>1:</span><span class='ee-v'>27.585934383892596</span></li></ul></li><li><label class='ee-shut'>36: [85.24351558550245, 27.570296293313458]<input type='checkbox' class='ee-toggle'></label><ul><li><span class='ee-k'>0:</span><span class='ee-v'>85.24351558550245</span></li><li><span class='ee-k'>1:</span><span class='ee-v'>27.570296293313458</span></li></ul></li><li><label class='ee-shut'>37: [85.2583376692113, 27.552326126541516]<input type='checkbox' class='ee-toggle'></label><ul><li><span class='ee-k'>0:</span><span class='ee-v'>85.2583376692113</span></li><li><span class='ee-k'>1:</span><span class='ee-v'>27.552326126541516</span></li></ul></li><li><label class='ee-shut'>38: [85.2556934463147, 27.54617700887928]<input type='checkbox' class='ee-toggle'></label><ul><li><span class='ee-k'>0:</span><span class='ee-v'>85.2556934463147</span></li><li><span class='ee-k'>1:</span><span class='ee-v'>27.54617700887928</span></li></ul></li><li><label class='ee-shut'>39: [85.25104701285116, 27.535368172499112]<input type='checkbox' class='ee-toggle'></label><ul><li><span class='ee-k'>0:</span><span class='ee-v'>85.25104701285116</span></li><li><span class='ee-k'>1:</span><span class='ee-v'>27.535368172499112</span></li></ul></li><li><label class='ee-shut'>40: [85.25451623854482, 27.511940025288702]<input type='checkbox' class='ee-toggle'></label><ul><li><span class='ee-k'>0:</span><span class='ee-v'>85.25451623854482</span></li><li><span class='ee-k'>1:</span><span class='ee-v'>27.511940025288702</span></li></ul></li><li><label class='ee-shut'>41: [85.25640685021514, 27.482545611257816]<input type='checkbox' class='ee-toggle'></label><ul><li><span class='ee-k'>0:</span><span class='ee-v'>85.25640685021514</span></li><li><span class='ee-k'>1:</span><span class='ee-v'>27.482545611257816</span></li></ul></li><li><label class='ee-shut'>42: [85.26044679677932, 27.46829433467606]<input type='checkbox' class='ee-toggle'></label><ul><li><span class='ee-k'>0:</span><span class='ee-v'>85.26044679677932</span></li><li><span class='ee-k'>1:</span><span class='ee-v'>27.46829433467606</span></li></ul></li><li><label class='ee-shut'>43: [85.28809326914427, 27.448879450848953]<input type='checkbox' class='ee-toggle'></label><ul><li><span class='ee-k'>0:</span><span class='ee-v'>85.28809326914427</span></li><li><span class='ee-k'>1:</span><span class='ee-v'>27.448879450848953</span></li></ul></li><li><label class='ee-shut'>44: [85.31881641549029, 27.4303652882234]<input type='checkbox' class='ee-toggle'></label><ul><li><span class='ee-k'>0:</span><span class='ee-v'>85.31881641549029</span></li><li><span class='ee-k'>1:</span><span class='ee-v'>27.4303652882234</span></li></ul></li><li><label class='ee-shut'>45: [85.36445535004393, 27.414981334599428]<input type='checkbox' class='ee-toggle'></label><ul><li><span class='ee-k'>0:</span><span class='ee-v'>85.36445535004393</span></li><li><span class='ee-k'>1:</span><span class='ee-v'>27.414981334599428</span></li></ul></li><li><label class='ee-shut'>46: [85.38499399889677, 27.412573456638604]<input type='checkbox' class='ee-toggle'></label><ul><li><span class='ee-k'>0:</span><span class='ee-v'>85.38499399889677</span></li><li><span class='ee-k'>1:</span><span class='ee-v'>27.412573456638604</span></li></ul></li><li><label class='ee-shut'>47: [85.42064451356751, 27.401060076554334]<input type='checkbox' class='ee-toggle'></label><ul><li><span class='ee-k'>0:</span><span class='ee-v'>85.42064451356751</span></li><li><span class='ee-k'>1:</span><span class='ee-v'>27.401060076554334</span></li></ul></li><li><label class='ee-shut'>48: [85.4500879315659, 27.3915443601282]<input type='checkbox' class='ee-toggle'></label><ul><li><span class='ee-k'>0:</span><span class='ee-v'>85.4500879315659</span></li><li><span class='ee-k'>1:</span><span class='ee-v'>27.3915443601282</span></li></ul></li><li><label class='ee-shut'>49: [85.48284891924966, 27.376650956570323]<input type='checkbox' class='ee-toggle'></label><ul><li><span class='ee-k'>0:</span><span class='ee-v'>85.48284891924966</span></li><li><span class='ee-k'>1:</span><span class='ee-v'>27.376650956570323</span></li></ul></li><li><label class='ee-shut'>50: [85.49495094674987, 27.370952189701384]<input type='checkbox' class='ee-toggle'></label><ul><li><span class='ee-k'>0:</span><span class='ee-v'>85.49495094674987</span></li><li><span class='ee-k'>1:</span><span class='ee-v'>27.370952189701384</span></li></ul></li><li><label class='ee-shut'>51: [85.51150312967403, 27.36315318229818]<input type='checkbox' class='ee-toggle'></label><ul><li><span class='ee-k'>0:</span><span class='ee-v'>85.51150312967403</span></li><li><span class='ee-k'>1:</span><span class='ee-v'>27.36315318229818</span></li></ul></li><li><label class='ee-shut'>52: [85.55409195401208, 27.35782462030035]<input type='checkbox' class='ee-toggle'></label><ul><li><span class='ee-k'>0:</span><span class='ee-v'>85.55409195401208</span></li><li><span class='ee-k'>1:</span><span class='ee-v'>27.35782462030035</span></li></ul></li><li><label class='ee-shut'>53: [85.58372721047262, 27.341094055219163]<input type='checkbox' class='ee-toggle'></label><ul><li><span class='ee-k'>0:</span><span class='ee-v'>85.58372721047262</span></li><li><span class='ee-k'>1:</span><span class='ee-v'>27.341094055219163</span></li></ul></li><li><label class='ee-shut'>54: [85.61498994679272, 27.333522495433407]<input type='checkbox' class='ee-toggle'></label><ul><li><span class='ee-k'>0:</span><span class='ee-v'>85.61498994679272</span></li><li><span class='ee-k'>1:</span><span class='ee-v'>27.333522495433407</span></li></ul></li><li><label class='ee-shut'>55: [85.6355508610992, 27.336590347569896]<input type='checkbox' class='ee-toggle'></label><ul><li><span class='ee-k'>0:</span><span class='ee-v'>85.6355508610992</span></li><li><span class='ee-k'>1:</span><span class='ee-v'>27.336590347569896</span></li></ul></li><li><label class='ee-shut'>56: [85.69502189429413, 27.32787728205961]<input type='checkbox' class='ee-toggle'></label><ul><li><span class='ee-k'>0:</span><span class='ee-v'>85.69502189429413</span></li><li><span class='ee-k'>1:</span><span class='ee-v'>27.32787728205961</span></li></ul></li><li><label class='ee-shut'>57: [85.72000173658958, 27.361663853987636]<input type='checkbox' class='ee-toggle'></label><ul><li><span class='ee-k'>0:</span><span class='ee-v'>85.72000173658958</span></li><li><span class='ee-k'>1:</span><span class='ee-v'>27.361663853987636</span></li></ul></li><li><label class='ee-shut'>58: [85.72029157346519, 27.39150859991842]<input type='checkbox' class='ee-toggle'></label><ul><li><span class='ee-k'>0:</span><span class='ee-v'>85.72029157346519</span></li><li><span class='ee-k'>1:</span><span class='ee-v'>27.39150859991842</span></li></ul></li><li><label class='ee-shut'>59: [85.74194945182286, 27.400056708156335]<input type='checkbox' class='ee-toggle'></label><ul><li><span class='ee-k'>0:</span><span class='ee-v'>85.74194945182286</span></li><li><span class='ee-k'>1:</span><span class='ee-v'>27.400056708156335</span></li></ul></li><li><label class='ee-shut'>60: [85.76759378441723, 27.39525875374659]<input type='checkbox' class='ee-toggle'></label><ul><li><span class='ee-k'>0:</span><span class='ee-v'>85.76759378441723</span></li><li><span class='ee-k'>1:</span><span class='ee-v'>27.39525875374659</span></li></ul></li><li><label class='ee-shut'>61: [85.7790224586152, 27.40710210738366]<input type='checkbox' class='ee-toggle'></label><ul><li><span class='ee-k'>0:</span><span class='ee-v'>85.7790224586152</span></li><li><span class='ee-k'>1:</span><span class='ee-v'>27.40710210738366</span></li></ul></li><li><label class='ee-shut'>62: [85.8074402638033, 27.4224726001454]<input type='checkbox' class='ee-toggle'></label><ul><li><span class='ee-k'>0:</span><span class='ee-v'>85.8074402638033</span></li><li><span class='ee-k'>1:</span><span class='ee-v'>27.4224726001454</span></li></ul></li><li><label class='ee-shut'>63: [85.82397459216641, 27.430597153712675]<input type='checkbox' class='ee-toggle'></label><ul><li><span class='ee-k'>0:</span><span class='ee-v'>85.82397459216641</span></li><li><span class='ee-k'>1:</span><span class='ee-v'>27.430597153712675</span></li></ul></li><li><label class='ee-shut'>64: [85.83276351781721, 27.436028312728084]<input type='checkbox' class='ee-toggle'></label><ul><li><span class='ee-k'>0:</span><span class='ee-v'>85.83276351781721</span></li><li><span class='ee-k'>1:</span><span class='ee-v'>27.436028312728084</span></li></ul></li><li><label class='ee-shut'>65: [85.83271000224535, 27.43758903568473]<input type='checkbox' class='ee-toggle'></label><ul><li><span class='ee-k'>0:</span><span class='ee-v'>85.83271000224535</span></li><li><span class='ee-k'>1:</span><span class='ee-v'>27.43758903568473</span></li></ul></li><li><label class='ee-shut'>66: [85.83199210705708, 27.45945200245012]<input type='checkbox' class='ee-toggle'></label><ul><li><span class='ee-k'>0:</span><span class='ee-v'>85.83199210705708</span></li><li><span class='ee-k'>1:</span><span class='ee-v'>27.45945200245012</span></li></ul></li><li><label class='ee-shut'>67: [85.82599457592987, 27.475576043903313]<input type='checkbox' class='ee-toggle'></label><ul><li><span class='ee-k'>0:</span><span class='ee-v'>85.82599457592987</span></li><li><span class='ee-k'>1:</span><span class='ee-v'>27.475576043903313</span></li></ul></li><li><label class='ee-shut'>68: [85.8262800021525, 27.501746537768952]<input type='checkbox' class='ee-toggle'></label><ul><li><span class='ee-k'>0:</span><span class='ee-v'>85.8262800021525</span></li><li><span class='ee-k'>1:</span><span class='ee-v'>27.501746537768952</span></li></ul></li><li><label class='ee-shut'>69: [85.8281037867323, 27.527444371052134]<input type='checkbox' class='ee-toggle'></label><ul><li><span class='ee-k'>0:</span><span class='ee-v'>85.8281037867323</span></li><li><span class='ee-k'>1:</span><span class='ee-v'>27.527444371052134</span></li></ul></li><li><label class='ee-shut'>70: [85.82622647997053, 27.544446912390885]<input type='checkbox' class='ee-toggle'></label><ul><li><span class='ee-k'>0:</span><span class='ee-v'>85.82622647997053</span></li><li><span class='ee-k'>1:</span><span class='ee-v'>27.544446912390885</span></li></ul></li><li><label class='ee-shut'>71: [85.85063115069904, 27.564891906136616]<input type='checkbox' class='ee-toggle'></label><ul><li><span class='ee-k'>0:</span><span class='ee-v'>85.85063115069904</span></li><li><span class='ee-k'>1:</span><span class='ee-v'>27.564891906136616</span></li></ul></li><li><label class='ee-shut'>72: [85.86713422976165, 27.5684234322341]<input type='checkbox' class='ee-toggle'></label><ul><li><span class='ee-k'>0:</span><span class='ee-v'>85.86713422976165</span></li><li><span class='ee-k'>1:</span><span class='ee-v'>27.5684234322341</span></li></ul></li><li><label class='ee-shut'>73: [85.88318699133497, 27.57699831625481]<input type='checkbox' class='ee-toggle'></label><ul><li><span class='ee-k'>0:</span><span class='ee-v'>85.88318699133497</span></li><li><span class='ee-k'>1:</span><span class='ee-v'>27.57699831625481</span></li></ul></li><li><label class='ee-shut'>74: [85.89346528316206, 27.600399662344074]<input type='checkbox' class='ee-toggle'></label><ul><li><span class='ee-k'>0:</span><span class='ee-v'>85.89346528316206</span></li><li><span class='ee-k'>1:</span><span class='ee-v'>27.600399662344074</span></li></ul></li><li><label class='ee-shut'>75: [85.89745167221315, 27.609469518124918]<input type='checkbox' class='ee-toggle'></label><ul><li><span class='ee-k'>0:</span><span class='ee-v'>85.89745167221315</span></li><li><span class='ee-k'>1:</span><span class='ee-v'>27.609469518124918</span></li></ul></li><li><label class='ee-shut'>76: [85.91153795509943, 27.625406342870825]<input type='checkbox' class='ee-toggle'></label><ul><li><span class='ee-k'>0:</span><span class='ee-v'>85.91153795509943</span></li><li><span class='ee-k'>1:</span><span class='ee-v'>27.625406342870825</span></li></ul></li><li><label class='ee-shut'>77: [85.92828188227082, 27.648210140188223]<input type='checkbox' class='ee-toggle'></label><ul><li><span class='ee-k'>0:</span><span class='ee-v'>85.92828188227082</span></li><li><span class='ee-k'>1:</span><span class='ee-v'>27.648210140188223</span></li></ul></li><li><label class='ee-shut'>78: [85.9421229903928, 27.68664312389813]<input type='checkbox' class='ee-toggle'></label><ul><li><span class='ee-k'>0:</span><span class='ee-v'>85.9421229903928</span></li><li><span class='ee-k'>1:</span><span class='ee-v'>27.68664312389813</span></li></ul></li><li><label class='ee-shut'>79: [85.9645745023231, 27.711681056241776]<input type='checkbox' class='ee-toggle'></label><ul><li><span class='ee-k'>0:</span><span class='ee-v'>85.9645745023231</span></li><li><span class='ee-k'>1:</span><span class='ee-v'>27.711681056241776</span></li></ul></li><li><label class='ee-shut'>80: [85.98365055202683, 27.711952979589835]<input type='checkbox' class='ee-toggle'></label><ul><li><span class='ee-k'>0:</span><span class='ee-v'>85.98365055202683</span></li><li><span class='ee-k'>1:</span><span class='ee-v'>27.711952979589835</span></li></ul></li><li><label class='ee-shut'>81: [86.0429833434098, 27.718699601885614]<input type='checkbox' class='ee-toggle'></label><ul><li><span class='ee-k'>0:</span><span class='ee-v'>86.0429833434098</span></li><li><span class='ee-k'>1:</span><span class='ee-v'>27.718699601885614</span></li></ul></li><li><label class='ee-shut'>82: [86.0453957080627, 27.745302626907897]<input type='checkbox' class='ee-toggle'></label><ul><li><span class='ee-k'>0:</span><span class='ee-v'>86.0453957080627</span></li><li><span class='ee-k'>1:</span><span class='ee-v'>27.745302626907897</span></li></ul></li><li><label class='ee-shut'>83: [86.03744515359791, 27.768802107082237]<input type='checkbox' class='ee-toggle'></label><ul><li><span class='ee-k'>0:</span><span class='ee-v'>86.03744515359791</span></li><li><span class='ee-k'>1:</span><span class='ee-v'>27.768802107082237</span></li></ul></li><li><label class='ee-shut'>84: [86.02912897224803, 27.80377929849025]<input type='checkbox' class='ee-toggle'></label><ul><li><span class='ee-k'>0:</span><span class='ee-v'>86.02912897224803</span></li><li><span class='ee-k'>1:</span><span class='ee-v'>27.80377929849025</span></li></ul></li><li><label class='ee-shut'>85: [86.01709826747144, 27.831448026093938]<input type='checkbox' class='ee-toggle'></label><ul><li><span class='ee-k'>0:</span><span class='ee-v'>86.01709826747144</span></li><li><span class='ee-k'>1:</span><span class='ee-v'>27.831448026093938</span></li></ul></li><li><label class='ee-shut'>86: [86.03582650679405, 27.843652589082346]<input type='checkbox' class='ee-toggle'></label><ul><li><span class='ee-k'>0:</span><span class='ee-v'>86.03582650679405</span></li><li><span class='ee-k'>1:</span><span class='ee-v'>27.843652589082346</span></li></ul></li><li><label class='ee-shut'>87: [86.05146012383126, 27.85588836505528]<input type='checkbox' class='ee-toggle'></label><ul><li><span class='ee-k'>0:</span><span class='ee-v'>86.05146012383126</span></li><li><span class='ee-k'>1:</span><span class='ee-v'>27.85588836505528</span></li></ul></li><li><label class='ee-shut'>88: [86.06520754860566, 27.909468881479796]<input type='checkbox' class='ee-toggle'></label><ul><li><span class='ee-k'>0:</span><span class='ee-v'>86.06520754860566</span></li><li><span class='ee-k'>1:</span><span class='ee-v'>27.909468881479796</span></li></ul></li><li><label class='ee-shut'>89: [86.0529316371427, 27.90467982038133]<input type='checkbox' class='ee-toggle'></label><ul><li><span class='ee-k'>0:</span><span class='ee-v'>86.0529316371427</span></li><li><span class='ee-k'>1:</span><span class='ee-v'>27.90467982038133</span></li></ul></li><li><label class='ee-shut'>90: [86.04177050480514, 27.89992198377468]<input type='checkbox' class='ee-toggle'></label><ul><li><span class='ee-k'>0:</span><span class='ee-v'>86.04177050480514</span></li><li><span class='ee-k'>1:</span><span class='ee-v'>27.89992198377468</span></li></ul></li><li><label class='ee-shut'>91: [86.03321796630414, 27.907979555343985]<input type='checkbox' class='ee-toggle'></label><ul><li><span class='ee-k'>0:</span><span class='ee-v'>86.03321796630414</span></li><li><span class='ee-k'>1:</span><span class='ee-v'>27.907979555343985</span></li></ul></li><li><label class='ee-shut'>92: [86.0281212083786, 27.909281626245303]<input type='checkbox' class='ee-toggle'></label><ul><li><span class='ee-k'>0:</span><span class='ee-v'>86.0281212083786</span></li><li><span class='ee-k'>1:</span><span class='ee-v'>27.909281626245303</span></li></ul></li><li><label class='ee-shut'>93: [86.02290851088028, 27.911038534082095]<input type='checkbox' class='ee-toggle'></label><ul><li><span class='ee-k'>0:</span><span class='ee-v'>86.02290851088028</span></li><li><span class='ee-k'>1:</span><span class='ee-v'>27.911038534082095</span></li></ul></li><li><label class='ee-shut'>94: [86.01119892495367, 27.91679965780486]<input type='checkbox' class='ee-toggle'></label><ul><li><span class='ee-k'>0:</span><span class='ee-v'>86.01119892495367</span></li><li><span class='ee-k'>1:</span><span class='ee-v'>27.91679965780486</span></li></ul></li><li><label class='ee-shut'>95: [86.00401082248726, 27.916219960658037]<input type='checkbox' class='ee-toggle'></label><ul><li><span class='ee-k'>0:</span><span class='ee-v'>86.00401082248726</span></li><li><span class='ee-k'>1:</span><span class='ee-v'>27.916219960658037</span></li></ul></li><li><label class='ee-shut'>96: [85.99734896344214, 27.91480641200644]<input type='checkbox' class='ee-toggle'></label><ul><li><span class='ee-k'>0:</span><span class='ee-v'>85.99734896344214</span></li><li><span class='ee-k'>1:</span><span class='ee-v'>27.91480641200644</span></li></ul></li><li><label class='ee-shut'>97: [85.99618957056194, 27.91456115791234]<input type='checkbox' class='ee-toggle'></label><ul><li><span class='ee-k'>0:</span><span class='ee-v'>85.99618957056194</span></li><li><span class='ee-k'>1:</span><span class='ee-v'>27.91456115791234</span></li></ul></li><li><label class='ee-shut'>98: [85.98799816131755, 27.91497146476087]<input type='checkbox' class='ee-toggle'></label><ul><li><span class='ee-k'>0:</span><span class='ee-v'>85.98799816131755</span></li><li><span class='ee-k'>1:</span><span class='ee-v'>27.91497146476087</span></li></ul></li><li><label class='ee-shut'>99: [85.95855032658272, 27.935608184437278]<input type='checkbox' class='ee-toggle'></label><ul><li><span class='ee-k'>0:</span><span class='ee-v'>85.95855032658272</span></li><li><span class='ee-k'>1:</span><span class='ee-v'>27.935608184437278</span></li></ul></li><li><label class='ee-shut'>100: [85.95116153599143, 27.940209970025574]<input type='checkbox' class='ee-toggle'></label><ul><li><span class='ee-k'>0:</span><span class='ee-v'>85.95116153599143</span></li><li><span class='ee-k'>1:</span><span class='ee-v'>27.940209970025574</span></li></ul></li><li><label class='ee-shut'>101: [85.94872692872538, 27.94085208468924]<input type='checkbox' class='ee-toggle'></label><ul><li><span class='ee-k'>0:</span><span class='ee-v'>85.94872692872538</span></li><li><span class='ee-k'>1:</span><span class='ee-v'>27.94085208468924</span></li></ul></li><li><label class='ee-shut'>102: [85.9460915501256, 27.941552148181874]<input type='checkbox' class='ee-toggle'></label><ul><li><span class='ee-k'>0:</span><span class='ee-v'>85.9460915501256</span></li><li><span class='ee-k'>1:</span><span class='ee-v'>27.941552148181874</span></li></ul></li><li><label class='ee-shut'>103: [85.94596674304161, 27.94378165989954]<input type='checkbox' class='ee-toggle'></label><ul><li><span class='ee-k'>0:</span><span class='ee-v'>85.94596674304161</span></li><li><span class='ee-k'>1:</span><span class='ee-v'>27.94378165989954</span></li></ul></li><li><label class='ee-shut'>104: [85.94589985692333, 27.944999061844356]<input type='checkbox' class='ee-toggle'></label><ul><li><span class='ee-k'>0:</span><span class='ee-v'>85.94589985692333</span></li><li><span class='ee-k'>1:</span><span class='ee-v'>27.944999061844356</span></li></ul></li><li><label class='ee-shut'>105: [85.94757198407902, 27.946252035522956]<input type='checkbox' class='ee-toggle'></label><ul><li><span class='ee-k'>0:</span><span class='ee-v'>85.94757198407902</span></li><li><span class='ee-k'>1:</span><span class='ee-v'>27.946252035522956</span></li></ul></li><li><label class='ee-shut'>106: [85.94956965731414, 27.947750259825405]<input type='checkbox' class='ee-toggle'></label><ul><li><span class='ee-k'>0:</span><span class='ee-v'>85.94956965731414</span></li><li><span class='ee-k'>1:</span><span class='ee-v'>27.947750259825405</span></li></ul></li><li><label class='ee-shut'>107: [85.95100548383624, 27.948642121091584]<input type='checkbox' class='ee-toggle'></label><ul><li><span class='ee-k'>0:</span><span class='ee-v'>85.95100548383624</span></li><li><span class='ee-k'>1:</span><span class='ee-v'>27.948642121091584</span></li></ul></li><li><label class='ee-shut'>108: [85.95298977448195, 27.949868383658323]<input type='checkbox' class='ee-toggle'></label><ul><li><span class='ee-k'>0:</span><span class='ee-v'>85.95298977448195</span></li><li><span class='ee-k'>1:</span><span class='ee-v'>27.949868383658323</span></li></ul></li><li><label class='ee-shut'>109: [85.95351153751234, 27.952450176546105]<input type='checkbox' class='ee-toggle'></label><ul><li><span class='ee-k'>0:</span><span class='ee-v'>85.95351153751234</span></li><li><span class='ee-k'>1:</span><span class='ee-v'>27.952450176546105</span></li></ul></li><li><label class='ee-shut'>110: [85.95549136778709, 27.9554377618356]<input type='checkbox' class='ee-toggle'></label><ul><li><span class='ee-k'>0:</span><span class='ee-v'>85.95549136778709</span></li><li><span class='ee-k'>1:</span><span class='ee-v'>27.9554377618356</span></li></ul></li><li><label class='ee-shut'>111: [85.9551880964445, 27.959303813435533]<input type='checkbox' class='ee-toggle'></label><ul><li><span class='ee-k'>0:</span><span class='ee-v'>85.9551880964445</span></li><li><span class='ee-k'>1:</span><span class='ee-v'>27.959303813435533</span></li></ul></li><li><label class='ee-shut'>112: [85.9551836537517, 27.959303772556574]<input type='checkbox' class='ee-toggle'></label><ul><li><span class='ee-k'>0:</span><span class='ee-v'>85.9551836537517</span></li><li><span class='ee-k'>1:</span><span class='ee-v'>27.959303772556574</span></li></ul></li><li><label class='ee-shut'>113: [85.95488045855625, 27.963192134000693]<input type='checkbox' class='ee-toggle'></label><ul><li><span class='ee-k'>0:</span><span class='ee-v'>85.95488045855625</span></li><li><span class='ee-k'>1:</span><span class='ee-v'>27.963192134000693</span></li></ul></li><li><label class='ee-shut'>114: [85.95739092382391, 27.96940816835607]<input type='checkbox' class='ee-toggle'></label><ul><li><span class='ee-k'>0:</span><span class='ee-v'>85.95739092382391</span></li><li><span class='ee-k'>1:</span><span class='ee-v'>27.96940816835607</span></li></ul></li><li><label class='ee-shut'>115: [85.9617296665286, 27.977171475959203]<input type='checkbox' class='ee-toggle'></label><ul><li><span class='ee-k'>0:</span><span class='ee-v'>85.9617296665286</span></li><li><span class='ee-k'>1:</span><span class='ee-v'>27.977171475959203</span></li></ul></li><li><label class='ee-shut'>116: [85.97054078700593, 27.983039602859293]<input type='checkbox' class='ee-toggle'></label><ul><li><span class='ee-k'>0:</span><span class='ee-v'>85.97054078700593</span></li><li><span class='ee-k'>1:</span><span class='ee-v'>27.983039602859293</span></li></ul></li><li><label class='ee-shut'>117: [85.97380930593286, 27.98790000189869]<input type='checkbox' class='ee-toggle'></label><ul><li><span class='ee-k'>0:</span><span class='ee-v'>85.97380930593286</span></li><li><span class='ee-k'>1:</span><span class='ee-v'>27.98790000189869</span></li></ul></li><li><label class='ee-shut'>118: [85.97435781787011, 27.990285669421745]<input type='checkbox' class='ee-toggle'></label><ul><li><span class='ee-k'>0:</span><span class='ee-v'>85.97435781787011</span></li><li><span class='ee-k'>1:</span><span class='ee-v'>27.990285669421745</span></li></ul></li><li><label class='ee-shut'>119: [85.97475914729291, 27.99205141274558]<input type='checkbox' class='ee-toggle'></label><ul><li><span class='ee-k'>0:</span><span class='ee-v'>85.97475914729291</span></li><li><span class='ee-k'>1:</span><span class='ee-v'>27.99205141274558</span></li></ul></li><li><label class='ee-shut'>120: [85.9741526719676, 27.99349622711537]<input type='checkbox' class='ee-toggle'></label><ul><li><span class='ee-k'>0:</span><span class='ee-v'>85.9741526719676</span></li><li><span class='ee-k'>1:</span><span class='ee-v'>27.99349622711537</span></li></ul></li><li><label class='ee-shut'>121: [85.9724091717664, 27.99765206851702]<input type='checkbox' class='ee-toggle'></label><ul><li><span class='ee-k'>0:</span><span class='ee-v'>85.9724091717664</span></li><li><span class='ee-k'>1:</span><span class='ee-v'>27.99765206851702</span></li></ul></li><li><label class='ee-shut'>122: [85.97119187362739, 27.999582884628598]<input type='checkbox' class='ee-toggle'></label><ul><li><span class='ee-k'>0:</span><span class='ee-v'>85.97119187362739</span></li><li><span class='ee-k'>1:</span><span class='ee-v'>27.999582884628598</span></li></ul></li><li><label class='ee-shut'>123: [85.97092874398334, 28.000002026427566]<input type='checkbox' class='ee-toggle'></label><ul><li><span class='ee-k'>0:</span><span class='ee-v'>85.97092874398334</span></li><li><span class='ee-k'>1:</span><span class='ee-v'>28.000002026427566</span></li></ul></li><li><label class='ee-shut'>124: [85.9566417719051, 28.00471973020552]<input type='checkbox' class='ee-toggle'></label><ul><li><span class='ee-k'>0:</span><span class='ee-v'>85.9566417719051</span></li><li><span class='ee-k'>1:</span><span class='ee-v'>28.00471973020552</span></li></ul></li><li><label class='ee-shut'>125: [85.94721971150337, 28.012237817007918]<input type='checkbox' class='ee-toggle'></label><ul><li><span class='ee-k'>0:</span><span class='ee-v'>85.94721971150337</span></li><li><span class='ee-k'>1:</span><span class='ee-v'>28.012237817007918</span></li></ul></li><li><label class='ee-shut'>126: [85.94284982092506, 28.015903204887135]<input type='checkbox' class='ee-toggle'></label><ul><li><span class='ee-k'>0:</span><span class='ee-v'>85.94284982092506</span></li><li><span class='ee-k'>1:</span><span class='ee-v'>28.015903204887135</span></li></ul></li><li><label class='ee-shut'>127: [85.93712876721438, 28.020701196099022]<input type='checkbox' class='ee-toggle'></label><ul><li><span class='ee-k'>0:</span><span class='ee-v'>85.93712876721438</span></li><li><span class='ee-k'>1:</span><span class='ee-v'>28.020701196099022</span></li></ul></li><li><label class='ee-shut'>128: [85.9331914157103, 28.024321968877857]<input type='checkbox' class='ee-toggle'></label><ul><li><span class='ee-k'>0:</span><span class='ee-v'>85.9331914157103</span></li><li><span class='ee-k'>1:</span><span class='ee-v'>28.024321968877857</span></li></ul></li><li><label class='ee-shut'>129: [85.93163961336958, 28.025748908502216]<input type='checkbox' class='ee-toggle'></label><ul><li><span class='ee-k'>0:</span><span class='ee-v'>85.93163961336958</span></li><li><span class='ee-k'>1:</span><span class='ee-v'>28.025748908502216</span></li></ul></li><li><label class='ee-shut'>130: [85.92999863404525, 28.027260494079034]<input type='checkbox' class='ee-toggle'></label><ul><li><span class='ee-k'>0:</span><span class='ee-v'>85.92999863404525</span></li><li><span class='ee-k'>1:</span><span class='ee-v'>28.027260494079034</span></li></ul></li><li><label class='ee-shut'>131: [85.92850483315449, 28.028553610018133]<input type='checkbox' class='ee-toggle'></label><ul><li><span class='ee-k'>0:</span><span class='ee-v'>85.92850483315449</span></li><li><span class='ee-k'>1:</span><span class='ee-v'>28.028553610018133</span></li></ul></li><li><label class='ee-shut'>132: [85.9217984213754, 28.034368366772064]<input type='checkbox' class='ee-toggle'></label><ul><li><span class='ee-k'>0:</span><span class='ee-v'>85.9217984213754</span></li><li><span class='ee-k'>1:</span><span class='ee-v'>28.034368366772064</span></li></ul></li><li><label class='ee-shut'>133: [85.91323692733847, 28.041159495686006]<input type='checkbox' class='ee-toggle'></label><ul><li><span class='ee-k'>0:</span><span class='ee-v'>85.91323692733847</span></li><li><span class='ee-k'>1:</span><span class='ee-v'>28.041159495686006</span></li></ul></li><li><label class='ee-shut'>134: [85.9121890003134, 28.041988964158005]<input type='checkbox' class='ee-toggle'></label><ul><li><span class='ee-k'>0:</span><span class='ee-v'>85.9121890003134</span></li><li><span class='ee-k'>1:</span><span class='ee-v'>28.041988964158005</span></li></ul></li><li><label class='ee-shut'>135: [85.91083346603529, 28.043487196154068]<input type='checkbox' class='ee-toggle'></label><ul><li><span class='ee-k'>0:</span><span class='ee-v'>85.91083346603529</span></li><li><span class='ee-k'>1:</span><span class='ee-v'>28.043487196154068</span></li></ul></li><li><label class='ee-shut'>136: [85.90691838977963, 28.04780804990008]<input type='checkbox' class='ee-toggle'></label><ul><li><span class='ee-k'>0:</span><span class='ee-v'>85.90691838977963</span></li><li><span class='ee-k'>1:</span><span class='ee-v'>28.04780804990008</span></li></ul></li><li><label class='ee-shut'>137: [85.89958313052608, 28.05670841670843]<input type='checkbox' class='ee-toggle'></label><ul><li><span class='ee-k'>0:</span><span class='ee-v'>85.89958313052608</span></li><li><span class='ee-k'>1:</span><span class='ee-v'>28.05670841670843</span></li></ul></li><li><label class='ee-shut'>138: [85.89957868308863, 28.05670846270442]<input type='checkbox' class='ee-toggle'></label><ul><li><span class='ee-k'>0:</span><span class='ee-v'>85.89957868308863</span></li><li><span class='ee-k'>1:</span><span class='ee-v'>28.05670846270442</span></li></ul></li><li><label class='ee-shut'>139: [85.89902126792757, 28.057390670662247]<input type='checkbox' class='ee-toggle'></label><ul><li><span class='ee-k'>0:</span><span class='ee-v'>85.89902126792757</span></li><li><span class='ee-k'>1:</span><span class='ee-v'>28.057390670662247</span></li></ul></li><li><label class='ee-shut'>140: [85.89829889771336, 28.059941233511868]<input type='checkbox' class='ee-toggle'></label><ul><li><span class='ee-k'>0:</span><span class='ee-v'>85.89829889771336</span></li><li><span class='ee-k'>1:</span><span class='ee-v'>28.059941233511868</span></li></ul></li><li><label class='ee-shut'>141: [85.89718863781223, 28.063851885690354]<input type='checkbox' class='ee-toggle'></label><ul><li><span class='ee-k'>0:</span><span class='ee-v'>85.89718863781223</span></li><li><span class='ee-k'>1:</span><span class='ee-v'>28.063851885690354</span></li></ul></li><li><label class='ee-shut'>142: [85.89702360665285, 28.06591196492997]<input type='checkbox' class='ee-toggle'></label><ul><li><span class='ee-k'>0:</span><span class='ee-v'>85.89702360665285</span></li><li><span class='ee-k'>1:</span><span class='ee-v'>28.06591196492997</span></li></ul></li><li><label class='ee-shut'>143: [85.89654200919549, 28.071998661016064]<input type='checkbox' class='ee-toggle'></label><ul><li><span class='ee-k'>0:</span><span class='ee-v'>85.89654200919549</span></li><li><span class='ee-k'>1:</span><span class='ee-v'>28.071998661016064</span></li></ul></li><li><label class='ee-shut'>144: [85.89877603146083, 28.079833317879626]<input type='checkbox' class='ee-toggle'></label><ul><li><span class='ee-k'>0:</span><span class='ee-v'>85.89877603146083</span></li><li><span class='ee-k'>1:</span><span class='ee-v'>28.079833317879626</span></li></ul></li><li><label class='ee-shut'>145: [85.89933789669854, 28.081799760817297]<input type='checkbox' class='ee-toggle'></label><ul><li><span class='ee-k'>0:</span><span class='ee-v'>85.89933789669854</span></li><li><span class='ee-k'>1:</span><span class='ee-v'>28.081799760817297</span></li></ul></li><li><label class='ee-shut'>146: [85.90133110015982, 28.08755200841737]<input type='checkbox' class='ee-toggle'></label><ul><li><span class='ee-k'>0:</span><span class='ee-v'>85.90133110015982</span></li><li><span class='ee-k'>1:</span><span class='ee-v'>28.08755200841737</span></li></ul></li><li><label class='ee-shut'>147: [85.90109032185248, 28.0984010384033]<input type='checkbox' class='ee-toggle'></label><ul><li><span class='ee-k'>0:</span><span class='ee-v'>85.90109032185248</span></li><li><span class='ee-k'>1:</span><span class='ee-v'>28.0984010384033</span></li></ul></li><li><label class='ee-shut'>148: [85.89844160914737, 28.102802177383055]<input type='checkbox' class='ee-toggle'></label><ul><li><span class='ee-k'>0:</span><span class='ee-v'>85.89844160914737</span></li><li><span class='ee-k'>1:</span><span class='ee-v'>28.102802177383055</span></li></ul></li><li><label class='ee-shut'>149: [85.89697905205185, 28.105227920785804]<input type='checkbox' class='ee-toggle'></label><ul><li><span class='ee-k'>0:</span><span class='ee-v'>85.89697905205185</span></li><li><span class='ee-k'>1:</span><span class='ee-v'>28.105227920785804</span></li></ul></li><li><label class='ee-shut'>150: [85.89206954200634, 28.10877288070724]<input type='checkbox' class='ee-toggle'></label><ul><li><span class='ee-k'>0:</span><span class='ee-v'>85.89206954200634</span></li><li><span class='ee-k'>1:</span><span class='ee-v'>28.10877288070724</span></li></ul></li><li><label class='ee-shut'>151: [85.88847107969808, 28.111368111742035]<input type='checkbox' class='ee-toggle'></label><ul><li><span class='ee-k'>0:</span><span class='ee-v'>85.88847107969808</span></li><li><span class='ee-k'>1:</span><span class='ee-v'>28.111368111742035</span></li></ul></li><li><label class='ee-shut'>152: [85.88541658979061, 28.112549706724383]<input type='checkbox' class='ee-toggle'></label><ul><li><span class='ee-k'>0:</span><span class='ee-v'>85.88541658979061</span></li><li><span class='ee-k'>1:</span><span class='ee-v'>28.112549706724383</span></li></ul></li><li><label class='ee-shut'>153: [85.879320968308, 28.114908592401438]<input type='checkbox' class='ee-toggle'></label><ul><li><span class='ee-k'>0:</span><span class='ee-v'>85.879320968308</span></li><li><span class='ee-k'>1:</span><span class='ee-v'>28.114908592401438</span></li></ul></li><li><label class='ee-shut'>154: [85.87690860806829, 28.117169344568705]<input type='checkbox' class='ee-toggle'></label><ul><li><span class='ee-k'>0:</span><span class='ee-v'>85.87690860806829</span></li><li><span class='ee-k'>1:</span><span class='ee-v'>28.117169344568705</span></li></ul></li><li><label class='ee-shut'>155: [85.87384071817733, 28.120049974165447]<input type='checkbox' class='ee-toggle'></label><ul><li><span class='ee-k'>0:</span><span class='ee-v'>85.87384071817733</span></li><li><span class='ee-k'>1:</span><span class='ee-v'>28.120049974165447</span></li></ul></li><li><label class='ee-shut'>156: [85.86993902908358, 28.128910156589534]<input type='checkbox' class='ee-toggle'></label><ul><li><span class='ee-k'>0:</span><span class='ee-v'>85.86993902908358</span></li><li><span class='ee-k'>1:</span><span class='ee-v'>28.128910156589534</span></li></ul></li><li><label class='ee-shut'>157: [85.86902490555106, 28.132624595470613]<input type='checkbox' class='ee-toggle'></label><ul><li><span class='ee-k'>0:</span><span class='ee-v'>85.86902490555106</span></li><li><span class='ee-k'>1:</span><span class='ee-v'>28.132624595470613</span></li></ul></li><li><label class='ee-shut'>158: [85.86869942718879, 28.13394893501323]<input type='checkbox' class='ee-toggle'></label><ul><li><span class='ee-k'>0:</span><span class='ee-v'>85.86869942718879</span></li><li><span class='ee-k'>1:</span><span class='ee-v'>28.13394893501323</span></li></ul></li><li><label class='ee-shut'>159: [85.86840954753798, 28.135121751738875]<input type='checkbox' class='ee-toggle'></label><ul><li><span class='ee-k'>0:</span><span class='ee-v'>85.86840954753798</span></li><li><span class='ee-k'>1:</span><span class='ee-v'>28.135121751738875</span></li></ul></li><li><label class='ee-shut'>160: [85.86775850306225, 28.137748092279132]<input type='checkbox' class='ee-toggle'></label><ul><li><span class='ee-k'>0:</span><span class='ee-v'>85.86775850306225</span></li><li><span class='ee-k'>1:</span><span class='ee-v'>28.137748092279132</span></li></ul></li><li><label class='ee-shut'>161: [85.8657474669571, 28.14332199154424]<input type='checkbox' class='ee-toggle'></label><ul><li><span class='ee-k'>0:</span><span class='ee-v'>85.8657474669571</span></li><li><span class='ee-k'>1:</span><span class='ee-v'>28.14332199154424</span></li></ul></li><li><label class='ee-shut'>162: [85.8657474669571, 28.143326447534463]<input type='checkbox' class='ee-toggle'></label><ul><li><span class='ee-k'>0:</span><span class='ee-v'>85.8657474669571</span></li><li><span class='ee-k'>1:</span><span class='ee-v'>28.143326447534463</span></li></ul></li><li><label class='ee-shut'>163: [85.86444093133129, 28.146938359852836]<input type='checkbox' class='ee-toggle'></label><ul><li><span class='ee-k'>0:</span><span class='ee-v'>85.86444093133129</span></li><li><span class='ee-k'>1:</span><span class='ee-v'>28.146938359852836</span></li></ul></li><li><label class='ee-shut'>164: [85.85730195837071, 28.157189817303184]<input type='checkbox' class='ee-toggle'></label><ul><li><span class='ee-k'>0:</span><span class='ee-v'>85.85730195837071</span></li><li><span class='ee-k'>1:</span><span class='ee-v'>28.157189817303184</span></li></ul></li><li><label class='ee-shut'>165: [85.85472013847759, 28.164672169852068]<input type='checkbox' class='ee-toggle'></label><ul><li><span class='ee-k'>0:</span><span class='ee-v'>85.85472013847759</span></li><li><span class='ee-k'>1:</span><span class='ee-v'>28.164672169852068</span></li></ul></li><li><label class='ee-shut'>166: [85.85219184328638, 28.17623014353818]<input type='checkbox' class='ee-toggle'></label><ul><li><span class='ee-k'>0:</span><span class='ee-v'>85.85219184328638</span></li><li><span class='ee-k'>1:</span><span class='ee-v'>28.17623014353818</span></li></ul></li><li><label class='ee-shut'>167: [85.8476613798469, 28.18068038580726]<input type='checkbox' class='ee-toggle'></label><ul><li><span class='ee-k'>0:</span><span class='ee-v'>85.8476613798469</span></li><li><span class='ee-k'>1:</span><span class='ee-v'>28.18068038580726</span></li></ul></li><li><label class='ee-shut'>168: [85.8475721864931, 28.18072045789088]<input type='checkbox' class='ee-toggle'></label><ul><li><span class='ee-k'>0:</span><span class='ee-v'>85.8475721864931</span></li><li><span class='ee-k'>1:</span><span class='ee-v'>28.18072045789088</span></li></ul></li><li><label class='ee-shut'>169: [85.8475721864931, 28.18072491285236]<input type='checkbox' class='ee-toggle'></label><ul><li><span class='ee-k'>0:</span><span class='ee-v'>85.8475721864931</span></li><li><span class='ee-k'>1:</span><span class='ee-v'>28.18072491285236</span></li></ul></li><li><label class='ee-shut'>170: [85.84271177841136, 28.18310164518728]<input type='checkbox' class='ee-toggle'></label><ul><li><span class='ee-k'>0:</span><span class='ee-v'>85.84271177841136</span></li><li><span class='ee-k'>1:</span><span class='ee-v'>28.18310164518728</span></li></ul></li><li><label class='ee-shut'>171: [85.8362416004497, 28.185540742110696]<input type='checkbox' class='ee-toggle'></label><ul><li><span class='ee-k'>0:</span><span class='ee-v'>85.8362416004497</span></li><li><span class='ee-k'>1:</span><span class='ee-v'>28.185540742110696</span></li></ul></li><li><label class='ee-shut'>172: [85.8309798964398, 28.187319966974954]<input type='checkbox' class='ee-toggle'></label><ul><li><span class='ee-k'>0:</span><span class='ee-v'>85.8309798964398</span></li><li><span class='ee-k'>1:</span><span class='ee-v'>28.187319966974954</span></li></ul></li><li><label class='ee-shut'>173: [85.82900002917009, 28.187988837385102]<input type='checkbox' class='ee-toggle'></label><ul><li><span class='ee-k'>0:</span><span class='ee-v'>85.82900002917009</span></li><li><span class='ee-k'>1:</span><span class='ee-v'>28.187988837385102</span></li></ul></li><li><label class='ee-shut'>174: [85.82685077180943, 28.188572967846046]<input type='checkbox' class='ee-toggle'></label><ul><li><span class='ee-k'>0:</span><span class='ee-v'>85.82685077180943</span></li><li><span class='ee-k'>1:</span><span class='ee-v'>28.188572967846046</span></li></ul></li><li><label class='ee-shut'>175: [85.82251206355296, 28.189750137942372]<input type='checkbox' class='ee-toggle'></label><ul><li><span class='ee-k'>0:</span><span class='ee-v'>85.82251206355296</span></li><li><span class='ee-k'>1:</span><span class='ee-v'>28.189750137942372</span></li></ul></li><li><label class='ee-shut'>176: [85.81316129499002, 28.192760043507107]<input type='checkbox' class='ee-toggle'></label><ul><li><span class='ee-k'>0:</span><span class='ee-v'>85.81316129499002</span></li><li><span class='ee-k'>1:</span><span class='ee-v'>28.192760043507107</span></li></ul></li><li><label class='ee-shut'>177: [85.79922215825009, 28.196398661424634]<input type='checkbox' class='ee-toggle'></label><ul><li><span class='ee-k'>0:</span><span class='ee-v'>85.79922215825009</span></li><li><span class='ee-k'>1:</span><span class='ee-v'>28.196398661424634</span></li></ul></li><li><label class='ee-shut'>178: [85.78914907959013, 28.199029587598513]<input type='checkbox' class='ee-toggle'></label><ul><li><span class='ee-k'>0:</span><span class='ee-v'>85.78914907959013</span></li><li><span class='ee-k'>1:</span><span class='ee-v'>28.199029587598513</span></li></ul></li><li><label class='ee-shut'>179: [85.7835439854577, 28.202257948092896]<input type='checkbox' class='ee-toggle'></label><ul><li><span class='ee-k'>0:</span><span class='ee-v'>85.7835439854577</span></li><li><span class='ee-k'>1:</span><span class='ee-v'>28.202257948092896</span></li></ul></li><li><label class='ee-shut'>180: [85.77631126458054, 28.206418310986624]<input type='checkbox' class='ee-toggle'></label><ul><li><span class='ee-k'>0:</span><span class='ee-v'>85.77631126458054</span></li><li><span class='ee-k'>1:</span><span class='ee-v'>28.206418310986624</span></li></ul></li><li><label class='ee-shut'>181: [85.76880213955526, 28.21246037024802]<input type='checkbox' class='ee-toggle'></label><ul><li><span class='ee-k'>0:</span><span class='ee-v'>85.76880213955526</span></li><li><span class='ee-k'>1:</span><span class='ee-v'>28.21246037024802</span></li></ul></li><li><label class='ee-shut'>182: [85.76839195270902, 28.212790316220257]<input type='checkbox' class='ee-toggle'></label><ul><li><span class='ee-k'>0:</span><span class='ee-v'>85.76839195270902</span></li><li><span class='ee-k'>1:</span><span class='ee-v'>28.212790316220257</span></li></ul></li><li><label class='ee-shut'>183: [85.76333975986141, 28.216700955918366]<input type='checkbox' class='ee-toggle'></label><ul><li><span class='ee-k'>0:</span><span class='ee-v'>85.76333975986141</span></li><li><span class='ee-k'>1:</span><span class='ee-v'>28.216700955918366</span></li></ul></li><li><label class='ee-shut'>184: [85.75895200262825, 28.221837841826336]<input type='checkbox' class='ee-toggle'></label><ul><li><span class='ee-k'>0:</span><span class='ee-v'>85.75895200262825</span></li><li><span class='ee-k'>1:</span><span class='ee-v'>28.221837841826336</span></li></ul></li><li><label class='ee-shut'>185: [85.75859971140079, 28.222248083415913]<input type='checkbox' class='ee-toggle'></label><ul><li><span class='ee-k'>0:</span><span class='ee-v'>85.75859971140079</span></li><li><span class='ee-k'>1:</span><span class='ee-v'>28.222248083415913</span></li></ul></li><li><label class='ee-shut'>186: [85.75818060460638, 28.222787636999204]<input type='checkbox' class='ee-toggle'></label><ul><li><span class='ee-k'>0:</span><span class='ee-v'>85.75818060460638</span></li><li><span class='ee-k'>1:</span><span class='ee-v'>28.222787636999204</span></li></ul></li><li><label class='ee-shut'>187: [85.75142953039868, 28.231469486003554]<input type='checkbox' class='ee-toggle'></label><ul><li><span class='ee-k'>0:</span><span class='ee-v'>85.75142953039868</span></li><li><span class='ee-k'>1:</span><span class='ee-v'>28.231469486003554</span></li></ul></li><li><label class='ee-shut'>188: [85.7481564909148, 28.239371063794003]<input type='checkbox' class='ee-toggle'></label><ul><li><span class='ee-k'>0:</span><span class='ee-v'>85.7481564909148</span></li><li><span class='ee-k'>1:</span><span class='ee-v'>28.239371063794003</span></li></ul></li><li><label class='ee-shut'>189: [85.7438088698087, 28.24985884415508]<input type='checkbox' class='ee-toggle'></label><ul><li><span class='ee-k'>0:</span><span class='ee-v'>85.7438088698087</span></li><li><span class='ee-k'>1:</span><span class='ee-v'>28.24985884415508</span></li></ul></li><li><label class='ee-shut'>190: [85.74161950785835, 28.259370114585575]<input type='checkbox' class='ee-toggle'></label><ul><li><span class='ee-k'>0:</span><span class='ee-v'>85.74161950785835</span></li><li><span class='ee-k'>1:</span><span class='ee-v'>28.259370114585575</span></li></ul></li><li><label class='ee-shut'>191: [85.73974216889388, 28.26523825554408]<input type='checkbox' class='ee-toggle'></label><ul><li><span class='ee-k'>0:</span><span class='ee-v'>85.73974216889388</span></li><li><span class='ee-k'>1:</span><span class='ee-v'>28.26523825554408</span></li></ul></li><li><label class='ee-shut'>192: [85.73951035344666, 28.26596061342813]<input type='checkbox' class='ee-toggle'></label><ul><li><span class='ee-k'>0:</span><span class='ee-v'>85.73951035344666</span></li><li><span class='ee-k'>1:</span><span class='ee-v'>28.26596061342813</span></li></ul></li><li><label class='ee-shut'>193: [85.73687054400419, 28.277558745335693]<input type='checkbox' class='ee-toggle'></label><ul><li><span class='ee-k'>0:</span><span class='ee-v'>85.73687054400419</span></li><li><span class='ee-k'>1:</span><span class='ee-v'>28.277558745335693</span></li></ul></li><li><label class='ee-shut'>194: [85.73605006228426, 28.29061951696233]<input type='checkbox' class='ee-toggle'></label><ul><li><span class='ee-k'>0:</span><span class='ee-v'>85.73605006228426</span></li><li><span class='ee-k'>1:</span><span class='ee-v'>28.29061951696233</span></li></ul></li><li><label class='ee-shut'>195: [85.73530541107687, 28.297268026077205]<input type='checkbox' class='ee-toggle'></label><ul><li><span class='ee-k'>0:</span><span class='ee-v'>85.73530541107687</span></li><li><span class='ee-k'>1:</span><span class='ee-v'>28.297268026077205</span></li></ul></li><li><label class='ee-shut'>196: [85.73530541107687, 28.29727247757626]<input type='checkbox' class='ee-toggle'></label><ul><li><span class='ee-k'>0:</span><span class='ee-v'>85.73530541107687</span></li><li><span class='ee-k'>1:</span><span class='ee-v'>28.29727247757626</span></li></ul></li><li><label class='ee-shut'>197: [85.73294208763329, 28.318462077106155]<input type='checkbox' class='ee-toggle'></label><ul><li><span class='ee-k'>0:</span><span class='ee-v'>85.73294208763329</span></li><li><span class='ee-k'>1:</span><span class='ee-v'>28.318462077106155</span></li></ul></li><li><label class='ee-shut'>198: [85.73107813883018, 28.323220002560888]<input type='checkbox' class='ee-toggle'></label><ul><li><span class='ee-k'>0:</span><span class='ee-v'>85.73107813883018</span></li><li><span class='ee-k'>1:</span><span class='ee-v'>28.323220002560888</span></li></ul></li><li><label class='ee-shut'>199: [85.72854984832826, 28.327451699527032]<input type='checkbox' class='ee-toggle'></label><ul><li><span class='ee-k'>0:</span><span class='ee-v'>85.72854984832826</span></li><li><span class='ee-k'>1:</span><span class='ee-v'>28.327451699527032</span></li></ul></li><li><label class='ee-shut'>200: [85.72772047008523, 28.3288384628515]<input type='checkbox' class='ee-toggle'></label><ul><li><span class='ee-k'>0:</span><span class='ee-v'>85.72772047008523</span></li><li><span class='ee-k'>1:</span><span class='ee-v'>28.3288384628515</span></li></ul></li><li><label class='ee-shut'>201: [85.72702040054088, 28.333038885939636]<input type='checkbox' class='ee-toggle'></label><ul><li><span class='ee-k'>0:</span><span class='ee-v'>85.72702040054088</span></li><li><span class='ee-k'>1:</span><span class='ee-v'>28.333038885939636</span></li></ul></li><li><label class='ee-shut'>202: [85.72573170978842, 28.340811107199137]<input type='checkbox' class='ee-toggle'></label><ul><li><span class='ee-k'>0:</span><span class='ee-v'>85.72573170978842</span></li><li><span class='ee-k'>1:</span><span class='ee-v'>28.340811107199137</span></li></ul></li><li><label class='ee-shut'>203: [85.72463924933218, 28.353314401003175]<input type='checkbox' class='ee-toggle'></label><ul><li><span class='ee-k'>0:</span><span class='ee-v'>85.72463924933218</span></li><li><span class='ee-k'>1:</span><span class='ee-v'>28.353314401003175</span></li></ul></li><li><label class='ee-shut'>204: [85.72454115772719, 28.354478296621764]<input type='checkbox' class='ee-toggle'></label><ul><li><span class='ee-k'>0:</span><span class='ee-v'>85.72454115772719</span></li><li><span class='ee-k'>1:</span><span class='ee-v'>28.354478296621764</span></li></ul></li><li><label class='ee-shut'>205: [85.72232939037343, 28.362299546658683]<input type='checkbox' class='ee-toggle'></label><ul><li><span class='ee-k'>0:</span><span class='ee-v'>85.72232939037343</span></li><li><span class='ee-k'>1:</span><span class='ee-v'>28.362299546658683</span></li></ul></li><li><label class='ee-shut'>206: [85.71827160761877, 28.375899818300717]<input type='checkbox' class='ee-toggle'></label><ul><li><span class='ee-k'>0:</span><span class='ee-v'>85.71827160761877</span></li><li><span class='ee-k'>1:</span><span class='ee-v'>28.375899818300717</span></li></ul></li><li><label class='ee-shut'>207: [85.71481133669094, 28.38315024910537]<input type='checkbox' class='ee-toggle'></label><ul><li><span class='ee-k'>0:</span><span class='ee-v'>85.71481133669094</span></li><li><span class='ee-k'>1:</span><span class='ee-v'>28.38315024910537</span></li></ul></li><li><label class='ee-shut'>208: [85.71453047435222, 28.383738879355565]<input type='checkbox' class='ee-toggle'></label><ul><li><span class='ee-k'>0:</span><span class='ee-v'>85.71453047435222</span></li><li><span class='ee-k'>1:</span><span class='ee-v'>28.383738879355565</span></li></ul></li><li><label class='ee-shut'>209: [85.71302771417469, 28.384193725733304]<input type='checkbox' class='ee-toggle'></label><ul><li><span class='ee-k'>0:</span><span class='ee-v'>85.71302771417469</span></li><li><span class='ee-k'>1:</span><span class='ee-v'>28.384193725733304</span></li></ul></li><li><label class='ee-shut'>210: [85.70994203617987, 28.38513012128404]<input type='checkbox' class='ee-toggle'></label><ul><li><span class='ee-k'>0:</span><span class='ee-v'>85.70994203617987</span></li><li><span class='ee-k'>1:</span><span class='ee-v'>28.38513012128404</span></li></ul></li><li><label class='ee-shut'>211: [85.70047535555462, 28.382940673612175]<input type='checkbox' class='ee-toggle'></label><ul><li><span class='ee-k'>0:</span><span class='ee-v'>85.70047535555462</span></li><li><span class='ee-k'>1:</span><span class='ee-v'>28.382940673612175</span></li></ul></li><li><label class='ee-shut'>212: [85.69726033596098, 28.382200477727558]<input type='checkbox' class='ee-toggle'></label><ul><li><span class='ee-k'>0:</span><span class='ee-v'>85.69726033596098</span></li><li><span class='ee-k'>1:</span><span class='ee-v'>28.382200477727558</span></li></ul></li><li><label class='ee-shut'>213: [85.69157498880013, 28.382080105531056]<input type='checkbox' class='ee-toggle'></label><ul><li><span class='ee-k'>0:</span><span class='ee-v'>85.69157498880013</span></li><li><span class='ee-k'>1:</span><span class='ee-v'>28.382080105531056</span></li></ul></li><li><label class='ee-shut'>214: [85.69157052375142, 28.382080142813276]<input type='checkbox' class='ee-toggle'></label><ul><li><span class='ee-k'>0:</span><span class='ee-v'>85.69157052375142</span></li><li><span class='ee-k'>1:</span><span class='ee-v'>28.382080142813276</span></li></ul></li><li><label class='ee-shut'>215: [85.68575138435502, 28.381959672414723]<input type='checkbox' class='ee-toggle'></label><ul><li><span class='ee-k'>0:</span><span class='ee-v'>85.68575138435502</span></li><li><span class='ee-k'>1:</span><span class='ee-v'>28.381959672414723</span></li></ul></li><li><label class='ee-shut'>216: [85.68064130897868, 28.37960086117704]<input type='checkbox' class='ee-toggle'></label><ul><li><span class='ee-k'>0:</span><span class='ee-v'>85.68064130897868</span></li><li><span class='ee-k'>1:</span><span class='ee-v'>28.37960086117704</span></li></ul></li><li><label class='ee-shut'>217: [85.68040045954963, 28.347530947972075]<input type='checkbox' class='ee-toggle'></label><ul><li><span class='ee-k'>0:</span><span class='ee-v'>85.68040045954963</span></li><li><span class='ee-k'>1:</span><span class='ee-v'>28.347530947972075</span></li></ul></li><li><label class='ee-shut'>218: [85.67873281760151, 28.347250105966552]<input type='checkbox' class='ee-toggle'></label><ul><li><span class='ee-k'>0:</span><span class='ee-v'>85.67873281760151</span></li><li><span class='ee-k'>1:</span><span class='ee-v'>28.347250105966552</span></li></ul></li><li><label class='ee-shut'>219: [85.67244993502179, 28.346202164305286]<input type='checkbox' class='ee-toggle'></label><ul><li><span class='ee-k'>0:</span><span class='ee-v'>85.67244993502179</span></li><li><span class='ee-k'>1:</span><span class='ee-v'>28.346202164305286</span></li></ul></li><li><label class='ee-shut'>220: [85.66556057151955, 28.34526128762532]<input type='checkbox' class='ee-toggle'></label><ul><li><span class='ee-k'>0:</span><span class='ee-v'>85.66556057151955</span></li><li><span class='ee-k'>1:</span><span class='ee-v'>28.34526128762532</span></li></ul></li><li><label class='ee-shut'>221: [85.66465543914771, 28.343080782730294]<input type='checkbox' class='ee-toggle'></label><ul><li><span class='ee-k'>0:</span><span class='ee-v'>85.66465543914771</span></li><li><span class='ee-k'>1:</span><span class='ee-v'>28.343080782730294</span></li></ul></li><li><label class='ee-shut'>222: [85.65967901282399, 28.33112151818383]<input type='checkbox' class='ee-toggle'></label><ul><li><span class='ee-k'>0:</span><span class='ee-v'>85.65967901282399</span></li><li><span class='ee-k'>1:</span><span class='ee-v'>28.33112151818383</span></li></ul></li><li><label class='ee-shut'>223: [85.65919296862675, 28.325502990787847]<input type='checkbox' class='ee-toggle'></label><ul><li><span class='ee-k'>0:</span><span class='ee-v'>85.65919296862675</span></li><li><span class='ee-k'>1:</span><span class='ee-v'>28.325502990787847</span></li></ul></li><li><label class='ee-shut'>224: [85.65917964369508, 28.325355881343512]<input type='checkbox' class='ee-toggle'></label><ul><li><span class='ee-k'>0:</span><span class='ee-v'>85.65917964369508</span></li><li><span class='ee-k'>1:</span><span class='ee-v'>28.325355881343512</span></li></ul></li><li><label class='ee-shut'>225: [85.65917964369508, 28.32535143088667]<input type='checkbox' class='ee-toggle'></label><ul><li><span class='ee-k'>0:</span><span class='ee-v'>85.65917964369508</span></li><li><span class='ee-k'>1:</span><span class='ee-v'>28.32535143088667</span></li></ul></li><li><label class='ee-shut'>226: [85.65889872200563, 28.322109682296478]<input type='checkbox' class='ee-toggle'></label><ul><li><span class='ee-k'>0:</span><span class='ee-v'>85.65889872200563</span></li><li><span class='ee-k'>1:</span><span class='ee-v'>28.322109682296478</span></li></ul></li><li><label class='ee-shut'>227: [85.65723103246283, 28.31440882846941]<input type='checkbox' class='ee-toggle'></label><ul><li><span class='ee-k'>0:</span><span class='ee-v'>85.65723103246283</span></li><li><span class='ee-k'>1:</span><span class='ee-v'>28.31440882846941</span></li></ul></li><li><label class='ee-shut'>228: [85.6532312177184, 28.301539840421402]<input type='checkbox' class='ee-toggle'></label><ul><li><span class='ee-k'>0:</span><span class='ee-v'>85.6532312177184</span></li><li><span class='ee-k'>1:</span><span class='ee-v'>28.301539840421402</span></li></ul></li><li><label class='ee-shut'>229: [85.65292800153617, 28.30069261744974]<input type='checkbox' class='ee-toggle'></label><ul><li><span class='ee-k'>0:</span><span class='ee-v'>85.65292800153617</span></li><li><span class='ee-k'>1:</span><span class='ee-v'>28.30069261744974</span></li></ul></li><li><label class='ee-shut'>230: [85.65292800153617, 28.300688166372915]<input type='checkbox' class='ee-toggle'></label><ul><li><span class='ee-k'>0:</span><span class='ee-v'>85.65292800153617</span></li><li><span class='ee-k'>1:</span><span class='ee-v'>28.300688166372915</span></li></ul></li><li><label class='ee-shut'>231: [85.64821914924924, 28.287471361519557]<input type='checkbox' class='ee-toggle'></label><ul><li><span class='ee-k'>0:</span><span class='ee-v'>85.64821914924924</span></li><li><span class='ee-k'>1:</span><span class='ee-v'>28.287471361519557</span></li></ul></li><li><label class='ee-shut'>232: [85.63918057043503, 28.277023646242395]<input type='checkbox' class='ee-toggle'></label><ul><li><span class='ee-k'>0:</span><span class='ee-v'>85.63918057043503</span></li><li><span class='ee-k'>1:</span><span class='ee-v'>28.277023646242395</span></li></ul></li><li><label class='ee-shut'>233: [85.63411950094032, 28.271177808661943]<input type='checkbox' class='ee-toggle'></label><ul><li><span class='ee-k'>0:</span><span class='ee-v'>85.63411950094032</span></li><li><span class='ee-k'>1:</span><span class='ee-v'>28.271177808661943</span></li></ul></li><li><label class='ee-shut'>234: [85.6254777484726, 28.265171403927827]<input type='checkbox' class='ee-toggle'></label><ul><li><span class='ee-k'>0:</span><span class='ee-v'>85.6254777484726</span></li><li><span class='ee-k'>1:</span><span class='ee-v'>28.265171403927827</span></li></ul></li><li><label class='ee-shut'>235: [85.62067085338754, 28.26183153340545]<input type='checkbox' class='ee-toggle'></label><ul><li><span class='ee-k'>0:</span><span class='ee-v'>85.62067085338754</span></li><li><span class='ee-k'>1:</span><span class='ee-v'>28.26183153340545</span></li></ul></li><li><label class='ee-shut'>236: [85.62065296937618, 28.261818140562717]<input type='checkbox' class='ee-toggle'></label><ul><li><span class='ee-k'>0:</span><span class='ee-v'>85.62065296937618</span></li><li><span class='ee-k'>1:</span><span class='ee-v'>28.261818140562717</span></li></ul></li><li><label class='ee-shut'>237: [85.62062175078061, 28.261800315052387]<input type='checkbox' class='ee-toggle'></label><ul><li><span class='ee-k'>0:</span><span class='ee-v'>85.62062175078061</span></li><li><span class='ee-k'>1:</span><span class='ee-v'>28.261800315052387</span></li></ul></li><li><label class='ee-shut'>238: [85.61060214831883, 28.256458347506797]<input type='checkbox' class='ee-toggle'></label><ul><li><span class='ee-k'>0:</span><span class='ee-v'>85.61060214831883</span></li><li><span class='ee-k'>1:</span><span class='ee-v'>28.256458347506797</span></li></ul></li><li><label class='ee-shut'>239: [85.60331152275234, 28.25549963830115]<input type='checkbox' class='ee-toggle'></label><ul><li><span class='ee-k'>0:</span><span class='ee-v'>85.60331152275234</span></li><li><span class='ee-k'>1:</span><span class='ee-v'>28.25549963830115</span></li></ul></li><li><label class='ee-shut'>240: [85.60250443453724, 28.256007914986057]<input type='checkbox' class='ee-toggle'></label><ul><li><span class='ee-k'>0:</span><span class='ee-v'>85.60250443453724</span></li><li><span class='ee-k'>1:</span><span class='ee-v'>28.256007914986057</span></li></ul></li><li><label class='ee-shut'>241: [85.60249996201367, 28.25601240167516]<input type='checkbox' class='ee-toggle'></label><ul><li><span class='ee-k'>0:</span><span class='ee-v'>85.60249996201367</span></li><li><span class='ee-k'>1:</span><span class='ee-v'>28.25601240167516</span></li></ul></li><li><label class='ee-shut'>242: [85.59950791678227, 28.257898627049986]<input type='checkbox' class='ee-toggle'></label><ul><li><span class='ee-k'>0:</span><span class='ee-v'>85.59950791678227</span></li><li><span class='ee-k'>1:</span><span class='ee-v'>28.257898627049986</span></li></ul></li><li><label class='ee-shut'>243: [85.59950791678227, 28.257903079021833]<input type='checkbox' class='ee-toggle'></label><ul><li><span class='ee-k'>0:</span><span class='ee-v'>85.59950791678227</span></li><li><span class='ee-k'>1:</span><span class='ee-v'>28.257903079021833</span></li></ul></li><li><label class='ee-shut'>244: [85.59891044497648, 28.27350987267394]<input type='checkbox' class='ee-toggle'></label><ul><li><span class='ee-k'>0:</span><span class='ee-v'>85.59891044497648</span></li><li><span class='ee-k'>1:</span><span class='ee-v'>28.27350987267394</span></li></ul></li><li><label class='ee-shut'>245: [85.59940982953924, 28.284697812334976]<input type='checkbox' class='ee-toggle'></label><ul><li><span class='ee-k'>0:</span><span class='ee-v'>85.59940982953924</span></li><li><span class='ee-k'>1:</span><span class='ee-v'>28.284697812334976</span></li></ul></li><li><label class='ee-shut'>246: [85.5995926640153, 28.286829243019085]<input type='checkbox' class='ee-toggle'></label><ul><li><span class='ee-k'>0:</span><span class='ee-v'>85.5995926640153</span></li><li><span class='ee-k'>1:</span><span class='ee-v'>28.286829243019085</span></li></ul></li><li><label class='ee-shut'>247: [85.59985129918454, 28.28979010616458]<input type='checkbox' class='ee-toggle'></label><ul><li><span class='ee-k'>0:</span><span class='ee-v'>85.59985129918454</span></li><li><span class='ee-k'>1:</span><span class='ee-v'>28.28979010616458</span></li></ul></li><li><label class='ee-shut'>248: [85.60071186417333, 28.29960900003024]<input type='checkbox' class='ee-toggle'></label><ul><li><span class='ee-k'>0:</span><span class='ee-v'>85.60071186417333</span></li><li><span class='ee-k'>1:</span><span class='ee-v'>28.29960900003024</span></li></ul></li><li><label class='ee-shut'>249: [85.60032838990239, 28.300050496875894]<input type='checkbox' class='ee-toggle'></label><ul><li><span class='ee-k'>0:</span><span class='ee-v'>85.60032838990239</span></li><li><span class='ee-k'>1:</span><span class='ee-v'>28.300050496875894</span></li></ul></li><li><label class='ee-shut'>250: [85.5980721369878, 28.302681363104863]<input type='checkbox' class='ee-toggle'></label><ul><li><span class='ee-k'>0:</span><span class='ee-v'>85.5980721369878</span></li><li><span class='ee-k'>1:</span><span class='ee-v'>28.302681363104863</span></li></ul></li><li><label class='ee-shut'>251: [85.59219498013006, 28.30337700850886]<input type='checkbox' class='ee-toggle'></label><ul><li><span class='ee-k'>0:</span><span class='ee-v'>85.59219498013006</span></li><li><span class='ee-k'>1:</span><span class='ee-v'>28.30337700850886</span></li></ul></li><li><label class='ee-shut'>252: [85.58888190353682, 28.30376937477809]<input type='checkbox' class='ee-toggle'></label><ul><li><span class='ee-k'>0:</span><span class='ee-v'>85.58888190353682</span></li><li><span class='ee-k'>1:</span><span class='ee-v'>28.30376937477809</span></li></ul></li><li><label class='ee-shut'>253: [85.58681291206939, 28.304121632646606]<input type='checkbox' class='ee-toggle'></label><ul><li><span class='ee-k'>0:</span><span class='ee-v'>85.58681291206939</span></li><li><span class='ee-k'>1:</span><span class='ee-v'>28.304121632646606</span></li></ul></li><li><label class='ee-shut'>254: [85.58047201177422, 28.30520076552511]<input type='checkbox' class='ee-toggle'></label><ul><li><span class='ee-k'>0:</span><span class='ee-v'>85.58047201177422</span></li><li><span class='ee-k'>1:</span><span class='ee-v'>28.30520076552511</span></li></ul></li><li><label class='ee-shut'>255: [85.57839853460223, 28.305553009092776]<input type='checkbox' class='ee-toggle'></label><ul><li><span class='ee-k'>0:</span><span class='ee-v'>85.57839853460223</span></li><li><span class='ee-k'>1:</span><span class='ee-v'>28.305553009092776</span></li></ul></li><li><label class='ee-shut'>256: [85.57798828840455, 28.305619876665155]<input type='checkbox' class='ee-toggle'></label><ul><li><span class='ee-k'>0:</span><span class='ee-v'>85.57798828840455</span></li><li><span class='ee-k'>1:</span><span class='ee-v'>28.305619876665155</span></li></ul></li><li><label class='ee-shut'>257: [85.57014033137932, 28.306970989900282]<input type='checkbox' class='ee-toggle'></label><ul><li><span class='ee-k'>0:</span><span class='ee-v'>85.57014033137932</span></li><li><span class='ee-k'>1:</span><span class='ee-v'>28.306970989900282</span></li></ul></li><li><label class='ee-shut'>258: [85.55982197105321, 28.309427960980063]<input type='checkbox' class='ee-toggle'></label><ul><li><span class='ee-k'>0:</span><span class='ee-v'>85.55982197105321</span></li><li><span class='ee-k'>1:</span><span class='ee-v'>28.309427960980063</span></li></ul></li><li><label class='ee-shut'>259: [85.55574629581858, 28.311367704161178]<input type='checkbox' class='ee-toggle'></label><ul><li><span class='ee-k'>0:</span><span class='ee-v'>85.55574629581858</span></li><li><span class='ee-k'>1:</span><span class='ee-v'>28.311367704161178</span></li></ul></li><li><label class='ee-shut'>260: [85.54586943646645, 28.31607201323704]<input type='checkbox' class='ee-toggle'></label><ul><li><span class='ee-k'>0:</span><span class='ee-v'>85.54586943646645</span></li><li><span class='ee-k'>1:</span><span class='ee-v'>28.31607201323704</span></li></ul></li><li><label class='ee-shut'>261: [85.53551089562899, 28.32161916483477]<input type='checkbox' class='ee-toggle'></label><ul><li><span class='ee-k'>0:</span><span class='ee-v'>85.53551089562899</span></li><li><span class='ee-k'>1:</span><span class='ee-v'>28.32161916483477</span></li></ul></li><li><label class='ee-shut'>262: [85.52645891123639, 28.32808037669294]<input type='checkbox' class='ee-toggle'></label><ul><li><span class='ee-k'>0:</span><span class='ee-v'>85.52645891123639</span></li><li><span class='ee-k'>1:</span><span class='ee-v'>28.32808037669294</span></li></ul></li><li><label class='ee-shut'>263: [85.52505433380136, 28.3286912630508]<input type='checkbox' class='ee-toggle'></label><ul><li><span class='ee-k'>0:</span><span class='ee-v'>85.52505433380136</span></li><li><span class='ee-k'>1:</span><span class='ee-v'>28.3286912630508</span></li></ul></li><li><label class='ee-shut'>264: [85.52500970103291, 28.32870911619777]<input type='checkbox' class='ee-toggle'></label><ul><li><span class='ee-k'>0:</span><span class='ee-v'>85.52500970103291</span></li><li><span class='ee-k'>1:</span><span class='ee-v'>28.32870911619777</span></li></ul></li><li><label class='ee-shut'>265: [85.51531117488516, 28.332940854176485]<input type='checkbox' class='ee-toggle'></label><ul><li><span class='ee-k'>0:</span><span class='ee-v'>85.51531117488516</span></li><li><span class='ee-k'>1:</span><span class='ee-v'>28.332940854176485</span></li></ul></li><li><label class='ee-shut'>266: [85.50286138646955, 28.33598195370942]<input type='checkbox' class='ee-toggle'></label><ul><li><span class='ee-k'>0:</span><span class='ee-v'>85.50286138646955</span></li><li><span class='ee-k'>1:</span><span class='ee-v'>28.33598195370942</span></li></ul></li><li><label class='ee-shut'>267: [85.49404127393157, 28.339000739748396]<input type='checkbox' class='ee-toggle'></label><ul><li><span class='ee-k'>0:</span><span class='ee-v'>85.49404127393157</span></li><li><span class='ee-k'>1:</span><span class='ee-v'>28.339000739748396</span></li></ul></li><li><label class='ee-shut'>268: [85.48767816685017, 28.337671881634126]<input type='checkbox' class='ee-toggle'></label><ul><li><span class='ee-k'>0:</span><span class='ee-v'>85.48767816685017</span></li><li><span class='ee-k'>1:</span><span class='ee-v'>28.337671881634126</span></li></ul></li><li><label class='ee-shut'>269: [85.48441855865283, 28.336989683936654]<input type='checkbox' class='ee-toggle'></label><ul><li><span class='ee-k'>0:</span><span class='ee-v'>85.48441855865283</span></li><li><span class='ee-k'>1:</span><span class='ee-v'>28.336989683936654</span></li></ul></li><li><label class='ee-shut'>270: [85.47555382187662, 28.335295256965882]<input type='checkbox' class='ee-toggle'></label><ul><li><span class='ee-k'>0:</span><span class='ee-v'>85.47555382187662</span></li><li><span class='ee-k'>1:</span><span class='ee-v'>28.335295256965882</span></li></ul></li><li><label class='ee-shut'>271: [85.47554941741899, 28.335295200351933]<input type='checkbox' class='ee-toggle'></label><ul><li><span class='ee-k'>0:</span><span class='ee-v'>85.47554941741899</span></li><li><span class='ee-k'>1:</span><span class='ee-v'>28.335295200351933</span></li></ul></li><li><label class='ee-shut'>272: [85.4750588687023, 28.335201562785628]<input type='checkbox' class='ee-toggle'></label><ul><li><span class='ee-k'>0:</span><span class='ee-v'>85.4750588687023</span></li><li><span class='ee-k'>1:</span><span class='ee-v'>28.335201562785628</span></li></ul></li><li><label class='ee-shut'>273: [85.45974186426402, 28.336178074172288]<input type='checkbox' class='ee-toggle'></label><ul><li><span class='ee-k'>0:</span><span class='ee-v'>85.45974186426402</span></li><li><span class='ee-k'>1:</span><span class='ee-v'>28.336178074172288</span></li></ul></li><li><label class='ee-shut'>274: [85.45685680961934, 28.336534829464558]<input type='checkbox' class='ee-toggle'></label><ul><li><span class='ee-k'>0:</span><span class='ee-v'>85.45685680961934</span></li><li><span class='ee-k'>1:</span><span class='ee-v'>28.336534829464558</span></li></ul></li><li><label class='ee-shut'>275: [85.45195186331159, 28.337141288173076]<input type='checkbox' class='ee-toggle'></label><ul><li><span class='ee-k'>0:</span><span class='ee-v'>85.45195186331159</span></li><li><span class='ee-k'>1:</span><span class='ee-v'>28.337141288173076</span></li></ul></li><li><label class='ee-shut'>276: [85.44598112206546, 28.338541436480586]<input type='checkbox' class='ee-toggle'></label><ul><li><span class='ee-k'>0:</span><span class='ee-v'>85.44598112206546</span></li><li><span class='ee-k'>1:</span><span class='ee-v'>28.338541436480586</span></li></ul></li><li><label class='ee-shut'>277: [85.43765149944306, 28.33498303844746]<input type='checkbox' class='ee-toggle'></label><ul><li><span class='ee-k'>0:</span><span class='ee-v'>85.43765149944306</span></li><li><span class='ee-k'>1:</span><span class='ee-v'>28.33498303844746</span></li></ul></li><li><label class='ee-shut'>278: [85.43374973537875, 28.333319868154526]<input type='checkbox' class='ee-toggle'></label><ul><li><span class='ee-k'>0:</span><span class='ee-v'>85.43374973537875</span></li><li><span class='ee-k'>1:</span><span class='ee-v'>28.333319868154526</span></li></ul></li><li><label class='ee-shut'>279: [85.42946905748323, 28.332878347274587]<input type='checkbox' class='ee-toggle'></label><ul><li><span class='ee-k'>0:</span><span class='ee-v'>85.42946905748323</span></li><li><span class='ee-k'>1:</span><span class='ee-v'>28.332878347274587</span></li></ul></li><li><label class='ee-shut'>280: [85.42699867012381, 28.332428049354963]<input type='checkbox' class='ee-toggle'></label><ul><li><span class='ee-k'>0:</span><span class='ee-v'>85.42699867012381</span></li><li><span class='ee-k'>1:</span><span class='ee-v'>28.332428049354963</span></li></ul></li><li><label class='ee-shut'>281: [85.41630579454369, 28.329565317145462]<input type='checkbox' class='ee-toggle'></label><ul><li><span class='ee-k'>0:</span><span class='ee-v'>85.41630579454369</span></li><li><span class='ee-k'>1:</span><span class='ee-v'>28.329565317145462</span></li></ul></li><li><label class='ee-shut'>282: [85.41630579454369, 28.32956077882911]<input type='checkbox' class='ee-toggle'></label><ul><li><span class='ee-k'>0:</span><span class='ee-v'>85.41630579454369</span></li><li><span class='ee-k'>1:</span><span class='ee-v'>28.32956077882911</span></li></ul></li><li><label class='ee-shut'>283: [85.4160694249281, 28.32949840320702]<input type='checkbox' class='ee-toggle'></label><ul><li><span class='ee-k'>0:</span><span class='ee-v'>85.4160694249281</span></li><li><span class='ee-k'>1:</span><span class='ee-v'>28.32949840320702</span></li></ul></li><li><label class='ee-shut'>284: [85.41551203893374, 28.328713559106966]<input type='checkbox' class='ee-toggle'></label><ul><li><span class='ee-k'>0:</span><span class='ee-v'>85.41551203893374</span></li><li><span class='ee-k'>1:</span><span class='ee-v'>28.328713559106966</span></li></ul></li><li><label class='ee-shut'>285: [85.41136953429218, 28.322881107626458]<input type='checkbox' class='ee-toggle'></label><ul><li><span class='ee-k'>0:</span><span class='ee-v'>85.41136953429218</span></li><li><span class='ee-k'>1:</span><span class='ee-v'>28.322881107626458</span></li></ul></li><li><label class='ee-shut'>286: [85.40716906797753, 28.31486806272335]<input type='checkbox' class='ee-toggle'></label><ul><li><span class='ee-k'>0:</span><span class='ee-v'>85.40716906797753</span></li><li><span class='ee-k'>1:</span><span class='ee-v'>28.31486806272335</span></li></ul></li><li><label class='ee-shut'>287: [85.40272783216528, 28.308478161950266]<input type='checkbox' class='ee-toggle'></label><ul><li><span class='ee-k'>0:</span><span class='ee-v'>85.40272783216528</span></li><li><span class='ee-k'>1:</span><span class='ee-v'>28.308478161950266</span></li></ul></li><li><label class='ee-shut'>288: [85.39889294373296, 28.30319863147655]<input type='checkbox' class='ee-toggle'></label><ul><li><span class='ee-k'>0:</span><span class='ee-v'>85.39889294373296</span></li><li><span class='ee-k'>1:</span><span class='ee-v'>28.30319863147655</span></li></ul></li><li><label class='ee-shut'>289: [85.39725206021711, 28.300937823908775]<input type='checkbox' class='ee-toggle'></label><ul><li><span class='ee-k'>0:</span><span class='ee-v'>85.39725206021711</span></li><li><span class='ee-k'>1:</span><span class='ee-v'>28.300937823908775</span></li></ul></li><li><label class='ee-shut'>290: [85.39097807687241, 28.29156925402522]<input type='checkbox' class='ee-toggle'></label><ul><li><span class='ee-k'>0:</span><span class='ee-v'>85.39097807687241</span></li><li><span class='ee-k'>1:</span><span class='ee-v'>28.29156925402522</span></li></ul></li><li><label class='ee-shut'>291: [85.38213119907198, 28.28587947868874]<input type='checkbox' class='ee-toggle'></label><ul><li><span class='ee-k'>0:</span><span class='ee-v'>85.38213119907198</span></li><li><span class='ee-k'>1:</span><span class='ee-v'>28.28587947868874</span></li></ul></li><li><label class='ee-shut'>292: [85.37889840263908, 28.285701053582574]<input type='checkbox' class='ee-toggle'></label><ul><li><span class='ee-k'>0:</span><span class='ee-v'>85.37889840263908</span></li><li><span class='ee-k'>1:</span><span class='ee-v'>28.285701053582574</span></li></ul></li><li><label class='ee-shut'>293: [85.37434114988154, 28.285451407794564]<input type='checkbox' class='ee-toggle'></label><ul><li><span class='ee-k'>0:</span><span class='ee-v'>85.37434114988154</span></li><li><span class='ee-k'>1:</span><span class='ee-v'>28.285451407794564</span></li></ul></li><li><label class='ee-shut'>294: [85.37104145968222, 28.285371116011714]<input type='checkbox' class='ee-toggle'></label><ul><li><span class='ee-k'>0:</span><span class='ee-v'>85.37104145968222</span></li><li><span class='ee-k'>1:</span><span class='ee-v'>28.285371116011714</span></li></ul></li><li><label class='ee-shut'>295: [85.36863799870565, 28.285308671531492]<input type='checkbox' class='ee-toggle'></label><ul><li><span class='ee-k'>0:</span><span class='ee-v'>85.36863799870565</span></li><li><span class='ee-k'>1:</span><span class='ee-v'>28.285308671531492</span></li></ul></li><li><label class='ee-shut'>296: [85.36776844279234, 28.285491552684764]<input type='checkbox' class='ee-toggle'></label><ul><li><span class='ee-k'>0:</span><span class='ee-v'>85.36776844279234</span></li><li><span class='ee-k'>1:</span><span class='ee-v'>28.285491552684764</span></li></ul></li><li><label class='ee-shut'>297: [85.36091033270668, 28.286909472897914]<input type='checkbox' class='ee-toggle'></label><ul><li><span class='ee-k'>0:</span><span class='ee-v'>85.36091033270668</span></li><li><span class='ee-k'>1:</span><span class='ee-v'>28.286909472897914</span></li></ul></li><li><label class='ee-shut'>298: [85.35552824970269, 28.289072175388526]<input type='checkbox' class='ee-toggle'></label><ul><li><span class='ee-k'>0:</span><span class='ee-v'>85.35552824970269</span></li><li><span class='ee-k'>1:</span><span class='ee-v'>28.289072175388526</span></li></ul></li><li><label class='ee-shut'>299: [85.34767132377046, 28.291167941385645]<input type='checkbox' class='ee-toggle'></label><ul><li><span class='ee-k'>0:</span><span class='ee-v'>85.34767132377046</span></li><li><span class='ee-k'>1:</span><span class='ee-v'>28.291167941385645</span></li></ul></li><li><label class='ee-shut'>300: [85.34730118439678, 28.29183239720227]<input type='checkbox' class='ee-toggle'></label><ul><li><span class='ee-k'>0:</span><span class='ee-v'>85.34730118439678</span></li><li><span class='ee-k'>1:</span><span class='ee-v'>28.29183239720227</span></li></ul></li><li><label class='ee-shut'>301: [85.34232033829997, 28.30075059004049]<input type='checkbox' class='ee-toggle'></label><ul><li><span class='ee-k'>0:</span><span class='ee-v'>85.34232033829997</span></li><li><span class='ee-k'>1:</span><span class='ee-v'>28.30075059004049</span></li></ul></li><li><label class='ee-shut'>302: [85.33927031526754, 28.300286843413634]<input type='checkbox' class='ee-toggle'></label><ul><li><span class='ee-k'>0:</span><span class='ee-v'>85.33927031526754</span></li><li><span class='ee-k'>1:</span><span class='ee-v'>28.300286843413634</span></li></ul></li><li><label class='ee-shut'>303: [85.33035210220292, 28.298931229243692]<input type='checkbox' class='ee-toggle'></label><ul><li><span class='ee-k'>0:</span><span class='ee-v'>85.33035210220292</span></li><li><span class='ee-k'>1:</span><span class='ee-v'>28.298931229243692</span></li></ul></li><li><label class='ee-shut'>304: [85.31742963767998, 28.29115905681011]<input type='checkbox' class='ee-toggle'></label><ul><li><span class='ee-k'>0:</span><span class='ee-v'>85.31742963767998</span></li><li><span class='ee-k'>1:</span><span class='ee-v'>28.29115905681011</span></li></ul></li><li><label class='ee-shut'>305: [85.3072852358495, 28.287301904430247]<input type='checkbox' class='ee-toggle'></label><ul><li><span class='ee-k'>0:</span><span class='ee-v'>85.3072852358495</span></li><li><span class='ee-k'>1:</span><span class='ee-v'>28.287301904430247</span></li></ul></li><li><label class='ee-shut'>306: [85.30196998024118, 28.28528198031991]<input type='checkbox' class='ee-toggle'></label><ul><li><span class='ee-k'>0:</span><span class='ee-v'>85.30196998024118</span></li><li><span class='ee-k'>1:</span><span class='ee-v'>28.28528198031991</span></li></ul></li><li><label class='ee-shut'>307: [85.27550073913567, 28.284679926451343]<input type='checkbox' class='ee-toggle'></label><ul><li><span class='ee-k'>0:</span><span class='ee-v'>85.27550073913567</span></li><li><span class='ee-k'>1:</span><span class='ee-v'>28.284679926451343</span></li></ul></li><li><label class='ee-shut'>308: [85.26013915820972, 28.28278035244893]<input type='checkbox' class='ee-toggle'></label><ul><li><span class='ee-k'>0:</span><span class='ee-v'>85.26013915820972</span></li><li><span class='ee-k'>1:</span><span class='ee-v'>28.28278035244893</span></li></ul></li><li><label class='ee-shut'>309: [85.25312048772598, 28.281910896310343]<input type='checkbox' class='ee-toggle'></label><ul><li><span class='ee-k'>0:</span><span class='ee-v'>85.25312048772598</span></li><li><span class='ee-k'>1:</span><span class='ee-v'>28.281910896310343</span></li></ul></li><li><label class='ee-shut'>310: [85.24846522784331, 28.28400664592896]<input type='checkbox' class='ee-toggle'></label><ul><li><span class='ee-k'>0:</span><span class='ee-v'>85.24846522784331</span></li><li><span class='ee-k'>1:</span><span class='ee-v'>28.28400664592896</span></li></ul></li><li><label class='ee-shut'>311: [85.24671279881353, 28.28480038731165]<input type='checkbox' class='ee-toggle'></label><ul><li><span class='ee-k'>0:</span><span class='ee-v'>85.24671279881353</span></li><li><span class='ee-k'>1:</span><span class='ee-v'>28.28480038731165</span></li></ul></li><li><label class='ee-shut'>312: [85.24670829682816, 28.28480032010033]<input type='checkbox' class='ee-toggle'></label><ul><li><span class='ee-k'>0:</span><span class='ee-v'>85.24670829682816</span></li><li><span class='ee-k'>1:</span><span class='ee-v'>28.28480032010033</span></li></ul></li><li><label class='ee-shut'>313: [85.23100778966287, 28.309989782876535]<input type='checkbox' class='ee-toggle'></label><ul><li><span class='ee-k'>0:</span><span class='ee-v'>85.23100778966287</span></li><li><span class='ee-k'>1:</span><span class='ee-v'>28.309989782876535</span></li></ul></li><li><label class='ee-shut'>314: [85.22278973354962, 28.323170937216712]<input type='checkbox' class='ee-toggle'></label><ul><li><span class='ee-k'>0:</span><span class='ee-v'>85.22278973354962</span></li><li><span class='ee-k'>1:</span><span class='ee-v'>28.323170937216712</span></li></ul></li><li><label class='ee-shut'>315: [85.21829493064656, 28.32880724424035]<input type='checkbox' class='ee-toggle'></label><ul><li><span class='ee-k'>0:</span><span class='ee-v'>85.21829493064656</span></li><li><span class='ee-k'>1:</span><span class='ee-v'>28.32880724424035</span></li></ul></li><li><label class='ee-shut'>316: [85.21348798887729, 28.334840422012153]<input type='checkbox' class='ee-toggle'></label><ul><li><span class='ee-k'>0:</span><span class='ee-v'>85.21348798887729</span></li><li><span class='ee-k'>1:</span><span class='ee-v'>28.334840422012153</span></li></ul></li><li><label class='ee-shut'>317: [85.2092519026951, 28.337694205313174]<input type='checkbox' class='ee-toggle'></label><ul><li><span class='ee-k'>0:</span><span class='ee-v'>85.2092519026951</span></li><li><span class='ee-k'>1:</span><span class='ee-v'>28.337694205313174</span></li></ul></li><li><label class='ee-shut'>318: [85.20506923951335, 28.340507932810635]<input type='checkbox' class='ee-toggle'></label><ul><li><span class='ee-k'>0:</span><span class='ee-v'>85.20506923951335</span></li><li><span class='ee-k'>1:</span><span class='ee-v'>28.340507932810635</span></li></ul></li><li><label class='ee-shut'>319: [85.20445832076788, 28.340677344146915]<input type='checkbox' class='ee-toggle'></label><ul><li><span class='ee-k'>0:</span><span class='ee-v'>85.20445832076788</span></li><li><span class='ee-k'>1:</span><span class='ee-v'>28.340677344146915</span></li></ul></li><li><label class='ee-shut'>320: [85.2039589258277, 28.340811162836903]<input type='checkbox' class='ee-toggle'></label><ul><li><span class='ee-k'>0:</span><span class='ee-v'>85.2039589258277</span></li><li><span class='ee-k'>1:</span><span class='ee-v'>28.340811162836903</span></li></ul></li><li><label class='ee-shut'>321: [85.19746203218233, 28.33689157663053]<input type='checkbox' class='ee-toggle'></label><ul><li><span class='ee-k'>0:</span><span class='ee-v'>85.19746203218233</span></li><li><span class='ee-k'>1:</span><span class='ee-v'>28.33689157663053</span></li></ul></li><li><label class='ee-shut'>322: [85.19746203218233, 28.336887128456315]<input type='checkbox' class='ee-toggle'></label><ul><li><span class='ee-k'>0:</span><span class='ee-v'>85.19746203218233</span></li><li><span class='ee-k'>1:</span><span class='ee-v'>28.336887128456315</span></li></ul></li><li><label class='ee-shut'>323: [85.19136197567397, 28.33320835436121]<input type='checkbox' class='ee-toggle'></label><ul><li><span class='ee-k'>0:</span><span class='ee-v'>85.19136197567397</span></li><li><span class='ee-k'>1:</span><span class='ee-v'>28.33320835436121</span></li></ul></li><li><label class='ee-shut'>324: [85.17959437813737, 28.32837024752786]<input type='checkbox' class='ee-toggle'></label><ul><li><span class='ee-k'>0:</span><span class='ee-v'>85.17959437813737</span></li><li><span class='ee-k'>1:</span><span class='ee-v'>28.32837024752786</span></li></ul></li><li><label class='ee-shut'>325: [85.17958994974367, 28.328370269471396]<input type='checkbox' class='ee-toggle'></label><ul><li><span class='ee-k'>0:</span><span class='ee-v'>85.17958994974367</span></li><li><span class='ee-k'>1:</span><span class='ee-v'>28.328370269471396</span></li></ul></li><li><label class='ee-shut'>326: [85.17752090212986, 28.327518560251487]<input type='checkbox' class='ee-toggle'></label><ul><li><span class='ee-k'>0:</span><span class='ee-v'>85.17752090212986</span></li><li><span class='ee-k'>1:</span><span class='ee-v'>28.327518560251487</span></li></ul></li><li><label class='ee-shut'>327: [85.164107935613, 28.32725101638974]<input type='checkbox' class='ee-toggle'></label><ul><li><span class='ee-k'>0:</span><span class='ee-v'>85.164107935613</span></li><li><span class='ee-k'>1:</span><span class='ee-v'>28.32725101638974</span></li></ul></li><li><label class='ee-shut'>328: [85.16137003756778, 28.327549777747212]<input type='checkbox' class='ee-toggle'></label><ul><li><span class='ee-k'>0:</span><span class='ee-v'>85.16137003756778</span></li><li><span class='ee-k'>1:</span><span class='ee-v'>28.327549777747212</span></li></ul></li><li><label class='ee-shut'>329: [85.1510784523552, 28.328668976103923]<input type='checkbox' class='ee-toggle'></label><ul><li><span class='ee-k'>0:</span><span class='ee-v'>85.1510784523552</span></li><li><span class='ee-k'>1:</span><span class='ee-v'>28.328668976103923</span></li></ul></li><li><label class='ee-shut'>330: [85.14182579302488, 28.3308183113127]<input type='checkbox' class='ee-toggle'></label><ul><li><span class='ee-k'>0:</span><span class='ee-v'>85.14182579302488</span></li><li><span class='ee-k'>1:</span><span class='ee-v'>28.3308183113127</span></li></ul></li><li><label class='ee-shut'>331: [85.1376922345826, 28.331781457558773]<input type='checkbox' class='ee-toggle'></label><ul><li><span class='ee-k'>0:</span><span class='ee-v'>85.1376922345826</span></li><li><span class='ee-k'>1:</span><span class='ee-v'>28.331781457558773</span></li></ul></li><li><label class='ee-shut'>332: [85.13218076596934, 28.333368873978767]<input type='checkbox' class='ee-toggle'></label><ul><li><span class='ee-k'>0:</span><span class='ee-v'>85.13218076596934</span></li><li><span class='ee-k'>1:</span><span class='ee-v'>28.333368873978767</span></li></ul></li><li><label class='ee-shut'>333: [85.12412760794129, 28.335696520544094]<input type='checkbox' class='ee-toggle'></label><ul><li><span class='ee-k'>0:</span><span class='ee-v'>85.12412760794129</span></li><li><span class='ee-k'>1:</span><span class='ee-v'>28.335696520544094</span></li></ul></li><li><label class='ee-shut'>334: [85.09889360240476, 28.329230814703077]<input type='checkbox' class='ee-toggle'></label><ul><li><span class='ee-k'>0:</span><span class='ee-v'>85.09889360240476</span></li><li><span class='ee-k'>1:</span><span class='ee-v'>28.329230814703077</span></li></ul></li><li><label class='ee-shut'>335: [85.08126673398958, 28.327451655883575]<input type='checkbox' class='ee-toggle'></label><ul><li><span class='ee-k'>0:</span><span class='ee-v'>85.08126673398958</span></li><li><span class='ee-k'>1:</span><span class='ee-v'>28.327451655883575</span></li></ul></li><li><label class='ee-shut'>336: [85.06569553660943, 28.32015653566324]<input type='checkbox' class='ee-toggle'></label><ul><li><span class='ee-k'>0:</span><span class='ee-v'>85.06569553660943</span></li><li><span class='ee-k'>1:</span><span class='ee-v'>28.32015653566324</span></li></ul></li><li><label class='ee-shut'>337: [85.04541560970871, 28.301397103386485]<input type='checkbox' class='ee-toggle'></label><ul><li><span class='ee-k'>0:</span><span class='ee-v'>85.04541560970871</span></li><li><span class='ee-k'>1:</span><span class='ee-v'>28.301397103386485</span></li></ul></li><li><label class='ee-shut'>338: [85.04277578684504, 28.286713296398773]<input type='checkbox' class='ee-toggle'></label><ul><li><span class='ee-k'>0:</span><span class='ee-v'>85.04277578684504</span></li><li><span class='ee-k'>1:</span><span class='ee-v'>28.286713296398773</span></li></ul></li><li><label class='ee-shut'>339: [85.03908366232245, 28.267904816706036]<input type='checkbox' class='ee-toggle'></label><ul><li><span class='ee-k'>0:</span><span class='ee-v'>85.03908366232245</span></li><li><span class='ee-k'>1:</span><span class='ee-v'>28.267904816706036</span></li></ul></li><li><label class='ee-shut'>340: [85.0229506574849, 28.24453910233906]<input type='checkbox' class='ee-toggle'></label><ul><li><span class='ee-k'>0:</span><span class='ee-v'>85.0229506574849</span></li><li><span class='ee-k'>1:</span><span class='ee-v'>28.24453910233906</span></li></ul></li><li><label class='ee-shut'>341: [85.00791900868926, 28.238153706540977]<input type='checkbox' class='ee-toggle'></label><ul><li><span class='ee-k'>0:</span><span class='ee-v'>85.00791900868926</span></li><li><span class='ee-k'>1:</span><span class='ee-v'>28.238153706540977</span></li></ul></li><li><label class='ee-shut'>342: [84.98872260123267, 28.22488788177149]<input type='checkbox' class='ee-toggle'></label><ul><li><span class='ee-k'>0:</span><span class='ee-v'>84.98872260123267</span></li><li><span class='ee-k'>1:</span><span class='ee-v'>28.22488788177149</span></li></ul></li><li><label class='ee-shut'>343: [84.97673652952219, 28.19783452065091]<input type='checkbox' class='ee-toggle'></label><ul><li><span class='ee-k'>0:</span><span class='ee-v'>84.97673652952219</span></li><li><span class='ee-k'>1:</span><span class='ee-v'>28.19783452065091</span></li></ul></li><li><label class='ee-shut'>344: [84.97145250321583, 28.16066791036739]<input type='checkbox' class='ee-toggle'></label><ul><li><span class='ee-k'>0:</span><span class='ee-v'>84.97145250321583</span></li><li><span class='ee-k'>1:</span><span class='ee-v'>28.16066791036739</span></li></ul></li><li><label class='ee-shut'>345: [84.9718939028173, 28.135420465174082]<input type='checkbox' class='ee-toggle'></label><ul><li><span class='ee-k'>0:</span><span class='ee-v'>84.9718939028173</span></li><li><span class='ee-k'>1:</span><span class='ee-v'>28.135420465174082</span></li></ul></li><li><label class='ee-shut'>346: [84.94909009750702, 28.117111407309952]<input type='checkbox' class='ee-toggle'></label><ul><li><span class='ee-k'>0:</span><span class='ee-v'>84.94909009750702</span></li><li><span class='ee-k'>1:</span><span class='ee-v'>28.117111407309952</span></li></ul></li><li><label class='ee-shut'>347: [84.93873602844849, 28.112540809664306]<input type='checkbox' class='ee-toggle'></label><ul><li><span class='ee-k'>0:</span><span class='ee-v'>84.93873602844849</span></li><li><span class='ee-k'>1:</span><span class='ee-v'>28.112540809664306</span></li></ul></li><li><label class='ee-shut'>348: [84.92626394072673, 28.090530727637116]<input type='checkbox' class='ee-toggle'></label><ul><li><span class='ee-k'>0:</span><span class='ee-v'>84.92626394072673</span></li><li><span class='ee-k'>1:</span><span class='ee-v'>28.090530727637116</span></li></ul></li><li><label class='ee-shut'>349: [84.91594111221012, 28.093768003253157]<input type='checkbox' class='ee-toggle'></label><ul><li><span class='ee-k'>0:</span><span class='ee-v'>84.91594111221012</span></li><li><span class='ee-k'>1:</span><span class='ee-v'>28.093768003253157</span></li></ul></li><li><label class='ee-shut'>350: [84.89678927344727, 28.088296655757187]<input type='checkbox' class='ee-toggle'></label><ul><li><span class='ee-k'>0:</span><span class='ee-v'>84.89678927344727</span></li><li><span class='ee-k'>1:</span><span class='ee-v'>28.088296655757187</span></li></ul></li><li><label class='ee-shut'>351: [84.88025491807053, 28.093830449444408]<input type='checkbox' class='ee-toggle'></label><ul><li><span class='ee-k'>0:</span><span class='ee-v'>84.88025491807053</span></li><li><span class='ee-k'>1:</span><span class='ee-v'>28.093830449444408</span></li></ul></li><li><label class='ee-shut'>352: [84.85748228475191, 28.084684789094034]<input type='checkbox' class='ee-toggle'></label><ul><li><span class='ee-k'>0:</span><span class='ee-v'>84.85748228475191</span></li><li><span class='ee-k'>1:</span><span class='ee-v'>28.084684789094034</span></li></ul></li><li><label class='ee-shut'>353: [84.84448844874892, 28.037422823424]<input type='checkbox' class='ee-toggle'></label><ul><li><span class='ee-k'>0:</span><span class='ee-v'>84.84448844874892</span></li><li><span class='ee-k'>1:</span><span class='ee-v'>28.037422823424</span></li></ul></li><li><label class='ee-shut'>354: [84.82585834217183, 28.023216067098115]<input type='checkbox' class='ee-toggle'></label><ul><li><span class='ee-k'>0:</span><span class='ee-v'>84.82585834217183</span></li><li><span class='ee-k'>1:</span><span class='ee-v'>28.023216067098115</span></li></ul></li><li><label class='ee-shut'>355: [84.82687503751258, 28.012656997128904]<input type='checkbox' class='ee-toggle'></label><ul><li><span class='ee-k'>0:</span><span class='ee-v'>84.82687503751258</span></li><li><span class='ee-k'>1:</span><span class='ee-v'>28.012656997128904</span></li></ul></li><li><label class='ee-shut'>356: [84.81702491675026, 27.987422911616836]<input type='checkbox' class='ee-toggle'></label><ul><li><span class='ee-k'>0:</span><span class='ee-v'>84.81702491675026</span></li><li><span class='ee-k'>1:</span><span class='ee-v'>27.987422911616836</span></li></ul></li><li><label class='ee-shut'>357: [84.80823597101143, 27.97779125121882]<input type='checkbox' class='ee-toggle'></label><ul><li><span class='ee-k'>0:</span><span class='ee-v'>84.80823597101143</span></li><li><span class='ee-k'>1:</span><span class='ee-v'>27.97779125121882</span></li></ul></li><li><label class='ee-shut'>358: [84.78807191602043, 27.965417230898293]<input type='checkbox' class='ee-toggle'></label><ul><li><span class='ee-k'>0:</span><span class='ee-v'>84.78807191602043</span></li><li><span class='ee-k'>1:</span><span class='ee-v'>27.965417230898293</span></li></ul></li><li><label class='ee-shut'>359: [84.77566675369465, 27.95441214883061]<input type='checkbox' class='ee-toggle'></label><ul><li><span class='ee-k'>0:</span><span class='ee-v'>84.77566675369465</span></li><li><span class='ee-k'>1:</span><span class='ee-v'>27.95441214883061</span></li></ul></li><li><label class='ee-shut'>360: [84.7601624034003, 27.93423025684056]<input type='checkbox' class='ee-toggle'></label><ul><li><span class='ee-k'>0:</span><span class='ee-v'>84.7601624034003</span></li><li><span class='ee-k'>1:</span><span class='ee-v'>27.93423025684056</span></li></ul></li><li><label class='ee-shut'>361: [84.75292088237248, 27.923216282198638]<input type='checkbox' class='ee-toggle'></label><ul><li><span class='ee-k'>0:</span><span class='ee-v'>84.75292088237248</span></li><li><span class='ee-k'>1:</span><span class='ee-v'>27.923216282198638</span></li></ul></li><li><label class='ee-shut'>362: [84.75495869120985, 27.897045855825407]<input type='checkbox' class='ee-toggle'></label><ul><li><span class='ee-k'>0:</span><span class='ee-v'>84.75495869120985</span></li><li><span class='ee-k'>1:</span><span class='ee-v'>27.897045855825407</span></li></ul></li><li><label class='ee-shut'>363: [84.75907886692146, 27.880979684937984]<input type='checkbox' class='ee-toggle'></label><ul><li><span class='ee-k'>0:</span><span class='ee-v'>84.75907886692146</span></li><li><span class='ee-k'>1:</span><span class='ee-v'>27.880979684937984</span></li></ul></li><li><label class='ee-shut'>364: [84.76267286252308, 27.858479104440395]<input type='checkbox' class='ee-toggle'></label><ul><li><span class='ee-k'>0:</span><span class='ee-v'>84.76267286252308</span></li><li><span class='ee-k'>1:</span><span class='ee-v'>27.858479104440395</span></li></ul></li><li><label class='ee-shut'>365: [84.7719344194201, 27.835059856241667]<input type='checkbox' class='ee-toggle'></label><ul><li><span class='ee-k'>0:</span><span class='ee-v'>84.7719344194201</span></li><li><span class='ee-k'>1:</span><span class='ee-v'>27.835059856241667</span></li></ul></li><li><label class='ee-shut'>366: [84.76830476148925, 27.817615863826315]<input type='checkbox' class='ee-toggle'></label><ul><li><span class='ee-k'>0:</span><span class='ee-v'>84.76830476148925</span></li><li><span class='ee-k'>1:</span><span class='ee-v'>27.817615863826315</span></li></ul></li><li><label class='ee-shut'>367: [84.75180159043929, 27.806615258684968]<input type='checkbox' class='ee-toggle'></label><ul><li><span class='ee-k'>0:</span><span class='ee-v'>84.75180159043929</span></li><li><span class='ee-k'>1:</span><span class='ee-v'>27.806615258684968</span></li></ul></li><li><label class='ee-shut'>368: [84.73631961678645, 27.80019865367529]<input type='checkbox' class='ee-toggle'></label><ul><li><span class='ee-k'>0:</span><span class='ee-v'>84.73631961678645</span></li><li><span class='ee-k'>1:</span><span class='ee-v'>27.80019865367529</span></li></ul></li><li><label class='ee-shut'>369: [84.71466625117623, 27.79745629934793]<input type='checkbox' class='ee-toggle'></label><ul><li><span class='ee-k'>0:</span><span class='ee-v'>84.71466625117623</span></li><li><span class='ee-k'>1:</span><span class='ee-v'>27.79745629934793</span></li></ul></li><li><label class='ee-shut'>370: [84.6976458549072, 27.80939329849979]<input type='checkbox' class='ee-toggle'></label><ul><li><span class='ee-k'>0:</span><span class='ee-v'>84.6976458549072</span></li><li><span class='ee-k'>1:</span><span class='ee-v'>27.80939329849979</span></li></ul></li><li><label class='ee-shut'>371: [84.68475455043419, 27.820875442528006]<input type='checkbox' class='ee-toggle'></label><ul><li><span class='ee-k'>0:</span><span class='ee-v'>84.68475455043419</span></li><li><span class='ee-k'>1:</span><span class='ee-v'>27.820875442528006</span></li></ul></li><li><label class='ee-shut'>372: [84.6771295382883, 27.828594228964292]<input type='checkbox' class='ee-toggle'></label><ul><li><span class='ee-k'>0:</span><span class='ee-v'>84.6771295382883</span></li><li><span class='ee-k'>1:</span><span class='ee-v'>27.828594228964292</span></li></ul></li><li><label class='ee-shut'>373: [84.66773861552505, 27.819042787762687]<input type='checkbox' class='ee-toggle'></label><ul><li><span class='ee-k'>0:</span><span class='ee-v'>84.66773861552505</span></li><li><span class='ee-k'>1:</span><span class='ee-v'>27.819042787762687</span></li></ul></li><li><label class='ee-shut'>374: [84.64814090042915, 27.799761622309866]<input type='checkbox' class='ee-toggle'></label><ul><li><span class='ee-k'>0:</span><span class='ee-v'>84.64814090042915</span></li><li><span class='ee-k'>1:</span><span class='ee-v'>27.799761622309866</span></li></ul></li><li><label class='ee-shut'>375: [84.64350789165766, 27.786906073394604]<input type='checkbox' class='ee-toggle'></label><ul><li><span class='ee-k'>0:</span><span class='ee-v'>84.64350789165766</span></li><li><span class='ee-k'>1:</span><span class='ee-v'>27.786906073394604</span></li></ul></li><li><label class='ee-shut'>376: [84.65175725602468, 27.77221776812372]<input type='checkbox' class='ee-toggle'></label><ul><li><span class='ee-k'>0:</span><span class='ee-v'>84.65175725602468</span></li><li><span class='ee-k'>1:</span><span class='ee-v'>27.77221776812372</span></li></ul></li><li><label class='ee-shut'>377: [84.6388793010442, 27.75522859838672]<input type='checkbox' class='ee-toggle'></label><ul><li><span class='ee-k'>0:</span><span class='ee-v'>84.6388793010442</span></li><li><span class='ee-k'>1:</span><span class='ee-v'>27.75522859838672</span></li></ul></li><li><label class='ee-shut'>378: [84.62599256147314, 27.74283228453003]<input type='checkbox' class='ee-toggle'></label><ul><li><span class='ee-k'>0:</span><span class='ee-v'>84.62599256147314</span></li><li><span class='ee-k'>1:</span><span class='ee-v'>27.74283228453003</span></li></ul></li></ul></li></ul></li></ul></li></ul></li></ul></li></ul></div><script>function toggleHeader() {\n",
       "    const parent = this.parentElement;\n",
       "    parent.className = parent.className === \"ee-open\" ? \"ee-shut\" : \"ee-open\";\n",
       "}\n",
       "\n",
       "for (let c of document.getElementsByClassName(\"ee-toggle\")) {\n",
       "    c.onclick = toggleHeader;\n",
       "}</script></div>"
      ],
      "text/plain": [
       "<ee.image.Image at 0x19371ce4a00>"
      ]
     },
     "execution_count": 12,
     "metadata": {},
     "output_type": "execute_result"
    }
   ],
   "source": [
    "result = fused.select(trainingbands).classify(clf2)\n",
    "result"
   ]
  },
  {
   "cell_type": "code",
   "execution_count": 13,
   "metadata": {},
   "outputs": [
    {
     "data": {
      "text/html": [
       "\n",
       "            <style>\n",
       "                .geemap-dark {\n",
       "                    --jp-widgets-color: white;\n",
       "                    --jp-widgets-label-color: white;\n",
       "                    --jp-ui-font-color1: white;\n",
       "                    --jp-layout-color2: #454545;\n",
       "                    background-color: #383838;\n",
       "                }\n",
       "                    \n",
       "                .geemap-dark .jupyter-button {\n",
       "                    --jp-layout-color3: #383838;\n",
       "                }\n",
       "                \n",
       "                .geemap-colab {\n",
       "                    background-color: var(--colab-primary-surface-color, white);\n",
       "                }\n",
       "                    \n",
       "                .geemap-colab .jupyter-button {\n",
       "                    --jp-layout-color3: var(--colab-primary-surface-color, white);\n",
       "                }\n",
       "            </style>\n",
       "            "
      ],
      "text/plain": [
       "<IPython.core.display.HTML object>"
      ]
     },
     "metadata": {},
     "output_type": "display_data"
    },
    {
     "data": {
      "application/vnd.jupyter.widget-view+json": {
       "model_id": "242a45184aef4ba7a6e2aa93ac6eb046",
       "version_major": 2,
       "version_minor": 0
      },
      "text/plain": [
       "Map(center=[27.87388743003947, 85.41973735675019], controls=(WidgetControl(options=['position', 'transparent_b…"
      ]
     },
     "execution_count": 13,
     "metadata": {},
     "output_type": "execute_result"
    }
   ],
   "source": [
    "ghslVis= {\"palette\":['000000', 'ffffff']}\n",
    "se2Vis = {\"min\":0.0, \"max\":0.3,\"bands\": ['B4','B3','B2']}\n",
    "\n",
    "# initialize our map\n",
    "map1 = geemap.Map()\n",
    "map1.centerObject(roi, 9)\n",
    "map1.addLayer(se2, se2Vis, \"S2\")\n",
    "map1.addLayer(viirs, {}, \"VIIRS-DNB\")\n",
    "map1.addLayer(ghsl, ghslVis, \"GHSL\")\n",
    "map1.addLayer(result.randomVisualizer(), {}, 'classified')\n",
    "map1.addLayerControl()\n",
    "map1"
   ]
  },
  {
   "cell_type": "markdown",
   "metadata": {},
   "source": [
    "We have some odd truncated edges in our prediction set likely due to the re-sampling process (and maybe errors in preprocessing). Worth investigating further, but at at glance we can see the built up area (green) that appears quite close to what we would expect given the GHSL data.\n",
    "\n",
    "Our MCC score on the validation set of ~ 0.64 is far from perfect, but it’ll do for our exploratory and learning purposes we can take a look at what we were trying to assess: change in land cover.\n",
    "\n",
    "Note that if you wanted to err on the side of caution for false positives (showing built-up land, ie growth, only when it is quite certain that it is there) there are metrics and weights that can “penalize” your classifier in training to decrease the false positives."
   ]
  },
  {
   "cell_type": "markdown",
   "metadata": {},
   "source": []
  }
 ],
 "metadata": {
  "kernelspec": {
   "display_name": "Python 3",
   "language": "python",
   "name": "python3"
  },
  "language_info": {
   "codemirror_mode": {
    "name": "ipython",
    "version": 3
   },
   "file_extension": ".py",
   "mimetype": "text/x-python",
   "name": "python",
   "nbconvert_exporter": "python",
   "pygments_lexer": "ipython3",
   "version": "3.10.0"
  }
 },
 "nbformat": 4,
 "nbformat_minor": 2
}
