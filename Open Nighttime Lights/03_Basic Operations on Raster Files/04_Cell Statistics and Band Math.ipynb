{
 "cells": [
  {
   "cell_type": "markdown",
   "metadata": {},
   "source": [
    "# Packages"
   ]
  },
  {
   "cell_type": "code",
   "execution_count": 1,
   "metadata": {},
   "outputs": [
    {
     "data": {
      "text/plain": [
       "'c:\\\\Users\\\\gilramolete\\\\OneDrive - UNIONBANK of the Philippines\\\\Documents 1\\\\Open Nighttime Lights'"
      ]
     },
     "execution_count": 1,
     "metadata": {},
     "output_type": "execute_result"
    }
   ],
   "source": [
    "import ee\n",
    "import geemap\n",
    "\n",
    "try:\n",
    "    ee.Initialize()\n",
    "except Exception as e:\n",
    "    ee.Authenticate()\n",
    "    ee.Initialize()\n",
    "\n",
    "import os\n",
    "os.getcwd()"
   ]
  },
  {
   "cell_type": "markdown",
   "metadata": {},
   "source": [
    "# Clip a scene of 2017 VIIRS-DNB for Timor-Leste"
   ]
  },
  {
   "cell_type": "markdown",
   "metadata": {},
   "source": [
    "Previously, we created masks using boolean operations that were applied to individual pixels in the raster file (like cells in a matrix). We’ll expand on the idea of calculating per-pixel and per-band statistics with some simple mathmatical operations.\n",
    "\n",
    "We’re going to do this by cleaning an image by subtracting the mean and dividing by the standard deviation.\n",
    "\n",
    "Let's get the geometry from GEE's Global Administrative Unit Layer and clip a composite of VIIRS-DNB from December 2017 to the geometry."
   ]
  },
  {
   "cell_type": "code",
   "execution_count": 4,
   "metadata": {},
   "outputs": [
    {
     "data": {
      "text/html": [
       "\n",
       "            <style>\n",
       "                .geemap-dark {\n",
       "                    --jp-widgets-color: white;\n",
       "                    --jp-widgets-label-color: white;\n",
       "                    --jp-ui-font-color1: white;\n",
       "                    --jp-layout-color2: #454545;\n",
       "                    background-color: #383838;\n",
       "                }\n",
       "                    \n",
       "                .geemap-dark .jupyter-button {\n",
       "                    --jp-layout-color3: #383838;\n",
       "                }\n",
       "                \n",
       "                .geemap-colab {\n",
       "                    background-color: var(--colab-primary-surface-color, white);\n",
       "                }\n",
       "                    \n",
       "                .geemap-colab .jupyter-button {\n",
       "                    --jp-layout-color3: var(--colab-primary-surface-color, white);\n",
       "                }\n",
       "            </style>\n",
       "            "
      ],
      "text/plain": [
       "<IPython.core.display.HTML object>"
      ]
     },
     "metadata": {},
     "output_type": "display_data"
    },
    {
     "data": {
      "application/vnd.jupyter.widget-view+json": {
       "model_id": "3800c26fcb964449bb95df867907e72a",
       "version_major": 2,
       "version_minor": 0
      },
      "text/plain": [
       "Map(center=[-8.820898657360543, 125.85269954324596], controls=(WidgetControl(options=['position', 'transparent…"
      ]
     },
     "execution_count": 4,
     "metadata": {},
     "output_type": "execute_result"
    }
   ],
   "source": [
    "viirs2017_12 = ee.ImageCollection('NOAA/VIIRS/DNB/MONTHLY_V1/VCMSLCFG')\\\n",
    "            .filterDate('2017-12-01', '2017-12-31')\\\n",
    "            .select('avg_rad')\\\n",
    "            .first()\n",
    "\n",
    "# Get the geometry for Timor-Leste\n",
    "tls = ee.Feature(ee.FeatureCollection('FAO/GAUL/2015/level0')\\\n",
    "            .filter(ee.Filter.eq('ADM0_NAME', 'Timor-Leste'))\\\n",
    "            .first())\\\n",
    "            .geometry()\n",
    "zoom = 8\n",
    "\n",
    "# Clip image to Timor Leste\n",
    "ntl_tls = viirs2017_12.clip(tls)\n",
    "\n",
    "# Initialize map\n",
    "map1 = geemap.Map()\n",
    "map1.centerObject(tls, zoom = zoom)\n",
    "map1.add_basemap('SATELLITE')\n",
    "map1.addLayer(ntl_tls, {}, 'VIIRS-DNB Dec 2017')\n",
    "map1.addLayerControl()\n",
    "map1"
   ]
  },
  {
   "cell_type": "markdown",
   "metadata": {},
   "source": [
    "## A brief overview of scaling"
   ]
  },
  {
   "cell_type": "markdown",
   "metadata": {},
   "source": [
    "Timor-Leste is a developing nation and relative to its neighbor, has lower-levels of light. As such, background light that the VIIRS instrument is sensitive to can influence interpretation. As we look at this scene, you can see the relatively high levels of “noise” present.\n",
    "\n",
    "As discussed earlier, one approach to increase the signal / noise ratio would be to reduce data over time.\n",
    "\n",
    "But if the noise levels persist throughout the time period, that may not reduce the noise much. And what if your analysis is specifically to look at December 2017?\n",
    "\n",
    "Or what if you’re looking to conduct comparative analysis on these data or use them as inputs for a model for statistical inference?\n",
    "\n",
    "In this case, you will very likely want to reduce the noise levels in your data in order for your algorithm to learn your data without over-fitting (in other words, a more sensitive model might “learn” the noise…which is generally bad). Additionally, many loss functions are subject to “exploding” or “vanishing” gradients if your data are not close to zero and scaled."
   ]
  },
  {
   "cell_type": "markdown",
   "metadata": {},
   "source": [
    "## Standardizing the image"
   ]
  },
  {
   "cell_type": "markdown",
   "metadata": {},
   "source": [
    "There are a few ways to scale an image or matrix and prepare it for analysis or modeling and one common one is to standardize the data to be “zero-centered” and have unit variance.\n",
    "\n",
    "This is done simply by subtracting the mean of the entire image from each pixel’s value and then dividing that by the standard deviation of the entire image.\n",
    "\n",
    "$$ X' = \\frac{X - \\mu}{\\sigma} $$\n",
    "\n",
    "We'll conduct this statistical operation on our Timor-Leste scene."
   ]
  },
  {
   "cell_type": "markdown",
   "metadata": {},
   "source": [
    "# Use the `reduceRegion` to get the mean and standard deviation of a region"
   ]
  },
  {
   "cell_type": "markdown",
   "metadata": {},
   "source": [
    "Recall: `reducer` is the function used to reduce data (mean or standard deviation in our case)"
   ]
  },
  {
   "cell_type": "code",
   "execution_count": 5,
   "metadata": {},
   "outputs": [
    {
     "data": {
      "text/html": [
       "\n",
       "            <style>\n",
       "                .geemap-dark {\n",
       "                    --jp-widgets-color: white;\n",
       "                    --jp-widgets-label-color: white;\n",
       "                    --jp-ui-font-color1: white;\n",
       "                    --jp-layout-color2: #454545;\n",
       "                    background-color: #383838;\n",
       "                }\n",
       "                    \n",
       "                .geemap-dark .jupyter-button {\n",
       "                    --jp-layout-color3: #383838;\n",
       "                }\n",
       "                \n",
       "                .geemap-colab {\n",
       "                    background-color: var(--colab-primary-surface-color, white);\n",
       "                }\n",
       "                    \n",
       "                .geemap-colab .jupyter-button {\n",
       "                    --jp-layout-color3: var(--colab-primary-surface-color, white);\n",
       "                }\n",
       "            </style>\n",
       "            "
      ],
      "text/plain": [
       "<IPython.core.display.HTML object>"
      ]
     },
     "metadata": {},
     "output_type": "display_data"
    },
    {
     "name": "stdout",
     "output_type": "stream",
     "text": [
      "The mean avg radiance (per month) for the pixels in our Timor Leste region is 0.2980\n",
      "The standard deviation is: 0.6565\n"
     ]
    }
   ],
   "source": [
    "mu = ntl_tls.reduceRegion(reducer = ee.Reducer.mean())\n",
    "std = ntl_tls.reduceRegion(reducer = ee.Reducer.stdDev())\n",
    "\n",
    "# Cast to native ee numbers using the ee.Number constructor\n",
    "mu = ee.Number(mu.get('avg_rad'))\n",
    "std = ee.Number(std.get('avg_rad'))\n",
    "\n",
    "# Evaluate this to print client size to confirm accuracy\n",
    "print(f'The mean avg radiance (per month) for the pixels in our Timor Leste region is {mu.getInfo():.4f}')\n",
    "print(f'The standard deviation is: {std.getInfo():.4f}')"
   ]
  },
  {
   "cell_type": "markdown",
   "metadata": {},
   "source": [
    "Now we can create a clean layer by subtracting the mean from our initial image, and then dividing it by the standard deviation."
   ]
  },
  {
   "cell_type": "code",
   "execution_count": 6,
   "metadata": {},
   "outputs": [
    {
     "data": {
      "text/html": [
       "\n",
       "            <style>\n",
       "                .geemap-dark {\n",
       "                    --jp-widgets-color: white;\n",
       "                    --jp-widgets-label-color: white;\n",
       "                    --jp-ui-font-color1: white;\n",
       "                    --jp-layout-color2: #454545;\n",
       "                    background-color: #383838;\n",
       "                }\n",
       "                    \n",
       "                .geemap-dark .jupyter-button {\n",
       "                    --jp-layout-color3: #383838;\n",
       "                }\n",
       "                \n",
       "                .geemap-colab {\n",
       "                    background-color: var(--colab-primary-surface-color, white);\n",
       "                }\n",
       "                    \n",
       "                .geemap-colab .jupyter-button {\n",
       "                    --jp-layout-color3: var(--colab-primary-surface-color, white);\n",
       "                }\n",
       "            </style>\n",
       "            "
      ],
      "text/plain": [
       "<IPython.core.display.HTML object>"
      ]
     },
     "metadata": {},
     "output_type": "display_data"
    },
    {
     "data": {
      "application/vnd.jupyter.widget-view+json": {
       "model_id": "3649b91f6c5d4625a0fca3e729d3d514",
       "version_major": 2,
       "version_minor": 0
      },
      "text/plain": [
       "Map(center=[-8.820898657360543, 125.85269954324596], controls=(ZoomControl(options=['position', 'zoom_in_text'…"
      ]
     },
     "execution_count": 6,
     "metadata": {},
     "output_type": "execute_result"
    }
   ],
   "source": [
    "ntl_tls_std = ntl_tls.subtract(mu).divide(std)\n",
    "\n",
    "# Create a split map\n",
    "left_layer = geemap.ee_tile_layer(ntl_tls, {}, 'VIIRS-DNB Dec 2017')\n",
    "right_layer = geemap.ee_tile_layer(ntl_tls_std, {}, 'VIIRS-DNB Dec 2017 (zero-centered and unit variance)')\n",
    "\n",
    "map2 = geemap.Map()\n",
    "map2.centerObject(tls, zoom = zoom)\n",
    "map2.add_basemap('SATELLITE')\n",
    "map2.split_map(left_layer = left_layer, right_layer = right_layer)\n",
    "map2.addLayerControl()\n",
    "map2"
   ]
  },
  {
   "cell_type": "markdown",
   "metadata": {},
   "source": [
    "You can see that although the overal information is reduced, you do have a “cleaner” layer which can aid your analysis or modeling effort.\n",
    "\n",
    "Since we’re dealing with nighttime light images, which are single-band (they’re panchromatic images as noted in the first module), we have not had to deal with band selection much.\n",
    "\n",
    "But one very common math operation with satellite data involves creating normalized differences (such as the Normalized Difference Vegetation Index or NDVI) that, as suggests, gets the difference in value between particular bands (which in this case represent different segments of the visible electromagnetic spectrum)."
   ]
  },
  {
   "cell_type": "markdown",
   "metadata": {},
   "source": []
  }
 ],
 "metadata": {
  "kernelspec": {
   "display_name": "Python 3",
   "language": "python",
   "name": "python3"
  },
  "language_info": {
   "codemirror_mode": {
    "name": "ipython",
    "version": 3
   },
   "file_extension": ".py",
   "mimetype": "text/x-python",
   "name": "python",
   "nbconvert_exporter": "python",
   "pygments_lexer": "ipython3",
   "version": "3.10.0"
  }
 },
 "nbformat": 4,
 "nbformat_minor": 2
}
