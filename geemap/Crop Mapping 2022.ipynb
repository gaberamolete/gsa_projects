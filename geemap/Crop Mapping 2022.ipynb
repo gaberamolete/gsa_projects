{
 "cells": [
  {
   "cell_type": "markdown",
   "metadata": {},
   "source": [
    "# Packages"
   ]
  },
  {
   "cell_type": "code",
   "execution_count": 1,
   "metadata": {},
   "outputs": [],
   "source": [
    "import ee\n",
    "import geemap"
   ]
  },
  {
   "cell_type": "markdown",
   "metadata": {},
   "source": [
    "# ESA WorldCover"
   ]
  },
  {
   "cell_type": "markdown",
   "metadata": {},
   "source": [
    "The ESA WorldCover 10m 2020 product provides a global land cover map for 2020 at 10m resolution based on Sentinel-1 and Sentinel-2 data. The product comes with 11 land cover classes and has been generated in the framework of the ESA WorldCover project, part of the 5th Earth Observation Envelop Programme (EOEP-5) of the SA."
   ]
  },
  {
   "cell_type": "markdown",
   "metadata": {},
   "source": [
    "## Using Web Map Services"
   ]
  },
  {
   "cell_type": "markdown",
   "metadata": {},
   "source": [
    "The product can also be used within other websites or GIS clients by Web Map Services. These provide a direct link to cached images and are the best option if you want to map data and produce cartographic products. They are not suitable for analysis, as the data are represented only as RGB images.\n",
    "- WMTS: https://services.terrascope.be/wmts/v2\n",
    "- WMS: https://services.terrascope.be/wms/v2\n",
    "- Layers: WORLDCOVER_2020_MAP, WORLDCOVER_2020_S2_FCC, WORLDCOVER_2020_S2_TCC"
   ]
  },
  {
   "cell_type": "code",
   "execution_count": 2,
   "metadata": {},
   "outputs": [
    {
     "data": {
      "text/html": [
       "\n",
       "            <style>\n",
       "                .geemap-dark {\n",
       "                    --jp-widgets-color: white;\n",
       "                    --jp-widgets-label-color: white;\n",
       "                    --jp-ui-font-color1: white;\n",
       "                    --jp-layout-color2: #454545;\n",
       "                    background-color: #383838;\n",
       "                }\n",
       "                    \n",
       "                .geemap-dark .jupyter-button {\n",
       "                    --jp-layout-color3: #383838;\n",
       "                }\n",
       "                \n",
       "                .geemap-colab {\n",
       "                    background-color: var(--colab-primary-surface-color, white);\n",
       "                }\n",
       "                    \n",
       "                .geemap-colab .jupyter-button {\n",
       "                    --jp-layout-color3: var(--colab-primary-surface-color, white);\n",
       "                }\n",
       "            </style>\n",
       "            "
      ],
      "text/plain": [
       "<IPython.core.display.HTML object>"
      ]
     },
     "metadata": {},
     "output_type": "display_data"
    },
    {
     "data": {
      "application/vnd.jupyter.widget-view+json": {
       "model_id": "58540996606b443caecee40f023ded2d",
       "version_major": 2,
       "version_minor": 0
      },
      "text/plain": [
       "Map(center=[0, 0], controls=(WidgetControl(options=['position', 'transparent_bg'], widget=SearchDataGUI(childr…"
      ]
     },
     "execution_count": 2,
     "metadata": {},
     "output_type": "execute_result"
    }
   ],
   "source": [
    "Map = geemap.Map()\n",
    "\n",
    "esa_wms = 'https://services.terrascope.be/wms/v2' # WMS url\n",
    "tcc_layer = 'WORLDCOVER_2020_S2_TCC' # True color composite\n",
    "fcc_layer = 'WORLDCOVER_2020_S2_FCC' # False color composite\n",
    "map_layer = 'WORLDCOVER_2020_MAP' # Land cover classification map\n",
    "\n",
    "Map.add_wms_layer(esa_wms, layers = tcc_layer, name = 'True Color', attribution = 'ESA')\n",
    "Map.add_wms_layer(esa_wms, layers = fcc_layer, name = 'False Color', attribution = 'ESA')\n",
    "Map.add_wms_layer(esa_wms, layers = map_layer, name = 'Classificaiton', attribution = 'ESA')\n",
    "\n",
    "Map.add_legend(title = 'ESA Land Cover', builtin_legend = 'ESA_WorldCover')\n",
    "Map"
   ]
  },
  {
   "cell_type": "markdown",
   "metadata": {},
   "source": [
    "## Using Earth Engine"
   ]
  },
  {
   "cell_type": "code",
   "execution_count": 3,
   "metadata": {},
   "outputs": [
    {
     "data": {
      "text/html": [
       "\n",
       "            <style>\n",
       "                .geemap-dark {\n",
       "                    --jp-widgets-color: white;\n",
       "                    --jp-widgets-label-color: white;\n",
       "                    --jp-ui-font-color1: white;\n",
       "                    --jp-layout-color2: #454545;\n",
       "                    background-color: #383838;\n",
       "                }\n",
       "                    \n",
       "                .geemap-dark .jupyter-button {\n",
       "                    --jp-layout-color3: #383838;\n",
       "                }\n",
       "                \n",
       "                .geemap-colab {\n",
       "                    background-color: var(--colab-primary-surface-color, white);\n",
       "                }\n",
       "                    \n",
       "                .geemap-colab .jupyter-button {\n",
       "                    --jp-layout-color3: var(--colab-primary-surface-color, white);\n",
       "                }\n",
       "            </style>\n",
       "            "
      ],
      "text/plain": [
       "<IPython.core.display.HTML object>"
      ]
     },
     "metadata": {},
     "output_type": "display_data"
    },
    {
     "data": {
      "application/vnd.jupyter.widget-view+json": {
       "model_id": "1578a63e80ac42849d242bc9c6d8cf3c",
       "version_major": 2,
       "version_minor": 0
      },
      "text/plain": [
       "Map(center=[0, 0], controls=(WidgetControl(options=['position', 'transparent_bg'], widget=SearchDataGUI(childr…"
      ]
     },
     "execution_count": 3,
     "metadata": {},
     "output_type": "execute_result"
    }
   ],
   "source": [
    "Map = geemap.Map()\n",
    "Map.add_basemap('HYBRID')\n",
    "\n",
    "esa = ee.ImageCollection('ESA/WorldCover/v100').first()\n",
    "esa_vis = {'bands': ['Map']}\n",
    "\n",
    "Map.addLayer(esa, esa_vis, 'ESA Land Cover')\n",
    "Map.add_legend(title = 'ESA Land Cover', builtin_legend = 'ESA_WorldCover')\n",
    "\n",
    "Map"
   ]
  },
  {
   "cell_type": "markdown",
   "metadata": {},
   "source": [
    "## Creating charts"
   ]
  },
  {
   "cell_type": "code",
   "execution_count": 4,
   "metadata": {},
   "outputs": [
    {
     "data": {
      "text/html": [
       "\n",
       "            <style>\n",
       "                .geemap-dark {\n",
       "                    --jp-widgets-color: white;\n",
       "                    --jp-widgets-label-color: white;\n",
       "                    --jp-ui-font-color1: white;\n",
       "                    --jp-layout-color2: #454545;\n",
       "                    background-color: #383838;\n",
       "                }\n",
       "                    \n",
       "                .geemap-dark .jupyter-button {\n",
       "                    --jp-layout-color3: #383838;\n",
       "                }\n",
       "                \n",
       "                .geemap-colab {\n",
       "                    background-color: var(--colab-primary-surface-color, white);\n",
       "                }\n",
       "                    \n",
       "                .geemap-colab .jupyter-button {\n",
       "                    --jp-layout-color3: var(--colab-primary-surface-color, white);\n",
       "                }\n",
       "            </style>\n",
       "            "
      ],
      "text/plain": [
       "<IPython.core.display.HTML object>"
      ]
     },
     "metadata": {},
     "output_type": "display_data"
    },
    {
     "data": {
      "application/vnd.plotly.v1+json": {
       "config": {
        "plotlyServerURL": "https://plot.ly"
       },
       "data": [
        {
         "alignmentgroup": "True",
         "hovertemplate": "Land Cover Type=%{x}<br>Area (km2)=%{y}<extra></extra>",
         "legendgroup": "",
         "marker": {
          "color": "#636efa",
          "pattern": {
           "shape": ""
          }
         },
         "name": "",
         "offsetgroup": "",
         "orientation": "v",
         "showlegend": false,
         "textposition": "auto",
         "type": "bar",
         "x": [
          "10",
          "20",
          "30",
          "40",
          "50",
          "60",
          "70",
          "80",
          "90",
          "95",
          "100"
         ],
         "xaxis": "x",
         "y": [
          61398100,
          12119054,
          44709168.09803922,
          16650058,
          847549,
          28581942.11764706,
          8461224.392156862,
          32195185.870588236,
          4268190.62745098,
          194169,
          7635760.196078431
         ],
         "yaxis": "y"
        }
       ],
       "layout": {
        "barmode": "relative",
        "height": 500,
        "legend": {
         "tracegroupgap": 0
        },
        "margin": {
         "t": 60
        },
        "template": {
         "data": {
          "bar": [
           {
            "error_x": {
             "color": "#2a3f5f"
            },
            "error_y": {
             "color": "#2a3f5f"
            },
            "marker": {
             "line": {
              "color": "#E5ECF6",
              "width": 0.5
             },
             "pattern": {
              "fillmode": "overlay",
              "size": 10,
              "solidity": 0.2
             }
            },
            "type": "bar"
           }
          ],
          "barpolar": [
           {
            "marker": {
             "line": {
              "color": "#E5ECF6",
              "width": 0.5
             },
             "pattern": {
              "fillmode": "overlay",
              "size": 10,
              "solidity": 0.2
             }
            },
            "type": "barpolar"
           }
          ],
          "carpet": [
           {
            "aaxis": {
             "endlinecolor": "#2a3f5f",
             "gridcolor": "white",
             "linecolor": "white",
             "minorgridcolor": "white",
             "startlinecolor": "#2a3f5f"
            },
            "baxis": {
             "endlinecolor": "#2a3f5f",
             "gridcolor": "white",
             "linecolor": "white",
             "minorgridcolor": "white",
             "startlinecolor": "#2a3f5f"
            },
            "type": "carpet"
           }
          ],
          "choropleth": [
           {
            "colorbar": {
             "outlinewidth": 0,
             "ticks": ""
            },
            "type": "choropleth"
           }
          ],
          "contour": [
           {
            "colorbar": {
             "outlinewidth": 0,
             "ticks": ""
            },
            "colorscale": [
             [
              0,
              "#0d0887"
             ],
             [
              0.1111111111111111,
              "#46039f"
             ],
             [
              0.2222222222222222,
              "#7201a8"
             ],
             [
              0.3333333333333333,
              "#9c179e"
             ],
             [
              0.4444444444444444,
              "#bd3786"
             ],
             [
              0.5555555555555556,
              "#d8576b"
             ],
             [
              0.6666666666666666,
              "#ed7953"
             ],
             [
              0.7777777777777778,
              "#fb9f3a"
             ],
             [
              0.8888888888888888,
              "#fdca26"
             ],
             [
              1,
              "#f0f921"
             ]
            ],
            "type": "contour"
           }
          ],
          "contourcarpet": [
           {
            "colorbar": {
             "outlinewidth": 0,
             "ticks": ""
            },
            "type": "contourcarpet"
           }
          ],
          "heatmap": [
           {
            "colorbar": {
             "outlinewidth": 0,
             "ticks": ""
            },
            "colorscale": [
             [
              0,
              "#0d0887"
             ],
             [
              0.1111111111111111,
              "#46039f"
             ],
             [
              0.2222222222222222,
              "#7201a8"
             ],
             [
              0.3333333333333333,
              "#9c179e"
             ],
             [
              0.4444444444444444,
              "#bd3786"
             ],
             [
              0.5555555555555556,
              "#d8576b"
             ],
             [
              0.6666666666666666,
              "#ed7953"
             ],
             [
              0.7777777777777778,
              "#fb9f3a"
             ],
             [
              0.8888888888888888,
              "#fdca26"
             ],
             [
              1,
              "#f0f921"
             ]
            ],
            "type": "heatmap"
           }
          ],
          "heatmapgl": [
           {
            "colorbar": {
             "outlinewidth": 0,
             "ticks": ""
            },
            "colorscale": [
             [
              0,
              "#0d0887"
             ],
             [
              0.1111111111111111,
              "#46039f"
             ],
             [
              0.2222222222222222,
              "#7201a8"
             ],
             [
              0.3333333333333333,
              "#9c179e"
             ],
             [
              0.4444444444444444,
              "#bd3786"
             ],
             [
              0.5555555555555556,
              "#d8576b"
             ],
             [
              0.6666666666666666,
              "#ed7953"
             ],
             [
              0.7777777777777778,
              "#fb9f3a"
             ],
             [
              0.8888888888888888,
              "#fdca26"
             ],
             [
              1,
              "#f0f921"
             ]
            ],
            "type": "heatmapgl"
           }
          ],
          "histogram": [
           {
            "marker": {
             "pattern": {
              "fillmode": "overlay",
              "size": 10,
              "solidity": 0.2
             }
            },
            "type": "histogram"
           }
          ],
          "histogram2d": [
           {
            "colorbar": {
             "outlinewidth": 0,
             "ticks": ""
            },
            "colorscale": [
             [
              0,
              "#0d0887"
             ],
             [
              0.1111111111111111,
              "#46039f"
             ],
             [
              0.2222222222222222,
              "#7201a8"
             ],
             [
              0.3333333333333333,
              "#9c179e"
             ],
             [
              0.4444444444444444,
              "#bd3786"
             ],
             [
              0.5555555555555556,
              "#d8576b"
             ],
             [
              0.6666666666666666,
              "#ed7953"
             ],
             [
              0.7777777777777778,
              "#fb9f3a"
             ],
             [
              0.8888888888888888,
              "#fdca26"
             ],
             [
              1,
              "#f0f921"
             ]
            ],
            "type": "histogram2d"
           }
          ],
          "histogram2dcontour": [
           {
            "colorbar": {
             "outlinewidth": 0,
             "ticks": ""
            },
            "colorscale": [
             [
              0,
              "#0d0887"
             ],
             [
              0.1111111111111111,
              "#46039f"
             ],
             [
              0.2222222222222222,
              "#7201a8"
             ],
             [
              0.3333333333333333,
              "#9c179e"
             ],
             [
              0.4444444444444444,
              "#bd3786"
             ],
             [
              0.5555555555555556,
              "#d8576b"
             ],
             [
              0.6666666666666666,
              "#ed7953"
             ],
             [
              0.7777777777777778,
              "#fb9f3a"
             ],
             [
              0.8888888888888888,
              "#fdca26"
             ],
             [
              1,
              "#f0f921"
             ]
            ],
            "type": "histogram2dcontour"
           }
          ],
          "mesh3d": [
           {
            "colorbar": {
             "outlinewidth": 0,
             "ticks": ""
            },
            "type": "mesh3d"
           }
          ],
          "parcoords": [
           {
            "line": {
             "colorbar": {
              "outlinewidth": 0,
              "ticks": ""
             }
            },
            "type": "parcoords"
           }
          ],
          "pie": [
           {
            "automargin": true,
            "type": "pie"
           }
          ],
          "scatter": [
           {
            "fillpattern": {
             "fillmode": "overlay",
             "size": 10,
             "solidity": 0.2
            },
            "type": "scatter"
           }
          ],
          "scatter3d": [
           {
            "line": {
             "colorbar": {
              "outlinewidth": 0,
              "ticks": ""
             }
            },
            "marker": {
             "colorbar": {
              "outlinewidth": 0,
              "ticks": ""
             }
            },
            "type": "scatter3d"
           }
          ],
          "scattercarpet": [
           {
            "marker": {
             "colorbar": {
              "outlinewidth": 0,
              "ticks": ""
             }
            },
            "type": "scattercarpet"
           }
          ],
          "scattergeo": [
           {
            "marker": {
             "colorbar": {
              "outlinewidth": 0,
              "ticks": ""
             }
            },
            "type": "scattergeo"
           }
          ],
          "scattergl": [
           {
            "marker": {
             "colorbar": {
              "outlinewidth": 0,
              "ticks": ""
             }
            },
            "type": "scattergl"
           }
          ],
          "scattermapbox": [
           {
            "marker": {
             "colorbar": {
              "outlinewidth": 0,
              "ticks": ""
             }
            },
            "type": "scattermapbox"
           }
          ],
          "scatterpolar": [
           {
            "marker": {
             "colorbar": {
              "outlinewidth": 0,
              "ticks": ""
             }
            },
            "type": "scatterpolar"
           }
          ],
          "scatterpolargl": [
           {
            "marker": {
             "colorbar": {
              "outlinewidth": 0,
              "ticks": ""
             }
            },
            "type": "scatterpolargl"
           }
          ],
          "scatterternary": [
           {
            "marker": {
             "colorbar": {
              "outlinewidth": 0,
              "ticks": ""
             }
            },
            "type": "scatterternary"
           }
          ],
          "surface": [
           {
            "colorbar": {
             "outlinewidth": 0,
             "ticks": ""
            },
            "colorscale": [
             [
              0,
              "#0d0887"
             ],
             [
              0.1111111111111111,
              "#46039f"
             ],
             [
              0.2222222222222222,
              "#7201a8"
             ],
             [
              0.3333333333333333,
              "#9c179e"
             ],
             [
              0.4444444444444444,
              "#bd3786"
             ],
             [
              0.5555555555555556,
              "#d8576b"
             ],
             [
              0.6666666666666666,
              "#ed7953"
             ],
             [
              0.7777777777777778,
              "#fb9f3a"
             ],
             [
              0.8888888888888888,
              "#fdca26"
             ],
             [
              1,
              "#f0f921"
             ]
            ],
            "type": "surface"
           }
          ],
          "table": [
           {
            "cells": {
             "fill": {
              "color": "#EBF0F8"
             },
             "line": {
              "color": "white"
             }
            },
            "header": {
             "fill": {
              "color": "#C8D4E3"
             },
             "line": {
              "color": "white"
             }
            },
            "type": "table"
           }
          ]
         },
         "layout": {
          "annotationdefaults": {
           "arrowcolor": "#2a3f5f",
           "arrowhead": 0,
           "arrowwidth": 1
          },
          "autotypenumbers": "strict",
          "coloraxis": {
           "colorbar": {
            "outlinewidth": 0,
            "ticks": ""
           }
          },
          "colorscale": {
           "diverging": [
            [
             0,
             "#8e0152"
            ],
            [
             0.1,
             "#c51b7d"
            ],
            [
             0.2,
             "#de77ae"
            ],
            [
             0.3,
             "#f1b6da"
            ],
            [
             0.4,
             "#fde0ef"
            ],
            [
             0.5,
             "#f7f7f7"
            ],
            [
             0.6,
             "#e6f5d0"
            ],
            [
             0.7,
             "#b8e186"
            ],
            [
             0.8,
             "#7fbc41"
            ],
            [
             0.9,
             "#4d9221"
            ],
            [
             1,
             "#276419"
            ]
           ],
           "sequential": [
            [
             0,
             "#0d0887"
            ],
            [
             0.1111111111111111,
             "#46039f"
            ],
            [
             0.2222222222222222,
             "#7201a8"
            ],
            [
             0.3333333333333333,
             "#9c179e"
            ],
            [
             0.4444444444444444,
             "#bd3786"
            ],
            [
             0.5555555555555556,
             "#d8576b"
            ],
            [
             0.6666666666666666,
             "#ed7953"
            ],
            [
             0.7777777777777778,
             "#fb9f3a"
            ],
            [
             0.8888888888888888,
             "#fdca26"
            ],
            [
             1,
             "#f0f921"
            ]
           ],
           "sequentialminus": [
            [
             0,
             "#0d0887"
            ],
            [
             0.1111111111111111,
             "#46039f"
            ],
            [
             0.2222222222222222,
             "#7201a8"
            ],
            [
             0.3333333333333333,
             "#9c179e"
            ],
            [
             0.4444444444444444,
             "#bd3786"
            ],
            [
             0.5555555555555556,
             "#d8576b"
            ],
            [
             0.6666666666666666,
             "#ed7953"
            ],
            [
             0.7777777777777778,
             "#fb9f3a"
            ],
            [
             0.8888888888888888,
             "#fdca26"
            ],
            [
             1,
             "#f0f921"
            ]
           ]
          },
          "colorway": [
           "#636efa",
           "#EF553B",
           "#00cc96",
           "#ab63fa",
           "#FFA15A",
           "#19d3f3",
           "#FF6692",
           "#B6E880",
           "#FF97FF",
           "#FECB52"
          ],
          "font": {
           "color": "#2a3f5f"
          },
          "geo": {
           "bgcolor": "white",
           "lakecolor": "white",
           "landcolor": "#E5ECF6",
           "showlakes": true,
           "showland": true,
           "subunitcolor": "white"
          },
          "hoverlabel": {
           "align": "left"
          },
          "hovermode": "closest",
          "mapbox": {
           "style": "light"
          },
          "paper_bgcolor": "white",
          "plot_bgcolor": "#E5ECF6",
          "polar": {
           "angularaxis": {
            "gridcolor": "white",
            "linecolor": "white",
            "ticks": ""
           },
           "bgcolor": "#E5ECF6",
           "radialaxis": {
            "gridcolor": "white",
            "linecolor": "white",
            "ticks": ""
           }
          },
          "scene": {
           "xaxis": {
            "backgroundcolor": "#E5ECF6",
            "gridcolor": "white",
            "gridwidth": 2,
            "linecolor": "white",
            "showbackground": true,
            "ticks": "",
            "zerolinecolor": "white"
           },
           "yaxis": {
            "backgroundcolor": "#E5ECF6",
            "gridcolor": "white",
            "gridwidth": 2,
            "linecolor": "white",
            "showbackground": true,
            "ticks": "",
            "zerolinecolor": "white"
           },
           "zaxis": {
            "backgroundcolor": "#E5ECF6",
            "gridcolor": "white",
            "gridwidth": 2,
            "linecolor": "white",
            "showbackground": true,
            "ticks": "",
            "zerolinecolor": "white"
           }
          },
          "shapedefaults": {
           "line": {
            "color": "#2a3f5f"
           }
          },
          "ternary": {
           "aaxis": {
            "gridcolor": "white",
            "linecolor": "white",
            "ticks": ""
           },
           "baxis": {
            "gridcolor": "white",
            "linecolor": "white",
            "ticks": ""
           },
           "bgcolor": "#E5ECF6",
           "caxis": {
            "gridcolor": "white",
            "linecolor": "white",
            "ticks": ""
           }
          },
          "title": {
           "x": 0.05
          },
          "xaxis": {
           "automargin": true,
           "gridcolor": "white",
           "linecolor": "white",
           "ticks": "",
           "title": {
            "standoff": 15
           },
           "zerolinecolor": "white",
           "zerolinewidth": 2
          },
          "yaxis": {
           "automargin": true,
           "gridcolor": "white",
           "linecolor": "white",
           "ticks": "",
           "title": {
            "standoff": 15
           },
           "zerolinecolor": "white",
           "zerolinewidth": 2
          }
         }
        },
        "xaxis": {
         "anchor": "y",
         "domain": [
          0,
          1
         ],
         "title": {
          "text": "Land Cover Type"
         }
        },
        "yaxis": {
         "anchor": "x",
         "domain": [
          0,
          1
         ],
         "title": {
          "text": "Area (km2)"
         }
        }
       }
      }
     },
     "metadata": {},
     "output_type": "display_data"
    }
   ],
   "source": [
    "histogram = geemap.image_histogram(\n",
    "    esa, scale = 1000, x_label = 'Land Cover Type', y_label = 'Area (km2)'\n",
    ")\n",
    "histogram"
   ]
  },
  {
   "cell_type": "code",
   "execution_count": 5,
   "metadata": {},
   "outputs": [
    {
     "data": {
      "text/html": [
       "\n",
       "            <style>\n",
       "                .geemap-dark {\n",
       "                    --jp-widgets-color: white;\n",
       "                    --jp-widgets-label-color: white;\n",
       "                    --jp-ui-font-color1: white;\n",
       "                    --jp-layout-color2: #454545;\n",
       "                    background-color: #383838;\n",
       "                }\n",
       "                    \n",
       "                .geemap-dark .jupyter-button {\n",
       "                    --jp-layout-color3: #383838;\n",
       "                }\n",
       "                \n",
       "                .geemap-colab {\n",
       "                    background-color: var(--colab-primary-surface-color, white);\n",
       "                }\n",
       "                    \n",
       "                .geemap-colab .jupyter-button {\n",
       "                    --jp-layout-color3: var(--colab-primary-surface-color, white);\n",
       "                }\n",
       "            </style>\n",
       "            "
      ],
      "text/plain": [
       "<IPython.core.display.HTML object>"
      ]
     },
     "metadata": {},
     "output_type": "display_data"
    },
    {
     "data": {
      "text/html": [
       "<div>\n",
       "<style scoped>\n",
       "    .dataframe tbody tr th:only-of-type {\n",
       "        vertical-align: middle;\n",
       "    }\n",
       "\n",
       "    .dataframe tbody tr th {\n",
       "        vertical-align: top;\n",
       "    }\n",
       "\n",
       "    .dataframe thead th {\n",
       "        text-align: right;\n",
       "    }\n",
       "</style>\n",
       "<table border=\"1\" class=\"dataframe\">\n",
       "  <thead>\n",
       "    <tr style=\"text-align: right;\">\n",
       "      <th></th>\n",
       "      <th>key</th>\n",
       "      <th>value</th>\n",
       "    </tr>\n",
       "  </thead>\n",
       "  <tbody>\n",
       "    <tr>\n",
       "      <th>0</th>\n",
       "      <td>10</td>\n",
       "      <td>6.139810e+07</td>\n",
       "    </tr>\n",
       "    <tr>\n",
       "      <th>1</th>\n",
       "      <td>20</td>\n",
       "      <td>1.211905e+07</td>\n",
       "    </tr>\n",
       "    <tr>\n",
       "      <th>2</th>\n",
       "      <td>30</td>\n",
       "      <td>4.470917e+07</td>\n",
       "    </tr>\n",
       "    <tr>\n",
       "      <th>3</th>\n",
       "      <td>40</td>\n",
       "      <td>1.665006e+07</td>\n",
       "    </tr>\n",
       "    <tr>\n",
       "      <th>4</th>\n",
       "      <td>50</td>\n",
       "      <td>8.475490e+05</td>\n",
       "    </tr>\n",
       "    <tr>\n",
       "      <th>5</th>\n",
       "      <td>60</td>\n",
       "      <td>2.858194e+07</td>\n",
       "    </tr>\n",
       "    <tr>\n",
       "      <th>6</th>\n",
       "      <td>70</td>\n",
       "      <td>8.461224e+06</td>\n",
       "    </tr>\n",
       "    <tr>\n",
       "      <th>7</th>\n",
       "      <td>80</td>\n",
       "      <td>3.219519e+07</td>\n",
       "    </tr>\n",
       "    <tr>\n",
       "      <th>8</th>\n",
       "      <td>90</td>\n",
       "      <td>4.268191e+06</td>\n",
       "    </tr>\n",
       "    <tr>\n",
       "      <th>9</th>\n",
       "      <td>95</td>\n",
       "      <td>1.941690e+05</td>\n",
       "    </tr>\n",
       "    <tr>\n",
       "      <th>10</th>\n",
       "      <td>100</td>\n",
       "      <td>7.635760e+06</td>\n",
       "    </tr>\n",
       "  </tbody>\n",
       "</table>\n",
       "</div>"
      ],
      "text/plain": [
       "    key         value\n",
       "0    10  6.139810e+07\n",
       "1    20  1.211905e+07\n",
       "2    30  4.470917e+07\n",
       "3    40  1.665006e+07\n",
       "4    50  8.475490e+05\n",
       "5    60  2.858194e+07\n",
       "6    70  8.461224e+06\n",
       "7    80  3.219519e+07\n",
       "8    90  4.268191e+06\n",
       "9    95  1.941690e+05\n",
       "10  100  7.635760e+06"
      ]
     },
     "execution_count": 5,
     "metadata": {},
     "output_type": "execute_result"
    }
   ],
   "source": [
    "df = geemap.image_histogram(esa, scale = 1000, return_df = True)\n",
    "df"
   ]
  },
  {
   "cell_type": "code",
   "execution_count": 6,
   "metadata": {},
   "outputs": [
    {
     "data": {
      "text/html": [
       "\n",
       "            <style>\n",
       "                .geemap-dark {\n",
       "                    --jp-widgets-color: white;\n",
       "                    --jp-widgets-label-color: white;\n",
       "                    --jp-ui-font-color1: white;\n",
       "                    --jp-layout-color2: #454545;\n",
       "                    background-color: #383838;\n",
       "                }\n",
       "                    \n",
       "                .geemap-dark .jupyter-button {\n",
       "                    --jp-layout-color3: #383838;\n",
       "                }\n",
       "                \n",
       "                .geemap-colab {\n",
       "                    background-color: var(--colab-primary-surface-color, white);\n",
       "                }\n",
       "                    \n",
       "                .geemap-colab .jupyter-button {\n",
       "                    --jp-layout-color3: var(--colab-primary-surface-color, white);\n",
       "                }\n",
       "            </style>\n",
       "            "
      ],
      "text/plain": [
       "<IPython.core.display.HTML object>"
      ]
     },
     "metadata": {},
     "output_type": "display_data"
    },
    {
     "data": {
      "text/plain": [
       "['10 Trees',\n",
       " '20 Shrubland',\n",
       " '30 Grassland',\n",
       " '40 Cropland',\n",
       " '50 Built-up',\n",
       " '60 Barren / sparse vegetation',\n",
       " '70 Snow and ice',\n",
       " '80 Open water',\n",
       " '90 Herbaceous wetland',\n",
       " '95 Mangroves',\n",
       " '100 Moss and lichen']"
      ]
     },
     "execution_count": 6,
     "metadata": {},
     "output_type": "execute_result"
    }
   ],
   "source": [
    "esa_labels = list(geemap.builtin_legends['ESA_WorldCover'].keys())\n",
    "esa_labels"
   ]
  },
  {
   "cell_type": "code",
   "execution_count": 7,
   "metadata": {},
   "outputs": [
    {
     "data": {
      "text/html": [
       "\n",
       "            <style>\n",
       "                .geemap-dark {\n",
       "                    --jp-widgets-color: white;\n",
       "                    --jp-widgets-label-color: white;\n",
       "                    --jp-ui-font-color1: white;\n",
       "                    --jp-layout-color2: #454545;\n",
       "                    background-color: #383838;\n",
       "                }\n",
       "                    \n",
       "                .geemap-dark .jupyter-button {\n",
       "                    --jp-layout-color3: #383838;\n",
       "                }\n",
       "                \n",
       "                .geemap-colab {\n",
       "                    background-color: var(--colab-primary-surface-color, white);\n",
       "                }\n",
       "                    \n",
       "                .geemap-colab .jupyter-button {\n",
       "                    --jp-layout-color3: var(--colab-primary-surface-color, white);\n",
       "                }\n",
       "            </style>\n",
       "            "
      ],
      "text/plain": [
       "<IPython.core.display.HTML object>"
      ]
     },
     "metadata": {},
     "output_type": "display_data"
    },
    {
     "data": {
      "text/html": [
       "<div>\n",
       "<style scoped>\n",
       "    .dataframe tbody tr th:only-of-type {\n",
       "        vertical-align: middle;\n",
       "    }\n",
       "\n",
       "    .dataframe tbody tr th {\n",
       "        vertical-align: top;\n",
       "    }\n",
       "\n",
       "    .dataframe thead th {\n",
       "        text-align: right;\n",
       "    }\n",
       "</style>\n",
       "<table border=\"1\" class=\"dataframe\">\n",
       "  <thead>\n",
       "    <tr style=\"text-align: right;\">\n",
       "      <th></th>\n",
       "      <th>key</th>\n",
       "      <th>value</th>\n",
       "      <th>label</th>\n",
       "    </tr>\n",
       "  </thead>\n",
       "  <tbody>\n",
       "    <tr>\n",
       "      <th>0</th>\n",
       "      <td>10</td>\n",
       "      <td>6.139810e+07</td>\n",
       "      <td>10 Trees</td>\n",
       "    </tr>\n",
       "    <tr>\n",
       "      <th>1</th>\n",
       "      <td>20</td>\n",
       "      <td>1.211905e+07</td>\n",
       "      <td>20 Shrubland</td>\n",
       "    </tr>\n",
       "    <tr>\n",
       "      <th>2</th>\n",
       "      <td>30</td>\n",
       "      <td>4.470917e+07</td>\n",
       "      <td>30 Grassland</td>\n",
       "    </tr>\n",
       "    <tr>\n",
       "      <th>3</th>\n",
       "      <td>40</td>\n",
       "      <td>1.665006e+07</td>\n",
       "      <td>40 Cropland</td>\n",
       "    </tr>\n",
       "    <tr>\n",
       "      <th>4</th>\n",
       "      <td>50</td>\n",
       "      <td>8.475490e+05</td>\n",
       "      <td>50 Built-up</td>\n",
       "    </tr>\n",
       "    <tr>\n",
       "      <th>5</th>\n",
       "      <td>60</td>\n",
       "      <td>2.858194e+07</td>\n",
       "      <td>60 Barren / sparse vegetation</td>\n",
       "    </tr>\n",
       "    <tr>\n",
       "      <th>6</th>\n",
       "      <td>70</td>\n",
       "      <td>8.461224e+06</td>\n",
       "      <td>70 Snow and ice</td>\n",
       "    </tr>\n",
       "    <tr>\n",
       "      <th>7</th>\n",
       "      <td>80</td>\n",
       "      <td>3.219519e+07</td>\n",
       "      <td>80 Open water</td>\n",
       "    </tr>\n",
       "    <tr>\n",
       "      <th>8</th>\n",
       "      <td>90</td>\n",
       "      <td>4.268191e+06</td>\n",
       "      <td>90 Herbaceous wetland</td>\n",
       "    </tr>\n",
       "    <tr>\n",
       "      <th>9</th>\n",
       "      <td>95</td>\n",
       "      <td>1.941690e+05</td>\n",
       "      <td>95 Mangroves</td>\n",
       "    </tr>\n",
       "    <tr>\n",
       "      <th>10</th>\n",
       "      <td>100</td>\n",
       "      <td>7.635760e+06</td>\n",
       "      <td>100 Moss and lichen</td>\n",
       "    </tr>\n",
       "  </tbody>\n",
       "</table>\n",
       "</div>"
      ],
      "text/plain": [
       "    key         value                          label\n",
       "0    10  6.139810e+07                       10 Trees\n",
       "1    20  1.211905e+07                   20 Shrubland\n",
       "2    30  4.470917e+07                   30 Grassland\n",
       "3    40  1.665006e+07                    40 Cropland\n",
       "4    50  8.475490e+05                    50 Built-up\n",
       "5    60  2.858194e+07  60 Barren / sparse vegetation\n",
       "6    70  8.461224e+06                70 Snow and ice\n",
       "7    80  3.219519e+07                  80 Open water\n",
       "8    90  4.268191e+06          90 Herbaceous wetland\n",
       "9    95  1.941690e+05                   95 Mangroves\n",
       "10  100  7.635760e+06            100 Moss and lichen"
      ]
     },
     "execution_count": 7,
     "metadata": {},
     "output_type": "execute_result"
    }
   ],
   "source": [
    "df['label'] = esa_labels\n",
    "df"
   ]
  },
  {
   "cell_type": "code",
   "execution_count": 9,
   "metadata": {},
   "outputs": [
    {
     "data": {
      "text/html": [
       "\n",
       "            <style>\n",
       "                .geemap-dark {\n",
       "                    --jp-widgets-color: white;\n",
       "                    --jp-widgets-label-color: white;\n",
       "                    --jp-ui-font-color1: white;\n",
       "                    --jp-layout-color2: #454545;\n",
       "                    background-color: #383838;\n",
       "                }\n",
       "                    \n",
       "                .geemap-dark .jupyter-button {\n",
       "                    --jp-layout-color3: #383838;\n",
       "                }\n",
       "                \n",
       "                .geemap-colab {\n",
       "                    background-color: var(--colab-primary-surface-color, white);\n",
       "                }\n",
       "                    \n",
       "                .geemap-colab .jupyter-button {\n",
       "                    --jp-layout-color3: var(--colab-primary-surface-color, white);\n",
       "                }\n",
       "            </style>\n",
       "            "
      ],
      "text/plain": [
       "<IPython.core.display.HTML object>"
      ]
     },
     "metadata": {},
     "output_type": "display_data"
    },
    {
     "data": {
      "text/plain": [
       "217.060401"
      ]
     },
     "execution_count": 9,
     "metadata": {},
     "output_type": "execute_result"
    }
   ],
   "source": [
    "round(df['value'].sum() / 1e6, 6)"
   ]
  },
  {
   "cell_type": "code",
   "execution_count": 11,
   "metadata": {},
   "outputs": [
    {
     "data": {
      "text/html": [
       "\n",
       "            <style>\n",
       "                .geemap-dark {\n",
       "                    --jp-widgets-color: white;\n",
       "                    --jp-widgets-label-color: white;\n",
       "                    --jp-ui-font-color1: white;\n",
       "                    --jp-layout-color2: #454545;\n",
       "                    background-color: #383838;\n",
       "                }\n",
       "                    \n",
       "                .geemap-dark .jupyter-button {\n",
       "                    --jp-layout-color3: #383838;\n",
       "                }\n",
       "                \n",
       "                .geemap-colab {\n",
       "                    background-color: var(--colab-primary-surface-color, white);\n",
       "                }\n",
       "                    \n",
       "                .geemap-colab .jupyter-button {\n",
       "                    --jp-layout-color3: var(--colab-primary-surface-color, white);\n",
       "                }\n",
       "            </style>\n",
       "            "
      ],
      "text/plain": [
       "<IPython.core.display.HTML object>"
      ]
     },
     "metadata": {},
     "output_type": "display_data"
    },
    {
     "data": {
      "application/vnd.plotly.v1+json": {
       "config": {
        "plotlyServerURL": "https://plot.ly"
       },
       "data": [
        {
         "alignmentgroup": "True",
         "hovertemplate": "Land Cover Type=%{x}<br>Area (km2)=%{y}<extra></extra>",
         "legendgroup": "",
         "marker": {
          "color": "#636efa",
          "pattern": {
           "shape": ""
          }
         },
         "name": "",
         "offsetgroup": "",
         "orientation": "v",
         "showlegend": false,
         "textposition": "auto",
         "type": "bar",
         "x": [
          "10 Trees",
          "30 Grassland",
          "80 Open water",
          "60 Barren / sparse vegetation",
          "40 Cropland",
          "20 Shrubland",
          "70 Snow and ice",
          "100 Moss and lichen",
          "90 Herbaceous wetland",
          "50 Built-up",
          "95 Mangroves"
         ],
         "xaxis": "x",
         "y": [
          61398100,
          44709168.09803922,
          32195185.870588236,
          28581942.11764706,
          16650058,
          12119054,
          8461224.392156862,
          7635760.196078431,
          4268190.62745098,
          847549,
          194169
         ],
         "yaxis": "y"
        }
       ],
       "layout": {
        "barmode": "group",
        "height": 500,
        "legend": {
         "tracegroupgap": 0
        },
        "margin": {
         "t": 60
        },
        "template": {
         "data": {
          "bar": [
           {
            "error_x": {
             "color": "#2a3f5f"
            },
            "error_y": {
             "color": "#2a3f5f"
            },
            "marker": {
             "line": {
              "color": "#E5ECF6",
              "width": 0.5
             },
             "pattern": {
              "fillmode": "overlay",
              "size": 10,
              "solidity": 0.2
             }
            },
            "type": "bar"
           }
          ],
          "barpolar": [
           {
            "marker": {
             "line": {
              "color": "#E5ECF6",
              "width": 0.5
             },
             "pattern": {
              "fillmode": "overlay",
              "size": 10,
              "solidity": 0.2
             }
            },
            "type": "barpolar"
           }
          ],
          "carpet": [
           {
            "aaxis": {
             "endlinecolor": "#2a3f5f",
             "gridcolor": "white",
             "linecolor": "white",
             "minorgridcolor": "white",
             "startlinecolor": "#2a3f5f"
            },
            "baxis": {
             "endlinecolor": "#2a3f5f",
             "gridcolor": "white",
             "linecolor": "white",
             "minorgridcolor": "white",
             "startlinecolor": "#2a3f5f"
            },
            "type": "carpet"
           }
          ],
          "choropleth": [
           {
            "colorbar": {
             "outlinewidth": 0,
             "ticks": ""
            },
            "type": "choropleth"
           }
          ],
          "contour": [
           {
            "colorbar": {
             "outlinewidth": 0,
             "ticks": ""
            },
            "colorscale": [
             [
              0,
              "#0d0887"
             ],
             [
              0.1111111111111111,
              "#46039f"
             ],
             [
              0.2222222222222222,
              "#7201a8"
             ],
             [
              0.3333333333333333,
              "#9c179e"
             ],
             [
              0.4444444444444444,
              "#bd3786"
             ],
             [
              0.5555555555555556,
              "#d8576b"
             ],
             [
              0.6666666666666666,
              "#ed7953"
             ],
             [
              0.7777777777777778,
              "#fb9f3a"
             ],
             [
              0.8888888888888888,
              "#fdca26"
             ],
             [
              1,
              "#f0f921"
             ]
            ],
            "type": "contour"
           }
          ],
          "contourcarpet": [
           {
            "colorbar": {
             "outlinewidth": 0,
             "ticks": ""
            },
            "type": "contourcarpet"
           }
          ],
          "heatmap": [
           {
            "colorbar": {
             "outlinewidth": 0,
             "ticks": ""
            },
            "colorscale": [
             [
              0,
              "#0d0887"
             ],
             [
              0.1111111111111111,
              "#46039f"
             ],
             [
              0.2222222222222222,
              "#7201a8"
             ],
             [
              0.3333333333333333,
              "#9c179e"
             ],
             [
              0.4444444444444444,
              "#bd3786"
             ],
             [
              0.5555555555555556,
              "#d8576b"
             ],
             [
              0.6666666666666666,
              "#ed7953"
             ],
             [
              0.7777777777777778,
              "#fb9f3a"
             ],
             [
              0.8888888888888888,
              "#fdca26"
             ],
             [
              1,
              "#f0f921"
             ]
            ],
            "type": "heatmap"
           }
          ],
          "heatmapgl": [
           {
            "colorbar": {
             "outlinewidth": 0,
             "ticks": ""
            },
            "colorscale": [
             [
              0,
              "#0d0887"
             ],
             [
              0.1111111111111111,
              "#46039f"
             ],
             [
              0.2222222222222222,
              "#7201a8"
             ],
             [
              0.3333333333333333,
              "#9c179e"
             ],
             [
              0.4444444444444444,
              "#bd3786"
             ],
             [
              0.5555555555555556,
              "#d8576b"
             ],
             [
              0.6666666666666666,
              "#ed7953"
             ],
             [
              0.7777777777777778,
              "#fb9f3a"
             ],
             [
              0.8888888888888888,
              "#fdca26"
             ],
             [
              1,
              "#f0f921"
             ]
            ],
            "type": "heatmapgl"
           }
          ],
          "histogram": [
           {
            "marker": {
             "pattern": {
              "fillmode": "overlay",
              "size": 10,
              "solidity": 0.2
             }
            },
            "type": "histogram"
           }
          ],
          "histogram2d": [
           {
            "colorbar": {
             "outlinewidth": 0,
             "ticks": ""
            },
            "colorscale": [
             [
              0,
              "#0d0887"
             ],
             [
              0.1111111111111111,
              "#46039f"
             ],
             [
              0.2222222222222222,
              "#7201a8"
             ],
             [
              0.3333333333333333,
              "#9c179e"
             ],
             [
              0.4444444444444444,
              "#bd3786"
             ],
             [
              0.5555555555555556,
              "#d8576b"
             ],
             [
              0.6666666666666666,
              "#ed7953"
             ],
             [
              0.7777777777777778,
              "#fb9f3a"
             ],
             [
              0.8888888888888888,
              "#fdca26"
             ],
             [
              1,
              "#f0f921"
             ]
            ],
            "type": "histogram2d"
           }
          ],
          "histogram2dcontour": [
           {
            "colorbar": {
             "outlinewidth": 0,
             "ticks": ""
            },
            "colorscale": [
             [
              0,
              "#0d0887"
             ],
             [
              0.1111111111111111,
              "#46039f"
             ],
             [
              0.2222222222222222,
              "#7201a8"
             ],
             [
              0.3333333333333333,
              "#9c179e"
             ],
             [
              0.4444444444444444,
              "#bd3786"
             ],
             [
              0.5555555555555556,
              "#d8576b"
             ],
             [
              0.6666666666666666,
              "#ed7953"
             ],
             [
              0.7777777777777778,
              "#fb9f3a"
             ],
             [
              0.8888888888888888,
              "#fdca26"
             ],
             [
              1,
              "#f0f921"
             ]
            ],
            "type": "histogram2dcontour"
           }
          ],
          "mesh3d": [
           {
            "colorbar": {
             "outlinewidth": 0,
             "ticks": ""
            },
            "type": "mesh3d"
           }
          ],
          "parcoords": [
           {
            "line": {
             "colorbar": {
              "outlinewidth": 0,
              "ticks": ""
             }
            },
            "type": "parcoords"
           }
          ],
          "pie": [
           {
            "automargin": true,
            "type": "pie"
           }
          ],
          "scatter": [
           {
            "fillpattern": {
             "fillmode": "overlay",
             "size": 10,
             "solidity": 0.2
            },
            "type": "scatter"
           }
          ],
          "scatter3d": [
           {
            "line": {
             "colorbar": {
              "outlinewidth": 0,
              "ticks": ""
             }
            },
            "marker": {
             "colorbar": {
              "outlinewidth": 0,
              "ticks": ""
             }
            },
            "type": "scatter3d"
           }
          ],
          "scattercarpet": [
           {
            "marker": {
             "colorbar": {
              "outlinewidth": 0,
              "ticks": ""
             }
            },
            "type": "scattercarpet"
           }
          ],
          "scattergeo": [
           {
            "marker": {
             "colorbar": {
              "outlinewidth": 0,
              "ticks": ""
             }
            },
            "type": "scattergeo"
           }
          ],
          "scattergl": [
           {
            "marker": {
             "colorbar": {
              "outlinewidth": 0,
              "ticks": ""
             }
            },
            "type": "scattergl"
           }
          ],
          "scattermapbox": [
           {
            "marker": {
             "colorbar": {
              "outlinewidth": 0,
              "ticks": ""
             }
            },
            "type": "scattermapbox"
           }
          ],
          "scatterpolar": [
           {
            "marker": {
             "colorbar": {
              "outlinewidth": 0,
              "ticks": ""
             }
            },
            "type": "scatterpolar"
           }
          ],
          "scatterpolargl": [
           {
            "marker": {
             "colorbar": {
              "outlinewidth": 0,
              "ticks": ""
             }
            },
            "type": "scatterpolargl"
           }
          ],
          "scatterternary": [
           {
            "marker": {
             "colorbar": {
              "outlinewidth": 0,
              "ticks": ""
             }
            },
            "type": "scatterternary"
           }
          ],
          "surface": [
           {
            "colorbar": {
             "outlinewidth": 0,
             "ticks": ""
            },
            "colorscale": [
             [
              0,
              "#0d0887"
             ],
             [
              0.1111111111111111,
              "#46039f"
             ],
             [
              0.2222222222222222,
              "#7201a8"
             ],
             [
              0.3333333333333333,
              "#9c179e"
             ],
             [
              0.4444444444444444,
              "#bd3786"
             ],
             [
              0.5555555555555556,
              "#d8576b"
             ],
             [
              0.6666666666666666,
              "#ed7953"
             ],
             [
              0.7777777777777778,
              "#fb9f3a"
             ],
             [
              0.8888888888888888,
              "#fdca26"
             ],
             [
              1,
              "#f0f921"
             ]
            ],
            "type": "surface"
           }
          ],
          "table": [
           {
            "cells": {
             "fill": {
              "color": "#EBF0F8"
             },
             "line": {
              "color": "white"
             }
            },
            "header": {
             "fill": {
              "color": "#C8D4E3"
             },
             "line": {
              "color": "white"
             }
            },
            "type": "table"
           }
          ]
         },
         "layout": {
          "annotationdefaults": {
           "arrowcolor": "#2a3f5f",
           "arrowhead": 0,
           "arrowwidth": 1
          },
          "autotypenumbers": "strict",
          "coloraxis": {
           "colorbar": {
            "outlinewidth": 0,
            "ticks": ""
           }
          },
          "colorscale": {
           "diverging": [
            [
             0,
             "#8e0152"
            ],
            [
             0.1,
             "#c51b7d"
            ],
            [
             0.2,
             "#de77ae"
            ],
            [
             0.3,
             "#f1b6da"
            ],
            [
             0.4,
             "#fde0ef"
            ],
            [
             0.5,
             "#f7f7f7"
            ],
            [
             0.6,
             "#e6f5d0"
            ],
            [
             0.7,
             "#b8e186"
            ],
            [
             0.8,
             "#7fbc41"
            ],
            [
             0.9,
             "#4d9221"
            ],
            [
             1,
             "#276419"
            ]
           ],
           "sequential": [
            [
             0,
             "#0d0887"
            ],
            [
             0.1111111111111111,
             "#46039f"
            ],
            [
             0.2222222222222222,
             "#7201a8"
            ],
            [
             0.3333333333333333,
             "#9c179e"
            ],
            [
             0.4444444444444444,
             "#bd3786"
            ],
            [
             0.5555555555555556,
             "#d8576b"
            ],
            [
             0.6666666666666666,
             "#ed7953"
            ],
            [
             0.7777777777777778,
             "#fb9f3a"
            ],
            [
             0.8888888888888888,
             "#fdca26"
            ],
            [
             1,
             "#f0f921"
            ]
           ],
           "sequentialminus": [
            [
             0,
             "#0d0887"
            ],
            [
             0.1111111111111111,
             "#46039f"
            ],
            [
             0.2222222222222222,
             "#7201a8"
            ],
            [
             0.3333333333333333,
             "#9c179e"
            ],
            [
             0.4444444444444444,
             "#bd3786"
            ],
            [
             0.5555555555555556,
             "#d8576b"
            ],
            [
             0.6666666666666666,
             "#ed7953"
            ],
            [
             0.7777777777777778,
             "#fb9f3a"
            ],
            [
             0.8888888888888888,
             "#fdca26"
            ],
            [
             1,
             "#f0f921"
            ]
           ]
          },
          "colorway": [
           "#636efa",
           "#EF553B",
           "#00cc96",
           "#ab63fa",
           "#FFA15A",
           "#19d3f3",
           "#FF6692",
           "#B6E880",
           "#FF97FF",
           "#FECB52"
          ],
          "font": {
           "color": "#2a3f5f"
          },
          "geo": {
           "bgcolor": "white",
           "lakecolor": "white",
           "landcolor": "#E5ECF6",
           "showlakes": true,
           "showland": true,
           "subunitcolor": "white"
          },
          "hoverlabel": {
           "align": "left"
          },
          "hovermode": "closest",
          "mapbox": {
           "style": "light"
          },
          "paper_bgcolor": "white",
          "plot_bgcolor": "#E5ECF6",
          "polar": {
           "angularaxis": {
            "gridcolor": "white",
            "linecolor": "white",
            "ticks": ""
           },
           "bgcolor": "#E5ECF6",
           "radialaxis": {
            "gridcolor": "white",
            "linecolor": "white",
            "ticks": ""
           }
          },
          "scene": {
           "xaxis": {
            "backgroundcolor": "#E5ECF6",
            "gridcolor": "white",
            "gridwidth": 2,
            "linecolor": "white",
            "showbackground": true,
            "ticks": "",
            "zerolinecolor": "white"
           },
           "yaxis": {
            "backgroundcolor": "#E5ECF6",
            "gridcolor": "white",
            "gridwidth": 2,
            "linecolor": "white",
            "showbackground": true,
            "ticks": "",
            "zerolinecolor": "white"
           },
           "zaxis": {
            "backgroundcolor": "#E5ECF6",
            "gridcolor": "white",
            "gridwidth": 2,
            "linecolor": "white",
            "showbackground": true,
            "ticks": "",
            "zerolinecolor": "white"
           }
          },
          "shapedefaults": {
           "line": {
            "color": "#2a3f5f"
           }
          },
          "ternary": {
           "aaxis": {
            "gridcolor": "white",
            "linecolor": "white",
            "ticks": ""
           },
           "baxis": {
            "gridcolor": "white",
            "linecolor": "white",
            "ticks": ""
           },
           "bgcolor": "#E5ECF6",
           "caxis": {
            "gridcolor": "white",
            "linecolor": "white",
            "ticks": ""
           }
          },
          "title": {
           "x": 0.05
          },
          "xaxis": {
           "automargin": true,
           "gridcolor": "white",
           "linecolor": "white",
           "ticks": "",
           "title": {
            "standoff": 15
           },
           "zerolinecolor": "white",
           "zerolinewidth": 2
          },
          "yaxis": {
           "automargin": true,
           "gridcolor": "white",
           "linecolor": "white",
           "ticks": "",
           "title": {
            "standoff": 15
           },
           "zerolinecolor": "white",
           "zerolinewidth": 2
          }
         }
        },
        "xaxis": {
         "anchor": "y",
         "domain": [
          0,
          1
         ],
         "title": {
          "text": "Land Cover Type"
         }
        },
        "yaxis": {
         "anchor": "x",
         "domain": [
          0,
          1
         ],
         "title": {
          "text": "Area (km2)"
         }
        }
       }
      }
     },
     "metadata": {},
     "output_type": "display_data"
    }
   ],
   "source": [
    "geemap.bar_chart(\n",
    "    df, x = 'label', y = 'value', x_label = 'Land Cover Type', y_label = 'Area (km2)'\n",
    ")"
   ]
  },
  {
   "cell_type": "code",
   "execution_count": 12,
   "metadata": {},
   "outputs": [
    {
     "data": {
      "text/html": [
       "\n",
       "            <style>\n",
       "                .geemap-dark {\n",
       "                    --jp-widgets-color: white;\n",
       "                    --jp-widgets-label-color: white;\n",
       "                    --jp-ui-font-color1: white;\n",
       "                    --jp-layout-color2: #454545;\n",
       "                    background-color: #383838;\n",
       "                }\n",
       "                    \n",
       "                .geemap-dark .jupyter-button {\n",
       "                    --jp-layout-color3: #383838;\n",
       "                }\n",
       "                \n",
       "                .geemap-colab {\n",
       "                    background-color: var(--colab-primary-surface-color, white);\n",
       "                }\n",
       "                    \n",
       "                .geemap-colab .jupyter-button {\n",
       "                    --jp-layout-color3: var(--colab-primary-surface-color, white);\n",
       "                }\n",
       "            </style>\n",
       "            "
      ],
      "text/plain": [
       "<IPython.core.display.HTML object>"
      ]
     },
     "metadata": {},
     "output_type": "display_data"
    },
    {
     "data": {
      "application/vnd.plotly.v1+json": {
       "config": {
        "plotlyServerURL": "https://plot.ly"
       },
       "data": [
        {
         "domain": {
          "x": [
           0,
           1
          ],
          "y": [
           0,
           1
          ]
         },
         "hovertemplate": "label=%{label}<br>value=%{value}<extra></extra>",
         "labels": [
          "10 Trees",
          "30 Grassland",
          "80 Open water",
          "60 Barren / sparse vegetation",
          "40 Cropland",
          "20 Shrubland",
          "70 Snow and ice",
          "100 Moss and lichen",
          "90 Herbaceous wetland",
          "50 Built-up",
          "95 Mangroves"
         ],
         "legendgroup": "",
         "name": "",
         "showlegend": true,
         "type": "pie",
         "values": [
          61398100,
          44709168.09803922,
          32195185.870588236,
          28581942.11764706,
          16650058,
          12119054,
          8461224.392156862,
          7635760.196078431,
          4268190.62745098,
          847549,
          194169
         ]
        }
       ],
       "layout": {
        "height": 500,
        "legend": {
         "tracegroupgap": 0
        },
        "margin": {
         "t": 60
        },
        "template": {
         "data": {
          "bar": [
           {
            "error_x": {
             "color": "#2a3f5f"
            },
            "error_y": {
             "color": "#2a3f5f"
            },
            "marker": {
             "line": {
              "color": "#E5ECF6",
              "width": 0.5
             },
             "pattern": {
              "fillmode": "overlay",
              "size": 10,
              "solidity": 0.2
             }
            },
            "type": "bar"
           }
          ],
          "barpolar": [
           {
            "marker": {
             "line": {
              "color": "#E5ECF6",
              "width": 0.5
             },
             "pattern": {
              "fillmode": "overlay",
              "size": 10,
              "solidity": 0.2
             }
            },
            "type": "barpolar"
           }
          ],
          "carpet": [
           {
            "aaxis": {
             "endlinecolor": "#2a3f5f",
             "gridcolor": "white",
             "linecolor": "white",
             "minorgridcolor": "white",
             "startlinecolor": "#2a3f5f"
            },
            "baxis": {
             "endlinecolor": "#2a3f5f",
             "gridcolor": "white",
             "linecolor": "white",
             "minorgridcolor": "white",
             "startlinecolor": "#2a3f5f"
            },
            "type": "carpet"
           }
          ],
          "choropleth": [
           {
            "colorbar": {
             "outlinewidth": 0,
             "ticks": ""
            },
            "type": "choropleth"
           }
          ],
          "contour": [
           {
            "colorbar": {
             "outlinewidth": 0,
             "ticks": ""
            },
            "colorscale": [
             [
              0,
              "#0d0887"
             ],
             [
              0.1111111111111111,
              "#46039f"
             ],
             [
              0.2222222222222222,
              "#7201a8"
             ],
             [
              0.3333333333333333,
              "#9c179e"
             ],
             [
              0.4444444444444444,
              "#bd3786"
             ],
             [
              0.5555555555555556,
              "#d8576b"
             ],
             [
              0.6666666666666666,
              "#ed7953"
             ],
             [
              0.7777777777777778,
              "#fb9f3a"
             ],
             [
              0.8888888888888888,
              "#fdca26"
             ],
             [
              1,
              "#f0f921"
             ]
            ],
            "type": "contour"
           }
          ],
          "contourcarpet": [
           {
            "colorbar": {
             "outlinewidth": 0,
             "ticks": ""
            },
            "type": "contourcarpet"
           }
          ],
          "heatmap": [
           {
            "colorbar": {
             "outlinewidth": 0,
             "ticks": ""
            },
            "colorscale": [
             [
              0,
              "#0d0887"
             ],
             [
              0.1111111111111111,
              "#46039f"
             ],
             [
              0.2222222222222222,
              "#7201a8"
             ],
             [
              0.3333333333333333,
              "#9c179e"
             ],
             [
              0.4444444444444444,
              "#bd3786"
             ],
             [
              0.5555555555555556,
              "#d8576b"
             ],
             [
              0.6666666666666666,
              "#ed7953"
             ],
             [
              0.7777777777777778,
              "#fb9f3a"
             ],
             [
              0.8888888888888888,
              "#fdca26"
             ],
             [
              1,
              "#f0f921"
             ]
            ],
            "type": "heatmap"
           }
          ],
          "heatmapgl": [
           {
            "colorbar": {
             "outlinewidth": 0,
             "ticks": ""
            },
            "colorscale": [
             [
              0,
              "#0d0887"
             ],
             [
              0.1111111111111111,
              "#46039f"
             ],
             [
              0.2222222222222222,
              "#7201a8"
             ],
             [
              0.3333333333333333,
              "#9c179e"
             ],
             [
              0.4444444444444444,
              "#bd3786"
             ],
             [
              0.5555555555555556,
              "#d8576b"
             ],
             [
              0.6666666666666666,
              "#ed7953"
             ],
             [
              0.7777777777777778,
              "#fb9f3a"
             ],
             [
              0.8888888888888888,
              "#fdca26"
             ],
             [
              1,
              "#f0f921"
             ]
            ],
            "type": "heatmapgl"
           }
          ],
          "histogram": [
           {
            "marker": {
             "pattern": {
              "fillmode": "overlay",
              "size": 10,
              "solidity": 0.2
             }
            },
            "type": "histogram"
           }
          ],
          "histogram2d": [
           {
            "colorbar": {
             "outlinewidth": 0,
             "ticks": ""
            },
            "colorscale": [
             [
              0,
              "#0d0887"
             ],
             [
              0.1111111111111111,
              "#46039f"
             ],
             [
              0.2222222222222222,
              "#7201a8"
             ],
             [
              0.3333333333333333,
              "#9c179e"
             ],
             [
              0.4444444444444444,
              "#bd3786"
             ],
             [
              0.5555555555555556,
              "#d8576b"
             ],
             [
              0.6666666666666666,
              "#ed7953"
             ],
             [
              0.7777777777777778,
              "#fb9f3a"
             ],
             [
              0.8888888888888888,
              "#fdca26"
             ],
             [
              1,
              "#f0f921"
             ]
            ],
            "type": "histogram2d"
           }
          ],
          "histogram2dcontour": [
           {
            "colorbar": {
             "outlinewidth": 0,
             "ticks": ""
            },
            "colorscale": [
             [
              0,
              "#0d0887"
             ],
             [
              0.1111111111111111,
              "#46039f"
             ],
             [
              0.2222222222222222,
              "#7201a8"
             ],
             [
              0.3333333333333333,
              "#9c179e"
             ],
             [
              0.4444444444444444,
              "#bd3786"
             ],
             [
              0.5555555555555556,
              "#d8576b"
             ],
             [
              0.6666666666666666,
              "#ed7953"
             ],
             [
              0.7777777777777778,
              "#fb9f3a"
             ],
             [
              0.8888888888888888,
              "#fdca26"
             ],
             [
              1,
              "#f0f921"
             ]
            ],
            "type": "histogram2dcontour"
           }
          ],
          "mesh3d": [
           {
            "colorbar": {
             "outlinewidth": 0,
             "ticks": ""
            },
            "type": "mesh3d"
           }
          ],
          "parcoords": [
           {
            "line": {
             "colorbar": {
              "outlinewidth": 0,
              "ticks": ""
             }
            },
            "type": "parcoords"
           }
          ],
          "pie": [
           {
            "automargin": true,
            "type": "pie"
           }
          ],
          "scatter": [
           {
            "fillpattern": {
             "fillmode": "overlay",
             "size": 10,
             "solidity": 0.2
            },
            "type": "scatter"
           }
          ],
          "scatter3d": [
           {
            "line": {
             "colorbar": {
              "outlinewidth": 0,
              "ticks": ""
             }
            },
            "marker": {
             "colorbar": {
              "outlinewidth": 0,
              "ticks": ""
             }
            },
            "type": "scatter3d"
           }
          ],
          "scattercarpet": [
           {
            "marker": {
             "colorbar": {
              "outlinewidth": 0,
              "ticks": ""
             }
            },
            "type": "scattercarpet"
           }
          ],
          "scattergeo": [
           {
            "marker": {
             "colorbar": {
              "outlinewidth": 0,
              "ticks": ""
             }
            },
            "type": "scattergeo"
           }
          ],
          "scattergl": [
           {
            "marker": {
             "colorbar": {
              "outlinewidth": 0,
              "ticks": ""
             }
            },
            "type": "scattergl"
           }
          ],
          "scattermapbox": [
           {
            "marker": {
             "colorbar": {
              "outlinewidth": 0,
              "ticks": ""
             }
            },
            "type": "scattermapbox"
           }
          ],
          "scatterpolar": [
           {
            "marker": {
             "colorbar": {
              "outlinewidth": 0,
              "ticks": ""
             }
            },
            "type": "scatterpolar"
           }
          ],
          "scatterpolargl": [
           {
            "marker": {
             "colorbar": {
              "outlinewidth": 0,
              "ticks": ""
             }
            },
            "type": "scatterpolargl"
           }
          ],
          "scatterternary": [
           {
            "marker": {
             "colorbar": {
              "outlinewidth": 0,
              "ticks": ""
             }
            },
            "type": "scatterternary"
           }
          ],
          "surface": [
           {
            "colorbar": {
             "outlinewidth": 0,
             "ticks": ""
            },
            "colorscale": [
             [
              0,
              "#0d0887"
             ],
             [
              0.1111111111111111,
              "#46039f"
             ],
             [
              0.2222222222222222,
              "#7201a8"
             ],
             [
              0.3333333333333333,
              "#9c179e"
             ],
             [
              0.4444444444444444,
              "#bd3786"
             ],
             [
              0.5555555555555556,
              "#d8576b"
             ],
             [
              0.6666666666666666,
              "#ed7953"
             ],
             [
              0.7777777777777778,
              "#fb9f3a"
             ],
             [
              0.8888888888888888,
              "#fdca26"
             ],
             [
              1,
              "#f0f921"
             ]
            ],
            "type": "surface"
           }
          ],
          "table": [
           {
            "cells": {
             "fill": {
              "color": "#EBF0F8"
             },
             "line": {
              "color": "white"
             }
            },
            "header": {
             "fill": {
              "color": "#C8D4E3"
             },
             "line": {
              "color": "white"
             }
            },
            "type": "table"
           }
          ]
         },
         "layout": {
          "annotationdefaults": {
           "arrowcolor": "#2a3f5f",
           "arrowhead": 0,
           "arrowwidth": 1
          },
          "autotypenumbers": "strict",
          "coloraxis": {
           "colorbar": {
            "outlinewidth": 0,
            "ticks": ""
           }
          },
          "colorscale": {
           "diverging": [
            [
             0,
             "#8e0152"
            ],
            [
             0.1,
             "#c51b7d"
            ],
            [
             0.2,
             "#de77ae"
            ],
            [
             0.3,
             "#f1b6da"
            ],
            [
             0.4,
             "#fde0ef"
            ],
            [
             0.5,
             "#f7f7f7"
            ],
            [
             0.6,
             "#e6f5d0"
            ],
            [
             0.7,
             "#b8e186"
            ],
            [
             0.8,
             "#7fbc41"
            ],
            [
             0.9,
             "#4d9221"
            ],
            [
             1,
             "#276419"
            ]
           ],
           "sequential": [
            [
             0,
             "#0d0887"
            ],
            [
             0.1111111111111111,
             "#46039f"
            ],
            [
             0.2222222222222222,
             "#7201a8"
            ],
            [
             0.3333333333333333,
             "#9c179e"
            ],
            [
             0.4444444444444444,
             "#bd3786"
            ],
            [
             0.5555555555555556,
             "#d8576b"
            ],
            [
             0.6666666666666666,
             "#ed7953"
            ],
            [
             0.7777777777777778,
             "#fb9f3a"
            ],
            [
             0.8888888888888888,
             "#fdca26"
            ],
            [
             1,
             "#f0f921"
            ]
           ],
           "sequentialminus": [
            [
             0,
             "#0d0887"
            ],
            [
             0.1111111111111111,
             "#46039f"
            ],
            [
             0.2222222222222222,
             "#7201a8"
            ],
            [
             0.3333333333333333,
             "#9c179e"
            ],
            [
             0.4444444444444444,
             "#bd3786"
            ],
            [
             0.5555555555555556,
             "#d8576b"
            ],
            [
             0.6666666666666666,
             "#ed7953"
            ],
            [
             0.7777777777777778,
             "#fb9f3a"
            ],
            [
             0.8888888888888888,
             "#fdca26"
            ],
            [
             1,
             "#f0f921"
            ]
           ]
          },
          "colorway": [
           "#636efa",
           "#EF553B",
           "#00cc96",
           "#ab63fa",
           "#FFA15A",
           "#19d3f3",
           "#FF6692",
           "#B6E880",
           "#FF97FF",
           "#FECB52"
          ],
          "font": {
           "color": "#2a3f5f"
          },
          "geo": {
           "bgcolor": "white",
           "lakecolor": "white",
           "landcolor": "#E5ECF6",
           "showlakes": true,
           "showland": true,
           "subunitcolor": "white"
          },
          "hoverlabel": {
           "align": "left"
          },
          "hovermode": "closest",
          "mapbox": {
           "style": "light"
          },
          "paper_bgcolor": "white",
          "plot_bgcolor": "#E5ECF6",
          "polar": {
           "angularaxis": {
            "gridcolor": "white",
            "linecolor": "white",
            "ticks": ""
           },
           "bgcolor": "#E5ECF6",
           "radialaxis": {
            "gridcolor": "white",
            "linecolor": "white",
            "ticks": ""
           }
          },
          "scene": {
           "xaxis": {
            "backgroundcolor": "#E5ECF6",
            "gridcolor": "white",
            "gridwidth": 2,
            "linecolor": "white",
            "showbackground": true,
            "ticks": "",
            "zerolinecolor": "white"
           },
           "yaxis": {
            "backgroundcolor": "#E5ECF6",
            "gridcolor": "white",
            "gridwidth": 2,
            "linecolor": "white",
            "showbackground": true,
            "ticks": "",
            "zerolinecolor": "white"
           },
           "zaxis": {
            "backgroundcolor": "#E5ECF6",
            "gridcolor": "white",
            "gridwidth": 2,
            "linecolor": "white",
            "showbackground": true,
            "ticks": "",
            "zerolinecolor": "white"
           }
          },
          "shapedefaults": {
           "line": {
            "color": "#2a3f5f"
           }
          },
          "ternary": {
           "aaxis": {
            "gridcolor": "white",
            "linecolor": "white",
            "ticks": ""
           },
           "baxis": {
            "gridcolor": "white",
            "linecolor": "white",
            "ticks": ""
           },
           "bgcolor": "#E5ECF6",
           "caxis": {
            "gridcolor": "white",
            "linecolor": "white",
            "ticks": ""
           }
          },
          "title": {
           "x": 0.05
          },
          "xaxis": {
           "automargin": true,
           "gridcolor": "white",
           "linecolor": "white",
           "ticks": "",
           "title": {
            "standoff": 15
           },
           "zerolinecolor": "white",
           "zerolinewidth": 2
          },
          "yaxis": {
           "automargin": true,
           "gridcolor": "white",
           "linecolor": "white",
           "ticks": "",
           "title": {
            "standoff": 15
           },
           "zerolinecolor": "white",
           "zerolinewidth": 2
          }
         }
        }
       }
      }
     },
     "metadata": {},
     "output_type": "display_data"
    }
   ],
   "source": [
    "geemap.pie_chart(df, names = 'label', values = 'value', height = 500)"
   ]
  },
  {
   "cell_type": "markdown",
   "metadata": {},
   "source": [
    "## Adding Administrative Boundaries"
   ]
  },
  {
   "cell_type": "code",
   "execution_count": 14,
   "metadata": {},
   "outputs": [
    {
     "data": {
      "text/html": [
       "\n",
       "            <style>\n",
       "                .geemap-dark {\n",
       "                    --jp-widgets-color: white;\n",
       "                    --jp-widgets-label-color: white;\n",
       "                    --jp-ui-font-color1: white;\n",
       "                    --jp-layout-color2: #454545;\n",
       "                    background-color: #383838;\n",
       "                }\n",
       "                    \n",
       "                .geemap-dark .jupyter-button {\n",
       "                    --jp-layout-color3: #383838;\n",
       "                }\n",
       "                \n",
       "                .geemap-colab {\n",
       "                    background-color: var(--colab-primary-surface-color, white);\n",
       "                }\n",
       "                    \n",
       "                .geemap-colab .jupyter-button {\n",
       "                    --jp-layout-color3: var(--colab-primary-surface-color, white);\n",
       "                }\n",
       "            </style>\n",
       "            "
      ],
      "text/plain": [
       "<IPython.core.display.HTML object>"
      ]
     },
     "metadata": {},
     "output_type": "display_data"
    },
    {
     "data": {
      "application/vnd.jupyter.widget-view+json": {
       "model_id": "1578a63e80ac42849d242bc9c6d8cf3c",
       "version_major": 2,
       "version_minor": 0
      },
      "text/plain": [
       "Map(bottom=812.0, center=[0, 0], controls=(WidgetControl(options=['position', 'transparent_bg'], widget=Search…"
      ]
     },
     "execution_count": 14,
     "metadata": {},
     "output_type": "execute_result"
    }
   ],
   "source": [
    "countries = ee.FeatureCollection(geemap.examples.get_ee_path('countries'))\n",
    "africa = countries.filter(ee.Filter.eq('CONTINENT', 'Africa'))\n",
    "style = {'fillColor': '00000000'}\n",
    "a_style = {'fillColor': 'FFFFFF'}\n",
    "\n",
    "Map.addLayer(countries.style(**style), {}, 'Countries', False)\n",
    "Map.addLayer(africa.style(**a_style), {}, 'Africa')\n",
    "Map.centerObject(africa)\n",
    "Map"
   ]
  },
  {
   "cell_type": "markdown",
   "metadata": {},
   "source": [
    "## Extracting Croplands"
   ]
  },
  {
   "cell_type": "code",
   "execution_count": 16,
   "metadata": {},
   "outputs": [
    {
     "data": {
      "text/html": [
       "\n",
       "            <style>\n",
       "                .geemap-dark {\n",
       "                    --jp-widgets-color: white;\n",
       "                    --jp-widgets-label-color: white;\n",
       "                    --jp-ui-font-color1: white;\n",
       "                    --jp-layout-color2: #454545;\n",
       "                    background-color: #383838;\n",
       "                }\n",
       "                    \n",
       "                .geemap-dark .jupyter-button {\n",
       "                    --jp-layout-color3: #383838;\n",
       "                }\n",
       "                \n",
       "                .geemap-colab {\n",
       "                    background-color: var(--colab-primary-surface-color, white);\n",
       "                }\n",
       "                    \n",
       "                .geemap-colab .jupyter-button {\n",
       "                    --jp-layout-color3: var(--colab-primary-surface-color, white);\n",
       "                }\n",
       "            </style>\n",
       "            "
      ],
      "text/plain": [
       "<IPython.core.display.HTML object>"
      ]
     },
     "metadata": {},
     "output_type": "display_data"
    }
   ],
   "source": [
    "cropland = esa.eq(40).clipToCollection(africa).selfMask()\n",
    "\n",
    "Map.addLayer(cropland, {'palette': ['f096ff']}, 'Cropland')\n",
    "Map.show_layer(name = 'ESA Land Cover', show = False)"
   ]
  },
  {
   "cell_type": "markdown",
   "metadata": {},
   "source": [
    "## Zonal Statistics"
   ]
  },
  {
   "cell_type": "code",
   "execution_count": 17,
   "metadata": {},
   "outputs": [
    {
     "data": {
      "text/html": [
       "\n",
       "            <style>\n",
       "                .geemap-dark {\n",
       "                    --jp-widgets-color: white;\n",
       "                    --jp-widgets-label-color: white;\n",
       "                    --jp-ui-font-color1: white;\n",
       "                    --jp-layout-color2: #454545;\n",
       "                    background-color: #383838;\n",
       "                }\n",
       "                    \n",
       "                .geemap-dark .jupyter-button {\n",
       "                    --jp-layout-color3: #383838;\n",
       "                }\n",
       "                \n",
       "                .geemap-colab {\n",
       "                    background-color: var(--colab-primary-surface-color, white);\n",
       "                }\n",
       "                    \n",
       "                .geemap-colab .jupyter-button {\n",
       "                    --jp-layout-color3: var(--colab-primary-surface-color, white);\n",
       "                }\n",
       "            </style>\n",
       "            "
      ],
      "text/plain": [
       "<IPython.core.display.HTML object>"
      ]
     },
     "metadata": {},
     "output_type": "display_data"
    },
    {
     "name": "stdout",
     "output_type": "stream",
     "text": [
      "Computing statistics ...\n",
      "Generating URL ...\n",
      "Downloading data from https://earthengine.googleapis.com/v1/projects/earthengine-legacy/tables/4f49468f82b6a64480c8fca9fb4ec189-a4315243280c366f6e55885215801c10:getFeatures\n",
      "Please wait ...\n",
      "Data downloaded to c:\\Users\\gilramolete\\OneDrive - UNIONBANK of the Philippines\\Documents 1\\geemap\\esa_cropland.csv\n"
     ]
    }
   ],
   "source": [
    "geemap.zonal_stats(\n",
    "    cropland, africa, 'data/esa_cropland.csv', stat_type = 'SUM', scale = 100\n",
    ")"
   ]
  },
  {
   "cell_type": "code",
   "execution_count": 18,
   "metadata": {},
   "outputs": [
    {
     "data": {
      "text/html": [
       "\n",
       "            <style>\n",
       "                .geemap-dark {\n",
       "                    --jp-widgets-color: white;\n",
       "                    --jp-widgets-label-color: white;\n",
       "                    --jp-ui-font-color1: white;\n",
       "                    --jp-layout-color2: #454545;\n",
       "                    background-color: #383838;\n",
       "                }\n",
       "                    \n",
       "                .geemap-dark .jupyter-button {\n",
       "                    --jp-layout-color3: #383838;\n",
       "                }\n",
       "                \n",
       "                .geemap-colab {\n",
       "                    background-color: var(--colab-primary-surface-color, white);\n",
       "                }\n",
       "                    \n",
       "                .geemap-colab .jupyter-button {\n",
       "                    --jp-layout-color3: var(--colab-primary-surface-color, white);\n",
       "                }\n",
       "            </style>\n",
       "            "
      ],
      "text/plain": [
       "<IPython.core.display.HTML object>"
      ]
     },
     "metadata": {},
     "output_type": "display_data"
    },
    {
     "data": {
      "text/html": [
       "<div>\n",
       "<style scoped>\n",
       "    .dataframe tbody tr th:only-of-type {\n",
       "        vertical-align: middle;\n",
       "    }\n",
       "\n",
       "    .dataframe tbody tr th {\n",
       "        vertical-align: top;\n",
       "    }\n",
       "\n",
       "    .dataframe thead th {\n",
       "        text-align: right;\n",
       "    }\n",
       "</style>\n",
       "<table border=\"1\" class=\"dataframe\">\n",
       "  <thead>\n",
       "    <tr style=\"text-align: right;\">\n",
       "      <th></th>\n",
       "      <th>sum</th>\n",
       "      <th>GDP_MD_EST</th>\n",
       "      <th>ISO_A2</th>\n",
       "      <th>POP_RANK</th>\n",
       "      <th>ISO_A3</th>\n",
       "      <th>CONTINENT</th>\n",
       "      <th>POP_EST</th>\n",
       "      <th>INCOME_GRP</th>\n",
       "      <th>SUBREGION</th>\n",
       "      <th>system:index</th>\n",
       "      <th>NAME</th>\n",
       "    </tr>\n",
       "  </thead>\n",
       "  <tbody>\n",
       "    <tr>\n",
       "      <th>0</th>\n",
       "      <td>8.323261e+05</td>\n",
       "      <td>66010.0</td>\n",
       "      <td>CD</td>\n",
       "      <td>16</td>\n",
       "      <td>COD</td>\n",
       "      <td>Africa</td>\n",
       "      <td>83301151</td>\n",
       "      <td>5. Low income</td>\n",
       "      <td>Middle Africa</td>\n",
       "      <td>0000000000000000000b</td>\n",
       "      <td>Dem. Rep. Congo</td>\n",
       "    </tr>\n",
       "    <tr>\n",
       "      <th>1</th>\n",
       "      <td>4.210671e+06</td>\n",
       "      <td>30590.0</td>\n",
       "      <td>TD</td>\n",
       "      <td>14</td>\n",
       "      <td>TCD</td>\n",
       "      <td>Africa</td>\n",
       "      <td>12075985</td>\n",
       "      <td>5. Low income</td>\n",
       "      <td>Middle Africa</td>\n",
       "      <td>0000000000000000000f</td>\n",
       "      <td>Chad</td>\n",
       "    </tr>\n",
       "    <tr>\n",
       "      <th>2</th>\n",
       "      <td>5.785698e+04</td>\n",
       "      <td>3206.0</td>\n",
       "      <td>CF</td>\n",
       "      <td>13</td>\n",
       "      <td>CAF</td>\n",
       "      <td>Africa</td>\n",
       "      <td>5625118</td>\n",
       "      <td>5. Low income</td>\n",
       "      <td>Middle Africa</td>\n",
       "      <td>00000000000000000042</td>\n",
       "      <td>Central African Rep.</td>\n",
       "    </tr>\n",
       "    <tr>\n",
       "      <th>3</th>\n",
       "      <td>1.644275e+07</td>\n",
       "      <td>150600.0</td>\n",
       "      <td>TZ</td>\n",
       "      <td>16</td>\n",
       "      <td>TZA</td>\n",
       "      <td>Africa</td>\n",
       "      <td>53950935</td>\n",
       "      <td>5. Low income</td>\n",
       "      <td>Eastern Africa</td>\n",
       "      <td>00000000000000000001</td>\n",
       "      <td>Tanzania</td>\n",
       "    </tr>\n",
       "    <tr>\n",
       "      <th>4</th>\n",
       "      <td>8.592826e+05</td>\n",
       "      <td>4719.0</td>\n",
       "      <td>SO</td>\n",
       "      <td>13</td>\n",
       "      <td>SOM</td>\n",
       "      <td>Africa</td>\n",
       "      <td>7531386</td>\n",
       "      <td>5. Low income</td>\n",
       "      <td>Eastern Africa</td>\n",
       "      <td>0000000000000000000c</td>\n",
       "      <td>Somalia</td>\n",
       "    </tr>\n",
       "    <tr>\n",
       "      <th>5</th>\n",
       "      <td>2.085683e+06</td>\n",
       "      <td>152700.0</td>\n",
       "      <td>KE</td>\n",
       "      <td>15</td>\n",
       "      <td>KEN</td>\n",
       "      <td>Africa</td>\n",
       "      <td>47615739</td>\n",
       "      <td>5. Low income</td>\n",
       "      <td>Eastern Africa</td>\n",
       "      <td>0000000000000000000d</td>\n",
       "      <td>Kenya</td>\n",
       "    </tr>\n",
       "    <tr>\n",
       "      <th>6</th>\n",
       "      <td>4.687889e+06</td>\n",
       "      <td>28330.0</td>\n",
       "      <td>ZW</td>\n",
       "      <td>14</td>\n",
       "      <td>ZWE</td>\n",
       "      <td>Africa</td>\n",
       "      <td>13805084</td>\n",
       "      <td>5. Low income</td>\n",
       "      <td>Eastern Africa</td>\n",
       "      <td>00000000000000000030</td>\n",
       "      <td>Zimbabwe</td>\n",
       "    </tr>\n",
       "    <tr>\n",
       "      <th>7</th>\n",
       "      <td>3.876922e+06</td>\n",
       "      <td>21200.0</td>\n",
       "      <td>MW</td>\n",
       "      <td>14</td>\n",
       "      <td>MWI</td>\n",
       "      <td>Africa</td>\n",
       "      <td>19196246</td>\n",
       "      <td>5. Low income</td>\n",
       "      <td>Eastern Africa</td>\n",
       "      <td>00000000000000000047</td>\n",
       "      <td>Malawi</td>\n",
       "    </tr>\n",
       "    <tr>\n",
       "      <th>8</th>\n",
       "      <td>4.725092e+06</td>\n",
       "      <td>35010.0</td>\n",
       "      <td>MZ</td>\n",
       "      <td>15</td>\n",
       "      <td>MOZ</td>\n",
       "      <td>Africa</td>\n",
       "      <td>26573706</td>\n",
       "      <td>5. Low income</td>\n",
       "      <td>Eastern Africa</td>\n",
       "      <td>00000000000000000048</td>\n",
       "      <td>Mozambique</td>\n",
       "    </tr>\n",
       "    <tr>\n",
       "      <th>9</th>\n",
       "      <td>8.240984e+05</td>\n",
       "      <td>7892.0</td>\n",
       "      <td>BI</td>\n",
       "      <td>14</td>\n",
       "      <td>BDI</td>\n",
       "      <td>Africa</td>\n",
       "      <td>11466756</td>\n",
       "      <td>5. Low income</td>\n",
       "      <td>Eastern Africa</td>\n",
       "      <td>0000000000000000004b</td>\n",
       "      <td>Burundi</td>\n",
       "    </tr>\n",
       "    <tr>\n",
       "      <th>10</th>\n",
       "      <td>3.224220e+06</td>\n",
       "      <td>36860.0</td>\n",
       "      <td>MG</td>\n",
       "      <td>15</td>\n",
       "      <td>MDG</td>\n",
       "      <td>Africa</td>\n",
       "      <td>25054161</td>\n",
       "      <td>5. Low income</td>\n",
       "      <td>Eastern Africa</td>\n",
       "      <td>0000000000000000004e</td>\n",
       "      <td>Madagascar</td>\n",
       "    </tr>\n",
       "    <tr>\n",
       "      <th>11</th>\n",
       "      <td>6.362743e+05</td>\n",
       "      <td>9169.0</td>\n",
       "      <td>ER</td>\n",
       "      <td>13</td>\n",
       "      <td>ERI</td>\n",
       "      <td>Africa</td>\n",
       "      <td>5918919</td>\n",
       "      <td>5. Low income</td>\n",
       "      <td>Eastern Africa</td>\n",
       "      <td>00000000000000000099</td>\n",
       "      <td>Eritrea</td>\n",
       "    </tr>\n",
       "    <tr>\n",
       "      <th>12</th>\n",
       "      <td>1.985355e+07</td>\n",
       "      <td>174700.0</td>\n",
       "      <td>ET</td>\n",
       "      <td>17</td>\n",
       "      <td>ETH</td>\n",
       "      <td>Africa</td>\n",
       "      <td>105350020</td>\n",
       "      <td>5. Low income</td>\n",
       "      <td>Eastern Africa</td>\n",
       "      <td>000000000000000000a3</td>\n",
       "      <td>Ethiopia</td>\n",
       "    </tr>\n",
       "    <tr>\n",
       "      <th>13</th>\n",
       "      <td>1.500979e+06</td>\n",
       "      <td>84930.0</td>\n",
       "      <td>UG</td>\n",
       "      <td>15</td>\n",
       "      <td>UGA</td>\n",
       "      <td>Africa</td>\n",
       "      <td>39570125</td>\n",
       "      <td>5. Low income</td>\n",
       "      <td>Eastern Africa</td>\n",
       "      <td>000000000000000000a6</td>\n",
       "      <td>Uganda</td>\n",
       "    </tr>\n",
       "    <tr>\n",
       "      <th>14</th>\n",
       "      <td>8.000828e+05</td>\n",
       "      <td>21970.0</td>\n",
       "      <td>RW</td>\n",
       "      <td>14</td>\n",
       "      <td>RWA</td>\n",
       "      <td>Africa</td>\n",
       "      <td>11901484</td>\n",
       "      <td>5. Low income</td>\n",
       "      <td>Eastern Africa</td>\n",
       "      <td>000000000000000000a7</td>\n",
       "      <td>Rwanda</td>\n",
       "    </tr>\n",
       "    <tr>\n",
       "      <th>15</th>\n",
       "      <td>1.969216e+05</td>\n",
       "      <td>20880.0</td>\n",
       "      <td>SS</td>\n",
       "      <td>14</td>\n",
       "      <td>SSD</td>\n",
       "      <td>Africa</td>\n",
       "      <td>13026129</td>\n",
       "      <td>5. Low income</td>\n",
       "      <td>Eastern Africa</td>\n",
       "      <td>000000000000000000ae</td>\n",
       "      <td>S. Sudan</td>\n",
       "    </tr>\n",
       "    <tr>\n",
       "      <th>16</th>\n",
       "      <td>8.491127e+06</td>\n",
       "      <td>38090.0</td>\n",
       "      <td>ML</td>\n",
       "      <td>14</td>\n",
       "      <td>MLI</td>\n",
       "      <td>Africa</td>\n",
       "      <td>17885245</td>\n",
       "      <td>5. Low income</td>\n",
       "      <td>Western Africa</td>\n",
       "      <td>00000000000000000034</td>\n",
       "      <td>Mali</td>\n",
       "    </tr>\n",
       "    <tr>\n",
       "      <th>17</th>\n",
       "      <td>3.577109e+05</td>\n",
       "      <td>16710.0</td>\n",
       "      <td>MR</td>\n",
       "      <td>12</td>\n",
       "      <td>MRT</td>\n",
       "      <td>Africa</td>\n",
       "      <td>3758571</td>\n",
       "      <td>5. Low income</td>\n",
       "      <td>Western Africa</td>\n",
       "      <td>00000000000000000035</td>\n",
       "      <td>Mauritania</td>\n",
       "    </tr>\n",
       "    <tr>\n",
       "      <th>18</th>\n",
       "      <td>2.806524e+06</td>\n",
       "      <td>24310.0</td>\n",
       "      <td>BJ</td>\n",
       "      <td>14</td>\n",
       "      <td>BEN</td>\n",
       "      <td>Africa</td>\n",
       "      <td>11038805</td>\n",
       "      <td>5. Low income</td>\n",
       "      <td>Western Africa</td>\n",
       "      <td>00000000000000000036</td>\n",
       "      <td>Benin</td>\n",
       "    </tr>\n",
       "    <tr>\n",
       "      <th>19</th>\n",
       "      <td>6.769814e+06</td>\n",
       "      <td>20150.0</td>\n",
       "      <td>NE</td>\n",
       "      <td>14</td>\n",
       "      <td>NER</td>\n",
       "      <td>Africa</td>\n",
       "      <td>19245344</td>\n",
       "      <td>5. Low income</td>\n",
       "      <td>Western Africa</td>\n",
       "      <td>00000000000000000037</td>\n",
       "      <td>Niger</td>\n",
       "    </tr>\n",
       "    <tr>\n",
       "      <th>20</th>\n",
       "      <td>1.647687e+06</td>\n",
       "      <td>11610.0</td>\n",
       "      <td>TG</td>\n",
       "      <td>13</td>\n",
       "      <td>TGO</td>\n",
       "      <td>Africa</td>\n",
       "      <td>7965055</td>\n",
       "      <td>5. Low income</td>\n",
       "      <td>Western Africa</td>\n",
       "      <td>0000000000000000003a</td>\n",
       "      <td>Togo</td>\n",
       "    </tr>\n",
       "    <tr>\n",
       "      <th>21</th>\n",
       "      <td>5.196915e+05</td>\n",
       "      <td>16080.0</td>\n",
       "      <td>GN</td>\n",
       "      <td>14</td>\n",
       "      <td>GIN</td>\n",
       "      <td>Africa</td>\n",
       "      <td>12413867</td>\n",
       "      <td>5. Low income</td>\n",
       "      <td>Western Africa</td>\n",
       "      <td>0000000000000000003d</td>\n",
       "      <td>Guinea</td>\n",
       "    </tr>\n",
       "    <tr>\n",
       "      <th>22</th>\n",
       "      <td>9.766336e+04</td>\n",
       "      <td>2851.0</td>\n",
       "      <td>GW</td>\n",
       "      <td>12</td>\n",
       "      <td>GNB</td>\n",
       "      <td>Africa</td>\n",
       "      <td>1792338</td>\n",
       "      <td>5. Low income</td>\n",
       "      <td>Western Africa</td>\n",
       "      <td>0000000000000000003e</td>\n",
       "      <td>Guinea-Bissau</td>\n",
       "    </tr>\n",
       "    <tr>\n",
       "      <th>23</th>\n",
       "      <td>7.769451e+02</td>\n",
       "      <td>3881.0</td>\n",
       "      <td>LR</td>\n",
       "      <td>12</td>\n",
       "      <td>LBR</td>\n",
       "      <td>Africa</td>\n",
       "      <td>4689021</td>\n",
       "      <td>5. Low income</td>\n",
       "      <td>Western Africa</td>\n",
       "      <td>0000000000000000003f</td>\n",
       "      <td>Liberia</td>\n",
       "    </tr>\n",
       "    <tr>\n",
       "      <th>24</th>\n",
       "      <td>3.040452e+04</td>\n",
       "      <td>10640.0</td>\n",
       "      <td>SL</td>\n",
       "      <td>13</td>\n",
       "      <td>SLE</td>\n",
       "      <td>Africa</td>\n",
       "      <td>6163195</td>\n",
       "      <td>5. Low income</td>\n",
       "      <td>Western Africa</td>\n",
       "      <td>00000000000000000040</td>\n",
       "      <td>Sierra Leone</td>\n",
       "    </tr>\n",
       "    <tr>\n",
       "      <th>25</th>\n",
       "      <td>7.626400e+06</td>\n",
       "      <td>32990.0</td>\n",
       "      <td>BF</td>\n",
       "      <td>15</td>\n",
       "      <td>BFA</td>\n",
       "      <td>Africa</td>\n",
       "      <td>20107509</td>\n",
       "      <td>5. Low income</td>\n",
       "      <td>Western Africa</td>\n",
       "      <td>00000000000000000041</td>\n",
       "      <td>Burkina Faso</td>\n",
       "    </tr>\n",
       "    <tr>\n",
       "      <th>26</th>\n",
       "      <td>4.115752e+05</td>\n",
       "      <td>3387.0</td>\n",
       "      <td>GM</td>\n",
       "      <td>12</td>\n",
       "      <td>GMB</td>\n",
       "      <td>Africa</td>\n",
       "      <td>2051363</td>\n",
       "      <td>5. Low income</td>\n",
       "      <td>Western Africa</td>\n",
       "      <td>00000000000000000050</td>\n",
       "      <td>Gambia</td>\n",
       "    </tr>\n",
       "    <tr>\n",
       "      <th>27</th>\n",
       "      <td>0.000000e+00</td>\n",
       "      <td>906.5</td>\n",
       "      <td>EH</td>\n",
       "      <td>11</td>\n",
       "      <td>ESH</td>\n",
       "      <td>Africa</td>\n",
       "      <td>603253</td>\n",
       "      <td>5. Low income</td>\n",
       "      <td>Northern Africa</td>\n",
       "      <td>00000000000000000002</td>\n",
       "      <td>W. Sahara</td>\n",
       "    </tr>\n",
       "    <tr>\n",
       "      <th>28</th>\n",
       "      <td>2.554188e+03</td>\n",
       "      <td>35980.0</td>\n",
       "      <td>GA</td>\n",
       "      <td>12</td>\n",
       "      <td>GAB</td>\n",
       "      <td>Africa</td>\n",
       "      <td>1772255</td>\n",
       "      <td>3. Upper middle income</td>\n",
       "      <td>Middle Africa</td>\n",
       "      <td>00000000000000000044</td>\n",
       "      <td>Gabon</td>\n",
       "    </tr>\n",
       "    <tr>\n",
       "      <th>29</th>\n",
       "      <td>3.626348e+06</td>\n",
       "      <td>189000.0</td>\n",
       "      <td>AO</td>\n",
       "      <td>15</td>\n",
       "      <td>AGO</td>\n",
       "      <td>Africa</td>\n",
       "      <td>29310273</td>\n",
       "      <td>3. Upper middle income</td>\n",
       "      <td>Middle Africa</td>\n",
       "      <td>0000000000000000004a</td>\n",
       "      <td>Angola</td>\n",
       "    </tr>\n",
       "    <tr>\n",
       "      <th>30</th>\n",
       "      <td>3.251320e+06</td>\n",
       "      <td>130800.0</td>\n",
       "      <td>TN</td>\n",
       "      <td>14</td>\n",
       "      <td>TUN</td>\n",
       "      <td>Africa</td>\n",
       "      <td>11403800</td>\n",
       "      <td>3. Upper middle income</td>\n",
       "      <td>Northern Africa</td>\n",
       "      <td>00000000000000000051</td>\n",
       "      <td>Tunisia</td>\n",
       "    </tr>\n",
       "    <tr>\n",
       "      <th>31</th>\n",
       "      <td>8.119361e+06</td>\n",
       "      <td>609400.0</td>\n",
       "      <td>DZ</td>\n",
       "      <td>15</td>\n",
       "      <td>DZA</td>\n",
       "      <td>Africa</td>\n",
       "      <td>40969443</td>\n",
       "      <td>3. Upper middle income</td>\n",
       "      <td>Northern Africa</td>\n",
       "      <td>00000000000000000052</td>\n",
       "      <td>Algeria</td>\n",
       "    </tr>\n",
       "    <tr>\n",
       "      <th>32</th>\n",
       "      <td>9.698637e+05</td>\n",
       "      <td>90890.0</td>\n",
       "      <td>LY</td>\n",
       "      <td>13</td>\n",
       "      <td>LBY</td>\n",
       "      <td>Africa</td>\n",
       "      <td>6653210</td>\n",
       "      <td>3. Upper middle income</td>\n",
       "      <td>Northern Africa</td>\n",
       "      <td>000000000000000000a2</td>\n",
       "      <td>Libya</td>\n",
       "    </tr>\n",
       "    <tr>\n",
       "      <th>33</th>\n",
       "      <td>1.230886e+07</td>\n",
       "      <td>739100.0</td>\n",
       "      <td>ZA</td>\n",
       "      <td>16</td>\n",
       "      <td>ZAF</td>\n",
       "      <td>Africa</td>\n",
       "      <td>54841552</td>\n",
       "      <td>3. Upper middle income</td>\n",
       "      <td>Southern Africa</td>\n",
       "      <td>00000000000000000019</td>\n",
       "      <td>South Africa</td>\n",
       "    </tr>\n",
       "    <tr>\n",
       "      <th>34</th>\n",
       "      <td>5.689907e+05</td>\n",
       "      <td>35900.0</td>\n",
       "      <td>BW</td>\n",
       "      <td>12</td>\n",
       "      <td>BWA</td>\n",
       "      <td>Africa</td>\n",
       "      <td>2214858</td>\n",
       "      <td>3. Upper middle income</td>\n",
       "      <td>Southern Africa</td>\n",
       "      <td>00000000000000000031</td>\n",
       "      <td>Botswana</td>\n",
       "    </tr>\n",
       "    <tr>\n",
       "      <th>35</th>\n",
       "      <td>3.703966e+05</td>\n",
       "      <td>25990.0</td>\n",
       "      <td>NaN</td>\n",
       "      <td>12</td>\n",
       "      <td>NAM</td>\n",
       "      <td>Africa</td>\n",
       "      <td>2484780</td>\n",
       "      <td>3. Upper middle income</td>\n",
       "      <td>Southern Africa</td>\n",
       "      <td>00000000000000000032</td>\n",
       "      <td>Namibia</td>\n",
       "    </tr>\n",
       "    <tr>\n",
       "      <th>36</th>\n",
       "      <td>2.141102e+06</td>\n",
       "      <td>77240.0</td>\n",
       "      <td>CM</td>\n",
       "      <td>15</td>\n",
       "      <td>CMR</td>\n",
       "      <td>Africa</td>\n",
       "      <td>24994885</td>\n",
       "      <td>4. Lower middle income</td>\n",
       "      <td>Middle Africa</td>\n",
       "      <td>00000000000000000039</td>\n",
       "      <td>Cameroon</td>\n",
       "    </tr>\n",
       "    <tr>\n",
       "      <th>37</th>\n",
       "      <td>1.468295e+04</td>\n",
       "      <td>30270.0</td>\n",
       "      <td>CG</td>\n",
       "      <td>12</td>\n",
       "      <td>COG</td>\n",
       "      <td>Africa</td>\n",
       "      <td>4954674</td>\n",
       "      <td>4. Lower middle income</td>\n",
       "      <td>Middle Africa</td>\n",
       "      <td>00000000000000000043</td>\n",
       "      <td>Congo</td>\n",
       "    </tr>\n",
       "    <tr>\n",
       "      <th>38</th>\n",
       "      <td>4.492321e+06</td>\n",
       "      <td>65170.0</td>\n",
       "      <td>ZM</td>\n",
       "      <td>14</td>\n",
       "      <td>ZMB</td>\n",
       "      <td>Africa</td>\n",
       "      <td>15972000</td>\n",
       "      <td>4. Lower middle income</td>\n",
       "      <td>Eastern Africa</td>\n",
       "      <td>00000000000000000046</td>\n",
       "      <td>Zambia</td>\n",
       "    </tr>\n",
       "    <tr>\n",
       "      <th>39</th>\n",
       "      <td>9.173631e+03</td>\n",
       "      <td>3345.0</td>\n",
       "      <td>DJ</td>\n",
       "      <td>11</td>\n",
       "      <td>DJI</td>\n",
       "      <td>Africa</td>\n",
       "      <td>865267</td>\n",
       "      <td>4. Lower middle income</td>\n",
       "      <td>Eastern Africa</td>\n",
       "      <td>000000000000000000a4</td>\n",
       "      <td>Djibouti</td>\n",
       "    </tr>\n",
       "    <tr>\n",
       "      <th>40</th>\n",
       "      <td>1.139693e+05</td>\n",
       "      <td>12250.0</td>\n",
       "      <td>-99</td>\n",
       "      <td>12</td>\n",
       "      <td>-99</td>\n",
       "      <td>Africa</td>\n",
       "      <td>3500000</td>\n",
       "      <td>4. Lower middle income</td>\n",
       "      <td>Eastern Africa</td>\n",
       "      <td>000000000000000000a5</td>\n",
       "      <td>Somaliland</td>\n",
       "    </tr>\n",
       "    <tr>\n",
       "      <th>41</th>\n",
       "      <td>3.243909e+06</td>\n",
       "      <td>39720.0</td>\n",
       "      <td>SN</td>\n",
       "      <td>14</td>\n",
       "      <td>SEN</td>\n",
       "      <td>Africa</td>\n",
       "      <td>14668522</td>\n",
       "      <td>4. Lower middle income</td>\n",
       "      <td>Western Africa</td>\n",
       "      <td>00000000000000000033</td>\n",
       "      <td>Senegal</td>\n",
       "    </tr>\n",
       "    <tr>\n",
       "      <th>42</th>\n",
       "      <td>3.383149e+07</td>\n",
       "      <td>1089000.0</td>\n",
       "      <td>NG</td>\n",
       "      <td>17</td>\n",
       "      <td>NGA</td>\n",
       "      <td>Africa</td>\n",
       "      <td>190632261</td>\n",
       "      <td>4. Lower middle income</td>\n",
       "      <td>Western Africa</td>\n",
       "      <td>00000000000000000038</td>\n",
       "      <td>Nigeria</td>\n",
       "    </tr>\n",
       "    <tr>\n",
       "      <th>43</th>\n",
       "      <td>3.189320e+06</td>\n",
       "      <td>120800.0</td>\n",
       "      <td>GH</td>\n",
       "      <td>15</td>\n",
       "      <td>GHA</td>\n",
       "      <td>Africa</td>\n",
       "      <td>27499924</td>\n",
       "      <td>4. Lower middle income</td>\n",
       "      <td>Western Africa</td>\n",
       "      <td>0000000000000000003b</td>\n",
       "      <td>Ghana</td>\n",
       "    </tr>\n",
       "    <tr>\n",
       "      <th>44</th>\n",
       "      <td>1.279063e+06</td>\n",
       "      <td>87120.0</td>\n",
       "      <td>CI</td>\n",
       "      <td>15</td>\n",
       "      <td>CIV</td>\n",
       "      <td>Africa</td>\n",
       "      <td>24184810</td>\n",
       "      <td>4. Lower middle income</td>\n",
       "      <td>Western Africa</td>\n",
       "      <td>0000000000000000003c</td>\n",
       "      <td>Côte d'Ivoire</td>\n",
       "    </tr>\n",
       "    <tr>\n",
       "      <th>45</th>\n",
       "      <td>1.392850e+07</td>\n",
       "      <td>176300.0</td>\n",
       "      <td>SD</td>\n",
       "      <td>15</td>\n",
       "      <td>SDN</td>\n",
       "      <td>Africa</td>\n",
       "      <td>37345935</td>\n",
       "      <td>4. Lower middle income</td>\n",
       "      <td>Northern Africa</td>\n",
       "      <td>0000000000000000000e</td>\n",
       "      <td>Sudan</td>\n",
       "    </tr>\n",
       "    <tr>\n",
       "      <th>46</th>\n",
       "      <td>7.174301e+06</td>\n",
       "      <td>282800.0</td>\n",
       "      <td>MA</td>\n",
       "      <td>15</td>\n",
       "      <td>MAR</td>\n",
       "      <td>Africa</td>\n",
       "      <td>33986655</td>\n",
       "      <td>4. Lower middle income</td>\n",
       "      <td>Northern Africa</td>\n",
       "      <td>000000000000000000a0</td>\n",
       "      <td>Morocco</td>\n",
       "    </tr>\n",
       "    <tr>\n",
       "      <th>47</th>\n",
       "      <td>3.819105e+06</td>\n",
       "      <td>1105000.0</td>\n",
       "      <td>EG</td>\n",
       "      <td>16</td>\n",
       "      <td>EGY</td>\n",
       "      <td>Africa</td>\n",
       "      <td>97041072</td>\n",
       "      <td>4. Lower middle income</td>\n",
       "      <td>Northern Africa</td>\n",
       "      <td>000000000000000000a1</td>\n",
       "      <td>Egypt</td>\n",
       "    </tr>\n",
       "    <tr>\n",
       "      <th>48</th>\n",
       "      <td>3.579195e+05</td>\n",
       "      <td>6019.0</td>\n",
       "      <td>LS</td>\n",
       "      <td>12</td>\n",
       "      <td>LSO</td>\n",
       "      <td>Africa</td>\n",
       "      <td>1958042</td>\n",
       "      <td>4. Lower middle income</td>\n",
       "      <td>Southern Africa</td>\n",
       "      <td>0000000000000000001a</td>\n",
       "      <td>Lesotho</td>\n",
       "    </tr>\n",
       "    <tr>\n",
       "      <th>49</th>\n",
       "      <td>1.725975e+05</td>\n",
       "      <td>11060.0</td>\n",
       "      <td>SZ</td>\n",
       "      <td>12</td>\n",
       "      <td>SWZ</td>\n",
       "      <td>Africa</td>\n",
       "      <td>1467152</td>\n",
       "      <td>4. Lower middle income</td>\n",
       "      <td>Southern Africa</td>\n",
       "      <td>00000000000000000049</td>\n",
       "      <td>eSwatini</td>\n",
       "    </tr>\n",
       "    <tr>\n",
       "      <th>50</th>\n",
       "      <td>8.400000e+01</td>\n",
       "      <td>31770.0</td>\n",
       "      <td>GQ</td>\n",
       "      <td>11</td>\n",
       "      <td>GNQ</td>\n",
       "      <td>Africa</td>\n",
       "      <td>778358</td>\n",
       "      <td>2. High income: nonOECD</td>\n",
       "      <td>Middle Africa</td>\n",
       "      <td>00000000000000000045</td>\n",
       "      <td>Eq. Guinea</td>\n",
       "    </tr>\n",
       "  </tbody>\n",
       "</table>\n",
       "</div>"
      ],
      "text/plain": [
       "             sum  GDP_MD_EST ISO_A2  POP_RANK ISO_A3 CONTINENT    POP_EST  \\\n",
       "0   8.323261e+05     66010.0     CD        16    COD    Africa   83301151   \n",
       "1   4.210671e+06     30590.0     TD        14    TCD    Africa   12075985   \n",
       "2   5.785698e+04      3206.0     CF        13    CAF    Africa    5625118   \n",
       "3   1.644275e+07    150600.0     TZ        16    TZA    Africa   53950935   \n",
       "4   8.592826e+05      4719.0     SO        13    SOM    Africa    7531386   \n",
       "5   2.085683e+06    152700.0     KE        15    KEN    Africa   47615739   \n",
       "6   4.687889e+06     28330.0     ZW        14    ZWE    Africa   13805084   \n",
       "7   3.876922e+06     21200.0     MW        14    MWI    Africa   19196246   \n",
       "8   4.725092e+06     35010.0     MZ        15    MOZ    Africa   26573706   \n",
       "9   8.240984e+05      7892.0     BI        14    BDI    Africa   11466756   \n",
       "10  3.224220e+06     36860.0     MG        15    MDG    Africa   25054161   \n",
       "11  6.362743e+05      9169.0     ER        13    ERI    Africa    5918919   \n",
       "12  1.985355e+07    174700.0     ET        17    ETH    Africa  105350020   \n",
       "13  1.500979e+06     84930.0     UG        15    UGA    Africa   39570125   \n",
       "14  8.000828e+05     21970.0     RW        14    RWA    Africa   11901484   \n",
       "15  1.969216e+05     20880.0     SS        14    SSD    Africa   13026129   \n",
       "16  8.491127e+06     38090.0     ML        14    MLI    Africa   17885245   \n",
       "17  3.577109e+05     16710.0     MR        12    MRT    Africa    3758571   \n",
       "18  2.806524e+06     24310.0     BJ        14    BEN    Africa   11038805   \n",
       "19  6.769814e+06     20150.0     NE        14    NER    Africa   19245344   \n",
       "20  1.647687e+06     11610.0     TG        13    TGO    Africa    7965055   \n",
       "21  5.196915e+05     16080.0     GN        14    GIN    Africa   12413867   \n",
       "22  9.766336e+04      2851.0     GW        12    GNB    Africa    1792338   \n",
       "23  7.769451e+02      3881.0     LR        12    LBR    Africa    4689021   \n",
       "24  3.040452e+04     10640.0     SL        13    SLE    Africa    6163195   \n",
       "25  7.626400e+06     32990.0     BF        15    BFA    Africa   20107509   \n",
       "26  4.115752e+05      3387.0     GM        12    GMB    Africa    2051363   \n",
       "27  0.000000e+00       906.5     EH        11    ESH    Africa     603253   \n",
       "28  2.554188e+03     35980.0     GA        12    GAB    Africa    1772255   \n",
       "29  3.626348e+06    189000.0     AO        15    AGO    Africa   29310273   \n",
       "30  3.251320e+06    130800.0     TN        14    TUN    Africa   11403800   \n",
       "31  8.119361e+06    609400.0     DZ        15    DZA    Africa   40969443   \n",
       "32  9.698637e+05     90890.0     LY        13    LBY    Africa    6653210   \n",
       "33  1.230886e+07    739100.0     ZA        16    ZAF    Africa   54841552   \n",
       "34  5.689907e+05     35900.0     BW        12    BWA    Africa    2214858   \n",
       "35  3.703966e+05     25990.0    NaN        12    NAM    Africa    2484780   \n",
       "36  2.141102e+06     77240.0     CM        15    CMR    Africa   24994885   \n",
       "37  1.468295e+04     30270.0     CG        12    COG    Africa    4954674   \n",
       "38  4.492321e+06     65170.0     ZM        14    ZMB    Africa   15972000   \n",
       "39  9.173631e+03      3345.0     DJ        11    DJI    Africa     865267   \n",
       "40  1.139693e+05     12250.0    -99        12    -99    Africa    3500000   \n",
       "41  3.243909e+06     39720.0     SN        14    SEN    Africa   14668522   \n",
       "42  3.383149e+07   1089000.0     NG        17    NGA    Africa  190632261   \n",
       "43  3.189320e+06    120800.0     GH        15    GHA    Africa   27499924   \n",
       "44  1.279063e+06     87120.0     CI        15    CIV    Africa   24184810   \n",
       "45  1.392850e+07    176300.0     SD        15    SDN    Africa   37345935   \n",
       "46  7.174301e+06    282800.0     MA        15    MAR    Africa   33986655   \n",
       "47  3.819105e+06   1105000.0     EG        16    EGY    Africa   97041072   \n",
       "48  3.579195e+05      6019.0     LS        12    LSO    Africa    1958042   \n",
       "49  1.725975e+05     11060.0     SZ        12    SWZ    Africa    1467152   \n",
       "50  8.400000e+01     31770.0     GQ        11    GNQ    Africa     778358   \n",
       "\n",
       "                 INCOME_GRP        SUBREGION          system:index  \\\n",
       "0             5. Low income    Middle Africa  0000000000000000000b   \n",
       "1             5. Low income    Middle Africa  0000000000000000000f   \n",
       "2             5. Low income    Middle Africa  00000000000000000042   \n",
       "3             5. Low income   Eastern Africa  00000000000000000001   \n",
       "4             5. Low income   Eastern Africa  0000000000000000000c   \n",
       "5             5. Low income   Eastern Africa  0000000000000000000d   \n",
       "6             5. Low income   Eastern Africa  00000000000000000030   \n",
       "7             5. Low income   Eastern Africa  00000000000000000047   \n",
       "8             5. Low income   Eastern Africa  00000000000000000048   \n",
       "9             5. Low income   Eastern Africa  0000000000000000004b   \n",
       "10            5. Low income   Eastern Africa  0000000000000000004e   \n",
       "11            5. Low income   Eastern Africa  00000000000000000099   \n",
       "12            5. Low income   Eastern Africa  000000000000000000a3   \n",
       "13            5. Low income   Eastern Africa  000000000000000000a6   \n",
       "14            5. Low income   Eastern Africa  000000000000000000a7   \n",
       "15            5. Low income   Eastern Africa  000000000000000000ae   \n",
       "16            5. Low income   Western Africa  00000000000000000034   \n",
       "17            5. Low income   Western Africa  00000000000000000035   \n",
       "18            5. Low income   Western Africa  00000000000000000036   \n",
       "19            5. Low income   Western Africa  00000000000000000037   \n",
       "20            5. Low income   Western Africa  0000000000000000003a   \n",
       "21            5. Low income   Western Africa  0000000000000000003d   \n",
       "22            5. Low income   Western Africa  0000000000000000003e   \n",
       "23            5. Low income   Western Africa  0000000000000000003f   \n",
       "24            5. Low income   Western Africa  00000000000000000040   \n",
       "25            5. Low income   Western Africa  00000000000000000041   \n",
       "26            5. Low income   Western Africa  00000000000000000050   \n",
       "27            5. Low income  Northern Africa  00000000000000000002   \n",
       "28   3. Upper middle income    Middle Africa  00000000000000000044   \n",
       "29   3. Upper middle income    Middle Africa  0000000000000000004a   \n",
       "30   3. Upper middle income  Northern Africa  00000000000000000051   \n",
       "31   3. Upper middle income  Northern Africa  00000000000000000052   \n",
       "32   3. Upper middle income  Northern Africa  000000000000000000a2   \n",
       "33   3. Upper middle income  Southern Africa  00000000000000000019   \n",
       "34   3. Upper middle income  Southern Africa  00000000000000000031   \n",
       "35   3. Upper middle income  Southern Africa  00000000000000000032   \n",
       "36   4. Lower middle income    Middle Africa  00000000000000000039   \n",
       "37   4. Lower middle income    Middle Africa  00000000000000000043   \n",
       "38   4. Lower middle income   Eastern Africa  00000000000000000046   \n",
       "39   4. Lower middle income   Eastern Africa  000000000000000000a4   \n",
       "40   4. Lower middle income   Eastern Africa  000000000000000000a5   \n",
       "41   4. Lower middle income   Western Africa  00000000000000000033   \n",
       "42   4. Lower middle income   Western Africa  00000000000000000038   \n",
       "43   4. Lower middle income   Western Africa  0000000000000000003b   \n",
       "44   4. Lower middle income   Western Africa  0000000000000000003c   \n",
       "45   4. Lower middle income  Northern Africa  0000000000000000000e   \n",
       "46   4. Lower middle income  Northern Africa  000000000000000000a0   \n",
       "47   4. Lower middle income  Northern Africa  000000000000000000a1   \n",
       "48   4. Lower middle income  Southern Africa  0000000000000000001a   \n",
       "49   4. Lower middle income  Southern Africa  00000000000000000049   \n",
       "50  2. High income: nonOECD    Middle Africa  00000000000000000045   \n",
       "\n",
       "                    NAME  \n",
       "0        Dem. Rep. Congo  \n",
       "1                   Chad  \n",
       "2   Central African Rep.  \n",
       "3               Tanzania  \n",
       "4                Somalia  \n",
       "5                  Kenya  \n",
       "6               Zimbabwe  \n",
       "7                 Malawi  \n",
       "8             Mozambique  \n",
       "9                Burundi  \n",
       "10            Madagascar  \n",
       "11               Eritrea  \n",
       "12              Ethiopia  \n",
       "13                Uganda  \n",
       "14                Rwanda  \n",
       "15              S. Sudan  \n",
       "16                  Mali  \n",
       "17            Mauritania  \n",
       "18                 Benin  \n",
       "19                 Niger  \n",
       "20                  Togo  \n",
       "21                Guinea  \n",
       "22         Guinea-Bissau  \n",
       "23               Liberia  \n",
       "24          Sierra Leone  \n",
       "25          Burkina Faso  \n",
       "26                Gambia  \n",
       "27             W. Sahara  \n",
       "28                 Gabon  \n",
       "29                Angola  \n",
       "30               Tunisia  \n",
       "31               Algeria  \n",
       "32                 Libya  \n",
       "33          South Africa  \n",
       "34              Botswana  \n",
       "35               Namibia  \n",
       "36              Cameroon  \n",
       "37                 Congo  \n",
       "38                Zambia  \n",
       "39              Djibouti  \n",
       "40            Somaliland  \n",
       "41               Senegal  \n",
       "42               Nigeria  \n",
       "43                 Ghana  \n",
       "44         Côte d'Ivoire  \n",
       "45                 Sudan  \n",
       "46               Morocco  \n",
       "47                 Egypt  \n",
       "48               Lesotho  \n",
       "49              eSwatini  \n",
       "50            Eq. Guinea  "
      ]
     },
     "execution_count": 18,
     "metadata": {},
     "output_type": "execute_result"
    }
   ],
   "source": [
    "esa_cropland = geemap.csv_to_df('data/esa_cropland.csv')\n",
    "esa_cropland"
   ]
  },
  {
   "cell_type": "code",
   "execution_count": 21,
   "metadata": {},
   "outputs": [
    {
     "data": {
      "text/html": [
       "\n",
       "            <style>\n",
       "                .geemap-dark {\n",
       "                    --jp-widgets-color: white;\n",
       "                    --jp-widgets-label-color: white;\n",
       "                    --jp-ui-font-color1: white;\n",
       "                    --jp-layout-color2: #454545;\n",
       "                    background-color: #383838;\n",
       "                }\n",
       "                    \n",
       "                .geemap-dark .jupyter-button {\n",
       "                    --jp-layout-color3: #383838;\n",
       "                }\n",
       "                \n",
       "                .geemap-colab {\n",
       "                    background-color: var(--colab-primary-surface-color, white);\n",
       "                }\n",
       "                    \n",
       "                .geemap-colab .jupyter-button {\n",
       "                    --jp-layout-color3: var(--colab-primary-surface-color, white);\n",
       "                }\n",
       "            </style>\n",
       "            "
      ],
      "text/plain": [
       "<IPython.core.display.HTML object>"
      ]
     },
     "metadata": {},
     "output_type": "display_data"
    },
    {
     "data": {
      "application/vnd.plotly.v1+json": {
       "config": {
        "plotlyServerURL": "https://plot.ly"
       },
       "data": [
        {
         "alignmentgroup": "True",
         "hovertemplate": "Country=%{x}<br>Area (km2)=%{y}<extra></extra>",
         "legendgroup": "",
         "marker": {
          "color": "#636efa",
          "pattern": {
           "shape": ""
          }
         },
         "name": "",
         "offsetgroup": "",
         "orientation": "v",
         "showlegend": false,
         "textposition": "auto",
         "type": "bar",
         "x": [
          "Nigeria",
          "Ethiopia",
          "Tanzania",
          "Sudan",
          "South Africa",
          "Mali",
          "Algeria",
          "Burkina Faso",
          "Morocco",
          "Niger",
          "Mozambique",
          "Zimbabwe",
          "Zambia",
          "Chad",
          "Malawi",
          "Egypt",
          "Angola",
          "Tunisia",
          "Senegal",
          "Madagascar",
          "Ghana",
          "Benin",
          "Cameroon",
          "Kenya",
          "Togo",
          "Uganda",
          "Côte d'Ivoire",
          "Libya",
          "Somalia",
          "Dem. Rep. Congo"
         ],
         "xaxis": "x",
         "y": [
          33831492.039215684,
          19853545.35294117,
          16442750.631372552,
          13928501.784313723,
          12308863.772549016,
          8491127.474509805,
          8119360.866666669,
          7626399.541176461,
          7174300.62745098,
          6769814.356862742,
          4725092.239215688,
          4687889.388235293,
          4492320.80392157,
          4210671.039215687,
          3876921.901960784,
          3819104.71372549,
          3626347.9294117647,
          3251320.1647058823,
          3243908.799999998,
          3224220.2352941167,
          3189319.898039216,
          2806524.0117647056,
          2141102.078431372,
          2085682.8352941177,
          1647687.1647058823,
          1500978.7607843138,
          1279062.9529411765,
          969863.6549019607,
          859282.643137255,
          832326.0901960784
         ],
         "yaxis": "y"
        }
       ],
       "layout": {
        "barmode": "group",
        "height": 500,
        "legend": {
         "tracegroupgap": 0
        },
        "margin": {
         "t": 60
        },
        "template": {
         "data": {
          "bar": [
           {
            "error_x": {
             "color": "#2a3f5f"
            },
            "error_y": {
             "color": "#2a3f5f"
            },
            "marker": {
             "line": {
              "color": "#E5ECF6",
              "width": 0.5
             },
             "pattern": {
              "fillmode": "overlay",
              "size": 10,
              "solidity": 0.2
             }
            },
            "type": "bar"
           }
          ],
          "barpolar": [
           {
            "marker": {
             "line": {
              "color": "#E5ECF6",
              "width": 0.5
             },
             "pattern": {
              "fillmode": "overlay",
              "size": 10,
              "solidity": 0.2
             }
            },
            "type": "barpolar"
           }
          ],
          "carpet": [
           {
            "aaxis": {
             "endlinecolor": "#2a3f5f",
             "gridcolor": "white",
             "linecolor": "white",
             "minorgridcolor": "white",
             "startlinecolor": "#2a3f5f"
            },
            "baxis": {
             "endlinecolor": "#2a3f5f",
             "gridcolor": "white",
             "linecolor": "white",
             "minorgridcolor": "white",
             "startlinecolor": "#2a3f5f"
            },
            "type": "carpet"
           }
          ],
          "choropleth": [
           {
            "colorbar": {
             "outlinewidth": 0,
             "ticks": ""
            },
            "type": "choropleth"
           }
          ],
          "contour": [
           {
            "colorbar": {
             "outlinewidth": 0,
             "ticks": ""
            },
            "colorscale": [
             [
              0,
              "#0d0887"
             ],
             [
              0.1111111111111111,
              "#46039f"
             ],
             [
              0.2222222222222222,
              "#7201a8"
             ],
             [
              0.3333333333333333,
              "#9c179e"
             ],
             [
              0.4444444444444444,
              "#bd3786"
             ],
             [
              0.5555555555555556,
              "#d8576b"
             ],
             [
              0.6666666666666666,
              "#ed7953"
             ],
             [
              0.7777777777777778,
              "#fb9f3a"
             ],
             [
              0.8888888888888888,
              "#fdca26"
             ],
             [
              1,
              "#f0f921"
             ]
            ],
            "type": "contour"
           }
          ],
          "contourcarpet": [
           {
            "colorbar": {
             "outlinewidth": 0,
             "ticks": ""
            },
            "type": "contourcarpet"
           }
          ],
          "heatmap": [
           {
            "colorbar": {
             "outlinewidth": 0,
             "ticks": ""
            },
            "colorscale": [
             [
              0,
              "#0d0887"
             ],
             [
              0.1111111111111111,
              "#46039f"
             ],
             [
              0.2222222222222222,
              "#7201a8"
             ],
             [
              0.3333333333333333,
              "#9c179e"
             ],
             [
              0.4444444444444444,
              "#bd3786"
             ],
             [
              0.5555555555555556,
              "#d8576b"
             ],
             [
              0.6666666666666666,
              "#ed7953"
             ],
             [
              0.7777777777777778,
              "#fb9f3a"
             ],
             [
              0.8888888888888888,
              "#fdca26"
             ],
             [
              1,
              "#f0f921"
             ]
            ],
            "type": "heatmap"
           }
          ],
          "heatmapgl": [
           {
            "colorbar": {
             "outlinewidth": 0,
             "ticks": ""
            },
            "colorscale": [
             [
              0,
              "#0d0887"
             ],
             [
              0.1111111111111111,
              "#46039f"
             ],
             [
              0.2222222222222222,
              "#7201a8"
             ],
             [
              0.3333333333333333,
              "#9c179e"
             ],
             [
              0.4444444444444444,
              "#bd3786"
             ],
             [
              0.5555555555555556,
              "#d8576b"
             ],
             [
              0.6666666666666666,
              "#ed7953"
             ],
             [
              0.7777777777777778,
              "#fb9f3a"
             ],
             [
              0.8888888888888888,
              "#fdca26"
             ],
             [
              1,
              "#f0f921"
             ]
            ],
            "type": "heatmapgl"
           }
          ],
          "histogram": [
           {
            "marker": {
             "pattern": {
              "fillmode": "overlay",
              "size": 10,
              "solidity": 0.2
             }
            },
            "type": "histogram"
           }
          ],
          "histogram2d": [
           {
            "colorbar": {
             "outlinewidth": 0,
             "ticks": ""
            },
            "colorscale": [
             [
              0,
              "#0d0887"
             ],
             [
              0.1111111111111111,
              "#46039f"
             ],
             [
              0.2222222222222222,
              "#7201a8"
             ],
             [
              0.3333333333333333,
              "#9c179e"
             ],
             [
              0.4444444444444444,
              "#bd3786"
             ],
             [
              0.5555555555555556,
              "#d8576b"
             ],
             [
              0.6666666666666666,
              "#ed7953"
             ],
             [
              0.7777777777777778,
              "#fb9f3a"
             ],
             [
              0.8888888888888888,
              "#fdca26"
             ],
             [
              1,
              "#f0f921"
             ]
            ],
            "type": "histogram2d"
           }
          ],
          "histogram2dcontour": [
           {
            "colorbar": {
             "outlinewidth": 0,
             "ticks": ""
            },
            "colorscale": [
             [
              0,
              "#0d0887"
             ],
             [
              0.1111111111111111,
              "#46039f"
             ],
             [
              0.2222222222222222,
              "#7201a8"
             ],
             [
              0.3333333333333333,
              "#9c179e"
             ],
             [
              0.4444444444444444,
              "#bd3786"
             ],
             [
              0.5555555555555556,
              "#d8576b"
             ],
             [
              0.6666666666666666,
              "#ed7953"
             ],
             [
              0.7777777777777778,
              "#fb9f3a"
             ],
             [
              0.8888888888888888,
              "#fdca26"
             ],
             [
              1,
              "#f0f921"
             ]
            ],
            "type": "histogram2dcontour"
           }
          ],
          "mesh3d": [
           {
            "colorbar": {
             "outlinewidth": 0,
             "ticks": ""
            },
            "type": "mesh3d"
           }
          ],
          "parcoords": [
           {
            "line": {
             "colorbar": {
              "outlinewidth": 0,
              "ticks": ""
             }
            },
            "type": "parcoords"
           }
          ],
          "pie": [
           {
            "automargin": true,
            "type": "pie"
           }
          ],
          "scatter": [
           {
            "fillpattern": {
             "fillmode": "overlay",
             "size": 10,
             "solidity": 0.2
            },
            "type": "scatter"
           }
          ],
          "scatter3d": [
           {
            "line": {
             "colorbar": {
              "outlinewidth": 0,
              "ticks": ""
             }
            },
            "marker": {
             "colorbar": {
              "outlinewidth": 0,
              "ticks": ""
             }
            },
            "type": "scatter3d"
           }
          ],
          "scattercarpet": [
           {
            "marker": {
             "colorbar": {
              "outlinewidth": 0,
              "ticks": ""
             }
            },
            "type": "scattercarpet"
           }
          ],
          "scattergeo": [
           {
            "marker": {
             "colorbar": {
              "outlinewidth": 0,
              "ticks": ""
             }
            },
            "type": "scattergeo"
           }
          ],
          "scattergl": [
           {
            "marker": {
             "colorbar": {
              "outlinewidth": 0,
              "ticks": ""
             }
            },
            "type": "scattergl"
           }
          ],
          "scattermapbox": [
           {
            "marker": {
             "colorbar": {
              "outlinewidth": 0,
              "ticks": ""
             }
            },
            "type": "scattermapbox"
           }
          ],
          "scatterpolar": [
           {
            "marker": {
             "colorbar": {
              "outlinewidth": 0,
              "ticks": ""
             }
            },
            "type": "scatterpolar"
           }
          ],
          "scatterpolargl": [
           {
            "marker": {
             "colorbar": {
              "outlinewidth": 0,
              "ticks": ""
             }
            },
            "type": "scatterpolargl"
           }
          ],
          "scatterternary": [
           {
            "marker": {
             "colorbar": {
              "outlinewidth": 0,
              "ticks": ""
             }
            },
            "type": "scatterternary"
           }
          ],
          "surface": [
           {
            "colorbar": {
             "outlinewidth": 0,
             "ticks": ""
            },
            "colorscale": [
             [
              0,
              "#0d0887"
             ],
             [
              0.1111111111111111,
              "#46039f"
             ],
             [
              0.2222222222222222,
              "#7201a8"
             ],
             [
              0.3333333333333333,
              "#9c179e"
             ],
             [
              0.4444444444444444,
              "#bd3786"
             ],
             [
              0.5555555555555556,
              "#d8576b"
             ],
             [
              0.6666666666666666,
              "#ed7953"
             ],
             [
              0.7777777777777778,
              "#fb9f3a"
             ],
             [
              0.8888888888888888,
              "#fdca26"
             ],
             [
              1,
              "#f0f921"
             ]
            ],
            "type": "surface"
           }
          ],
          "table": [
           {
            "cells": {
             "fill": {
              "color": "#EBF0F8"
             },
             "line": {
              "color": "white"
             }
            },
            "header": {
             "fill": {
              "color": "#C8D4E3"
             },
             "line": {
              "color": "white"
             }
            },
            "type": "table"
           }
          ]
         },
         "layout": {
          "annotationdefaults": {
           "arrowcolor": "#2a3f5f",
           "arrowhead": 0,
           "arrowwidth": 1
          },
          "autotypenumbers": "strict",
          "coloraxis": {
           "colorbar": {
            "outlinewidth": 0,
            "ticks": ""
           }
          },
          "colorscale": {
           "diverging": [
            [
             0,
             "#8e0152"
            ],
            [
             0.1,
             "#c51b7d"
            ],
            [
             0.2,
             "#de77ae"
            ],
            [
             0.3,
             "#f1b6da"
            ],
            [
             0.4,
             "#fde0ef"
            ],
            [
             0.5,
             "#f7f7f7"
            ],
            [
             0.6,
             "#e6f5d0"
            ],
            [
             0.7,
             "#b8e186"
            ],
            [
             0.8,
             "#7fbc41"
            ],
            [
             0.9,
             "#4d9221"
            ],
            [
             1,
             "#276419"
            ]
           ],
           "sequential": [
            [
             0,
             "#0d0887"
            ],
            [
             0.1111111111111111,
             "#46039f"
            ],
            [
             0.2222222222222222,
             "#7201a8"
            ],
            [
             0.3333333333333333,
             "#9c179e"
            ],
            [
             0.4444444444444444,
             "#bd3786"
            ],
            [
             0.5555555555555556,
             "#d8576b"
            ],
            [
             0.6666666666666666,
             "#ed7953"
            ],
            [
             0.7777777777777778,
             "#fb9f3a"
            ],
            [
             0.8888888888888888,
             "#fdca26"
            ],
            [
             1,
             "#f0f921"
            ]
           ],
           "sequentialminus": [
            [
             0,
             "#0d0887"
            ],
            [
             0.1111111111111111,
             "#46039f"
            ],
            [
             0.2222222222222222,
             "#7201a8"
            ],
            [
             0.3333333333333333,
             "#9c179e"
            ],
            [
             0.4444444444444444,
             "#bd3786"
            ],
            [
             0.5555555555555556,
             "#d8576b"
            ],
            [
             0.6666666666666666,
             "#ed7953"
            ],
            [
             0.7777777777777778,
             "#fb9f3a"
            ],
            [
             0.8888888888888888,
             "#fdca26"
            ],
            [
             1,
             "#f0f921"
            ]
           ]
          },
          "colorway": [
           "#636efa",
           "#EF553B",
           "#00cc96",
           "#ab63fa",
           "#FFA15A",
           "#19d3f3",
           "#FF6692",
           "#B6E880",
           "#FF97FF",
           "#FECB52"
          ],
          "font": {
           "color": "#2a3f5f"
          },
          "geo": {
           "bgcolor": "white",
           "lakecolor": "white",
           "landcolor": "#E5ECF6",
           "showlakes": true,
           "showland": true,
           "subunitcolor": "white"
          },
          "hoverlabel": {
           "align": "left"
          },
          "hovermode": "closest",
          "mapbox": {
           "style": "light"
          },
          "paper_bgcolor": "white",
          "plot_bgcolor": "#E5ECF6",
          "polar": {
           "angularaxis": {
            "gridcolor": "white",
            "linecolor": "white",
            "ticks": ""
           },
           "bgcolor": "#E5ECF6",
           "radialaxis": {
            "gridcolor": "white",
            "linecolor": "white",
            "ticks": ""
           }
          },
          "scene": {
           "xaxis": {
            "backgroundcolor": "#E5ECF6",
            "gridcolor": "white",
            "gridwidth": 2,
            "linecolor": "white",
            "showbackground": true,
            "ticks": "",
            "zerolinecolor": "white"
           },
           "yaxis": {
            "backgroundcolor": "#E5ECF6",
            "gridcolor": "white",
            "gridwidth": 2,
            "linecolor": "white",
            "showbackground": true,
            "ticks": "",
            "zerolinecolor": "white"
           },
           "zaxis": {
            "backgroundcolor": "#E5ECF6",
            "gridcolor": "white",
            "gridwidth": 2,
            "linecolor": "white",
            "showbackground": true,
            "ticks": "",
            "zerolinecolor": "white"
           }
          },
          "shapedefaults": {
           "line": {
            "color": "#2a3f5f"
           }
          },
          "ternary": {
           "aaxis": {
            "gridcolor": "white",
            "linecolor": "white",
            "ticks": ""
           },
           "baxis": {
            "gridcolor": "white",
            "linecolor": "white",
            "ticks": ""
           },
           "bgcolor": "#E5ECF6",
           "caxis": {
            "gridcolor": "white",
            "linecolor": "white",
            "ticks": ""
           }
          },
          "title": {
           "x": 0.05
          },
          "xaxis": {
           "automargin": true,
           "gridcolor": "white",
           "linecolor": "white",
           "ticks": "",
           "title": {
            "standoff": 15
           },
           "zerolinecolor": "white",
           "zerolinewidth": 2
          },
          "yaxis": {
           "automargin": true,
           "gridcolor": "white",
           "linecolor": "white",
           "ticks": "",
           "title": {
            "standoff": 15
           },
           "zerolinecolor": "white",
           "zerolinewidth": 2
          }
         }
        },
        "xaxis": {
         "anchor": "y",
         "domain": [
          0,
          1
         ],
         "title": {
          "text": "Country"
         }
        },
        "yaxis": {
         "anchor": "x",
         "domain": [
          0,
          1
         ],
         "title": {
          "text": "Area (km2)"
         }
        }
       }
      }
     },
     "metadata": {},
     "output_type": "display_data"
    }
   ],
   "source": [
    "geemap.bar_chart(\n",
    "    esa_cropland, x = 'NAME', y = 'sum', max_rows = 30, x_label = 'Country', y_label = 'Area (km2)'\n",
    ")"
   ]
  },
  {
   "cell_type": "code",
   "execution_count": 22,
   "metadata": {},
   "outputs": [
    {
     "data": {
      "text/html": [
       "\n",
       "            <style>\n",
       "                .geemap-dark {\n",
       "                    --jp-widgets-color: white;\n",
       "                    --jp-widgets-label-color: white;\n",
       "                    --jp-ui-font-color1: white;\n",
       "                    --jp-layout-color2: #454545;\n",
       "                    background-color: #383838;\n",
       "                }\n",
       "                    \n",
       "                .geemap-dark .jupyter-button {\n",
       "                    --jp-layout-color3: #383838;\n",
       "                }\n",
       "                \n",
       "                .geemap-colab {\n",
       "                    background-color: var(--colab-primary-surface-color, white);\n",
       "                }\n",
       "                    \n",
       "                .geemap-colab .jupyter-button {\n",
       "                    --jp-layout-color3: var(--colab-primary-surface-color, white);\n",
       "                }\n",
       "            </style>\n",
       "            "
      ],
      "text/plain": [
       "<IPython.core.display.HTML object>"
      ]
     },
     "metadata": {},
     "output_type": "display_data"
    },
    {
     "data": {
      "application/vnd.plotly.v1+json": {
       "config": {
        "plotlyServerURL": "https://plot.ly"
       },
       "data": [
        {
         "domain": {
          "x": [
           0,
           1
          ],
          "y": [
           0,
           1
          ]
         },
         "hovertemplate": "NAME=%{label}<br>sum=%{value}<extra></extra>",
         "labels": [
          "Nigeria",
          "Ethiopia",
          "Tanzania",
          "Sudan",
          "South Africa",
          "Mali",
          "Algeria",
          "Burkina Faso",
          "Morocco",
          "Niger",
          "Mozambique",
          "Zimbabwe",
          "Zambia",
          "Chad",
          "Malawi",
          "Egypt",
          "Angola",
          "Tunisia",
          "Senegal",
          "Other",
          "Other",
          "Other",
          "Other",
          "Other",
          "Other",
          "Other",
          "Other",
          "Other",
          "Other",
          "Other",
          "Other",
          "Other",
          "Other",
          "Other",
          "Other",
          "Other",
          "Other",
          "Other",
          "Other",
          "Other",
          "Other",
          "Other",
          "Other",
          "Other",
          "Other",
          "Other",
          "Other",
          "Other",
          "Other",
          "Other",
          "Other"
         ],
         "legendgroup": "",
         "name": "",
         "showlegend": true,
         "type": "pie",
         "values": [
          33831492.039215684,
          19853545.35294117,
          16442750.631372552,
          13928501.784313723,
          12308863.772549016,
          8491127.474509805,
          8119360.866666669,
          7626399.541176461,
          7174300.62745098,
          6769814.356862742,
          4725092.239215688,
          4687889.388235293,
          4492320.80392157,
          4210671.039215687,
          3876921.901960784,
          3819104.71372549,
          3626347.9294117647,
          3251320.1647058823,
          3243908.799999998,
          3224220.2352941167,
          3189319.898039216,
          2806524.0117647056,
          2141102.078431372,
          2085682.8352941177,
          1647687.1647058823,
          1500978.7607843138,
          1279062.9529411765,
          969863.6549019607,
          859282.643137255,
          832326.0901960784,
          824098.4156862746,
          800082.792156863,
          636274.3372549016,
          568990.7137254901,
          519691.5450980392,
          411575.15294117655,
          370396.6196078432,
          357919.474509804,
          357710.92156862747,
          196921.6392156863,
          172597.46666666665,
          113969.27843137251,
          97663.36078431371,
          57856.97647058823,
          30404.521568627453,
          14682.945098039216,
          9173.63137254902,
          2554.188235294117,
          776.9450980392157,
          84,
          0
         ]
        }
       ],
       "layout": {
        "height": 500,
        "legend": {
         "tracegroupgap": 0
        },
        "margin": {
         "t": 60
        },
        "template": {
         "data": {
          "bar": [
           {
            "error_x": {
             "color": "#2a3f5f"
            },
            "error_y": {
             "color": "#2a3f5f"
            },
            "marker": {
             "line": {
              "color": "#E5ECF6",
              "width": 0.5
             },
             "pattern": {
              "fillmode": "overlay",
              "size": 10,
              "solidity": 0.2
             }
            },
            "type": "bar"
           }
          ],
          "barpolar": [
           {
            "marker": {
             "line": {
              "color": "#E5ECF6",
              "width": 0.5
             },
             "pattern": {
              "fillmode": "overlay",
              "size": 10,
              "solidity": 0.2
             }
            },
            "type": "barpolar"
           }
          ],
          "carpet": [
           {
            "aaxis": {
             "endlinecolor": "#2a3f5f",
             "gridcolor": "white",
             "linecolor": "white",
             "minorgridcolor": "white",
             "startlinecolor": "#2a3f5f"
            },
            "baxis": {
             "endlinecolor": "#2a3f5f",
             "gridcolor": "white",
             "linecolor": "white",
             "minorgridcolor": "white",
             "startlinecolor": "#2a3f5f"
            },
            "type": "carpet"
           }
          ],
          "choropleth": [
           {
            "colorbar": {
             "outlinewidth": 0,
             "ticks": ""
            },
            "type": "choropleth"
           }
          ],
          "contour": [
           {
            "colorbar": {
             "outlinewidth": 0,
             "ticks": ""
            },
            "colorscale": [
             [
              0,
              "#0d0887"
             ],
             [
              0.1111111111111111,
              "#46039f"
             ],
             [
              0.2222222222222222,
              "#7201a8"
             ],
             [
              0.3333333333333333,
              "#9c179e"
             ],
             [
              0.4444444444444444,
              "#bd3786"
             ],
             [
              0.5555555555555556,
              "#d8576b"
             ],
             [
              0.6666666666666666,
              "#ed7953"
             ],
             [
              0.7777777777777778,
              "#fb9f3a"
             ],
             [
              0.8888888888888888,
              "#fdca26"
             ],
             [
              1,
              "#f0f921"
             ]
            ],
            "type": "contour"
           }
          ],
          "contourcarpet": [
           {
            "colorbar": {
             "outlinewidth": 0,
             "ticks": ""
            },
            "type": "contourcarpet"
           }
          ],
          "heatmap": [
           {
            "colorbar": {
             "outlinewidth": 0,
             "ticks": ""
            },
            "colorscale": [
             [
              0,
              "#0d0887"
             ],
             [
              0.1111111111111111,
              "#46039f"
             ],
             [
              0.2222222222222222,
              "#7201a8"
             ],
             [
              0.3333333333333333,
              "#9c179e"
             ],
             [
              0.4444444444444444,
              "#bd3786"
             ],
             [
              0.5555555555555556,
              "#d8576b"
             ],
             [
              0.6666666666666666,
              "#ed7953"
             ],
             [
              0.7777777777777778,
              "#fb9f3a"
             ],
             [
              0.8888888888888888,
              "#fdca26"
             ],
             [
              1,
              "#f0f921"
             ]
            ],
            "type": "heatmap"
           }
          ],
          "heatmapgl": [
           {
            "colorbar": {
             "outlinewidth": 0,
             "ticks": ""
            },
            "colorscale": [
             [
              0,
              "#0d0887"
             ],
             [
              0.1111111111111111,
              "#46039f"
             ],
             [
              0.2222222222222222,
              "#7201a8"
             ],
             [
              0.3333333333333333,
              "#9c179e"
             ],
             [
              0.4444444444444444,
              "#bd3786"
             ],
             [
              0.5555555555555556,
              "#d8576b"
             ],
             [
              0.6666666666666666,
              "#ed7953"
             ],
             [
              0.7777777777777778,
              "#fb9f3a"
             ],
             [
              0.8888888888888888,
              "#fdca26"
             ],
             [
              1,
              "#f0f921"
             ]
            ],
            "type": "heatmapgl"
           }
          ],
          "histogram": [
           {
            "marker": {
             "pattern": {
              "fillmode": "overlay",
              "size": 10,
              "solidity": 0.2
             }
            },
            "type": "histogram"
           }
          ],
          "histogram2d": [
           {
            "colorbar": {
             "outlinewidth": 0,
             "ticks": ""
            },
            "colorscale": [
             [
              0,
              "#0d0887"
             ],
             [
              0.1111111111111111,
              "#46039f"
             ],
             [
              0.2222222222222222,
              "#7201a8"
             ],
             [
              0.3333333333333333,
              "#9c179e"
             ],
             [
              0.4444444444444444,
              "#bd3786"
             ],
             [
              0.5555555555555556,
              "#d8576b"
             ],
             [
              0.6666666666666666,
              "#ed7953"
             ],
             [
              0.7777777777777778,
              "#fb9f3a"
             ],
             [
              0.8888888888888888,
              "#fdca26"
             ],
             [
              1,
              "#f0f921"
             ]
            ],
            "type": "histogram2d"
           }
          ],
          "histogram2dcontour": [
           {
            "colorbar": {
             "outlinewidth": 0,
             "ticks": ""
            },
            "colorscale": [
             [
              0,
              "#0d0887"
             ],
             [
              0.1111111111111111,
              "#46039f"
             ],
             [
              0.2222222222222222,
              "#7201a8"
             ],
             [
              0.3333333333333333,
              "#9c179e"
             ],
             [
              0.4444444444444444,
              "#bd3786"
             ],
             [
              0.5555555555555556,
              "#d8576b"
             ],
             [
              0.6666666666666666,
              "#ed7953"
             ],
             [
              0.7777777777777778,
              "#fb9f3a"
             ],
             [
              0.8888888888888888,
              "#fdca26"
             ],
             [
              1,
              "#f0f921"
             ]
            ],
            "type": "histogram2dcontour"
           }
          ],
          "mesh3d": [
           {
            "colorbar": {
             "outlinewidth": 0,
             "ticks": ""
            },
            "type": "mesh3d"
           }
          ],
          "parcoords": [
           {
            "line": {
             "colorbar": {
              "outlinewidth": 0,
              "ticks": ""
             }
            },
            "type": "parcoords"
           }
          ],
          "pie": [
           {
            "automargin": true,
            "type": "pie"
           }
          ],
          "scatter": [
           {
            "fillpattern": {
             "fillmode": "overlay",
             "size": 10,
             "solidity": 0.2
            },
            "type": "scatter"
           }
          ],
          "scatter3d": [
           {
            "line": {
             "colorbar": {
              "outlinewidth": 0,
              "ticks": ""
             }
            },
            "marker": {
             "colorbar": {
              "outlinewidth": 0,
              "ticks": ""
             }
            },
            "type": "scatter3d"
           }
          ],
          "scattercarpet": [
           {
            "marker": {
             "colorbar": {
              "outlinewidth": 0,
              "ticks": ""
             }
            },
            "type": "scattercarpet"
           }
          ],
          "scattergeo": [
           {
            "marker": {
             "colorbar": {
              "outlinewidth": 0,
              "ticks": ""
             }
            },
            "type": "scattergeo"
           }
          ],
          "scattergl": [
           {
            "marker": {
             "colorbar": {
              "outlinewidth": 0,
              "ticks": ""
             }
            },
            "type": "scattergl"
           }
          ],
          "scattermapbox": [
           {
            "marker": {
             "colorbar": {
              "outlinewidth": 0,
              "ticks": ""
             }
            },
            "type": "scattermapbox"
           }
          ],
          "scatterpolar": [
           {
            "marker": {
             "colorbar": {
              "outlinewidth": 0,
              "ticks": ""
             }
            },
            "type": "scatterpolar"
           }
          ],
          "scatterpolargl": [
           {
            "marker": {
             "colorbar": {
              "outlinewidth": 0,
              "ticks": ""
             }
            },
            "type": "scatterpolargl"
           }
          ],
          "scatterternary": [
           {
            "marker": {
             "colorbar": {
              "outlinewidth": 0,
              "ticks": ""
             }
            },
            "type": "scatterternary"
           }
          ],
          "surface": [
           {
            "colorbar": {
             "outlinewidth": 0,
             "ticks": ""
            },
            "colorscale": [
             [
              0,
              "#0d0887"
             ],
             [
              0.1111111111111111,
              "#46039f"
             ],
             [
              0.2222222222222222,
              "#7201a8"
             ],
             [
              0.3333333333333333,
              "#9c179e"
             ],
             [
              0.4444444444444444,
              "#bd3786"
             ],
             [
              0.5555555555555556,
              "#d8576b"
             ],
             [
              0.6666666666666666,
              "#ed7953"
             ],
             [
              0.7777777777777778,
              "#fb9f3a"
             ],
             [
              0.8888888888888888,
              "#fdca26"
             ],
             [
              1,
              "#f0f921"
             ]
            ],
            "type": "surface"
           }
          ],
          "table": [
           {
            "cells": {
             "fill": {
              "color": "#EBF0F8"
             },
             "line": {
              "color": "white"
             }
            },
            "header": {
             "fill": {
              "color": "#C8D4E3"
             },
             "line": {
              "color": "white"
             }
            },
            "type": "table"
           }
          ]
         },
         "layout": {
          "annotationdefaults": {
           "arrowcolor": "#2a3f5f",
           "arrowhead": 0,
           "arrowwidth": 1
          },
          "autotypenumbers": "strict",
          "coloraxis": {
           "colorbar": {
            "outlinewidth": 0,
            "ticks": ""
           }
          },
          "colorscale": {
           "diverging": [
            [
             0,
             "#8e0152"
            ],
            [
             0.1,
             "#c51b7d"
            ],
            [
             0.2,
             "#de77ae"
            ],
            [
             0.3,
             "#f1b6da"
            ],
            [
             0.4,
             "#fde0ef"
            ],
            [
             0.5,
             "#f7f7f7"
            ],
            [
             0.6,
             "#e6f5d0"
            ],
            [
             0.7,
             "#b8e186"
            ],
            [
             0.8,
             "#7fbc41"
            ],
            [
             0.9,
             "#4d9221"
            ],
            [
             1,
             "#276419"
            ]
           ],
           "sequential": [
            [
             0,
             "#0d0887"
            ],
            [
             0.1111111111111111,
             "#46039f"
            ],
            [
             0.2222222222222222,
             "#7201a8"
            ],
            [
             0.3333333333333333,
             "#9c179e"
            ],
            [
             0.4444444444444444,
             "#bd3786"
            ],
            [
             0.5555555555555556,
             "#d8576b"
            ],
            [
             0.6666666666666666,
             "#ed7953"
            ],
            [
             0.7777777777777778,
             "#fb9f3a"
            ],
            [
             0.8888888888888888,
             "#fdca26"
            ],
            [
             1,
             "#f0f921"
            ]
           ],
           "sequentialminus": [
            [
             0,
             "#0d0887"
            ],
            [
             0.1111111111111111,
             "#46039f"
            ],
            [
             0.2222222222222222,
             "#7201a8"
            ],
            [
             0.3333333333333333,
             "#9c179e"
            ],
            [
             0.4444444444444444,
             "#bd3786"
            ],
            [
             0.5555555555555556,
             "#d8576b"
            ],
            [
             0.6666666666666666,
             "#ed7953"
            ],
            [
             0.7777777777777778,
             "#fb9f3a"
            ],
            [
             0.8888888888888888,
             "#fdca26"
            ],
            [
             1,
             "#f0f921"
            ]
           ]
          },
          "colorway": [
           "#636efa",
           "#EF553B",
           "#00cc96",
           "#ab63fa",
           "#FFA15A",
           "#19d3f3",
           "#FF6692",
           "#B6E880",
           "#FF97FF",
           "#FECB52"
          ],
          "font": {
           "color": "#2a3f5f"
          },
          "geo": {
           "bgcolor": "white",
           "lakecolor": "white",
           "landcolor": "#E5ECF6",
           "showlakes": true,
           "showland": true,
           "subunitcolor": "white"
          },
          "hoverlabel": {
           "align": "left"
          },
          "hovermode": "closest",
          "mapbox": {
           "style": "light"
          },
          "paper_bgcolor": "white",
          "plot_bgcolor": "#E5ECF6",
          "polar": {
           "angularaxis": {
            "gridcolor": "white",
            "linecolor": "white",
            "ticks": ""
           },
           "bgcolor": "#E5ECF6",
           "radialaxis": {
            "gridcolor": "white",
            "linecolor": "white",
            "ticks": ""
           }
          },
          "scene": {
           "xaxis": {
            "backgroundcolor": "#E5ECF6",
            "gridcolor": "white",
            "gridwidth": 2,
            "linecolor": "white",
            "showbackground": true,
            "ticks": "",
            "zerolinecolor": "white"
           },
           "yaxis": {
            "backgroundcolor": "#E5ECF6",
            "gridcolor": "white",
            "gridwidth": 2,
            "linecolor": "white",
            "showbackground": true,
            "ticks": "",
            "zerolinecolor": "white"
           },
           "zaxis": {
            "backgroundcolor": "#E5ECF6",
            "gridcolor": "white",
            "gridwidth": 2,
            "linecolor": "white",
            "showbackground": true,
            "ticks": "",
            "zerolinecolor": "white"
           }
          },
          "shapedefaults": {
           "line": {
            "color": "#2a3f5f"
           }
          },
          "ternary": {
           "aaxis": {
            "gridcolor": "white",
            "linecolor": "white",
            "ticks": ""
           },
           "baxis": {
            "gridcolor": "white",
            "linecolor": "white",
            "ticks": ""
           },
           "bgcolor": "#E5ECF6",
           "caxis": {
            "gridcolor": "white",
            "linecolor": "white",
            "ticks": ""
           }
          },
          "title": {
           "x": 0.05
          },
          "xaxis": {
           "automargin": true,
           "gridcolor": "white",
           "linecolor": "white",
           "ticks": "",
           "title": {
            "standoff": 15
           },
           "zerolinecolor": "white",
           "zerolinewidth": 2
          },
          "yaxis": {
           "automargin": true,
           "gridcolor": "white",
           "linecolor": "white",
           "ticks": "",
           "title": {
            "standoff": 15
           },
           "zerolinecolor": "white",
           "zerolinewidth": 2
          }
         }
        }
       }
      }
     },
     "metadata": {},
     "output_type": "display_data"
    }
   ],
   "source": [
    "geemap.pie_chart(\n",
    "    esa_cropland, names = 'NAME', values = 'sum', max_rows = 20, height = 500\n",
    ")"
   ]
  },
  {
   "cell_type": "markdown",
   "metadata": {},
   "source": [
    "# ESRI Global Land Cover"
   ]
  },
  {
   "cell_type": "markdown",
   "metadata": {},
   "source": [
    "The ESRI Global Land Cover dataset is a global map of LULC derived from ESA Sentinel-2 imagery at 10m resolution. Each year is generated from Impact Observatory's deep learning AI land classificaiton model, which used a massive training dataset made of billions of human-labeled image pixels developed by the National Geographic Society. The global maps were produced by applying this model to the Sentinel-2 scene collection, processing over 400,000 Earth observations per year.\n",
    "- https://livingatlas.arcgis.com/landcover/\n",
    "- https://www.arcgis.com/home/item.html?id=d3da5dd386d140cf93fc9ecbf8da5e31\n",
    "- https://samapriya.github.io/awesome-gee-community-datasets/projects/S2TSLULC/"
   ]
  },
  {
   "cell_type": "code",
   "execution_count": 53,
   "metadata": {},
   "outputs": [
    {
     "data": {
      "text/html": [
       "\n",
       "            <style>\n",
       "                .geemap-dark {\n",
       "                    --jp-widgets-color: white;\n",
       "                    --jp-widgets-label-color: white;\n",
       "                    --jp-ui-font-color1: white;\n",
       "                    --jp-layout-color2: #454545;\n",
       "                    background-color: #383838;\n",
       "                }\n",
       "                    \n",
       "                .geemap-dark .jupyter-button {\n",
       "                    --jp-layout-color3: #383838;\n",
       "                }\n",
       "                \n",
       "                .geemap-colab {\n",
       "                    background-color: var(--colab-primary-surface-color, white);\n",
       "                }\n",
       "                    \n",
       "                .geemap-colab .jupyter-button {\n",
       "                    --jp-layout-color3: var(--colab-primary-surface-color, white);\n",
       "                }\n",
       "            </style>\n",
       "            "
      ],
      "text/plain": [
       "<IPython.core.display.HTML object>"
      ]
     },
     "metadata": {},
     "output_type": "display_data"
    },
    {
     "data": {
      "application/vnd.jupyter.widget-view+json": {
       "model_id": "aca8781202b44d7f8536ca43265fec0c",
       "version_major": 2,
       "version_minor": 0
      },
      "text/plain": [
       "Map(center=[0, 0], controls=(WidgetControl(options=['position', 'transparent_bg'], widget=SearchDataGUI(childr…"
      ]
     },
     "execution_count": 53,
     "metadata": {},
     "output_type": "execute_result"
    }
   ],
   "source": [
    "Map = geemap.Map()\n",
    "Map.add_basemap('HYBRID')\n",
    "\n",
    "esri = ee.ImageCollection(\n",
    "    'projects/sat-io/open-datasets/landcover/ESRI_Global-LULC_10m_TS'\n",
    ")\n",
    "\n",
    "esri_2017 = esri.filterDate('2017-01-01', '2017-12-31').mosaic()\n",
    "esri_2018 = esri.filterDate('2018-01-01', '2018-12-31').mosaic()\n",
    "esri_2019 = esri.filterDate('2019-01-01', '2019-12-31').mosaic()\n",
    "esri_2020 = esri.filterDate('2020-01-01', '2020-12-31').mosaic()\n",
    "esri_2021 = esri.filterDate('2021-01-01', '2021-12-31').mosaic()\n",
    "esri_2022 = esri.filterDate('2022-01-01', '2022-12-31').mosaic()\n",
    "\n",
    "esri_vis = {\n",
    "    'min': 1,\n",
    "    'max': 11,\n",
    "    'palette': 'esri_lulc'\n",
    "}\n",
    "\n",
    "Map.addLayer(esri_2017, esri_vis, 'ESRI LULC 2017')\n",
    "Map.addLayer(esri_2018, esri_vis, 'ESRI LULC 2018')\n",
    "Map.addLayer(esri_2019, esri_vis, 'ESRI LULC 2019')\n",
    "Map.addLayer(esri_2020, esri_vis, 'ESRI LULC 2020')\n",
    "Map.addLayer(esri_2021, esri_vis, 'ESRI LULC 2021')\n",
    "Map.addLayer(esri_2022, esri_vis, 'ESRI LULC 2022')\n",
    "\n",
    "Map.add_legend(title = 'ESRI Land Cover', builtin_legend = 'ESRI_LandCover_TS')\n",
    "Map"
   ]
  },
  {
   "cell_type": "markdown",
   "metadata": {},
   "source": [
    "## Time Series Inspector"
   ]
  },
  {
   "cell_type": "code",
   "execution_count": 57,
   "metadata": {},
   "outputs": [
    {
     "data": {
      "text/html": [
       "\n",
       "            <style>\n",
       "                .geemap-dark {\n",
       "                    --jp-widgets-color: white;\n",
       "                    --jp-widgets-label-color: white;\n",
       "                    --jp-ui-font-color1: white;\n",
       "                    --jp-layout-color2: #454545;\n",
       "                    background-color: #383838;\n",
       "                }\n",
       "                    \n",
       "                .geemap-dark .jupyter-button {\n",
       "                    --jp-layout-color3: #383838;\n",
       "                }\n",
       "                \n",
       "                .geemap-colab {\n",
       "                    background-color: var(--colab-primary-surface-color, white);\n",
       "                }\n",
       "                    \n",
       "                .geemap-colab .jupyter-button {\n",
       "                    --jp-layout-color3: var(--colab-primary-surface-color, white);\n",
       "                }\n",
       "            </style>\n",
       "            "
      ],
      "text/plain": [
       "<IPython.core.display.HTML object>"
      ]
     },
     "metadata": {},
     "output_type": "display_data"
    },
    {
     "data": {
      "text/html": [
       "<div><style>:root {\n",
       "  --font-color-primary: var(--jp-content-font-color0, rgba(0, 0, 0, 1));\n",
       "  --font-color-secondary: var(--jp-content-font-color2, rgba(0, 0, 0, 0.6));\n",
       "  --font-color-accent: rgba(123, 31, 162, 1);\n",
       "  --border-color: var(--jp-border-color2, #e0e0e0);\n",
       "  --background-color: var(--jp-layout-color0, white);\n",
       "  --background-color-row-even: var(--jp-layout-color1, white);\n",
       "  --background-color-row-odd: var(--jp-layout-color2, #eeeeee);\n",
       "}\n",
       "\n",
       "html[theme=\"dark\"],\n",
       "body[data-theme=\"dark\"],\n",
       "body.vscode-dark {\n",
       "  --font-color-primary: rgba(255, 255, 255, 1);\n",
       "  --font-color-secondary: rgba(255, 255, 255, 0.6);\n",
       "  --font-color-accent: rgb(173, 132, 190);\n",
       "  --border-color: #2e2e2e;\n",
       "  --background-color: #111111;\n",
       "  --background-color-row-even: #111111;\n",
       "  --background-color-row-odd: #313131;\n",
       "}\n",
       "\n",
       ".ee {\n",
       "  padding: 1em;\n",
       "  line-height: 1.5em;\n",
       "  min-width: 300px;\n",
       "  max-width: 1200px;\n",
       "  overflow-y: scroll;\n",
       "  max-height: 600px;\n",
       "  border: 1px solid var(--border-color);\n",
       "  font-family: monospace;\n",
       "}\n",
       "\n",
       ".ee li {\n",
       "  list-style-type: none;\n",
       "}\n",
       "\n",
       ".ee ul {\n",
       "  padding-left: 1.5em !important;\n",
       "  margin: 0;\n",
       "}\n",
       "\n",
       ".ee > ul {\n",
       "  padding-left: 0 !important;\n",
       "}\n",
       "\n",
       ".ee-open,\n",
       ".ee-shut {\n",
       "  color: var(--font-color-secondary);\n",
       "  cursor: pointer;\n",
       "  margin: 0;\n",
       "}\n",
       "\n",
       ".ee-open:hover,\n",
       ".ee-shut:hover {\n",
       "  color: var(--font-color-primary);\n",
       "}\n",
       "\n",
       ".ee-k {\n",
       "  color: var(--font-color-accent);\n",
       "  margin-right: 6px;\n",
       "}\n",
       "\n",
       ".ee-v {\n",
       "  color: var(--font-color-primary);\n",
       "}\n",
       "\n",
       ".ee-toggle {\n",
       "  display: none;\n",
       "}\n",
       "\n",
       ".ee-shut + ul {\n",
       "  display: none;\n",
       "}\n",
       "\n",
       ".ee-open + ul {\n",
       "  display: block;\n",
       "}\n",
       "\n",
       ".ee-shut::before {\n",
       "  display: inline-block;\n",
       "  content: \"▼\";\n",
       "  margin-right: 6px;\n",
       "  transform: rotate(-90deg);\n",
       "  transition: transform 0.2s;\n",
       "}\n",
       "\n",
       ".ee-open::before {\n",
       "  transform: rotate(0deg);\n",
       "  display: inline-block;\n",
       "  content: \"▼\";\n",
       "  margin-right: 6px;\n",
       "  transition: transform 0.2s;\n",
       "}\n",
       "</style><div class='ee'><ul><li><label class='ee-shut'>List (6 elements)<input type='checkbox' class='ee-toggle'></label><ul><li><label class='ee-shut'>0: Image (1 band)<input type='checkbox' class='ee-toggle'></label><ul><li><span class='ee-k'>type:</span><span class='ee-v'>Image</span></li><li><label class='ee-shut'>bands: List (1 element)<input type='checkbox' class='ee-toggle'></label><ul><li><label class='ee-shut'>0: \"b1\", unsigned int8, EPSG:4326<input type='checkbox' class='ee-toggle'></label><ul><li><span class='ee-k'>id:</span><span class='ee-v'>b1</span></li><li><span class='ee-k'>crs:</span><span class='ee-v'>EPSG:4326</span></li><li><label class='ee-shut'>crs_transform: [1, 0, 0, 0, 1, 0]<input type='checkbox' class='ee-toggle'></label><ul><li><span class='ee-k'>0:</span><span class='ee-v'>1</span></li><li><span class='ee-k'>1:</span><span class='ee-v'>0</span></li><li><span class='ee-k'>2:</span><span class='ee-v'>0</span></li><li><span class='ee-k'>3:</span><span class='ee-v'>0</span></li><li><span class='ee-k'>4:</span><span class='ee-v'>1</span></li><li><span class='ee-k'>5:</span><span class='ee-v'>0</span></li></ul></li><li><label class='ee-shut'>data_type: unsigned int8<input type='checkbox' class='ee-toggle'></label><ul><li><span class='ee-k'>type:</span><span class='ee-v'>PixelType</span></li><li><span class='ee-k'>max:</span><span class='ee-v'>255</span></li><li><span class='ee-k'>min:</span><span class='ee-v'>0</span></li><li><span class='ee-k'>precision:</span><span class='ee-v'>int</span></li></ul></li></ul></li></ul></li></ul></li><li><label class='ee-shut'>1: Image (1 band)<input type='checkbox' class='ee-toggle'></label><ul><li><span class='ee-k'>type:</span><span class='ee-v'>Image</span></li><li><label class='ee-shut'>bands: List (1 element)<input type='checkbox' class='ee-toggle'></label><ul><li><label class='ee-shut'>0: \"b1\", unsigned int8, EPSG:4326<input type='checkbox' class='ee-toggle'></label><ul><li><span class='ee-k'>id:</span><span class='ee-v'>b1</span></li><li><span class='ee-k'>crs:</span><span class='ee-v'>EPSG:4326</span></li><li><label class='ee-shut'>crs_transform: [1, 0, 0, 0, 1, 0]<input type='checkbox' class='ee-toggle'></label><ul><li><span class='ee-k'>0:</span><span class='ee-v'>1</span></li><li><span class='ee-k'>1:</span><span class='ee-v'>0</span></li><li><span class='ee-k'>2:</span><span class='ee-v'>0</span></li><li><span class='ee-k'>3:</span><span class='ee-v'>0</span></li><li><span class='ee-k'>4:</span><span class='ee-v'>1</span></li><li><span class='ee-k'>5:</span><span class='ee-v'>0</span></li></ul></li><li><label class='ee-shut'>data_type: unsigned int8<input type='checkbox' class='ee-toggle'></label><ul><li><span class='ee-k'>type:</span><span class='ee-v'>PixelType</span></li><li><span class='ee-k'>max:</span><span class='ee-v'>255</span></li><li><span class='ee-k'>min:</span><span class='ee-v'>0</span></li><li><span class='ee-k'>precision:</span><span class='ee-v'>int</span></li></ul></li></ul></li></ul></li></ul></li><li><label class='ee-shut'>2: Image (1 band)<input type='checkbox' class='ee-toggle'></label><ul><li><span class='ee-k'>type:</span><span class='ee-v'>Image</span></li><li><label class='ee-shut'>bands: List (1 element)<input type='checkbox' class='ee-toggle'></label><ul><li><label class='ee-shut'>0: \"b1\", unsigned int8, EPSG:4326<input type='checkbox' class='ee-toggle'></label><ul><li><span class='ee-k'>id:</span><span class='ee-v'>b1</span></li><li><span class='ee-k'>crs:</span><span class='ee-v'>EPSG:4326</span></li><li><label class='ee-shut'>crs_transform: [1, 0, 0, 0, 1, 0]<input type='checkbox' class='ee-toggle'></label><ul><li><span class='ee-k'>0:</span><span class='ee-v'>1</span></li><li><span class='ee-k'>1:</span><span class='ee-v'>0</span></li><li><span class='ee-k'>2:</span><span class='ee-v'>0</span></li><li><span class='ee-k'>3:</span><span class='ee-v'>0</span></li><li><span class='ee-k'>4:</span><span class='ee-v'>1</span></li><li><span class='ee-k'>5:</span><span class='ee-v'>0</span></li></ul></li><li><label class='ee-shut'>data_type: unsigned int8<input type='checkbox' class='ee-toggle'></label><ul><li><span class='ee-k'>type:</span><span class='ee-v'>PixelType</span></li><li><span class='ee-k'>max:</span><span class='ee-v'>255</span></li><li><span class='ee-k'>min:</span><span class='ee-v'>0</span></li><li><span class='ee-k'>precision:</span><span class='ee-v'>int</span></li></ul></li></ul></li></ul></li></ul></li><li><label class='ee-shut'>3: Image (1 band)<input type='checkbox' class='ee-toggle'></label><ul><li><span class='ee-k'>type:</span><span class='ee-v'>Image</span></li><li><label class='ee-shut'>bands: List (1 element)<input type='checkbox' class='ee-toggle'></label><ul><li><label class='ee-shut'>0: \"b1\", unsigned int8, EPSG:4326<input type='checkbox' class='ee-toggle'></label><ul><li><span class='ee-k'>id:</span><span class='ee-v'>b1</span></li><li><span class='ee-k'>crs:</span><span class='ee-v'>EPSG:4326</span></li><li><label class='ee-shut'>crs_transform: [1, 0, 0, 0, 1, 0]<input type='checkbox' class='ee-toggle'></label><ul><li><span class='ee-k'>0:</span><span class='ee-v'>1</span></li><li><span class='ee-k'>1:</span><span class='ee-v'>0</span></li><li><span class='ee-k'>2:</span><span class='ee-v'>0</span></li><li><span class='ee-k'>3:</span><span class='ee-v'>0</span></li><li><span class='ee-k'>4:</span><span class='ee-v'>1</span></li><li><span class='ee-k'>5:</span><span class='ee-v'>0</span></li></ul></li><li><label class='ee-shut'>data_type: unsigned int8<input type='checkbox' class='ee-toggle'></label><ul><li><span class='ee-k'>type:</span><span class='ee-v'>PixelType</span></li><li><span class='ee-k'>max:</span><span class='ee-v'>255</span></li><li><span class='ee-k'>min:</span><span class='ee-v'>0</span></li><li><span class='ee-k'>precision:</span><span class='ee-v'>int</span></li></ul></li></ul></li></ul></li></ul></li><li><label class='ee-shut'>4: Image (1 band)<input type='checkbox' class='ee-toggle'></label><ul><li><span class='ee-k'>type:</span><span class='ee-v'>Image</span></li><li><label class='ee-shut'>bands: List (1 element)<input type='checkbox' class='ee-toggle'></label><ul><li><label class='ee-shut'>0: \"b1\", unsigned int8, EPSG:4326<input type='checkbox' class='ee-toggle'></label><ul><li><span class='ee-k'>id:</span><span class='ee-v'>b1</span></li><li><span class='ee-k'>crs:</span><span class='ee-v'>EPSG:4326</span></li><li><label class='ee-shut'>crs_transform: [1, 0, 0, 0, 1, 0]<input type='checkbox' class='ee-toggle'></label><ul><li><span class='ee-k'>0:</span><span class='ee-v'>1</span></li><li><span class='ee-k'>1:</span><span class='ee-v'>0</span></li><li><span class='ee-k'>2:</span><span class='ee-v'>0</span></li><li><span class='ee-k'>3:</span><span class='ee-v'>0</span></li><li><span class='ee-k'>4:</span><span class='ee-v'>1</span></li><li><span class='ee-k'>5:</span><span class='ee-v'>0</span></li></ul></li><li><label class='ee-shut'>data_type: unsigned int8<input type='checkbox' class='ee-toggle'></label><ul><li><span class='ee-k'>type:</span><span class='ee-v'>PixelType</span></li><li><span class='ee-k'>max:</span><span class='ee-v'>255</span></li><li><span class='ee-k'>min:</span><span class='ee-v'>0</span></li><li><span class='ee-k'>precision:</span><span class='ee-v'>int</span></li></ul></li></ul></li></ul></li></ul></li><li><label class='ee-shut'>5: Image (1 band)<input type='checkbox' class='ee-toggle'></label><ul><li><span class='ee-k'>type:</span><span class='ee-v'>Image</span></li><li><label class='ee-shut'>bands: List (1 element)<input type='checkbox' class='ee-toggle'></label><ul><li><label class='ee-shut'>0: \"b1\", unsigned int8, EPSG:4326<input type='checkbox' class='ee-toggle'></label><ul><li><span class='ee-k'>id:</span><span class='ee-v'>b1</span></li><li><span class='ee-k'>crs:</span><span class='ee-v'>EPSG:4326</span></li><li><label class='ee-shut'>crs_transform: [1, 0, 0, 0, 1, 0]<input type='checkbox' class='ee-toggle'></label><ul><li><span class='ee-k'>0:</span><span class='ee-v'>1</span></li><li><span class='ee-k'>1:</span><span class='ee-v'>0</span></li><li><span class='ee-k'>2:</span><span class='ee-v'>0</span></li><li><span class='ee-k'>3:</span><span class='ee-v'>0</span></li><li><span class='ee-k'>4:</span><span class='ee-v'>1</span></li><li><span class='ee-k'>5:</span><span class='ee-v'>0</span></li></ul></li><li><label class='ee-shut'>data_type: unsigned int8<input type='checkbox' class='ee-toggle'></label><ul><li><span class='ee-k'>type:</span><span class='ee-v'>PixelType</span></li><li><span class='ee-k'>max:</span><span class='ee-v'>255</span></li><li><span class='ee-k'>min:</span><span class='ee-v'>0</span></li><li><span class='ee-k'>precision:</span><span class='ee-v'>int</span></li></ul></li></ul></li></ul></li></ul></li></ul></li></ul></div><script>function toggleHeader() {\n",
       "    const parent = this.parentElement;\n",
       "    parent.className = parent.className === \"ee-open\" ? \"ee-shut\" : \"ee-open\";\n",
       "}\n",
       "\n",
       "for (let c of document.getElementsByClassName(\"ee-toggle\")) {\n",
       "    c.onclick = toggleHeader;\n",
       "}</script></div>"
      ],
      "text/plain": [
       "<ee.ee_list.List at 0x1ad58b47d30>"
      ]
     },
     "execution_count": 57,
     "metadata": {},
     "output_type": "execute_result"
    }
   ],
   "source": [
    "images = ee.List([esri_2017, esri_2018, esri_2019, esri_2020, esri_2021, esri_2022])\n",
    "collection = ee.ImageCollection.fromImages(images)\n",
    "images"
   ]
  },
  {
   "cell_type": "code",
   "execution_count": 58,
   "metadata": {},
   "outputs": [
    {
     "data": {
      "text/html": [
       "\n",
       "            <style>\n",
       "                .geemap-dark {\n",
       "                    --jp-widgets-color: white;\n",
       "                    --jp-widgets-label-color: white;\n",
       "                    --jp-ui-font-color1: white;\n",
       "                    --jp-layout-color2: #454545;\n",
       "                    background-color: #383838;\n",
       "                }\n",
       "                    \n",
       "                .geemap-dark .jupyter-button {\n",
       "                    --jp-layout-color3: #383838;\n",
       "                }\n",
       "                \n",
       "                .geemap-colab {\n",
       "                    background-color: var(--colab-primary-surface-color, white);\n",
       "                }\n",
       "                    \n",
       "                .geemap-colab .jupyter-button {\n",
       "                    --jp-layout-color3: var(--colab-primary-surface-color, white);\n",
       "                }\n",
       "            </style>\n",
       "            "
      ],
      "text/plain": [
       "<IPython.core.display.HTML object>"
      ]
     },
     "metadata": {},
     "output_type": "display_data"
    },
    {
     "data": {
      "text/plain": [
       "['2017', '2018', '2019', '2020', '2021', '2022']"
      ]
     },
     "execution_count": 58,
     "metadata": {},
     "output_type": "execute_result"
    }
   ],
   "source": [
    "years = [str(year) for year in range (2017, 2022 + 1)]\n",
    "years"
   ]
  },
  {
   "cell_type": "code",
   "execution_count": 59,
   "metadata": {},
   "outputs": [
    {
     "data": {
      "text/html": [
       "\n",
       "            <style>\n",
       "                .geemap-dark {\n",
       "                    --jp-widgets-color: white;\n",
       "                    --jp-widgets-label-color: white;\n",
       "                    --jp-ui-font-color1: white;\n",
       "                    --jp-layout-color2: #454545;\n",
       "                    background-color: #383838;\n",
       "                }\n",
       "                    \n",
       "                .geemap-dark .jupyter-button {\n",
       "                    --jp-layout-color3: #383838;\n",
       "                }\n",
       "                \n",
       "                .geemap-colab {\n",
       "                    background-color: var(--colab-primary-surface-color, white);\n",
       "                }\n",
       "                    \n",
       "                .geemap-colab .jupyter-button {\n",
       "                    --jp-layout-color3: var(--colab-primary-surface-color, white);\n",
       "                }\n",
       "            </style>\n",
       "            "
      ],
      "text/plain": [
       "<IPython.core.display.HTML object>"
      ]
     },
     "metadata": {},
     "output_type": "display_data"
    },
    {
     "data": {
      "application/vnd.jupyter.widget-view+json": {
       "model_id": "21c9310f0bb74d22bb7fb2d0c2c8eadd",
       "version_major": 2,
       "version_minor": 0
      },
      "text/plain": [
       "Map(center=[0, 0], controls=(WidgetControl(options=['position', 'transparent_bg'], widget=Dropdown(layout=Layo…"
      ]
     },
     "execution_count": 59,
     "metadata": {},
     "output_type": "execute_result"
    }
   ],
   "source": [
    "Map = geemap.Map()\n",
    "Map.ts_inspector(collection, years, esri_vis, width = '80px')\n",
    "Map.add_legend(title = 'ESRI Land Cover', builtin_legend = 'ESRI_LandCover_TS')\n",
    "Map"
   ]
  },
  {
   "cell_type": "markdown",
   "metadata": {},
   "source": [
    "## Extracting Croplands"
   ]
  },
  {
   "cell_type": "code",
   "execution_count": 60,
   "metadata": {},
   "outputs": [
    {
     "data": {
      "text/html": [
       "\n",
       "            <style>\n",
       "                .geemap-dark {\n",
       "                    --jp-widgets-color: white;\n",
       "                    --jp-widgets-label-color: white;\n",
       "                    --jp-ui-font-color1: white;\n",
       "                    --jp-layout-color2: #454545;\n",
       "                    background-color: #383838;\n",
       "                }\n",
       "                    \n",
       "                .geemap-dark .jupyter-button {\n",
       "                    --jp-layout-color3: #383838;\n",
       "                }\n",
       "                \n",
       "                .geemap-colab {\n",
       "                    background-color: var(--colab-primary-surface-color, white);\n",
       "                }\n",
       "                    \n",
       "                .geemap-colab .jupyter-button {\n",
       "                    --jp-layout-color3: var(--colab-primary-surface-color, white);\n",
       "                }\n",
       "            </style>\n",
       "            "
      ],
      "text/plain": [
       "<IPython.core.display.HTML object>"
      ]
     },
     "metadata": {},
     "output_type": "display_data"
    },
    {
     "data": {
      "text/html": [
       "<div><style>:root {\n",
       "  --font-color-primary: var(--jp-content-font-color0, rgba(0, 0, 0, 1));\n",
       "  --font-color-secondary: var(--jp-content-font-color2, rgba(0, 0, 0, 0.6));\n",
       "  --font-color-accent: rgba(123, 31, 162, 1);\n",
       "  --border-color: var(--jp-border-color2, #e0e0e0);\n",
       "  --background-color: var(--jp-layout-color0, white);\n",
       "  --background-color-row-even: var(--jp-layout-color1, white);\n",
       "  --background-color-row-odd: var(--jp-layout-color2, #eeeeee);\n",
       "}\n",
       "\n",
       "html[theme=\"dark\"],\n",
       "body[data-theme=\"dark\"],\n",
       "body.vscode-dark {\n",
       "  --font-color-primary: rgba(255, 255, 255, 1);\n",
       "  --font-color-secondary: rgba(255, 255, 255, 0.6);\n",
       "  --font-color-accent: rgb(173, 132, 190);\n",
       "  --border-color: #2e2e2e;\n",
       "  --background-color: #111111;\n",
       "  --background-color-row-even: #111111;\n",
       "  --background-color-row-odd: #313131;\n",
       "}\n",
       "\n",
       ".ee {\n",
       "  padding: 1em;\n",
       "  line-height: 1.5em;\n",
       "  min-width: 300px;\n",
       "  max-width: 1200px;\n",
       "  overflow-y: scroll;\n",
       "  max-height: 600px;\n",
       "  border: 1px solid var(--border-color);\n",
       "  font-family: monospace;\n",
       "}\n",
       "\n",
       ".ee li {\n",
       "  list-style-type: none;\n",
       "}\n",
       "\n",
       ".ee ul {\n",
       "  padding-left: 1.5em !important;\n",
       "  margin: 0;\n",
       "}\n",
       "\n",
       ".ee > ul {\n",
       "  padding-left: 0 !important;\n",
       "}\n",
       "\n",
       ".ee-open,\n",
       ".ee-shut {\n",
       "  color: var(--font-color-secondary);\n",
       "  cursor: pointer;\n",
       "  margin: 0;\n",
       "}\n",
       "\n",
       ".ee-open:hover,\n",
       ".ee-shut:hover {\n",
       "  color: var(--font-color-primary);\n",
       "}\n",
       "\n",
       ".ee-k {\n",
       "  color: var(--font-color-accent);\n",
       "  margin-right: 6px;\n",
       "}\n",
       "\n",
       ".ee-v {\n",
       "  color: var(--font-color-primary);\n",
       "}\n",
       "\n",
       ".ee-toggle {\n",
       "  display: none;\n",
       "}\n",
       "\n",
       ".ee-shut + ul {\n",
       "  display: none;\n",
       "}\n",
       "\n",
       ".ee-open + ul {\n",
       "  display: block;\n",
       "}\n",
       "\n",
       ".ee-shut::before {\n",
       "  display: inline-block;\n",
       "  content: \"▼\";\n",
       "  margin-right: 6px;\n",
       "  transform: rotate(-90deg);\n",
       "  transition: transform 0.2s;\n",
       "}\n",
       "\n",
       ".ee-open::before {\n",
       "  transform: rotate(0deg);\n",
       "  display: inline-block;\n",
       "  content: \"▼\";\n",
       "  margin-right: 6px;\n",
       "  transition: transform 0.2s;\n",
       "}\n",
       "</style><div class='ee'><ul><li><label class='ee-shut'>Image (6 bands)<input type='checkbox' class='ee-toggle'></label><ul><li><span class='ee-k'>type:</span><span class='ee-v'>Image</span></li><li><label class='ee-shut'>bands: List (6 elements)<input type='checkbox' class='ee-toggle'></label><ul><li><label class='ee-shut'>0: \"2017\", int ∈ [0, 1], EPSG:4326<input type='checkbox' class='ee-toggle'></label><ul><li><span class='ee-k'>id:</span><span class='ee-v'>2017</span></li><li><span class='ee-k'>crs:</span><span class='ee-v'>EPSG:4326</span></li><li><label class='ee-shut'>crs_transform: [1, 0, 0, 0, 1, 0]<input type='checkbox' class='ee-toggle'></label><ul><li><span class='ee-k'>0:</span><span class='ee-v'>1</span></li><li><span class='ee-k'>1:</span><span class='ee-v'>0</span></li><li><span class='ee-k'>2:</span><span class='ee-v'>0</span></li><li><span class='ee-k'>3:</span><span class='ee-v'>0</span></li><li><span class='ee-k'>4:</span><span class='ee-v'>1</span></li><li><span class='ee-k'>5:</span><span class='ee-v'>0</span></li></ul></li><li><label class='ee-shut'>data_type: int ∈ [0, 1]<input type='checkbox' class='ee-toggle'></label><ul><li><span class='ee-k'>type:</span><span class='ee-v'>PixelType</span></li><li><span class='ee-k'>max:</span><span class='ee-v'>1</span></li><li><span class='ee-k'>min:</span><span class='ee-v'>0</span></li><li><span class='ee-k'>precision:</span><span class='ee-v'>int</span></li></ul></li></ul></li><li><label class='ee-shut'>1: \"2018\", int ∈ [0, 1], EPSG:4326<input type='checkbox' class='ee-toggle'></label><ul><li><span class='ee-k'>id:</span><span class='ee-v'>2018</span></li><li><span class='ee-k'>crs:</span><span class='ee-v'>EPSG:4326</span></li><li><label class='ee-shut'>crs_transform: [1, 0, 0, 0, 1, 0]<input type='checkbox' class='ee-toggle'></label><ul><li><span class='ee-k'>0:</span><span class='ee-v'>1</span></li><li><span class='ee-k'>1:</span><span class='ee-v'>0</span></li><li><span class='ee-k'>2:</span><span class='ee-v'>0</span></li><li><span class='ee-k'>3:</span><span class='ee-v'>0</span></li><li><span class='ee-k'>4:</span><span class='ee-v'>1</span></li><li><span class='ee-k'>5:</span><span class='ee-v'>0</span></li></ul></li><li><label class='ee-shut'>data_type: int ∈ [0, 1]<input type='checkbox' class='ee-toggle'></label><ul><li><span class='ee-k'>type:</span><span class='ee-v'>PixelType</span></li><li><span class='ee-k'>max:</span><span class='ee-v'>1</span></li><li><span class='ee-k'>min:</span><span class='ee-v'>0</span></li><li><span class='ee-k'>precision:</span><span class='ee-v'>int</span></li></ul></li></ul></li><li><label class='ee-shut'>2: \"2019\", int ∈ [0, 1], EPSG:4326<input type='checkbox' class='ee-toggle'></label><ul><li><span class='ee-k'>id:</span><span class='ee-v'>2019</span></li><li><span class='ee-k'>crs:</span><span class='ee-v'>EPSG:4326</span></li><li><label class='ee-shut'>crs_transform: [1, 0, 0, 0, 1, 0]<input type='checkbox' class='ee-toggle'></label><ul><li><span class='ee-k'>0:</span><span class='ee-v'>1</span></li><li><span class='ee-k'>1:</span><span class='ee-v'>0</span></li><li><span class='ee-k'>2:</span><span class='ee-v'>0</span></li><li><span class='ee-k'>3:</span><span class='ee-v'>0</span></li><li><span class='ee-k'>4:</span><span class='ee-v'>1</span></li><li><span class='ee-k'>5:</span><span class='ee-v'>0</span></li></ul></li><li><label class='ee-shut'>data_type: int ∈ [0, 1]<input type='checkbox' class='ee-toggle'></label><ul><li><span class='ee-k'>type:</span><span class='ee-v'>PixelType</span></li><li><span class='ee-k'>max:</span><span class='ee-v'>1</span></li><li><span class='ee-k'>min:</span><span class='ee-v'>0</span></li><li><span class='ee-k'>precision:</span><span class='ee-v'>int</span></li></ul></li></ul></li><li><label class='ee-shut'>3: \"2020\", int ∈ [0, 1], EPSG:4326<input type='checkbox' class='ee-toggle'></label><ul><li><span class='ee-k'>id:</span><span class='ee-v'>2020</span></li><li><span class='ee-k'>crs:</span><span class='ee-v'>EPSG:4326</span></li><li><label class='ee-shut'>crs_transform: [1, 0, 0, 0, 1, 0]<input type='checkbox' class='ee-toggle'></label><ul><li><span class='ee-k'>0:</span><span class='ee-v'>1</span></li><li><span class='ee-k'>1:</span><span class='ee-v'>0</span></li><li><span class='ee-k'>2:</span><span class='ee-v'>0</span></li><li><span class='ee-k'>3:</span><span class='ee-v'>0</span></li><li><span class='ee-k'>4:</span><span class='ee-v'>1</span></li><li><span class='ee-k'>5:</span><span class='ee-v'>0</span></li></ul></li><li><label class='ee-shut'>data_type: int ∈ [0, 1]<input type='checkbox' class='ee-toggle'></label><ul><li><span class='ee-k'>type:</span><span class='ee-v'>PixelType</span></li><li><span class='ee-k'>max:</span><span class='ee-v'>1</span></li><li><span class='ee-k'>min:</span><span class='ee-v'>0</span></li><li><span class='ee-k'>precision:</span><span class='ee-v'>int</span></li></ul></li></ul></li><li><label class='ee-shut'>4: \"2021\", int ∈ [0, 1], EPSG:4326<input type='checkbox' class='ee-toggle'></label><ul><li><span class='ee-k'>id:</span><span class='ee-v'>2021</span></li><li><span class='ee-k'>crs:</span><span class='ee-v'>EPSG:4326</span></li><li><label class='ee-shut'>crs_transform: [1, 0, 0, 0, 1, 0]<input type='checkbox' class='ee-toggle'></label><ul><li><span class='ee-k'>0:</span><span class='ee-v'>1</span></li><li><span class='ee-k'>1:</span><span class='ee-v'>0</span></li><li><span class='ee-k'>2:</span><span class='ee-v'>0</span></li><li><span class='ee-k'>3:</span><span class='ee-v'>0</span></li><li><span class='ee-k'>4:</span><span class='ee-v'>1</span></li><li><span class='ee-k'>5:</span><span class='ee-v'>0</span></li></ul></li><li><label class='ee-shut'>data_type: int ∈ [0, 1]<input type='checkbox' class='ee-toggle'></label><ul><li><span class='ee-k'>type:</span><span class='ee-v'>PixelType</span></li><li><span class='ee-k'>max:</span><span class='ee-v'>1</span></li><li><span class='ee-k'>min:</span><span class='ee-v'>0</span></li><li><span class='ee-k'>precision:</span><span class='ee-v'>int</span></li></ul></li></ul></li><li><label class='ee-shut'>5: \"2022\", int ∈ [0, 1], EPSG:4326<input type='checkbox' class='ee-toggle'></label><ul><li><span class='ee-k'>id:</span><span class='ee-v'>2022</span></li><li><span class='ee-k'>crs:</span><span class='ee-v'>EPSG:4326</span></li><li><label class='ee-shut'>crs_transform: [1, 0, 0, 0, 1, 0]<input type='checkbox' class='ee-toggle'></label><ul><li><span class='ee-k'>0:</span><span class='ee-v'>1</span></li><li><span class='ee-k'>1:</span><span class='ee-v'>0</span></li><li><span class='ee-k'>2:</span><span class='ee-v'>0</span></li><li><span class='ee-k'>3:</span><span class='ee-v'>0</span></li><li><span class='ee-k'>4:</span><span class='ee-v'>1</span></li><li><span class='ee-k'>5:</span><span class='ee-v'>0</span></li></ul></li><li><label class='ee-shut'>data_type: int ∈ [0, 1]<input type='checkbox' class='ee-toggle'></label><ul><li><span class='ee-k'>type:</span><span class='ee-v'>PixelType</span></li><li><span class='ee-k'>max:</span><span class='ee-v'>1</span></li><li><span class='ee-k'>min:</span><span class='ee-v'>0</span></li><li><span class='ee-k'>precision:</span><span class='ee-v'>int</span></li></ul></li></ul></li></ul></li></ul></li></ul></div><script>function toggleHeader() {\n",
       "    const parent = this.parentElement;\n",
       "    parent.className = parent.className === \"ee-open\" ? \"ee-shut\" : \"ee-open\";\n",
       "}\n",
       "\n",
       "for (let c of document.getElementsByClassName(\"ee-toggle\")) {\n",
       "    c.onclick = toggleHeader;\n",
       "}</script></div>"
      ],
      "text/plain": [
       "<ee.image.Image at 0x1ad58c4d630>"
      ]
     },
     "execution_count": 60,
     "metadata": {},
     "output_type": "execute_result"
    }
   ],
   "source": [
    "countries = ee.FeatureCollection(geemap.examples.get_ee_path('countries'))\n",
    "africa = countries.filter(ee.Filter.eq('CONTINENT', 'Africa'))\n",
    "\n",
    "cropland_col = collection.map(lambda img: img.eq(5).clipToCollection(africa).selfMask())\n",
    "cropland_ts = cropland_col.toBands().rename(years)\n",
    "cropland_ts"
   ]
  },
  {
   "cell_type": "code",
   "execution_count": 61,
   "metadata": {},
   "outputs": [
    {
     "data": {
      "text/html": [
       "\n",
       "            <style>\n",
       "                .geemap-dark {\n",
       "                    --jp-widgets-color: white;\n",
       "                    --jp-widgets-label-color: white;\n",
       "                    --jp-ui-font-color1: white;\n",
       "                    --jp-layout-color2: #454545;\n",
       "                    background-color: #383838;\n",
       "                }\n",
       "                    \n",
       "                .geemap-dark .jupyter-button {\n",
       "                    --jp-layout-color3: #383838;\n",
       "                }\n",
       "                \n",
       "                .geemap-colab {\n",
       "                    background-color: var(--colab-primary-surface-color, white);\n",
       "                }\n",
       "                    \n",
       "                .geemap-colab .jupyter-button {\n",
       "                    --jp-layout-color3: var(--colab-primary-surface-color, white);\n",
       "                }\n",
       "            </style>\n",
       "            "
      ],
      "text/plain": [
       "<IPython.core.display.HTML object>"
      ]
     },
     "metadata": {},
     "output_type": "display_data"
    },
    {
     "data": {
      "application/vnd.jupyter.widget-view+json": {
       "model_id": "4005a03b03ae4f5faa3a799fc8b0c54f",
       "version_major": 2,
       "version_minor": 0
      },
      "text/plain": [
       "Map(center=[0, 0], controls=(WidgetControl(options=['position', 'transparent_bg'], widget=SearchDataGUI(childr…"
      ]
     },
     "execution_count": 61,
     "metadata": {},
     "output_type": "execute_result"
    }
   ],
   "source": [
    "Map = geemap.Map()\n",
    "\n",
    "style = {'fillColor': '00000000'}\n",
    "Map.addLayer(countries.style(**style), {}, 'Countries', False)\n",
    "Map.addLayer(africa.style(**a_style), {}, 'Africa')\n",
    "Map.addLayer(cropland_col.first(), {'palette': ['#ab6c28']}, 'first')\n",
    "Map.centerObject(africa)\n",
    "\n",
    "Map"
   ]
  },
  {
   "cell_type": "code",
   "execution_count": 62,
   "metadata": {},
   "outputs": [
    {
     "data": {
      "text/html": [
       "\n",
       "            <style>\n",
       "                .geemap-dark {\n",
       "                    --jp-widgets-color: white;\n",
       "                    --jp-widgets-label-color: white;\n",
       "                    --jp-ui-font-color1: white;\n",
       "                    --jp-layout-color2: #454545;\n",
       "                    background-color: #383838;\n",
       "                }\n",
       "                    \n",
       "                .geemap-dark .jupyter-button {\n",
       "                    --jp-layout-color3: #383838;\n",
       "                }\n",
       "                \n",
       "                .geemap-colab {\n",
       "                    background-color: var(--colab-primary-surface-color, white);\n",
       "                }\n",
       "                    \n",
       "                .geemap-colab .jupyter-button {\n",
       "                    --jp-layout-color3: var(--colab-primary-surface-color, white);\n",
       "                }\n",
       "            </style>\n",
       "            "
      ],
      "text/plain": [
       "<IPython.core.display.HTML object>"
      ]
     },
     "metadata": {},
     "output_type": "display_data"
    },
    {
     "data": {
      "text/plain": [
       "['2017', '2018', '2019', '2020', '2021', '2022']"
      ]
     },
     "execution_count": 62,
     "metadata": {},
     "output_type": "execute_result"
    }
   ],
   "source": [
    "cropland_ts.bandNames().getInfo()"
   ]
  },
  {
   "cell_type": "markdown",
   "metadata": {},
   "source": [
    "## Zonal Statistics"
   ]
  },
  {
   "cell_type": "code",
   "execution_count": 63,
   "metadata": {},
   "outputs": [
    {
     "data": {
      "text/html": [
       "\n",
       "            <style>\n",
       "                .geemap-dark {\n",
       "                    --jp-widgets-color: white;\n",
       "                    --jp-widgets-label-color: white;\n",
       "                    --jp-ui-font-color1: white;\n",
       "                    --jp-layout-color2: #454545;\n",
       "                    background-color: #383838;\n",
       "                }\n",
       "                    \n",
       "                .geemap-dark .jupyter-button {\n",
       "                    --jp-layout-color3: #383838;\n",
       "                }\n",
       "                \n",
       "                .geemap-colab {\n",
       "                    background-color: var(--colab-primary-surface-color, white);\n",
       "                }\n",
       "                    \n",
       "                .geemap-colab .jupyter-button {\n",
       "                    --jp-layout-color3: var(--colab-primary-surface-color, white);\n",
       "                }\n",
       "            </style>\n",
       "            "
      ],
      "text/plain": [
       "<IPython.core.display.HTML object>"
      ]
     },
     "metadata": {},
     "output_type": "display_data"
    },
    {
     "name": "stdout",
     "output_type": "stream",
     "text": [
      "Computing statistics ...\n",
      "Generating URL ...\n",
      "Downloading data from https://earthengine.googleapis.com/v1/projects/earthengine-legacy/tables/a14cb23c8f675170a2895b12dced02b7-0ed2ccda1444594fe805d0fa7f77eb3e:getFeatures\n",
      "Please wait ...\n",
      "Data downloaded to c:\\Users\\gilramolete\\OneDrive - UNIONBANK of the Philippines\\Documents 1\\geemap\\data\\esri_cropland.csv\n"
     ]
    }
   ],
   "source": [
    "geemap.zonal_stats(\n",
    "    cropland_ts, africa, 'data/esri_cropland.csv', stat_type = 'SUM', scale = 1000\n",
    ")"
   ]
  },
  {
   "cell_type": "code",
   "execution_count": 64,
   "metadata": {},
   "outputs": [
    {
     "data": {
      "text/html": [
       "\n",
       "            <style>\n",
       "                .geemap-dark {\n",
       "                    --jp-widgets-color: white;\n",
       "                    --jp-widgets-label-color: white;\n",
       "                    --jp-ui-font-color1: white;\n",
       "                    --jp-layout-color2: #454545;\n",
       "                    background-color: #383838;\n",
       "                }\n",
       "                    \n",
       "                .geemap-dark .jupyter-button {\n",
       "                    --jp-layout-color3: #383838;\n",
       "                }\n",
       "                \n",
       "                .geemap-colab {\n",
       "                    background-color: var(--colab-primary-surface-color, white);\n",
       "                }\n",
       "                    \n",
       "                .geemap-colab .jupyter-button {\n",
       "                    --jp-layout-color3: var(--colab-primary-surface-color, white);\n",
       "                }\n",
       "            </style>\n",
       "            "
      ],
      "text/plain": [
       "<IPython.core.display.HTML object>"
      ]
     },
     "metadata": {},
     "output_type": "display_data"
    },
    {
     "data": {
      "text/html": [
       "<div>\n",
       "<style scoped>\n",
       "    .dataframe tbody tr th:only-of-type {\n",
       "        vertical-align: middle;\n",
       "    }\n",
       "\n",
       "    .dataframe tbody tr th {\n",
       "        vertical-align: top;\n",
       "    }\n",
       "\n",
       "    .dataframe thead th {\n",
       "        text-align: right;\n",
       "    }\n",
       "</style>\n",
       "<table border=\"1\" class=\"dataframe\">\n",
       "  <thead>\n",
       "    <tr style=\"text-align: right;\">\n",
       "      <th></th>\n",
       "      <th>2017</th>\n",
       "      <th>2018</th>\n",
       "      <th>2019</th>\n",
       "      <th>2020</th>\n",
       "      <th>2021</th>\n",
       "      <th>2022</th>\n",
       "      <th>GDP_MD_EST</th>\n",
       "      <th>ISO_A2</th>\n",
       "      <th>POP_RANK</th>\n",
       "      <th>ISO_A3</th>\n",
       "      <th>CONTINENT</th>\n",
       "      <th>POP_EST</th>\n",
       "      <th>INCOME_GRP</th>\n",
       "      <th>SUBREGION</th>\n",
       "      <th>system:index</th>\n",
       "      <th>NAME</th>\n",
       "    </tr>\n",
       "  </thead>\n",
       "  <tbody>\n",
       "    <tr>\n",
       "      <th>0</th>\n",
       "      <td>6900.839216</td>\n",
       "      <td>8345.709804</td>\n",
       "      <td>6293.945098</td>\n",
       "      <td>6026.882353</td>\n",
       "      <td>7079.513725</td>\n",
       "      <td>7741.666667</td>\n",
       "      <td>66010.0</td>\n",
       "      <td>CD</td>\n",
       "      <td>16</td>\n",
       "      <td>COD</td>\n",
       "      <td>Africa</td>\n",
       "      <td>83301151</td>\n",
       "      <td>5. Low income</td>\n",
       "      <td>Middle Africa</td>\n",
       "      <td>0000000000000000000b</td>\n",
       "      <td>Dem. Rep. Congo</td>\n",
       "    </tr>\n",
       "    <tr>\n",
       "      <th>1</th>\n",
       "      <td>19867.694118</td>\n",
       "      <td>17239.431373</td>\n",
       "      <td>16109.882353</td>\n",
       "      <td>19053.890196</td>\n",
       "      <td>19242.509804</td>\n",
       "      <td>21446.192157</td>\n",
       "      <td>30590.0</td>\n",
       "      <td>TD</td>\n",
       "      <td>14</td>\n",
       "      <td>TCD</td>\n",
       "      <td>Africa</td>\n",
       "      <td>12075985</td>\n",
       "      <td>5. Low income</td>\n",
       "      <td>Middle Africa</td>\n",
       "      <td>0000000000000000000f</td>\n",
       "      <td>Chad</td>\n",
       "    </tr>\n",
       "    <tr>\n",
       "      <th>2</th>\n",
       "      <td>367.447059</td>\n",
       "      <td>518.882353</td>\n",
       "      <td>584.901961</td>\n",
       "      <td>717.356863</td>\n",
       "      <td>684.133333</td>\n",
       "      <td>1123.403922</td>\n",
       "      <td>3206.0</td>\n",
       "      <td>CF</td>\n",
       "      <td>13</td>\n",
       "      <td>CAF</td>\n",
       "      <td>Africa</td>\n",
       "      <td>5625118</td>\n",
       "      <td>5. Low income</td>\n",
       "      <td>Middle Africa</td>\n",
       "      <td>00000000000000000042</td>\n",
       "      <td>Central African Rep.</td>\n",
       "    </tr>\n",
       "    <tr>\n",
       "      <th>3</th>\n",
       "      <td>46288.988235</td>\n",
       "      <td>45339.407843</td>\n",
       "      <td>50564.792157</td>\n",
       "      <td>55603.462745</td>\n",
       "      <td>58286.588235</td>\n",
       "      <td>65641.952941</td>\n",
       "      <td>150600.0</td>\n",
       "      <td>TZ</td>\n",
       "      <td>16</td>\n",
       "      <td>TZA</td>\n",
       "      <td>Africa</td>\n",
       "      <td>53950935</td>\n",
       "      <td>5. Low income</td>\n",
       "      <td>Eastern Africa</td>\n",
       "      <td>00000000000000000001</td>\n",
       "      <td>Tanzania</td>\n",
       "    </tr>\n",
       "    <tr>\n",
       "      <th>4</th>\n",
       "      <td>6913.113725</td>\n",
       "      <td>8625.537255</td>\n",
       "      <td>8530.376471</td>\n",
       "      <td>11638.392157</td>\n",
       "      <td>9955.882353</td>\n",
       "      <td>7949.270588</td>\n",
       "      <td>4719.0</td>\n",
       "      <td>SO</td>\n",
       "      <td>13</td>\n",
       "      <td>SOM</td>\n",
       "      <td>Africa</td>\n",
       "      <td>7531386</td>\n",
       "      <td>5. Low income</td>\n",
       "      <td>Eastern Africa</td>\n",
       "      <td>0000000000000000000c</td>\n",
       "      <td>Somalia</td>\n",
       "    </tr>\n",
       "    <tr>\n",
       "      <th>5</th>\n",
       "      <td>51950.419608</td>\n",
       "      <td>54464.666667</td>\n",
       "      <td>52557.137255</td>\n",
       "      <td>51214.956863</td>\n",
       "      <td>51085.756863</td>\n",
       "      <td>53167.968627</td>\n",
       "      <td>152700.0</td>\n",
       "      <td>KE</td>\n",
       "      <td>15</td>\n",
       "      <td>KEN</td>\n",
       "      <td>Africa</td>\n",
       "      <td>47615739</td>\n",
       "      <td>5. Low income</td>\n",
       "      <td>Eastern Africa</td>\n",
       "      <td>0000000000000000000d</td>\n",
       "      <td>Kenya</td>\n",
       "    </tr>\n",
       "    <tr>\n",
       "      <th>6</th>\n",
       "      <td>19770.349020</td>\n",
       "      <td>22166.964706</td>\n",
       "      <td>29371.686275</td>\n",
       "      <td>22390.682353</td>\n",
       "      <td>19896.317647</td>\n",
       "      <td>23081.074510</td>\n",
       "      <td>28330.0</td>\n",
       "      <td>ZW</td>\n",
       "      <td>14</td>\n",
       "      <td>ZWE</td>\n",
       "      <td>Africa</td>\n",
       "      <td>13805084</td>\n",
       "      <td>5. Low income</td>\n",
       "      <td>Eastern Africa</td>\n",
       "      <td>00000000000000000030</td>\n",
       "      <td>Zimbabwe</td>\n",
       "    </tr>\n",
       "    <tr>\n",
       "      <th>7</th>\n",
       "      <td>13378.388235</td>\n",
       "      <td>12649.905882</td>\n",
       "      <td>13557.635294</td>\n",
       "      <td>15109.921569</td>\n",
       "      <td>15751.917647</td>\n",
       "      <td>18469.337255</td>\n",
       "      <td>21200.0</td>\n",
       "      <td>MW</td>\n",
       "      <td>14</td>\n",
       "      <td>MWI</td>\n",
       "      <td>Africa</td>\n",
       "      <td>19196246</td>\n",
       "      <td>5. Low income</td>\n",
       "      <td>Eastern Africa</td>\n",
       "      <td>00000000000000000047</td>\n",
       "      <td>Malawi</td>\n",
       "    </tr>\n",
       "    <tr>\n",
       "      <th>8</th>\n",
       "      <td>11364.996078</td>\n",
       "      <td>9807.301961</td>\n",
       "      <td>11458.160784</td>\n",
       "      <td>13920.403922</td>\n",
       "      <td>12933.835294</td>\n",
       "      <td>15343.780392</td>\n",
       "      <td>35010.0</td>\n",
       "      <td>MZ</td>\n",
       "      <td>15</td>\n",
       "      <td>MOZ</td>\n",
       "      <td>Africa</td>\n",
       "      <td>26573706</td>\n",
       "      <td>5. Low income</td>\n",
       "      <td>Eastern Africa</td>\n",
       "      <td>00000000000000000048</td>\n",
       "      <td>Mozambique</td>\n",
       "    </tr>\n",
       "    <tr>\n",
       "      <th>9</th>\n",
       "      <td>1124.882353</td>\n",
       "      <td>2266.713725</td>\n",
       "      <td>1711.686275</td>\n",
       "      <td>1685.176471</td>\n",
       "      <td>2578.898039</td>\n",
       "      <td>3778.184314</td>\n",
       "      <td>7892.0</td>\n",
       "      <td>BI</td>\n",
       "      <td>14</td>\n",
       "      <td>BDI</td>\n",
       "      <td>Africa</td>\n",
       "      <td>11466756</td>\n",
       "      <td>5. Low income</td>\n",
       "      <td>Eastern Africa</td>\n",
       "      <td>0000000000000000004b</td>\n",
       "      <td>Burundi</td>\n",
       "    </tr>\n",
       "    <tr>\n",
       "      <th>10</th>\n",
       "      <td>21482.086275</td>\n",
       "      <td>22785.972549</td>\n",
       "      <td>22934.592157</td>\n",
       "      <td>25071.968627</td>\n",
       "      <td>24145.890196</td>\n",
       "      <td>33372.933333</td>\n",
       "      <td>36860.0</td>\n",
       "      <td>MG</td>\n",
       "      <td>15</td>\n",
       "      <td>MDG</td>\n",
       "      <td>Africa</td>\n",
       "      <td>25054161</td>\n",
       "      <td>5. Low income</td>\n",
       "      <td>Eastern Africa</td>\n",
       "      <td>0000000000000000004e</td>\n",
       "      <td>Madagascar</td>\n",
       "    </tr>\n",
       "    <tr>\n",
       "      <th>11</th>\n",
       "      <td>1161.662745</td>\n",
       "      <td>948.341176</td>\n",
       "      <td>1693.101961</td>\n",
       "      <td>1430.356863</td>\n",
       "      <td>1964.521569</td>\n",
       "      <td>1536.454902</td>\n",
       "      <td>9169.0</td>\n",
       "      <td>ER</td>\n",
       "      <td>13</td>\n",
       "      <td>ERI</td>\n",
       "      <td>Africa</td>\n",
       "      <td>5918919</td>\n",
       "      <td>5. Low income</td>\n",
       "      <td>Eastern Africa</td>\n",
       "      <td>00000000000000000099</td>\n",
       "      <td>Eritrea</td>\n",
       "    </tr>\n",
       "    <tr>\n",
       "      <th>12</th>\n",
       "      <td>182982.470588</td>\n",
       "      <td>184900.721569</td>\n",
       "      <td>188915.462745</td>\n",
       "      <td>184977.788235</td>\n",
       "      <td>196139.117647</td>\n",
       "      <td>197514.090196</td>\n",
       "      <td>174700.0</td>\n",
       "      <td>ET</td>\n",
       "      <td>17</td>\n",
       "      <td>ETH</td>\n",
       "      <td>Africa</td>\n",
       "      <td>105350020</td>\n",
       "      <td>5. Low income</td>\n",
       "      <td>Eastern Africa</td>\n",
       "      <td>000000000000000000a3</td>\n",
       "      <td>Ethiopia</td>\n",
       "    </tr>\n",
       "    <tr>\n",
       "      <th>13</th>\n",
       "      <td>30489.952941</td>\n",
       "      <td>30199.752941</td>\n",
       "      <td>30982.643137</td>\n",
       "      <td>33253.709804</td>\n",
       "      <td>36114.580392</td>\n",
       "      <td>42558.376471</td>\n",
       "      <td>84930.0</td>\n",
       "      <td>UG</td>\n",
       "      <td>15</td>\n",
       "      <td>UGA</td>\n",
       "      <td>Africa</td>\n",
       "      <td>39570125</td>\n",
       "      <td>5. Low income</td>\n",
       "      <td>Eastern Africa</td>\n",
       "      <td>000000000000000000a6</td>\n",
       "      <td>Uganda</td>\n",
       "    </tr>\n",
       "    <tr>\n",
       "      <th>14</th>\n",
       "      <td>4353.094118</td>\n",
       "      <td>6166.074510</td>\n",
       "      <td>6254.678431</td>\n",
       "      <td>7454.211765</td>\n",
       "      <td>6842.278431</td>\n",
       "      <td>8054.113725</td>\n",
       "      <td>21970.0</td>\n",
       "      <td>RW</td>\n",
       "      <td>14</td>\n",
       "      <td>RWA</td>\n",
       "      <td>Africa</td>\n",
       "      <td>11901484</td>\n",
       "      <td>5. Low income</td>\n",
       "      <td>Eastern Africa</td>\n",
       "      <td>000000000000000000a7</td>\n",
       "      <td>Rwanda</td>\n",
       "    </tr>\n",
       "    <tr>\n",
       "      <th>15</th>\n",
       "      <td>1339.803922</td>\n",
       "      <td>1483.619608</td>\n",
       "      <td>2148.039216</td>\n",
       "      <td>1591.125490</td>\n",
       "      <td>1886.537255</td>\n",
       "      <td>1512.325490</td>\n",
       "      <td>20880.0</td>\n",
       "      <td>SS</td>\n",
       "      <td>14</td>\n",
       "      <td>SSD</td>\n",
       "      <td>Africa</td>\n",
       "      <td>13026129</td>\n",
       "      <td>5. Low income</td>\n",
       "      <td>Eastern Africa</td>\n",
       "      <td>000000000000000000ae</td>\n",
       "      <td>S. Sudan</td>\n",
       "    </tr>\n",
       "    <tr>\n",
       "      <th>16</th>\n",
       "      <td>11742.360784</td>\n",
       "      <td>11805.898039</td>\n",
       "      <td>11542.031373</td>\n",
       "      <td>11917.462745</td>\n",
       "      <td>13642.231373</td>\n",
       "      <td>11887.870588</td>\n",
       "      <td>38090.0</td>\n",
       "      <td>ML</td>\n",
       "      <td>14</td>\n",
       "      <td>MLI</td>\n",
       "      <td>Africa</td>\n",
       "      <td>17885245</td>\n",
       "      <td>5. Low income</td>\n",
       "      <td>Western Africa</td>\n",
       "      <td>00000000000000000034</td>\n",
       "      <td>Mali</td>\n",
       "    </tr>\n",
       "    <tr>\n",
       "      <th>17</th>\n",
       "      <td>4186.250980</td>\n",
       "      <td>3508.721569</td>\n",
       "      <td>4322.309804</td>\n",
       "      <td>3624.537255</td>\n",
       "      <td>3563.054902</td>\n",
       "      <td>3535.196078</td>\n",
       "      <td>16710.0</td>\n",
       "      <td>MR</td>\n",
       "      <td>12</td>\n",
       "      <td>MRT</td>\n",
       "      <td>Africa</td>\n",
       "      <td>3758571</td>\n",
       "      <td>5. Low income</td>\n",
       "      <td>Western Africa</td>\n",
       "      <td>00000000000000000035</td>\n",
       "      <td>Mauritania</td>\n",
       "    </tr>\n",
       "    <tr>\n",
       "      <th>18</th>\n",
       "      <td>4607.878431</td>\n",
       "      <td>4533.882353</td>\n",
       "      <td>7129.725490</td>\n",
       "      <td>3406.596078</td>\n",
       "      <td>5034.694118</td>\n",
       "      <td>4548.988235</td>\n",
       "      <td>24310.0</td>\n",
       "      <td>BJ</td>\n",
       "      <td>14</td>\n",
       "      <td>BEN</td>\n",
       "      <td>Africa</td>\n",
       "      <td>11038805</td>\n",
       "      <td>5. Low income</td>\n",
       "      <td>Western Africa</td>\n",
       "      <td>00000000000000000036</td>\n",
       "      <td>Benin</td>\n",
       "    </tr>\n",
       "    <tr>\n",
       "      <th>19</th>\n",
       "      <td>4238.125490</td>\n",
       "      <td>4125.941176</td>\n",
       "      <td>5947.788235</td>\n",
       "      <td>6509.313725</td>\n",
       "      <td>9430.635294</td>\n",
       "      <td>5151.200000</td>\n",
       "      <td>20150.0</td>\n",
       "      <td>NE</td>\n",
       "      <td>14</td>\n",
       "      <td>NER</td>\n",
       "      <td>Africa</td>\n",
       "      <td>19245344</td>\n",
       "      <td>5. Low income</td>\n",
       "      <td>Western Africa</td>\n",
       "      <td>00000000000000000037</td>\n",
       "      <td>Niger</td>\n",
       "    </tr>\n",
       "    <tr>\n",
       "      <th>20</th>\n",
       "      <td>2265.376471</td>\n",
       "      <td>1596.368627</td>\n",
       "      <td>2897.952941</td>\n",
       "      <td>1590.611765</td>\n",
       "      <td>2386.764706</td>\n",
       "      <td>2678.443137</td>\n",
       "      <td>11610.0</td>\n",
       "      <td>TG</td>\n",
       "      <td>13</td>\n",
       "      <td>TGO</td>\n",
       "      <td>Africa</td>\n",
       "      <td>7965055</td>\n",
       "      <td>5. Low income</td>\n",
       "      <td>Western Africa</td>\n",
       "      <td>0000000000000000003a</td>\n",
       "      <td>Togo</td>\n",
       "    </tr>\n",
       "    <tr>\n",
       "      <th>21</th>\n",
       "      <td>1880.392157</td>\n",
       "      <td>2423.192157</td>\n",
       "      <td>2179.498039</td>\n",
       "      <td>2334.160784</td>\n",
       "      <td>2785.494118</td>\n",
       "      <td>2499.850980</td>\n",
       "      <td>16080.0</td>\n",
       "      <td>GN</td>\n",
       "      <td>14</td>\n",
       "      <td>GIN</td>\n",
       "      <td>Africa</td>\n",
       "      <td>12413867</td>\n",
       "      <td>5. Low income</td>\n",
       "      <td>Western Africa</td>\n",
       "      <td>0000000000000000003d</td>\n",
       "      <td>Guinea</td>\n",
       "    </tr>\n",
       "    <tr>\n",
       "      <th>22</th>\n",
       "      <td>414.239216</td>\n",
       "      <td>644.862745</td>\n",
       "      <td>539.109804</td>\n",
       "      <td>468.368627</td>\n",
       "      <td>489.298039</td>\n",
       "      <td>441.549020</td>\n",
       "      <td>2851.0</td>\n",
       "      <td>GW</td>\n",
       "      <td>12</td>\n",
       "      <td>GNB</td>\n",
       "      <td>Africa</td>\n",
       "      <td>1792338</td>\n",
       "      <td>5. Low income</td>\n",
       "      <td>Western Africa</td>\n",
       "      <td>0000000000000000003e</td>\n",
       "      <td>Guinea-Bissau</td>\n",
       "    </tr>\n",
       "    <tr>\n",
       "      <th>23</th>\n",
       "      <td>29.000000</td>\n",
       "      <td>29.000000</td>\n",
       "      <td>22.733333</td>\n",
       "      <td>17.733333</td>\n",
       "      <td>32.733333</td>\n",
       "      <td>20.000000</td>\n",
       "      <td>3881.0</td>\n",
       "      <td>LR</td>\n",
       "      <td>12</td>\n",
       "      <td>LBR</td>\n",
       "      <td>Africa</td>\n",
       "      <td>4689021</td>\n",
       "      <td>5. Low income</td>\n",
       "      <td>Western Africa</td>\n",
       "      <td>0000000000000000003f</td>\n",
       "      <td>Liberia</td>\n",
       "    </tr>\n",
       "    <tr>\n",
       "      <th>24</th>\n",
       "      <td>132.988235</td>\n",
       "      <td>210.000000</td>\n",
       "      <td>201.000000</td>\n",
       "      <td>262.000000</td>\n",
       "      <td>222.023529</td>\n",
       "      <td>290.011765</td>\n",
       "      <td>10640.0</td>\n",
       "      <td>SL</td>\n",
       "      <td>13</td>\n",
       "      <td>SLE</td>\n",
       "      <td>Africa</td>\n",
       "      <td>6163195</td>\n",
       "      <td>5. Low income</td>\n",
       "      <td>Western Africa</td>\n",
       "      <td>00000000000000000040</td>\n",
       "      <td>Sierra Leone</td>\n",
       "    </tr>\n",
       "    <tr>\n",
       "      <th>25</th>\n",
       "      <td>1640.341176</td>\n",
       "      <td>1651.803922</td>\n",
       "      <td>1877.650980</td>\n",
       "      <td>1575.811765</td>\n",
       "      <td>1985.721569</td>\n",
       "      <td>1664.803922</td>\n",
       "      <td>32990.0</td>\n",
       "      <td>BF</td>\n",
       "      <td>15</td>\n",
       "      <td>BFA</td>\n",
       "      <td>Africa</td>\n",
       "      <td>20107509</td>\n",
       "      <td>5. Low income</td>\n",
       "      <td>Western Africa</td>\n",
       "      <td>00000000000000000041</td>\n",
       "      <td>Burkina Faso</td>\n",
       "    </tr>\n",
       "    <tr>\n",
       "      <th>26</th>\n",
       "      <td>3657.611765</td>\n",
       "      <td>3384.631373</td>\n",
       "      <td>3400.388235</td>\n",
       "      <td>3497.545098</td>\n",
       "      <td>3952.631373</td>\n",
       "      <td>3466.258824</td>\n",
       "      <td>3387.0</td>\n",
       "      <td>GM</td>\n",
       "      <td>12</td>\n",
       "      <td>GMB</td>\n",
       "      <td>Africa</td>\n",
       "      <td>2051363</td>\n",
       "      <td>5. Low income</td>\n",
       "      <td>Western Africa</td>\n",
       "      <td>00000000000000000050</td>\n",
       "      <td>Gambia</td>\n",
       "    </tr>\n",
       "    <tr>\n",
       "      <th>27</th>\n",
       "      <td>293.658824</td>\n",
       "      <td>166.843137</td>\n",
       "      <td>242.294118</td>\n",
       "      <td>48.894118</td>\n",
       "      <td>8.000000</td>\n",
       "      <td>40.886275</td>\n",
       "      <td>906.5</td>\n",
       "      <td>EH</td>\n",
       "      <td>11</td>\n",
       "      <td>ESH</td>\n",
       "      <td>Africa</td>\n",
       "      <td>603253</td>\n",
       "      <td>5. Low income</td>\n",
       "      <td>Northern Africa</td>\n",
       "      <td>00000000000000000002</td>\n",
       "      <td>W. Sahara</td>\n",
       "    </tr>\n",
       "    <tr>\n",
       "      <th>28</th>\n",
       "      <td>353.988235</td>\n",
       "      <td>244.635294</td>\n",
       "      <td>302.745098</td>\n",
       "      <td>326.058824</td>\n",
       "      <td>256.811765</td>\n",
       "      <td>401.862745</td>\n",
       "      <td>35980.0</td>\n",
       "      <td>GA</td>\n",
       "      <td>12</td>\n",
       "      <td>GAB</td>\n",
       "      <td>Africa</td>\n",
       "      <td>1772255</td>\n",
       "      <td>3. Upper middle income</td>\n",
       "      <td>Middle Africa</td>\n",
       "      <td>00000000000000000044</td>\n",
       "      <td>Gabon</td>\n",
       "    </tr>\n",
       "    <tr>\n",
       "      <th>29</th>\n",
       "      <td>11087.925490</td>\n",
       "      <td>10227.709804</td>\n",
       "      <td>11899.450980</td>\n",
       "      <td>10193.337255</td>\n",
       "      <td>12972.772549</td>\n",
       "      <td>13518.290196</td>\n",
       "      <td>189000.0</td>\n",
       "      <td>AO</td>\n",
       "      <td>15</td>\n",
       "      <td>AGO</td>\n",
       "      <td>Africa</td>\n",
       "      <td>29310273</td>\n",
       "      <td>3. Upper middle income</td>\n",
       "      <td>Middle Africa</td>\n",
       "      <td>0000000000000000004a</td>\n",
       "      <td>Angola</td>\n",
       "    </tr>\n",
       "    <tr>\n",
       "      <th>30</th>\n",
       "      <td>20970.070588</td>\n",
       "      <td>20548.003922</td>\n",
       "      <td>23177.325490</td>\n",
       "      <td>21640.619608</td>\n",
       "      <td>21221.462745</td>\n",
       "      <td>21905.039216</td>\n",
       "      <td>130800.0</td>\n",
       "      <td>TN</td>\n",
       "      <td>14</td>\n",
       "      <td>TUN</td>\n",
       "      <td>Africa</td>\n",
       "      <td>11403800</td>\n",
       "      <td>3. Upper middle income</td>\n",
       "      <td>Northern Africa</td>\n",
       "      <td>00000000000000000051</td>\n",
       "      <td>Tunisia</td>\n",
       "    </tr>\n",
       "    <tr>\n",
       "      <th>31</th>\n",
       "      <td>49285.156863</td>\n",
       "      <td>64141.282353</td>\n",
       "      <td>63672.482353</td>\n",
       "      <td>57119.890196</td>\n",
       "      <td>51164.207843</td>\n",
       "      <td>60358.549020</td>\n",
       "      <td>609400.0</td>\n",
       "      <td>DZ</td>\n",
       "      <td>15</td>\n",
       "      <td>DZA</td>\n",
       "      <td>Africa</td>\n",
       "      <td>40969443</td>\n",
       "      <td>3. Upper middle income</td>\n",
       "      <td>Northern Africa</td>\n",
       "      <td>00000000000000000052</td>\n",
       "      <td>Algeria</td>\n",
       "    </tr>\n",
       "    <tr>\n",
       "      <th>32</th>\n",
       "      <td>8561.635294</td>\n",
       "      <td>8473.545098</td>\n",
       "      <td>9466.807843</td>\n",
       "      <td>8664.019608</td>\n",
       "      <td>8649.670588</td>\n",
       "      <td>8909.709804</td>\n",
       "      <td>90890.0</td>\n",
       "      <td>LY</td>\n",
       "      <td>13</td>\n",
       "      <td>LBY</td>\n",
       "      <td>Africa</td>\n",
       "      <td>6653210</td>\n",
       "      <td>3. Upper middle income</td>\n",
       "      <td>Northern Africa</td>\n",
       "      <td>000000000000000000a2</td>\n",
       "      <td>Libya</td>\n",
       "    </tr>\n",
       "    <tr>\n",
       "      <th>33</th>\n",
       "      <td>171930.827451</td>\n",
       "      <td>172854.368627</td>\n",
       "      <td>174551.654902</td>\n",
       "      <td>171983.874510</td>\n",
       "      <td>158899.298039</td>\n",
       "      <td>159673.078431</td>\n",
       "      <td>739100.0</td>\n",
       "      <td>ZA</td>\n",
       "      <td>16</td>\n",
       "      <td>ZAF</td>\n",
       "      <td>Africa</td>\n",
       "      <td>54841552</td>\n",
       "      <td>3. Upper middle income</td>\n",
       "      <td>Southern Africa</td>\n",
       "      <td>00000000000000000019</td>\n",
       "      <td>South Africa</td>\n",
       "    </tr>\n",
       "    <tr>\n",
       "      <th>34</th>\n",
       "      <td>2349.192157</td>\n",
       "      <td>2293.345098</td>\n",
       "      <td>2880.407843</td>\n",
       "      <td>2472.596078</td>\n",
       "      <td>3412.898039</td>\n",
       "      <td>3999.470588</td>\n",
       "      <td>35900.0</td>\n",
       "      <td>BW</td>\n",
       "      <td>12</td>\n",
       "      <td>BWA</td>\n",
       "      <td>Africa</td>\n",
       "      <td>2214858</td>\n",
       "      <td>3. Upper middle income</td>\n",
       "      <td>Southern Africa</td>\n",
       "      <td>00000000000000000031</td>\n",
       "      <td>Botswana</td>\n",
       "    </tr>\n",
       "    <tr>\n",
       "      <th>35</th>\n",
       "      <td>1826.313725</td>\n",
       "      <td>1347.650980</td>\n",
       "      <td>961.501961</td>\n",
       "      <td>2024.870588</td>\n",
       "      <td>2478.725490</td>\n",
       "      <td>3073.015686</td>\n",
       "      <td>25990.0</td>\n",
       "      <td>NaN</td>\n",
       "      <td>12</td>\n",
       "      <td>NAM</td>\n",
       "      <td>Africa</td>\n",
       "      <td>2484780</td>\n",
       "      <td>3. Upper middle income</td>\n",
       "      <td>Southern Africa</td>\n",
       "      <td>00000000000000000032</td>\n",
       "      <td>Namibia</td>\n",
       "    </tr>\n",
       "    <tr>\n",
       "      <th>36</th>\n",
       "      <td>4380.776471</td>\n",
       "      <td>4612.509804</td>\n",
       "      <td>4583.101961</td>\n",
       "      <td>4587.050980</td>\n",
       "      <td>5105.984314</td>\n",
       "      <td>5543.768627</td>\n",
       "      <td>77240.0</td>\n",
       "      <td>CM</td>\n",
       "      <td>15</td>\n",
       "      <td>CMR</td>\n",
       "      <td>Africa</td>\n",
       "      <td>24994885</td>\n",
       "      <td>4. Lower middle income</td>\n",
       "      <td>Middle Africa</td>\n",
       "      <td>00000000000000000039</td>\n",
       "      <td>Cameroon</td>\n",
       "    </tr>\n",
       "    <tr>\n",
       "      <th>37</th>\n",
       "      <td>1166.286275</td>\n",
       "      <td>894.345098</td>\n",
       "      <td>1096.749020</td>\n",
       "      <td>855.011765</td>\n",
       "      <td>906.184314</td>\n",
       "      <td>1242.760784</td>\n",
       "      <td>30270.0</td>\n",
       "      <td>CG</td>\n",
       "      <td>12</td>\n",
       "      <td>COG</td>\n",
       "      <td>Africa</td>\n",
       "      <td>4954674</td>\n",
       "      <td>4. Lower middle income</td>\n",
       "      <td>Middle Africa</td>\n",
       "      <td>00000000000000000043</td>\n",
       "      <td>Congo</td>\n",
       "    </tr>\n",
       "    <tr>\n",
       "      <th>38</th>\n",
       "      <td>23432.180392</td>\n",
       "      <td>24686.168627</td>\n",
       "      <td>30984.505882</td>\n",
       "      <td>25659.388235</td>\n",
       "      <td>27086.286275</td>\n",
       "      <td>32685.415686</td>\n",
       "      <td>65170.0</td>\n",
       "      <td>ZM</td>\n",
       "      <td>14</td>\n",
       "      <td>ZMB</td>\n",
       "      <td>Africa</td>\n",
       "      <td>15972000</td>\n",
       "      <td>4. Lower middle income</td>\n",
       "      <td>Eastern Africa</td>\n",
       "      <td>00000000000000000046</td>\n",
       "      <td>Zambia</td>\n",
       "    </tr>\n",
       "    <tr>\n",
       "      <th>39</th>\n",
       "      <td>10.000000</td>\n",
       "      <td>28.000000</td>\n",
       "      <td>13.000000</td>\n",
       "      <td>36.984314</td>\n",
       "      <td>55.231373</td>\n",
       "      <td>176.066667</td>\n",
       "      <td>3345.0</td>\n",
       "      <td>DJ</td>\n",
       "      <td>11</td>\n",
       "      <td>DJI</td>\n",
       "      <td>Africa</td>\n",
       "      <td>865267</td>\n",
       "      <td>4. Lower middle income</td>\n",
       "      <td>Eastern Africa</td>\n",
       "      <td>000000000000000000a4</td>\n",
       "      <td>Djibouti</td>\n",
       "    </tr>\n",
       "    <tr>\n",
       "      <th>40</th>\n",
       "      <td>476.827451</td>\n",
       "      <td>215.564706</td>\n",
       "      <td>214.058824</td>\n",
       "      <td>542.333333</td>\n",
       "      <td>858.235294</td>\n",
       "      <td>586.898039</td>\n",
       "      <td>12250.0</td>\n",
       "      <td>-99</td>\n",
       "      <td>12</td>\n",
       "      <td>-99</td>\n",
       "      <td>Africa</td>\n",
       "      <td>3500000</td>\n",
       "      <td>4. Lower middle income</td>\n",
       "      <td>Eastern Africa</td>\n",
       "      <td>000000000000000000a5</td>\n",
       "      <td>Somaliland</td>\n",
       "    </tr>\n",
       "    <tr>\n",
       "      <th>41</th>\n",
       "      <td>16941.078431</td>\n",
       "      <td>13848.243137</td>\n",
       "      <td>13821.019608</td>\n",
       "      <td>15070.654902</td>\n",
       "      <td>18933.811765</td>\n",
       "      <td>16976.341176</td>\n",
       "      <td>39720.0</td>\n",
       "      <td>SN</td>\n",
       "      <td>14</td>\n",
       "      <td>SEN</td>\n",
       "      <td>Africa</td>\n",
       "      <td>14668522</td>\n",
       "      <td>4. Lower middle income</td>\n",
       "      <td>Western Africa</td>\n",
       "      <td>00000000000000000033</td>\n",
       "      <td>Senegal</td>\n",
       "    </tr>\n",
       "    <tr>\n",
       "      <th>42</th>\n",
       "      <td>67123.415686</td>\n",
       "      <td>79480.360784</td>\n",
       "      <td>85869.635294</td>\n",
       "      <td>74083.301961</td>\n",
       "      <td>83971.541176</td>\n",
       "      <td>74030.305882</td>\n",
       "      <td>1089000.0</td>\n",
       "      <td>NG</td>\n",
       "      <td>17</td>\n",
       "      <td>NGA</td>\n",
       "      <td>Africa</td>\n",
       "      <td>190632261</td>\n",
       "      <td>4. Lower middle income</td>\n",
       "      <td>Western Africa</td>\n",
       "      <td>00000000000000000038</td>\n",
       "      <td>Nigeria</td>\n",
       "    </tr>\n",
       "    <tr>\n",
       "      <th>43</th>\n",
       "      <td>4028.952941</td>\n",
       "      <td>3753.294118</td>\n",
       "      <td>5253.556863</td>\n",
       "      <td>5865.050980</td>\n",
       "      <td>6466.776471</td>\n",
       "      <td>8384.427451</td>\n",
       "      <td>120800.0</td>\n",
       "      <td>GH</td>\n",
       "      <td>15</td>\n",
       "      <td>GHA</td>\n",
       "      <td>Africa</td>\n",
       "      <td>27499924</td>\n",
       "      <td>4. Lower middle income</td>\n",
       "      <td>Western Africa</td>\n",
       "      <td>0000000000000000003b</td>\n",
       "      <td>Ghana</td>\n",
       "    </tr>\n",
       "    <tr>\n",
       "      <th>44</th>\n",
       "      <td>3046.286275</td>\n",
       "      <td>3753.505882</td>\n",
       "      <td>4331.262745</td>\n",
       "      <td>4131.988235</td>\n",
       "      <td>5135.984314</td>\n",
       "      <td>5209.658824</td>\n",
       "      <td>87120.0</td>\n",
       "      <td>CI</td>\n",
       "      <td>15</td>\n",
       "      <td>CIV</td>\n",
       "      <td>Africa</td>\n",
       "      <td>24184810</td>\n",
       "      <td>4. Lower middle income</td>\n",
       "      <td>Western Africa</td>\n",
       "      <td>0000000000000000003c</td>\n",
       "      <td>Côte d'Ivoire</td>\n",
       "    </tr>\n",
       "    <tr>\n",
       "      <th>45</th>\n",
       "      <td>63160.415686</td>\n",
       "      <td>63711.721569</td>\n",
       "      <td>74869.611765</td>\n",
       "      <td>76809.929412</td>\n",
       "      <td>92722.105882</td>\n",
       "      <td>91432.517647</td>\n",
       "      <td>176300.0</td>\n",
       "      <td>SD</td>\n",
       "      <td>15</td>\n",
       "      <td>SDN</td>\n",
       "      <td>Africa</td>\n",
       "      <td>37345935</td>\n",
       "      <td>4. Lower middle income</td>\n",
       "      <td>Northern Africa</td>\n",
       "      <td>0000000000000000000e</td>\n",
       "      <td>Sudan</td>\n",
       "    </tr>\n",
       "    <tr>\n",
       "      <th>46</th>\n",
       "      <td>68693.588235</td>\n",
       "      <td>76205.458824</td>\n",
       "      <td>70559.756863</td>\n",
       "      <td>66535.968627</td>\n",
       "      <td>71739.537255</td>\n",
       "      <td>62455.725490</td>\n",
       "      <td>282800.0</td>\n",
       "      <td>MA</td>\n",
       "      <td>15</td>\n",
       "      <td>MAR</td>\n",
       "      <td>Africa</td>\n",
       "      <td>33986655</td>\n",
       "      <td>4. Lower middle income</td>\n",
       "      <td>Northern Africa</td>\n",
       "      <td>000000000000000000a0</td>\n",
       "      <td>Morocco</td>\n",
       "    </tr>\n",
       "    <tr>\n",
       "      <th>47</th>\n",
       "      <td>43638.372549</td>\n",
       "      <td>44483.764706</td>\n",
       "      <td>45166.843137</td>\n",
       "      <td>45488.729412</td>\n",
       "      <td>46284.533333</td>\n",
       "      <td>47156.164706</td>\n",
       "      <td>1105000.0</td>\n",
       "      <td>EG</td>\n",
       "      <td>16</td>\n",
       "      <td>EGY</td>\n",
       "      <td>Africa</td>\n",
       "      <td>97041072</td>\n",
       "      <td>4. Lower middle income</td>\n",
       "      <td>Northern Africa</td>\n",
       "      <td>000000000000000000a1</td>\n",
       "      <td>Egypt</td>\n",
       "    </tr>\n",
       "    <tr>\n",
       "      <th>48</th>\n",
       "      <td>3289.854902</td>\n",
       "      <td>3775.305882</td>\n",
       "      <td>3797.321569</td>\n",
       "      <td>4206.819608</td>\n",
       "      <td>3169.262745</td>\n",
       "      <td>3580.219608</td>\n",
       "      <td>6019.0</td>\n",
       "      <td>LS</td>\n",
       "      <td>12</td>\n",
       "      <td>LSO</td>\n",
       "      <td>Africa</td>\n",
       "      <td>1958042</td>\n",
       "      <td>4. Lower middle income</td>\n",
       "      <td>Southern Africa</td>\n",
       "      <td>0000000000000000001a</td>\n",
       "      <td>Lesotho</td>\n",
       "    </tr>\n",
       "    <tr>\n",
       "      <th>49</th>\n",
       "      <td>2556.658824</td>\n",
       "      <td>2951.286275</td>\n",
       "      <td>2200.909804</td>\n",
       "      <td>2838.623529</td>\n",
       "      <td>2246.337255</td>\n",
       "      <td>2431.023529</td>\n",
       "      <td>11060.0</td>\n",
       "      <td>SZ</td>\n",
       "      <td>12</td>\n",
       "      <td>SWZ</td>\n",
       "      <td>Africa</td>\n",
       "      <td>1467152</td>\n",
       "      <td>4. Lower middle income</td>\n",
       "      <td>Southern Africa</td>\n",
       "      <td>00000000000000000049</td>\n",
       "      <td>eSwatini</td>\n",
       "    </tr>\n",
       "    <tr>\n",
       "      <th>50</th>\n",
       "      <td>8.000000</td>\n",
       "      <td>8.000000</td>\n",
       "      <td>5.000000</td>\n",
       "      <td>5.000000</td>\n",
       "      <td>10.000000</td>\n",
       "      <td>7.000000</td>\n",
       "      <td>31770.0</td>\n",
       "      <td>GQ</td>\n",
       "      <td>11</td>\n",
       "      <td>GNQ</td>\n",
       "      <td>Africa</td>\n",
       "      <td>778358</td>\n",
       "      <td>2. High income: nonOECD</td>\n",
       "      <td>Middle Africa</td>\n",
       "      <td>00000000000000000045</td>\n",
       "      <td>Eq. Guinea</td>\n",
       "    </tr>\n",
       "  </tbody>\n",
       "</table>\n",
       "</div>"
      ],
      "text/plain": [
       "             2017           2018           2019           2020           2021  \\\n",
       "0     6900.839216    8345.709804    6293.945098    6026.882353    7079.513725   \n",
       "1    19867.694118   17239.431373   16109.882353   19053.890196   19242.509804   \n",
       "2      367.447059     518.882353     584.901961     717.356863     684.133333   \n",
       "3    46288.988235   45339.407843   50564.792157   55603.462745   58286.588235   \n",
       "4     6913.113725    8625.537255    8530.376471   11638.392157    9955.882353   \n",
       "5    51950.419608   54464.666667   52557.137255   51214.956863   51085.756863   \n",
       "6    19770.349020   22166.964706   29371.686275   22390.682353   19896.317647   \n",
       "7    13378.388235   12649.905882   13557.635294   15109.921569   15751.917647   \n",
       "8    11364.996078    9807.301961   11458.160784   13920.403922   12933.835294   \n",
       "9     1124.882353    2266.713725    1711.686275    1685.176471    2578.898039   \n",
       "10   21482.086275   22785.972549   22934.592157   25071.968627   24145.890196   \n",
       "11    1161.662745     948.341176    1693.101961    1430.356863    1964.521569   \n",
       "12  182982.470588  184900.721569  188915.462745  184977.788235  196139.117647   \n",
       "13   30489.952941   30199.752941   30982.643137   33253.709804   36114.580392   \n",
       "14    4353.094118    6166.074510    6254.678431    7454.211765    6842.278431   \n",
       "15    1339.803922    1483.619608    2148.039216    1591.125490    1886.537255   \n",
       "16   11742.360784   11805.898039   11542.031373   11917.462745   13642.231373   \n",
       "17    4186.250980    3508.721569    4322.309804    3624.537255    3563.054902   \n",
       "18    4607.878431    4533.882353    7129.725490    3406.596078    5034.694118   \n",
       "19    4238.125490    4125.941176    5947.788235    6509.313725    9430.635294   \n",
       "20    2265.376471    1596.368627    2897.952941    1590.611765    2386.764706   \n",
       "21    1880.392157    2423.192157    2179.498039    2334.160784    2785.494118   \n",
       "22     414.239216     644.862745     539.109804     468.368627     489.298039   \n",
       "23      29.000000      29.000000      22.733333      17.733333      32.733333   \n",
       "24     132.988235     210.000000     201.000000     262.000000     222.023529   \n",
       "25    1640.341176    1651.803922    1877.650980    1575.811765    1985.721569   \n",
       "26    3657.611765    3384.631373    3400.388235    3497.545098    3952.631373   \n",
       "27     293.658824     166.843137     242.294118      48.894118       8.000000   \n",
       "28     353.988235     244.635294     302.745098     326.058824     256.811765   \n",
       "29   11087.925490   10227.709804   11899.450980   10193.337255   12972.772549   \n",
       "30   20970.070588   20548.003922   23177.325490   21640.619608   21221.462745   \n",
       "31   49285.156863   64141.282353   63672.482353   57119.890196   51164.207843   \n",
       "32    8561.635294    8473.545098    9466.807843    8664.019608    8649.670588   \n",
       "33  171930.827451  172854.368627  174551.654902  171983.874510  158899.298039   \n",
       "34    2349.192157    2293.345098    2880.407843    2472.596078    3412.898039   \n",
       "35    1826.313725    1347.650980     961.501961    2024.870588    2478.725490   \n",
       "36    4380.776471    4612.509804    4583.101961    4587.050980    5105.984314   \n",
       "37    1166.286275     894.345098    1096.749020     855.011765     906.184314   \n",
       "38   23432.180392   24686.168627   30984.505882   25659.388235   27086.286275   \n",
       "39      10.000000      28.000000      13.000000      36.984314      55.231373   \n",
       "40     476.827451     215.564706     214.058824     542.333333     858.235294   \n",
       "41   16941.078431   13848.243137   13821.019608   15070.654902   18933.811765   \n",
       "42   67123.415686   79480.360784   85869.635294   74083.301961   83971.541176   \n",
       "43    4028.952941    3753.294118    5253.556863    5865.050980    6466.776471   \n",
       "44    3046.286275    3753.505882    4331.262745    4131.988235    5135.984314   \n",
       "45   63160.415686   63711.721569   74869.611765   76809.929412   92722.105882   \n",
       "46   68693.588235   76205.458824   70559.756863   66535.968627   71739.537255   \n",
       "47   43638.372549   44483.764706   45166.843137   45488.729412   46284.533333   \n",
       "48    3289.854902    3775.305882    3797.321569    4206.819608    3169.262745   \n",
       "49    2556.658824    2951.286275    2200.909804    2838.623529    2246.337255   \n",
       "50       8.000000       8.000000       5.000000       5.000000      10.000000   \n",
       "\n",
       "             2022  GDP_MD_EST ISO_A2  POP_RANK ISO_A3 CONTINENT    POP_EST  \\\n",
       "0     7741.666667     66010.0     CD        16    COD    Africa   83301151   \n",
       "1    21446.192157     30590.0     TD        14    TCD    Africa   12075985   \n",
       "2     1123.403922      3206.0     CF        13    CAF    Africa    5625118   \n",
       "3    65641.952941    150600.0     TZ        16    TZA    Africa   53950935   \n",
       "4     7949.270588      4719.0     SO        13    SOM    Africa    7531386   \n",
       "5    53167.968627    152700.0     KE        15    KEN    Africa   47615739   \n",
       "6    23081.074510     28330.0     ZW        14    ZWE    Africa   13805084   \n",
       "7    18469.337255     21200.0     MW        14    MWI    Africa   19196246   \n",
       "8    15343.780392     35010.0     MZ        15    MOZ    Africa   26573706   \n",
       "9     3778.184314      7892.0     BI        14    BDI    Africa   11466756   \n",
       "10   33372.933333     36860.0     MG        15    MDG    Africa   25054161   \n",
       "11    1536.454902      9169.0     ER        13    ERI    Africa    5918919   \n",
       "12  197514.090196    174700.0     ET        17    ETH    Africa  105350020   \n",
       "13   42558.376471     84930.0     UG        15    UGA    Africa   39570125   \n",
       "14    8054.113725     21970.0     RW        14    RWA    Africa   11901484   \n",
       "15    1512.325490     20880.0     SS        14    SSD    Africa   13026129   \n",
       "16   11887.870588     38090.0     ML        14    MLI    Africa   17885245   \n",
       "17    3535.196078     16710.0     MR        12    MRT    Africa    3758571   \n",
       "18    4548.988235     24310.0     BJ        14    BEN    Africa   11038805   \n",
       "19    5151.200000     20150.0     NE        14    NER    Africa   19245344   \n",
       "20    2678.443137     11610.0     TG        13    TGO    Africa    7965055   \n",
       "21    2499.850980     16080.0     GN        14    GIN    Africa   12413867   \n",
       "22     441.549020      2851.0     GW        12    GNB    Africa    1792338   \n",
       "23      20.000000      3881.0     LR        12    LBR    Africa    4689021   \n",
       "24     290.011765     10640.0     SL        13    SLE    Africa    6163195   \n",
       "25    1664.803922     32990.0     BF        15    BFA    Africa   20107509   \n",
       "26    3466.258824      3387.0     GM        12    GMB    Africa    2051363   \n",
       "27      40.886275       906.5     EH        11    ESH    Africa     603253   \n",
       "28     401.862745     35980.0     GA        12    GAB    Africa    1772255   \n",
       "29   13518.290196    189000.0     AO        15    AGO    Africa   29310273   \n",
       "30   21905.039216    130800.0     TN        14    TUN    Africa   11403800   \n",
       "31   60358.549020    609400.0     DZ        15    DZA    Africa   40969443   \n",
       "32    8909.709804     90890.0     LY        13    LBY    Africa    6653210   \n",
       "33  159673.078431    739100.0     ZA        16    ZAF    Africa   54841552   \n",
       "34    3999.470588     35900.0     BW        12    BWA    Africa    2214858   \n",
       "35    3073.015686     25990.0    NaN        12    NAM    Africa    2484780   \n",
       "36    5543.768627     77240.0     CM        15    CMR    Africa   24994885   \n",
       "37    1242.760784     30270.0     CG        12    COG    Africa    4954674   \n",
       "38   32685.415686     65170.0     ZM        14    ZMB    Africa   15972000   \n",
       "39     176.066667      3345.0     DJ        11    DJI    Africa     865267   \n",
       "40     586.898039     12250.0    -99        12    -99    Africa    3500000   \n",
       "41   16976.341176     39720.0     SN        14    SEN    Africa   14668522   \n",
       "42   74030.305882   1089000.0     NG        17    NGA    Africa  190632261   \n",
       "43    8384.427451    120800.0     GH        15    GHA    Africa   27499924   \n",
       "44    5209.658824     87120.0     CI        15    CIV    Africa   24184810   \n",
       "45   91432.517647    176300.0     SD        15    SDN    Africa   37345935   \n",
       "46   62455.725490    282800.0     MA        15    MAR    Africa   33986655   \n",
       "47   47156.164706   1105000.0     EG        16    EGY    Africa   97041072   \n",
       "48    3580.219608      6019.0     LS        12    LSO    Africa    1958042   \n",
       "49    2431.023529     11060.0     SZ        12    SWZ    Africa    1467152   \n",
       "50       7.000000     31770.0     GQ        11    GNQ    Africa     778358   \n",
       "\n",
       "                 INCOME_GRP        SUBREGION          system:index  \\\n",
       "0             5. Low income    Middle Africa  0000000000000000000b   \n",
       "1             5. Low income    Middle Africa  0000000000000000000f   \n",
       "2             5. Low income    Middle Africa  00000000000000000042   \n",
       "3             5. Low income   Eastern Africa  00000000000000000001   \n",
       "4             5. Low income   Eastern Africa  0000000000000000000c   \n",
       "5             5. Low income   Eastern Africa  0000000000000000000d   \n",
       "6             5. Low income   Eastern Africa  00000000000000000030   \n",
       "7             5. Low income   Eastern Africa  00000000000000000047   \n",
       "8             5. Low income   Eastern Africa  00000000000000000048   \n",
       "9             5. Low income   Eastern Africa  0000000000000000004b   \n",
       "10            5. Low income   Eastern Africa  0000000000000000004e   \n",
       "11            5. Low income   Eastern Africa  00000000000000000099   \n",
       "12            5. Low income   Eastern Africa  000000000000000000a3   \n",
       "13            5. Low income   Eastern Africa  000000000000000000a6   \n",
       "14            5. Low income   Eastern Africa  000000000000000000a7   \n",
       "15            5. Low income   Eastern Africa  000000000000000000ae   \n",
       "16            5. Low income   Western Africa  00000000000000000034   \n",
       "17            5. Low income   Western Africa  00000000000000000035   \n",
       "18            5. Low income   Western Africa  00000000000000000036   \n",
       "19            5. Low income   Western Africa  00000000000000000037   \n",
       "20            5. Low income   Western Africa  0000000000000000003a   \n",
       "21            5. Low income   Western Africa  0000000000000000003d   \n",
       "22            5. Low income   Western Africa  0000000000000000003e   \n",
       "23            5. Low income   Western Africa  0000000000000000003f   \n",
       "24            5. Low income   Western Africa  00000000000000000040   \n",
       "25            5. Low income   Western Africa  00000000000000000041   \n",
       "26            5. Low income   Western Africa  00000000000000000050   \n",
       "27            5. Low income  Northern Africa  00000000000000000002   \n",
       "28   3. Upper middle income    Middle Africa  00000000000000000044   \n",
       "29   3. Upper middle income    Middle Africa  0000000000000000004a   \n",
       "30   3. Upper middle income  Northern Africa  00000000000000000051   \n",
       "31   3. Upper middle income  Northern Africa  00000000000000000052   \n",
       "32   3. Upper middle income  Northern Africa  000000000000000000a2   \n",
       "33   3. Upper middle income  Southern Africa  00000000000000000019   \n",
       "34   3. Upper middle income  Southern Africa  00000000000000000031   \n",
       "35   3. Upper middle income  Southern Africa  00000000000000000032   \n",
       "36   4. Lower middle income    Middle Africa  00000000000000000039   \n",
       "37   4. Lower middle income    Middle Africa  00000000000000000043   \n",
       "38   4. Lower middle income   Eastern Africa  00000000000000000046   \n",
       "39   4. Lower middle income   Eastern Africa  000000000000000000a4   \n",
       "40   4. Lower middle income   Eastern Africa  000000000000000000a5   \n",
       "41   4. Lower middle income   Western Africa  00000000000000000033   \n",
       "42   4. Lower middle income   Western Africa  00000000000000000038   \n",
       "43   4. Lower middle income   Western Africa  0000000000000000003b   \n",
       "44   4. Lower middle income   Western Africa  0000000000000000003c   \n",
       "45   4. Lower middle income  Northern Africa  0000000000000000000e   \n",
       "46   4. Lower middle income  Northern Africa  000000000000000000a0   \n",
       "47   4. Lower middle income  Northern Africa  000000000000000000a1   \n",
       "48   4. Lower middle income  Southern Africa  0000000000000000001a   \n",
       "49   4. Lower middle income  Southern Africa  00000000000000000049   \n",
       "50  2. High income: nonOECD    Middle Africa  00000000000000000045   \n",
       "\n",
       "                    NAME  \n",
       "0        Dem. Rep. Congo  \n",
       "1                   Chad  \n",
       "2   Central African Rep.  \n",
       "3               Tanzania  \n",
       "4                Somalia  \n",
       "5                  Kenya  \n",
       "6               Zimbabwe  \n",
       "7                 Malawi  \n",
       "8             Mozambique  \n",
       "9                Burundi  \n",
       "10            Madagascar  \n",
       "11               Eritrea  \n",
       "12              Ethiopia  \n",
       "13                Uganda  \n",
       "14                Rwanda  \n",
       "15              S. Sudan  \n",
       "16                  Mali  \n",
       "17            Mauritania  \n",
       "18                 Benin  \n",
       "19                 Niger  \n",
       "20                  Togo  \n",
       "21                Guinea  \n",
       "22         Guinea-Bissau  \n",
       "23               Liberia  \n",
       "24          Sierra Leone  \n",
       "25          Burkina Faso  \n",
       "26                Gambia  \n",
       "27             W. Sahara  \n",
       "28                 Gabon  \n",
       "29                Angola  \n",
       "30               Tunisia  \n",
       "31               Algeria  \n",
       "32                 Libya  \n",
       "33          South Africa  \n",
       "34              Botswana  \n",
       "35               Namibia  \n",
       "36              Cameroon  \n",
       "37                 Congo  \n",
       "38                Zambia  \n",
       "39              Djibouti  \n",
       "40            Somaliland  \n",
       "41               Senegal  \n",
       "42               Nigeria  \n",
       "43                 Ghana  \n",
       "44         Côte d'Ivoire  \n",
       "45                 Sudan  \n",
       "46               Morocco  \n",
       "47                 Egypt  \n",
       "48               Lesotho  \n",
       "49              eSwatini  \n",
       "50            Eq. Guinea  "
      ]
     },
     "execution_count": 64,
     "metadata": {},
     "output_type": "execute_result"
    }
   ],
   "source": [
    "esri_cropland = geemap.csv_to_df('data/esri_cropland.csv')\n",
    "esri_cropland"
   ]
  },
  {
   "cell_type": "code",
   "execution_count": 65,
   "metadata": {},
   "outputs": [
    {
     "data": {
      "text/html": [
       "\n",
       "            <style>\n",
       "                .geemap-dark {\n",
       "                    --jp-widgets-color: white;\n",
       "                    --jp-widgets-label-color: white;\n",
       "                    --jp-ui-font-color1: white;\n",
       "                    --jp-layout-color2: #454545;\n",
       "                    background-color: #383838;\n",
       "                }\n",
       "                    \n",
       "                .geemap-dark .jupyter-button {\n",
       "                    --jp-layout-color3: #383838;\n",
       "                }\n",
       "                \n",
       "                .geemap-colab {\n",
       "                    background-color: var(--colab-primary-surface-color, white);\n",
       "                }\n",
       "                    \n",
       "                .geemap-colab .jupyter-button {\n",
       "                    --jp-layout-color3: var(--colab-primary-surface-color, white);\n",
       "                }\n",
       "            </style>\n",
       "            "
      ],
      "text/plain": [
       "<IPython.core.display.HTML object>"
      ]
     },
     "metadata": {},
     "output_type": "display_data"
    },
    {
     "data": {
      "application/vnd.plotly.v1+json": {
       "config": {
        "plotlyServerURL": "https://plot.ly"
       },
       "data": [
        {
         "alignmentgroup": "True",
         "hovertemplate": "variable=2017<br>NAME=%{x}<br>value=%{y}<extra></extra>",
         "legendgroup": "2017",
         "marker": {
          "color": "#636efa",
          "pattern": {
           "shape": ""
          }
         },
         "name": "2017",
         "offsetgroup": "2017",
         "orientation": "v",
         "showlegend": true,
         "textposition": "auto",
         "type": "bar",
         "x": [
          "Ethiopia",
          "South Africa",
          "Morocco",
          "Nigeria",
          "Sudan",
          "Kenya",
          "Algeria",
          "Tanzania",
          "Egypt",
          "Uganda",
          "Zambia",
          "Madagascar",
          "Tunisia",
          "Chad",
          "Zimbabwe",
          "Senegal",
          "Malawi",
          "Mali",
          "Mozambique",
          "Angola"
         ],
         "xaxis": "x",
         "y": [
          182982.47058823536,
          171930.8274509804,
          68693.58823529413,
          67123.41568627454,
          63160.41568627452,
          51950.41960784318,
          49285.15686274511,
          46288.98823529411,
          43638.37254901962,
          30489.95294117647,
          23432.180392156864,
          21482.0862745098,
          20970.07058823529,
          19867.69411764706,
          19770.34901960785,
          16941.078431372545,
          13378.388235294116,
          11742.360784313723,
          11364.996078431372,
          11087.92549019608
         ],
         "yaxis": "y"
        },
        {
         "alignmentgroup": "True",
         "hovertemplate": "variable=2018<br>NAME=%{x}<br>value=%{y}<extra></extra>",
         "legendgroup": "2018",
         "marker": {
          "color": "#EF553B",
          "pattern": {
           "shape": ""
          }
         },
         "name": "2018",
         "offsetgroup": "2018",
         "orientation": "v",
         "showlegend": true,
         "textposition": "auto",
         "type": "bar",
         "x": [
          "Ethiopia",
          "South Africa",
          "Morocco",
          "Nigeria",
          "Sudan",
          "Kenya",
          "Algeria",
          "Tanzania",
          "Egypt",
          "Uganda",
          "Zambia",
          "Madagascar",
          "Tunisia",
          "Chad",
          "Zimbabwe",
          "Senegal",
          "Malawi",
          "Mali",
          "Mozambique",
          "Angola"
         ],
         "xaxis": "x",
         "y": [
          184900.72156862752,
          172854.36862745098,
          76205.45882352942,
          79480.36078431374,
          63711.72156862745,
          54464.6666666667,
          64141.282352941176,
          45339.407843137255,
          44483.76470588237,
          30199.75294117647,
          24686.168627450985,
          22785.97254901961,
          20548.003921568623,
          17239.431372549014,
          22166.964705882358,
          13848.243137254902,
          12649.905882352938,
          11805.898039215686,
          9807.30196078431,
          10227.709803921569
         ],
         "yaxis": "y"
        },
        {
         "alignmentgroup": "True",
         "hovertemplate": "variable=2019<br>NAME=%{x}<br>value=%{y}<extra></extra>",
         "legendgroup": "2019",
         "marker": {
          "color": "#00cc96",
          "pattern": {
           "shape": ""
          }
         },
         "name": "2019",
         "offsetgroup": "2019",
         "orientation": "v",
         "showlegend": true,
         "textposition": "auto",
         "type": "bar",
         "x": [
          "Ethiopia",
          "South Africa",
          "Morocco",
          "Nigeria",
          "Sudan",
          "Kenya",
          "Algeria",
          "Tanzania",
          "Egypt",
          "Uganda",
          "Zambia",
          "Madagascar",
          "Tunisia",
          "Chad",
          "Zimbabwe",
          "Senegal",
          "Malawi",
          "Mali",
          "Mozambique",
          "Angola"
         ],
         "xaxis": "x",
         "y": [
          188915.4627450981,
          174551.65490196078,
          70559.75686274511,
          85869.63529411769,
          74869.61176470589,
          52557.137254902,
          63672.48235294117,
          50564.79215686274,
          45166.84313725492,
          30982.643137254898,
          30984.505882352947,
          22934.592156862745,
          23177.32549019608,
          16109.882352941182,
          29371.686274509804,
          13821.019607843136,
          13557.63529411764,
          11542.03137254902,
          11458.160784313724,
          11899.450980392156
         ],
         "yaxis": "y"
        },
        {
         "alignmentgroup": "True",
         "hovertemplate": "variable=2020<br>NAME=%{x}<br>value=%{y}<extra></extra>",
         "legendgroup": "2020",
         "marker": {
          "color": "#ab63fa",
          "pattern": {
           "shape": ""
          }
         },
         "name": "2020",
         "offsetgroup": "2020",
         "orientation": "v",
         "showlegend": true,
         "textposition": "auto",
         "type": "bar",
         "x": [
          "Ethiopia",
          "South Africa",
          "Morocco",
          "Nigeria",
          "Sudan",
          "Kenya",
          "Algeria",
          "Tanzania",
          "Egypt",
          "Uganda",
          "Zambia",
          "Madagascar",
          "Tunisia",
          "Chad",
          "Zimbabwe",
          "Senegal",
          "Malawi",
          "Mali",
          "Mozambique",
          "Angola"
         ],
         "xaxis": "x",
         "y": [
          184977.78823529408,
          171983.87450980392,
          66535.96862745099,
          74083.3019607843,
          76809.92941176471,
          51214.95686274513,
          57119.89019607844,
          55603.46274509805,
          45488.72941176472,
          33253.70980392156,
          25659.38823529412,
          25071.96862745098,
          21640.61960784314,
          19053.890196078428,
          22390.682352941178,
          15070.654901960785,
          15109.921568627447,
          11917.46274509804,
          13920.40392156863,
          10193.337254901962
         ],
         "yaxis": "y"
        },
        {
         "alignmentgroup": "True",
         "hovertemplate": "variable=2021<br>NAME=%{x}<br>value=%{y}<extra></extra>",
         "legendgroup": "2021",
         "marker": {
          "color": "#FFA15A",
          "pattern": {
           "shape": ""
          }
         },
         "name": "2021",
         "offsetgroup": "2021",
         "orientation": "v",
         "showlegend": true,
         "textposition": "auto",
         "type": "bar",
         "x": [
          "Ethiopia",
          "South Africa",
          "Morocco",
          "Nigeria",
          "Sudan",
          "Kenya",
          "Algeria",
          "Tanzania",
          "Egypt",
          "Uganda",
          "Zambia",
          "Madagascar",
          "Tunisia",
          "Chad",
          "Zimbabwe",
          "Senegal",
          "Malawi",
          "Mali",
          "Mozambique",
          "Angola"
         ],
         "xaxis": "x",
         "y": [
          196139.1176470588,
          158899.2980392157,
          71739.53725490197,
          83971.54117647058,
          92722.10588235296,
          51085.75686274513,
          51164.20784313726,
          58286.588235294126,
          46284.53333333334,
          36114.58039215687,
          27086.28627450981,
          24145.89019607843,
          21221.462745098037,
          19242.509803921566,
          19896.317647058822,
          18933.81176470588,
          15751.917647058815,
          13642.23137254902,
          12933.835294117647,
          12972.772549019608
         ],
         "yaxis": "y"
        },
        {
         "alignmentgroup": "True",
         "hovertemplate": "variable=2022<br>NAME=%{x}<br>value=%{y}<extra></extra>",
         "legendgroup": "2022",
         "marker": {
          "color": "#19d3f3",
          "pattern": {
           "shape": ""
          }
         },
         "name": "2022",
         "offsetgroup": "2022",
         "orientation": "v",
         "showlegend": true,
         "textposition": "auto",
         "type": "bar",
         "x": [
          "Ethiopia",
          "South Africa",
          "Morocco",
          "Nigeria",
          "Sudan",
          "Kenya",
          "Algeria",
          "Tanzania",
          "Egypt",
          "Uganda",
          "Zambia",
          "Madagascar",
          "Tunisia",
          "Chad",
          "Zimbabwe",
          "Senegal",
          "Malawi",
          "Mali",
          "Mozambique",
          "Angola"
         ],
         "xaxis": "x",
         "y": [
          197514.09019607844,
          159673.0784313725,
          62455.72549019608,
          74030.30588235296,
          91432.51764705882,
          53167.96862745101,
          60358.549019607846,
          65641.95294117648,
          47156.164705882366,
          42558.37647058824,
          32685.41568627451,
          33372.933333333334,
          21905.039215686265,
          21446.19215686274,
          23081.07450980392,
          16976.341176470585,
          18469.33725490196,
          11887.870588235292,
          15343.78039215687,
          13518.290196078431
         ],
         "yaxis": "y"
        }
       ],
       "layout": {
        "barmode": "group",
        "height": 500,
        "legend": {
         "title": {
          "text": "Years"
         },
         "tracegroupgap": 0
        },
        "margin": {
         "t": 60
        },
        "template": {
         "data": {
          "bar": [
           {
            "error_x": {
             "color": "#2a3f5f"
            },
            "error_y": {
             "color": "#2a3f5f"
            },
            "marker": {
             "line": {
              "color": "#E5ECF6",
              "width": 0.5
             },
             "pattern": {
              "fillmode": "overlay",
              "size": 10,
              "solidity": 0.2
             }
            },
            "type": "bar"
           }
          ],
          "barpolar": [
           {
            "marker": {
             "line": {
              "color": "#E5ECF6",
              "width": 0.5
             },
             "pattern": {
              "fillmode": "overlay",
              "size": 10,
              "solidity": 0.2
             }
            },
            "type": "barpolar"
           }
          ],
          "carpet": [
           {
            "aaxis": {
             "endlinecolor": "#2a3f5f",
             "gridcolor": "white",
             "linecolor": "white",
             "minorgridcolor": "white",
             "startlinecolor": "#2a3f5f"
            },
            "baxis": {
             "endlinecolor": "#2a3f5f",
             "gridcolor": "white",
             "linecolor": "white",
             "minorgridcolor": "white",
             "startlinecolor": "#2a3f5f"
            },
            "type": "carpet"
           }
          ],
          "choropleth": [
           {
            "colorbar": {
             "outlinewidth": 0,
             "ticks": ""
            },
            "type": "choropleth"
           }
          ],
          "contour": [
           {
            "colorbar": {
             "outlinewidth": 0,
             "ticks": ""
            },
            "colorscale": [
             [
              0,
              "#0d0887"
             ],
             [
              0.1111111111111111,
              "#46039f"
             ],
             [
              0.2222222222222222,
              "#7201a8"
             ],
             [
              0.3333333333333333,
              "#9c179e"
             ],
             [
              0.4444444444444444,
              "#bd3786"
             ],
             [
              0.5555555555555556,
              "#d8576b"
             ],
             [
              0.6666666666666666,
              "#ed7953"
             ],
             [
              0.7777777777777778,
              "#fb9f3a"
             ],
             [
              0.8888888888888888,
              "#fdca26"
             ],
             [
              1,
              "#f0f921"
             ]
            ],
            "type": "contour"
           }
          ],
          "contourcarpet": [
           {
            "colorbar": {
             "outlinewidth": 0,
             "ticks": ""
            },
            "type": "contourcarpet"
           }
          ],
          "heatmap": [
           {
            "colorbar": {
             "outlinewidth": 0,
             "ticks": ""
            },
            "colorscale": [
             [
              0,
              "#0d0887"
             ],
             [
              0.1111111111111111,
              "#46039f"
             ],
             [
              0.2222222222222222,
              "#7201a8"
             ],
             [
              0.3333333333333333,
              "#9c179e"
             ],
             [
              0.4444444444444444,
              "#bd3786"
             ],
             [
              0.5555555555555556,
              "#d8576b"
             ],
             [
              0.6666666666666666,
              "#ed7953"
             ],
             [
              0.7777777777777778,
              "#fb9f3a"
             ],
             [
              0.8888888888888888,
              "#fdca26"
             ],
             [
              1,
              "#f0f921"
             ]
            ],
            "type": "heatmap"
           }
          ],
          "heatmapgl": [
           {
            "colorbar": {
             "outlinewidth": 0,
             "ticks": ""
            },
            "colorscale": [
             [
              0,
              "#0d0887"
             ],
             [
              0.1111111111111111,
              "#46039f"
             ],
             [
              0.2222222222222222,
              "#7201a8"
             ],
             [
              0.3333333333333333,
              "#9c179e"
             ],
             [
              0.4444444444444444,
              "#bd3786"
             ],
             [
              0.5555555555555556,
              "#d8576b"
             ],
             [
              0.6666666666666666,
              "#ed7953"
             ],
             [
              0.7777777777777778,
              "#fb9f3a"
             ],
             [
              0.8888888888888888,
              "#fdca26"
             ],
             [
              1,
              "#f0f921"
             ]
            ],
            "type": "heatmapgl"
           }
          ],
          "histogram": [
           {
            "marker": {
             "pattern": {
              "fillmode": "overlay",
              "size": 10,
              "solidity": 0.2
             }
            },
            "type": "histogram"
           }
          ],
          "histogram2d": [
           {
            "colorbar": {
             "outlinewidth": 0,
             "ticks": ""
            },
            "colorscale": [
             [
              0,
              "#0d0887"
             ],
             [
              0.1111111111111111,
              "#46039f"
             ],
             [
              0.2222222222222222,
              "#7201a8"
             ],
             [
              0.3333333333333333,
              "#9c179e"
             ],
             [
              0.4444444444444444,
              "#bd3786"
             ],
             [
              0.5555555555555556,
              "#d8576b"
             ],
             [
              0.6666666666666666,
              "#ed7953"
             ],
             [
              0.7777777777777778,
              "#fb9f3a"
             ],
             [
              0.8888888888888888,
              "#fdca26"
             ],
             [
              1,
              "#f0f921"
             ]
            ],
            "type": "histogram2d"
           }
          ],
          "histogram2dcontour": [
           {
            "colorbar": {
             "outlinewidth": 0,
             "ticks": ""
            },
            "colorscale": [
             [
              0,
              "#0d0887"
             ],
             [
              0.1111111111111111,
              "#46039f"
             ],
             [
              0.2222222222222222,
              "#7201a8"
             ],
             [
              0.3333333333333333,
              "#9c179e"
             ],
             [
              0.4444444444444444,
              "#bd3786"
             ],
             [
              0.5555555555555556,
              "#d8576b"
             ],
             [
              0.6666666666666666,
              "#ed7953"
             ],
             [
              0.7777777777777778,
              "#fb9f3a"
             ],
             [
              0.8888888888888888,
              "#fdca26"
             ],
             [
              1,
              "#f0f921"
             ]
            ],
            "type": "histogram2dcontour"
           }
          ],
          "mesh3d": [
           {
            "colorbar": {
             "outlinewidth": 0,
             "ticks": ""
            },
            "type": "mesh3d"
           }
          ],
          "parcoords": [
           {
            "line": {
             "colorbar": {
              "outlinewidth": 0,
              "ticks": ""
             }
            },
            "type": "parcoords"
           }
          ],
          "pie": [
           {
            "automargin": true,
            "type": "pie"
           }
          ],
          "scatter": [
           {
            "fillpattern": {
             "fillmode": "overlay",
             "size": 10,
             "solidity": 0.2
            },
            "type": "scatter"
           }
          ],
          "scatter3d": [
           {
            "line": {
             "colorbar": {
              "outlinewidth": 0,
              "ticks": ""
             }
            },
            "marker": {
             "colorbar": {
              "outlinewidth": 0,
              "ticks": ""
             }
            },
            "type": "scatter3d"
           }
          ],
          "scattercarpet": [
           {
            "marker": {
             "colorbar": {
              "outlinewidth": 0,
              "ticks": ""
             }
            },
            "type": "scattercarpet"
           }
          ],
          "scattergeo": [
           {
            "marker": {
             "colorbar": {
              "outlinewidth": 0,
              "ticks": ""
             }
            },
            "type": "scattergeo"
           }
          ],
          "scattergl": [
           {
            "marker": {
             "colorbar": {
              "outlinewidth": 0,
              "ticks": ""
             }
            },
            "type": "scattergl"
           }
          ],
          "scattermapbox": [
           {
            "marker": {
             "colorbar": {
              "outlinewidth": 0,
              "ticks": ""
             }
            },
            "type": "scattermapbox"
           }
          ],
          "scatterpolar": [
           {
            "marker": {
             "colorbar": {
              "outlinewidth": 0,
              "ticks": ""
             }
            },
            "type": "scatterpolar"
           }
          ],
          "scatterpolargl": [
           {
            "marker": {
             "colorbar": {
              "outlinewidth": 0,
              "ticks": ""
             }
            },
            "type": "scatterpolargl"
           }
          ],
          "scatterternary": [
           {
            "marker": {
             "colorbar": {
              "outlinewidth": 0,
              "ticks": ""
             }
            },
            "type": "scatterternary"
           }
          ],
          "surface": [
           {
            "colorbar": {
             "outlinewidth": 0,
             "ticks": ""
            },
            "colorscale": [
             [
              0,
              "#0d0887"
             ],
             [
              0.1111111111111111,
              "#46039f"
             ],
             [
              0.2222222222222222,
              "#7201a8"
             ],
             [
              0.3333333333333333,
              "#9c179e"
             ],
             [
              0.4444444444444444,
              "#bd3786"
             ],
             [
              0.5555555555555556,
              "#d8576b"
             ],
             [
              0.6666666666666666,
              "#ed7953"
             ],
             [
              0.7777777777777778,
              "#fb9f3a"
             ],
             [
              0.8888888888888888,
              "#fdca26"
             ],
             [
              1,
              "#f0f921"
             ]
            ],
            "type": "surface"
           }
          ],
          "table": [
           {
            "cells": {
             "fill": {
              "color": "#EBF0F8"
             },
             "line": {
              "color": "white"
             }
            },
            "header": {
             "fill": {
              "color": "#C8D4E3"
             },
             "line": {
              "color": "white"
             }
            },
            "type": "table"
           }
          ]
         },
         "layout": {
          "annotationdefaults": {
           "arrowcolor": "#2a3f5f",
           "arrowhead": 0,
           "arrowwidth": 1
          },
          "autotypenumbers": "strict",
          "coloraxis": {
           "colorbar": {
            "outlinewidth": 0,
            "ticks": ""
           }
          },
          "colorscale": {
           "diverging": [
            [
             0,
             "#8e0152"
            ],
            [
             0.1,
             "#c51b7d"
            ],
            [
             0.2,
             "#de77ae"
            ],
            [
             0.3,
             "#f1b6da"
            ],
            [
             0.4,
             "#fde0ef"
            ],
            [
             0.5,
             "#f7f7f7"
            ],
            [
             0.6,
             "#e6f5d0"
            ],
            [
             0.7,
             "#b8e186"
            ],
            [
             0.8,
             "#7fbc41"
            ],
            [
             0.9,
             "#4d9221"
            ],
            [
             1,
             "#276419"
            ]
           ],
           "sequential": [
            [
             0,
             "#0d0887"
            ],
            [
             0.1111111111111111,
             "#46039f"
            ],
            [
             0.2222222222222222,
             "#7201a8"
            ],
            [
             0.3333333333333333,
             "#9c179e"
            ],
            [
             0.4444444444444444,
             "#bd3786"
            ],
            [
             0.5555555555555556,
             "#d8576b"
            ],
            [
             0.6666666666666666,
             "#ed7953"
            ],
            [
             0.7777777777777778,
             "#fb9f3a"
            ],
            [
             0.8888888888888888,
             "#fdca26"
            ],
            [
             1,
             "#f0f921"
            ]
           ],
           "sequentialminus": [
            [
             0,
             "#0d0887"
            ],
            [
             0.1111111111111111,
             "#46039f"
            ],
            [
             0.2222222222222222,
             "#7201a8"
            ],
            [
             0.3333333333333333,
             "#9c179e"
            ],
            [
             0.4444444444444444,
             "#bd3786"
            ],
            [
             0.5555555555555556,
             "#d8576b"
            ],
            [
             0.6666666666666666,
             "#ed7953"
            ],
            [
             0.7777777777777778,
             "#fb9f3a"
            ],
            [
             0.8888888888888888,
             "#fdca26"
            ],
            [
             1,
             "#f0f921"
            ]
           ]
          },
          "colorway": [
           "#636efa",
           "#EF553B",
           "#00cc96",
           "#ab63fa",
           "#FFA15A",
           "#19d3f3",
           "#FF6692",
           "#B6E880",
           "#FF97FF",
           "#FECB52"
          ],
          "font": {
           "color": "#2a3f5f"
          },
          "geo": {
           "bgcolor": "white",
           "lakecolor": "white",
           "landcolor": "#E5ECF6",
           "showlakes": true,
           "showland": true,
           "subunitcolor": "white"
          },
          "hoverlabel": {
           "align": "left"
          },
          "hovermode": "closest",
          "mapbox": {
           "style": "light"
          },
          "paper_bgcolor": "white",
          "plot_bgcolor": "#E5ECF6",
          "polar": {
           "angularaxis": {
            "gridcolor": "white",
            "linecolor": "white",
            "ticks": ""
           },
           "bgcolor": "#E5ECF6",
           "radialaxis": {
            "gridcolor": "white",
            "linecolor": "white",
            "ticks": ""
           }
          },
          "scene": {
           "xaxis": {
            "backgroundcolor": "#E5ECF6",
            "gridcolor": "white",
            "gridwidth": 2,
            "linecolor": "white",
            "showbackground": true,
            "ticks": "",
            "zerolinecolor": "white"
           },
           "yaxis": {
            "backgroundcolor": "#E5ECF6",
            "gridcolor": "white",
            "gridwidth": 2,
            "linecolor": "white",
            "showbackground": true,
            "ticks": "",
            "zerolinecolor": "white"
           },
           "zaxis": {
            "backgroundcolor": "#E5ECF6",
            "gridcolor": "white",
            "gridwidth": 2,
            "linecolor": "white",
            "showbackground": true,
            "ticks": "",
            "zerolinecolor": "white"
           }
          },
          "shapedefaults": {
           "line": {
            "color": "#2a3f5f"
           }
          },
          "ternary": {
           "aaxis": {
            "gridcolor": "white",
            "linecolor": "white",
            "ticks": ""
           },
           "baxis": {
            "gridcolor": "white",
            "linecolor": "white",
            "ticks": ""
           },
           "bgcolor": "#E5ECF6",
           "caxis": {
            "gridcolor": "white",
            "linecolor": "white",
            "ticks": ""
           }
          },
          "title": {
           "x": 0.05
          },
          "xaxis": {
           "automargin": true,
           "gridcolor": "white",
           "linecolor": "white",
           "ticks": "",
           "title": {
            "standoff": 15
           },
           "zerolinecolor": "white",
           "zerolinewidth": 2
          },
          "yaxis": {
           "automargin": true,
           "gridcolor": "white",
           "linecolor": "white",
           "ticks": "",
           "title": {
            "standoff": 15
           },
           "zerolinecolor": "white",
           "zerolinewidth": 2
          }
         }
        },
        "xaxis": {
         "anchor": "y",
         "domain": [
          0,
          1
         ],
         "title": {
          "text": "NAME"
         }
        },
        "yaxis": {
         "anchor": "x",
         "domain": [
          0,
          1
         ],
         "title": {
          "text": "value"
         }
        }
       }
      }
     },
     "metadata": {},
     "output_type": "display_data"
    }
   ],
   "source": [
    "geemap.bar_chart(\n",
    "    esri_cropland, x = 'NAME', y = years, max_rows = 20, legend_title = 'Years'\n",
    ")"
   ]
  },
  {
   "cell_type": "code",
   "execution_count": 66,
   "metadata": {},
   "outputs": [
    {
     "data": {
      "text/html": [
       "\n",
       "            <style>\n",
       "                .geemap-dark {\n",
       "                    --jp-widgets-color: white;\n",
       "                    --jp-widgets-label-color: white;\n",
       "                    --jp-ui-font-color1: white;\n",
       "                    --jp-layout-color2: #454545;\n",
       "                    background-color: #383838;\n",
       "                }\n",
       "                    \n",
       "                .geemap-dark .jupyter-button {\n",
       "                    --jp-layout-color3: #383838;\n",
       "                }\n",
       "                \n",
       "                .geemap-colab {\n",
       "                    background-color: var(--colab-primary-surface-color, white);\n",
       "                }\n",
       "                    \n",
       "                .geemap-colab .jupyter-button {\n",
       "                    --jp-layout-color3: var(--colab-primary-surface-color, white);\n",
       "                }\n",
       "            </style>\n",
       "            "
      ],
      "text/plain": [
       "<IPython.core.display.HTML object>"
      ]
     },
     "metadata": {},
     "output_type": "display_data"
    },
    {
     "data": {
      "application/vnd.plotly.v1+json": {
       "config": {
        "plotlyServerURL": "https://plot.ly"
       },
       "data": [
        {
         "domain": {
          "x": [
           0,
           1
          ],
          "y": [
           0,
           1
          ]
         },
         "hovertemplate": "NAME=%{label}<br>2020=%{value}<extra></extra>",
         "labels": [
          "Ethiopia",
          "South Africa",
          "Sudan",
          "Nigeria",
          "Morocco",
          "Algeria",
          "Tanzania",
          "Kenya",
          "Egypt",
          "Uganda",
          "Zambia",
          "Madagascar",
          "Zimbabwe",
          "Tunisia",
          "Chad",
          "Malawi",
          "Senegal",
          "Mozambique",
          "Mali",
          "Other",
          "Other",
          "Other",
          "Other",
          "Other",
          "Other",
          "Other",
          "Other",
          "Other",
          "Other",
          "Other",
          "Other",
          "Other",
          "Other",
          "Other",
          "Other",
          "Other",
          "Other",
          "Other",
          "Other",
          "Other",
          "Other",
          "Other",
          "Other",
          "Other",
          "Other",
          "Other",
          "Other",
          "Other",
          "Other",
          "Other",
          "Other"
         ],
         "legendgroup": "",
         "name": "",
         "showlegend": true,
         "type": "pie",
         "values": [
          184977.78823529408,
          171983.87450980392,
          76809.92941176471,
          74083.3019607843,
          66535.96862745099,
          57119.89019607844,
          55603.46274509805,
          51214.95686274513,
          45488.72941176472,
          33253.70980392156,
          25659.38823529412,
          25071.96862745098,
          22390.682352941178,
          21640.61960784314,
          19053.890196078428,
          15109.921568627447,
          15070.654901960785,
          13920.40392156863,
          11917.46274509804,
          11638.392156862748,
          10193.337254901962,
          8664.019607843135,
          7454.211764705879,
          6509.313725490196,
          6026.882352941177,
          5865.050980392157,
          4587.050980392157,
          4206.8196078431365,
          4131.988235294118,
          3624.53725490196,
          3497.5450980392143,
          3406.596078431372,
          2838.623529411765,
          2472.5960784313725,
          2334.1607843137253,
          2024.8705882352945,
          1685.176470588235,
          1591.1254901960783,
          1590.611764705883,
          1575.8117647058823,
          1430.3568627450975,
          855.0117647058822,
          717.3568627450982,
          542.3333333333333,
          468.3686274509804,
          326.05882352941177,
          262,
          48.89411764705882,
          36.9843137254902,
          17.733333333333334,
          5
         ]
        }
       ],
       "layout": {
        "height": 500,
        "legend": {
         "tracegroupgap": 0
        },
        "margin": {
         "t": 60
        },
        "template": {
         "data": {
          "bar": [
           {
            "error_x": {
             "color": "#2a3f5f"
            },
            "error_y": {
             "color": "#2a3f5f"
            },
            "marker": {
             "line": {
              "color": "#E5ECF6",
              "width": 0.5
             },
             "pattern": {
              "fillmode": "overlay",
              "size": 10,
              "solidity": 0.2
             }
            },
            "type": "bar"
           }
          ],
          "barpolar": [
           {
            "marker": {
             "line": {
              "color": "#E5ECF6",
              "width": 0.5
             },
             "pattern": {
              "fillmode": "overlay",
              "size": 10,
              "solidity": 0.2
             }
            },
            "type": "barpolar"
           }
          ],
          "carpet": [
           {
            "aaxis": {
             "endlinecolor": "#2a3f5f",
             "gridcolor": "white",
             "linecolor": "white",
             "minorgridcolor": "white",
             "startlinecolor": "#2a3f5f"
            },
            "baxis": {
             "endlinecolor": "#2a3f5f",
             "gridcolor": "white",
             "linecolor": "white",
             "minorgridcolor": "white",
             "startlinecolor": "#2a3f5f"
            },
            "type": "carpet"
           }
          ],
          "choropleth": [
           {
            "colorbar": {
             "outlinewidth": 0,
             "ticks": ""
            },
            "type": "choropleth"
           }
          ],
          "contour": [
           {
            "colorbar": {
             "outlinewidth": 0,
             "ticks": ""
            },
            "colorscale": [
             [
              0,
              "#0d0887"
             ],
             [
              0.1111111111111111,
              "#46039f"
             ],
             [
              0.2222222222222222,
              "#7201a8"
             ],
             [
              0.3333333333333333,
              "#9c179e"
             ],
             [
              0.4444444444444444,
              "#bd3786"
             ],
             [
              0.5555555555555556,
              "#d8576b"
             ],
             [
              0.6666666666666666,
              "#ed7953"
             ],
             [
              0.7777777777777778,
              "#fb9f3a"
             ],
             [
              0.8888888888888888,
              "#fdca26"
             ],
             [
              1,
              "#f0f921"
             ]
            ],
            "type": "contour"
           }
          ],
          "contourcarpet": [
           {
            "colorbar": {
             "outlinewidth": 0,
             "ticks": ""
            },
            "type": "contourcarpet"
           }
          ],
          "heatmap": [
           {
            "colorbar": {
             "outlinewidth": 0,
             "ticks": ""
            },
            "colorscale": [
             [
              0,
              "#0d0887"
             ],
             [
              0.1111111111111111,
              "#46039f"
             ],
             [
              0.2222222222222222,
              "#7201a8"
             ],
             [
              0.3333333333333333,
              "#9c179e"
             ],
             [
              0.4444444444444444,
              "#bd3786"
             ],
             [
              0.5555555555555556,
              "#d8576b"
             ],
             [
              0.6666666666666666,
              "#ed7953"
             ],
             [
              0.7777777777777778,
              "#fb9f3a"
             ],
             [
              0.8888888888888888,
              "#fdca26"
             ],
             [
              1,
              "#f0f921"
             ]
            ],
            "type": "heatmap"
           }
          ],
          "heatmapgl": [
           {
            "colorbar": {
             "outlinewidth": 0,
             "ticks": ""
            },
            "colorscale": [
             [
              0,
              "#0d0887"
             ],
             [
              0.1111111111111111,
              "#46039f"
             ],
             [
              0.2222222222222222,
              "#7201a8"
             ],
             [
              0.3333333333333333,
              "#9c179e"
             ],
             [
              0.4444444444444444,
              "#bd3786"
             ],
             [
              0.5555555555555556,
              "#d8576b"
             ],
             [
              0.6666666666666666,
              "#ed7953"
             ],
             [
              0.7777777777777778,
              "#fb9f3a"
             ],
             [
              0.8888888888888888,
              "#fdca26"
             ],
             [
              1,
              "#f0f921"
             ]
            ],
            "type": "heatmapgl"
           }
          ],
          "histogram": [
           {
            "marker": {
             "pattern": {
              "fillmode": "overlay",
              "size": 10,
              "solidity": 0.2
             }
            },
            "type": "histogram"
           }
          ],
          "histogram2d": [
           {
            "colorbar": {
             "outlinewidth": 0,
             "ticks": ""
            },
            "colorscale": [
             [
              0,
              "#0d0887"
             ],
             [
              0.1111111111111111,
              "#46039f"
             ],
             [
              0.2222222222222222,
              "#7201a8"
             ],
             [
              0.3333333333333333,
              "#9c179e"
             ],
             [
              0.4444444444444444,
              "#bd3786"
             ],
             [
              0.5555555555555556,
              "#d8576b"
             ],
             [
              0.6666666666666666,
              "#ed7953"
             ],
             [
              0.7777777777777778,
              "#fb9f3a"
             ],
             [
              0.8888888888888888,
              "#fdca26"
             ],
             [
              1,
              "#f0f921"
             ]
            ],
            "type": "histogram2d"
           }
          ],
          "histogram2dcontour": [
           {
            "colorbar": {
             "outlinewidth": 0,
             "ticks": ""
            },
            "colorscale": [
             [
              0,
              "#0d0887"
             ],
             [
              0.1111111111111111,
              "#46039f"
             ],
             [
              0.2222222222222222,
              "#7201a8"
             ],
             [
              0.3333333333333333,
              "#9c179e"
             ],
             [
              0.4444444444444444,
              "#bd3786"
             ],
             [
              0.5555555555555556,
              "#d8576b"
             ],
             [
              0.6666666666666666,
              "#ed7953"
             ],
             [
              0.7777777777777778,
              "#fb9f3a"
             ],
             [
              0.8888888888888888,
              "#fdca26"
             ],
             [
              1,
              "#f0f921"
             ]
            ],
            "type": "histogram2dcontour"
           }
          ],
          "mesh3d": [
           {
            "colorbar": {
             "outlinewidth": 0,
             "ticks": ""
            },
            "type": "mesh3d"
           }
          ],
          "parcoords": [
           {
            "line": {
             "colorbar": {
              "outlinewidth": 0,
              "ticks": ""
             }
            },
            "type": "parcoords"
           }
          ],
          "pie": [
           {
            "automargin": true,
            "type": "pie"
           }
          ],
          "scatter": [
           {
            "fillpattern": {
             "fillmode": "overlay",
             "size": 10,
             "solidity": 0.2
            },
            "type": "scatter"
           }
          ],
          "scatter3d": [
           {
            "line": {
             "colorbar": {
              "outlinewidth": 0,
              "ticks": ""
             }
            },
            "marker": {
             "colorbar": {
              "outlinewidth": 0,
              "ticks": ""
             }
            },
            "type": "scatter3d"
           }
          ],
          "scattercarpet": [
           {
            "marker": {
             "colorbar": {
              "outlinewidth": 0,
              "ticks": ""
             }
            },
            "type": "scattercarpet"
           }
          ],
          "scattergeo": [
           {
            "marker": {
             "colorbar": {
              "outlinewidth": 0,
              "ticks": ""
             }
            },
            "type": "scattergeo"
           }
          ],
          "scattergl": [
           {
            "marker": {
             "colorbar": {
              "outlinewidth": 0,
              "ticks": ""
             }
            },
            "type": "scattergl"
           }
          ],
          "scattermapbox": [
           {
            "marker": {
             "colorbar": {
              "outlinewidth": 0,
              "ticks": ""
             }
            },
            "type": "scattermapbox"
           }
          ],
          "scatterpolar": [
           {
            "marker": {
             "colorbar": {
              "outlinewidth": 0,
              "ticks": ""
             }
            },
            "type": "scatterpolar"
           }
          ],
          "scatterpolargl": [
           {
            "marker": {
             "colorbar": {
              "outlinewidth": 0,
              "ticks": ""
             }
            },
            "type": "scatterpolargl"
           }
          ],
          "scatterternary": [
           {
            "marker": {
             "colorbar": {
              "outlinewidth": 0,
              "ticks": ""
             }
            },
            "type": "scatterternary"
           }
          ],
          "surface": [
           {
            "colorbar": {
             "outlinewidth": 0,
             "ticks": ""
            },
            "colorscale": [
             [
              0,
              "#0d0887"
             ],
             [
              0.1111111111111111,
              "#46039f"
             ],
             [
              0.2222222222222222,
              "#7201a8"
             ],
             [
              0.3333333333333333,
              "#9c179e"
             ],
             [
              0.4444444444444444,
              "#bd3786"
             ],
             [
              0.5555555555555556,
              "#d8576b"
             ],
             [
              0.6666666666666666,
              "#ed7953"
             ],
             [
              0.7777777777777778,
              "#fb9f3a"
             ],
             [
              0.8888888888888888,
              "#fdca26"
             ],
             [
              1,
              "#f0f921"
             ]
            ],
            "type": "surface"
           }
          ],
          "table": [
           {
            "cells": {
             "fill": {
              "color": "#EBF0F8"
             },
             "line": {
              "color": "white"
             }
            },
            "header": {
             "fill": {
              "color": "#C8D4E3"
             },
             "line": {
              "color": "white"
             }
            },
            "type": "table"
           }
          ]
         },
         "layout": {
          "annotationdefaults": {
           "arrowcolor": "#2a3f5f",
           "arrowhead": 0,
           "arrowwidth": 1
          },
          "autotypenumbers": "strict",
          "coloraxis": {
           "colorbar": {
            "outlinewidth": 0,
            "ticks": ""
           }
          },
          "colorscale": {
           "diverging": [
            [
             0,
             "#8e0152"
            ],
            [
             0.1,
             "#c51b7d"
            ],
            [
             0.2,
             "#de77ae"
            ],
            [
             0.3,
             "#f1b6da"
            ],
            [
             0.4,
             "#fde0ef"
            ],
            [
             0.5,
             "#f7f7f7"
            ],
            [
             0.6,
             "#e6f5d0"
            ],
            [
             0.7,
             "#b8e186"
            ],
            [
             0.8,
             "#7fbc41"
            ],
            [
             0.9,
             "#4d9221"
            ],
            [
             1,
             "#276419"
            ]
           ],
           "sequential": [
            [
             0,
             "#0d0887"
            ],
            [
             0.1111111111111111,
             "#46039f"
            ],
            [
             0.2222222222222222,
             "#7201a8"
            ],
            [
             0.3333333333333333,
             "#9c179e"
            ],
            [
             0.4444444444444444,
             "#bd3786"
            ],
            [
             0.5555555555555556,
             "#d8576b"
            ],
            [
             0.6666666666666666,
             "#ed7953"
            ],
            [
             0.7777777777777778,
             "#fb9f3a"
            ],
            [
             0.8888888888888888,
             "#fdca26"
            ],
            [
             1,
             "#f0f921"
            ]
           ],
           "sequentialminus": [
            [
             0,
             "#0d0887"
            ],
            [
             0.1111111111111111,
             "#46039f"
            ],
            [
             0.2222222222222222,
             "#7201a8"
            ],
            [
             0.3333333333333333,
             "#9c179e"
            ],
            [
             0.4444444444444444,
             "#bd3786"
            ],
            [
             0.5555555555555556,
             "#d8576b"
            ],
            [
             0.6666666666666666,
             "#ed7953"
            ],
            [
             0.7777777777777778,
             "#fb9f3a"
            ],
            [
             0.8888888888888888,
             "#fdca26"
            ],
            [
             1,
             "#f0f921"
            ]
           ]
          },
          "colorway": [
           "#636efa",
           "#EF553B",
           "#00cc96",
           "#ab63fa",
           "#FFA15A",
           "#19d3f3",
           "#FF6692",
           "#B6E880",
           "#FF97FF",
           "#FECB52"
          ],
          "font": {
           "color": "#2a3f5f"
          },
          "geo": {
           "bgcolor": "white",
           "lakecolor": "white",
           "landcolor": "#E5ECF6",
           "showlakes": true,
           "showland": true,
           "subunitcolor": "white"
          },
          "hoverlabel": {
           "align": "left"
          },
          "hovermode": "closest",
          "mapbox": {
           "style": "light"
          },
          "paper_bgcolor": "white",
          "plot_bgcolor": "#E5ECF6",
          "polar": {
           "angularaxis": {
            "gridcolor": "white",
            "linecolor": "white",
            "ticks": ""
           },
           "bgcolor": "#E5ECF6",
           "radialaxis": {
            "gridcolor": "white",
            "linecolor": "white",
            "ticks": ""
           }
          },
          "scene": {
           "xaxis": {
            "backgroundcolor": "#E5ECF6",
            "gridcolor": "white",
            "gridwidth": 2,
            "linecolor": "white",
            "showbackground": true,
            "ticks": "",
            "zerolinecolor": "white"
           },
           "yaxis": {
            "backgroundcolor": "#E5ECF6",
            "gridcolor": "white",
            "gridwidth": 2,
            "linecolor": "white",
            "showbackground": true,
            "ticks": "",
            "zerolinecolor": "white"
           },
           "zaxis": {
            "backgroundcolor": "#E5ECF6",
            "gridcolor": "white",
            "gridwidth": 2,
            "linecolor": "white",
            "showbackground": true,
            "ticks": "",
            "zerolinecolor": "white"
           }
          },
          "shapedefaults": {
           "line": {
            "color": "#2a3f5f"
           }
          },
          "ternary": {
           "aaxis": {
            "gridcolor": "white",
            "linecolor": "white",
            "ticks": ""
           },
           "baxis": {
            "gridcolor": "white",
            "linecolor": "white",
            "ticks": ""
           },
           "bgcolor": "#E5ECF6",
           "caxis": {
            "gridcolor": "white",
            "linecolor": "white",
            "ticks": ""
           }
          },
          "title": {
           "x": 0.05
          },
          "xaxis": {
           "automargin": true,
           "gridcolor": "white",
           "linecolor": "white",
           "ticks": "",
           "title": {
            "standoff": 15
           },
           "zerolinecolor": "white",
           "zerolinewidth": 2
          },
          "yaxis": {
           "automargin": true,
           "gridcolor": "white",
           "linecolor": "white",
           "ticks": "",
           "title": {
            "standoff": 15
           },
           "zerolinecolor": "white",
           "zerolinewidth": 2
          }
         }
        }
       }
      }
     },
     "metadata": {},
     "output_type": "display_data"
    }
   ],
   "source": [
    "geemap.pie_chart(esri_cropland, names = 'NAME', values = '2020', max_rows = 20, height = 500)"
   ]
  },
  {
   "cell_type": "markdown",
   "metadata": {},
   "source": [
    "## Analyzing Cropland Gain and Loss"
   ]
  },
  {
   "cell_type": "code",
   "execution_count": 67,
   "metadata": {},
   "outputs": [
    {
     "data": {
      "text/html": [
       "\n",
       "            <style>\n",
       "                .geemap-dark {\n",
       "                    --jp-widgets-color: white;\n",
       "                    --jp-widgets-label-color: white;\n",
       "                    --jp-ui-font-color1: white;\n",
       "                    --jp-layout-color2: #454545;\n",
       "                    background-color: #383838;\n",
       "                }\n",
       "                    \n",
       "                .geemap-dark .jupyter-button {\n",
       "                    --jp-layout-color3: #383838;\n",
       "                }\n",
       "                \n",
       "                .geemap-colab {\n",
       "                    background-color: var(--colab-primary-surface-color, white);\n",
       "                }\n",
       "                    \n",
       "                .geemap-colab .jupyter-button {\n",
       "                    --jp-layout-color3: var(--colab-primary-surface-color, white);\n",
       "                }\n",
       "            </style>\n",
       "            "
      ],
      "text/plain": [
       "<IPython.core.display.HTML object>"
      ]
     },
     "metadata": {},
     "output_type": "display_data"
    },
    {
     "data": {
      "text/html": [
       "<div><style>:root {\n",
       "  --font-color-primary: var(--jp-content-font-color0, rgba(0, 0, 0, 1));\n",
       "  --font-color-secondary: var(--jp-content-font-color2, rgba(0, 0, 0, 0.6));\n",
       "  --font-color-accent: rgba(123, 31, 162, 1);\n",
       "  --border-color: var(--jp-border-color2, #e0e0e0);\n",
       "  --background-color: var(--jp-layout-color0, white);\n",
       "  --background-color-row-even: var(--jp-layout-color1, white);\n",
       "  --background-color-row-odd: var(--jp-layout-color2, #eeeeee);\n",
       "}\n",
       "\n",
       "html[theme=\"dark\"],\n",
       "body[data-theme=\"dark\"],\n",
       "body.vscode-dark {\n",
       "  --font-color-primary: rgba(255, 255, 255, 1);\n",
       "  --font-color-secondary: rgba(255, 255, 255, 0.6);\n",
       "  --font-color-accent: rgb(173, 132, 190);\n",
       "  --border-color: #2e2e2e;\n",
       "  --background-color: #111111;\n",
       "  --background-color-row-even: #111111;\n",
       "  --background-color-row-odd: #313131;\n",
       "}\n",
       "\n",
       ".ee {\n",
       "  padding: 1em;\n",
       "  line-height: 1.5em;\n",
       "  min-width: 300px;\n",
       "  max-width: 1200px;\n",
       "  overflow-y: scroll;\n",
       "  max-height: 600px;\n",
       "  border: 1px solid var(--border-color);\n",
       "  font-family: monospace;\n",
       "}\n",
       "\n",
       ".ee li {\n",
       "  list-style-type: none;\n",
       "}\n",
       "\n",
       ".ee ul {\n",
       "  padding-left: 1.5em !important;\n",
       "  margin: 0;\n",
       "}\n",
       "\n",
       ".ee > ul {\n",
       "  padding-left: 0 !important;\n",
       "}\n",
       "\n",
       ".ee-open,\n",
       ".ee-shut {\n",
       "  color: var(--font-color-secondary);\n",
       "  cursor: pointer;\n",
       "  margin: 0;\n",
       "}\n",
       "\n",
       ".ee-open:hover,\n",
       ".ee-shut:hover {\n",
       "  color: var(--font-color-primary);\n",
       "}\n",
       "\n",
       ".ee-k {\n",
       "  color: var(--font-color-accent);\n",
       "  margin-right: 6px;\n",
       "}\n",
       "\n",
       ".ee-v {\n",
       "  color: var(--font-color-primary);\n",
       "}\n",
       "\n",
       ".ee-toggle {\n",
       "  display: none;\n",
       "}\n",
       "\n",
       ".ee-shut + ul {\n",
       "  display: none;\n",
       "}\n",
       "\n",
       ".ee-open + ul {\n",
       "  display: block;\n",
       "}\n",
       "\n",
       ".ee-shut::before {\n",
       "  display: inline-block;\n",
       "  content: \"▼\";\n",
       "  margin-right: 6px;\n",
       "  transform: rotate(-90deg);\n",
       "  transition: transform 0.2s;\n",
       "}\n",
       "\n",
       ".ee-open::before {\n",
       "  transform: rotate(0deg);\n",
       "  display: inline-block;\n",
       "  content: \"▼\";\n",
       "  margin-right: 6px;\n",
       "  transition: transform 0.2s;\n",
       "}\n",
       "</style><div class='ee'><ul><li><label class='ee-shut'>Image (1 band)<input type='checkbox' class='ee-toggle'></label><ul><li><span class='ee-k'>type:</span><span class='ee-v'>Image</span></li><li><label class='ee-shut'>bands: List (1 element)<input type='checkbox' class='ee-toggle'></label><ul><li><label class='ee-shut'>0: \"b1\", int ∈ [0, 1], EPSG:4326<input type='checkbox' class='ee-toggle'></label><ul><li><span class='ee-k'>id:</span><span class='ee-v'>b1</span></li><li><span class='ee-k'>crs:</span><span class='ee-v'>EPSG:4326</span></li><li><label class='ee-shut'>crs_transform: [1, 0, 0, 0, 1, 0]<input type='checkbox' class='ee-toggle'></label><ul><li><span class='ee-k'>0:</span><span class='ee-v'>1</span></li><li><span class='ee-k'>1:</span><span class='ee-v'>0</span></li><li><span class='ee-k'>2:</span><span class='ee-v'>0</span></li><li><span class='ee-k'>3:</span><span class='ee-v'>0</span></li><li><span class='ee-k'>4:</span><span class='ee-v'>1</span></li><li><span class='ee-k'>5:</span><span class='ee-v'>0</span></li></ul></li><li><label class='ee-shut'>data_type: int ∈ [0, 1]<input type='checkbox' class='ee-toggle'></label><ul><li><span class='ee-k'>type:</span><span class='ee-v'>PixelType</span></li><li><span class='ee-k'>max:</span><span class='ee-v'>1</span></li><li><span class='ee-k'>min:</span><span class='ee-v'>0</span></li><li><span class='ee-k'>precision:</span><span class='ee-v'>int</span></li></ul></li></ul></li></ul></li></ul></li></ul></div><script>function toggleHeader() {\n",
       "    const parent = this.parentElement;\n",
       "    parent.className = parent.className === \"ee-open\" ? \"ee-shut\" : \"ee-open\";\n",
       "}\n",
       "\n",
       "for (let c of document.getElementsByClassName(\"ee-toggle\")) {\n",
       "    c.onclick = toggleHeader;\n",
       "}</script></div>"
      ],
      "text/plain": [
       "<ee.image.Image at 0x1ad5881ea70>"
      ]
     },
     "execution_count": 67,
     "metadata": {},
     "output_type": "execute_result"
    }
   ],
   "source": [
    "cropland_2017"
   ]
  },
  {
   "cell_type": "code",
   "execution_count": 68,
   "metadata": {},
   "outputs": [
    {
     "data": {
      "text/html": [
       "\n",
       "            <style>\n",
       "                .geemap-dark {\n",
       "                    --jp-widgets-color: white;\n",
       "                    --jp-widgets-label-color: white;\n",
       "                    --jp-ui-font-color1: white;\n",
       "                    --jp-layout-color2: #454545;\n",
       "                    background-color: #383838;\n",
       "                }\n",
       "                    \n",
       "                .geemap-dark .jupyter-button {\n",
       "                    --jp-layout-color3: #383838;\n",
       "                }\n",
       "                \n",
       "                .geemap-colab {\n",
       "                    background-color: var(--colab-primary-surface-color, white);\n",
       "                }\n",
       "                    \n",
       "                .geemap-colab .jupyter-button {\n",
       "                    --jp-layout-color3: var(--colab-primary-surface-color, white);\n",
       "                }\n",
       "            </style>\n",
       "            "
      ],
      "text/plain": [
       "<IPython.core.display.HTML object>"
      ]
     },
     "metadata": {},
     "output_type": "display_data"
    },
    {
     "data": {
      "application/vnd.jupyter.widget-view+json": {
       "model_id": "a0cbf9fe678645c28afe197745bbf965",
       "version_major": 2,
       "version_minor": 0
      },
      "text/plain": [
       "Map(center=[0, 0], controls=(WidgetControl(options=['position', 'transparent_bg'], widget=SearchDataGUI(childr…"
      ]
     },
     "execution_count": 68,
     "metadata": {},
     "output_type": "execute_result"
    }
   ],
   "source": [
    "Map = geemap.Map()\n",
    "Map.add_basemap('HYBRID')\n",
    "\n",
    "cropland_2017 = esri_2017.eq(5).selfMask()\n",
    "cropland_2022 = esri_2022.eq(5).selfMask()\n",
    "\n",
    "cropland_gain = esri_2017.neq(5).And(esri_2022.eq(5)).selfMask()\n",
    "cropland_loss = esri_2017.eq(5).And(esri_2022.neq(5)).selfMask()\n",
    "\n",
    "Map.addLayer(cropland_2017, {'palette': 'brown'}, 'Cropland 2017', False)\n",
    "Map.addLayer(cropland_2022, {'palette': 'cyan'}, 'Cropland 2022', False)\n",
    "\n",
    "Map.addLayer(cropland_gain, {'palette': 'yellow'}, 'Cropland gain')\n",
    "Map.addLayer(cropland_loss, {'palette': 'red'}, 'Cropland loss')\n",
    "Map"
   ]
  },
  {
   "cell_type": "code",
   "execution_count": 69,
   "metadata": {},
   "outputs": [
    {
     "data": {
      "text/html": [
       "\n",
       "            <style>\n",
       "                .geemap-dark {\n",
       "                    --jp-widgets-color: white;\n",
       "                    --jp-widgets-label-color: white;\n",
       "                    --jp-ui-font-color1: white;\n",
       "                    --jp-layout-color2: #454545;\n",
       "                    background-color: #383838;\n",
       "                }\n",
       "                    \n",
       "                .geemap-dark .jupyter-button {\n",
       "                    --jp-layout-color3: #383838;\n",
       "                }\n",
       "                \n",
       "                .geemap-colab {\n",
       "                    background-color: var(--colab-primary-surface-color, white);\n",
       "                }\n",
       "                    \n",
       "                .geemap-colab .jupyter-button {\n",
       "                    --jp-layout-color3: var(--colab-primary-surface-color, white);\n",
       "                }\n",
       "            </style>\n",
       "            "
      ],
      "text/plain": [
       "<IPython.core.display.HTML object>"
      ]
     },
     "metadata": {},
     "output_type": "display_data"
    },
    {
     "name": "stdout",
     "output_type": "stream",
     "text": [
      "Computing statistics ...\n",
      "Generating URL ...\n",
      "Downloading data from https://earthengine.googleapis.com/v1/projects/earthengine-legacy/tables/0be993a54e2636106966975af1878af0-07f86dd4e46fd0fb931d131d433a20e6:getFeatures\n",
      "Please wait ...\n",
      "Data downloaded to c:\\Users\\gilramolete\\OneDrive - UNIONBANK of the Philippines\\Documents 1\\geemap\\data\\esri_cropland_gain.csv\n"
     ]
    }
   ],
   "source": [
    "geemap.zonal_stats(\n",
    "    cropland_gain, countries, 'data/esri_cropland_gain.csv', stat_type = 'SUM', scale = 1000\n",
    ")"
   ]
  },
  {
   "cell_type": "code",
   "execution_count": 70,
   "metadata": {},
   "outputs": [
    {
     "data": {
      "text/html": [
       "\n",
       "            <style>\n",
       "                .geemap-dark {\n",
       "                    --jp-widgets-color: white;\n",
       "                    --jp-widgets-label-color: white;\n",
       "                    --jp-ui-font-color1: white;\n",
       "                    --jp-layout-color2: #454545;\n",
       "                    background-color: #383838;\n",
       "                }\n",
       "                    \n",
       "                .geemap-dark .jupyter-button {\n",
       "                    --jp-layout-color3: #383838;\n",
       "                }\n",
       "                \n",
       "                .geemap-colab {\n",
       "                    background-color: var(--colab-primary-surface-color, white);\n",
       "                }\n",
       "                    \n",
       "                .geemap-colab .jupyter-button {\n",
       "                    --jp-layout-color3: var(--colab-primary-surface-color, white);\n",
       "                }\n",
       "            </style>\n",
       "            "
      ],
      "text/plain": [
       "<IPython.core.display.HTML object>"
      ]
     },
     "metadata": {},
     "output_type": "display_data"
    },
    {
     "data": {
      "text/html": [
       "<div>\n",
       "<style scoped>\n",
       "    .dataframe tbody tr th:only-of-type {\n",
       "        vertical-align: middle;\n",
       "    }\n",
       "\n",
       "    .dataframe tbody tr th {\n",
       "        vertical-align: top;\n",
       "    }\n",
       "\n",
       "    .dataframe thead th {\n",
       "        text-align: right;\n",
       "    }\n",
       "</style>\n",
       "<table border=\"1\" class=\"dataframe\">\n",
       "  <thead>\n",
       "    <tr style=\"text-align: right;\">\n",
       "      <th></th>\n",
       "      <th>sum</th>\n",
       "      <th>GDP_MD_EST</th>\n",
       "      <th>ISO_A2</th>\n",
       "      <th>POP_RANK</th>\n",
       "      <th>ISO_A3</th>\n",
       "      <th>CONTINENT</th>\n",
       "      <th>POP_EST</th>\n",
       "      <th>INCOME_GRP</th>\n",
       "      <th>SUBREGION</th>\n",
       "      <th>system:index</th>\n",
       "      <th>NAME</th>\n",
       "    </tr>\n",
       "  </thead>\n",
       "  <tbody>\n",
       "    <tr>\n",
       "      <th>0</th>\n",
       "      <td>1109.745098</td>\n",
       "      <td>25810.0</td>\n",
       "      <td>TJ</td>\n",
       "      <td>13</td>\n",
       "      <td>TJK</td>\n",
       "      <td>Asia</td>\n",
       "      <td>8468555</td>\n",
       "      <td>5. Low income</td>\n",
       "      <td>Central Asia</td>\n",
       "      <td>00000000000000000068</td>\n",
       "      <td>Tajikistan</td>\n",
       "    </tr>\n",
       "    <tr>\n",
       "      <th>1</th>\n",
       "      <td>2711.709804</td>\n",
       "      <td>21010.0</td>\n",
       "      <td>KG</td>\n",
       "      <td>13</td>\n",
       "      <td>KGZ</td>\n",
       "      <td>Asia</td>\n",
       "      <td>5789122</td>\n",
       "      <td>5. Low income</td>\n",
       "      <td>Central Asia</td>\n",
       "      <td>00000000000000000069</td>\n",
       "      <td>Kyrgyzstan</td>\n",
       "    </tr>\n",
       "    <tr>\n",
       "      <th>2</th>\n",
       "      <td>5546.215686</td>\n",
       "      <td>40000.0</td>\n",
       "      <td>KP</td>\n",
       "      <td>15</td>\n",
       "      <td>PRK</td>\n",
       "      <td>Asia</td>\n",
       "      <td>25248140</td>\n",
       "      <td>5. Low income</td>\n",
       "      <td>Eastern Asia</td>\n",
       "      <td>0000000000000000005f</td>\n",
       "      <td>North Korea</td>\n",
       "    </tr>\n",
       "    <tr>\n",
       "      <th>3</th>\n",
       "      <td>8697.317647</td>\n",
       "      <td>628400.0</td>\n",
       "      <td>BD</td>\n",
       "      <td>17</td>\n",
       "      <td>BGD</td>\n",
       "      <td>Asia</td>\n",
       "      <td>157826578</td>\n",
       "      <td>5. Low income</td>\n",
       "      <td>Southern Asia</td>\n",
       "      <td>00000000000000000063</td>\n",
       "      <td>Bangladesh</td>\n",
       "    </tr>\n",
       "    <tr>\n",
       "      <th>4</th>\n",
       "      <td>962.274510</td>\n",
       "      <td>71520.0</td>\n",
       "      <td>NP</td>\n",
       "      <td>15</td>\n",
       "      <td>NPL</td>\n",
       "      <td>Asia</td>\n",
       "      <td>29384297</td>\n",
       "      <td>5. Low income</td>\n",
       "      <td>Southern Asia</td>\n",
       "      <td>00000000000000000065</td>\n",
       "      <td>Nepal</td>\n",
       "    </tr>\n",
       "    <tr>\n",
       "      <th>...</th>\n",
       "      <td>...</td>\n",
       "      <td>...</td>\n",
       "      <td>...</td>\n",
       "      <td>...</td>\n",
       "      <td>...</td>\n",
       "      <td>...</td>\n",
       "      <td>...</td>\n",
       "      <td>...</td>\n",
       "      <td>...</td>\n",
       "      <td>...</td>\n",
       "      <td>...</td>\n",
       "    </tr>\n",
       "    <tr>\n",
       "      <th>171</th>\n",
       "      <td>4779.968627</td>\n",
       "      <td>182400.0</td>\n",
       "      <td>EC</td>\n",
       "      <td>14</td>\n",
       "      <td>ECU</td>\n",
       "      <td>South America</td>\n",
       "      <td>16290913</td>\n",
       "      <td>3. Upper middle income</td>\n",
       "      <td>South America</td>\n",
       "      <td>0000000000000000002c</td>\n",
       "      <td>Ecuador</td>\n",
       "    </tr>\n",
       "    <tr>\n",
       "      <th>172</th>\n",
       "      <td>14011.933333</td>\n",
       "      <td>78350.0</td>\n",
       "      <td>BO</td>\n",
       "      <td>14</td>\n",
       "      <td>BOL</td>\n",
       "      <td>South America</td>\n",
       "      <td>11138234</td>\n",
       "      <td>4. Lower middle income</td>\n",
       "      <td>South America</td>\n",
       "      <td>0000000000000000001e</td>\n",
       "      <td>Bolivia</td>\n",
       "    </tr>\n",
       "    <tr>\n",
       "      <th>173</th>\n",
       "      <td>174.619608</td>\n",
       "      <td>6093.0</td>\n",
       "      <td>GY</td>\n",
       "      <td>11</td>\n",
       "      <td>GUY</td>\n",
       "      <td>South America</td>\n",
       "      <td>737718</td>\n",
       "      <td>4. Lower middle income</td>\n",
       "      <td>South America</td>\n",
       "      <td>00000000000000000029</td>\n",
       "      <td>Guyana</td>\n",
       "    </tr>\n",
       "    <tr>\n",
       "      <th>174</th>\n",
       "      <td>28908.964706</td>\n",
       "      <td>64670.0</td>\n",
       "      <td>PY</td>\n",
       "      <td>13</td>\n",
       "      <td>PRY</td>\n",
       "      <td>South America</td>\n",
       "      <td>6943739</td>\n",
       "      <td>4. Lower middle income</td>\n",
       "      <td>South America</td>\n",
       "      <td>0000000000000000009b</td>\n",
       "      <td>Paraguay</td>\n",
       "    </tr>\n",
       "    <tr>\n",
       "      <th>175</th>\n",
       "      <td>4.000000</td>\n",
       "      <td>16.0</td>\n",
       "      <td>TF</td>\n",
       "      <td>1</td>\n",
       "      <td>ATF</td>\n",
       "      <td>Seven seas (open ocean)</td>\n",
       "      <td>140</td>\n",
       "      <td>2. High income: nonOECD</td>\n",
       "      <td>Seven seas (open ocean)</td>\n",
       "      <td>00000000000000000017</td>\n",
       "      <td>Fr. S. Antarctic Lands</td>\n",
       "    </tr>\n",
       "  </tbody>\n",
       "</table>\n",
       "<p>176 rows × 11 columns</p>\n",
       "</div>"
      ],
      "text/plain": [
       "              sum  GDP_MD_EST ISO_A2  POP_RANK ISO_A3  \\\n",
       "0     1109.745098     25810.0     TJ        13    TJK   \n",
       "1     2711.709804     21010.0     KG        13    KGZ   \n",
       "2     5546.215686     40000.0     KP        15    PRK   \n",
       "3     8697.317647    628400.0     BD        17    BGD   \n",
       "4      962.274510     71520.0     NP        15    NPL   \n",
       "..            ...         ...    ...       ...    ...   \n",
       "171   4779.968627    182400.0     EC        14    ECU   \n",
       "172  14011.933333     78350.0     BO        14    BOL   \n",
       "173    174.619608      6093.0     GY        11    GUY   \n",
       "174  28908.964706     64670.0     PY        13    PRY   \n",
       "175      4.000000        16.0     TF         1    ATF   \n",
       "\n",
       "                   CONTINENT    POP_EST               INCOME_GRP  \\\n",
       "0                       Asia    8468555            5. Low income   \n",
       "1                       Asia    5789122            5. Low income   \n",
       "2                       Asia   25248140            5. Low income   \n",
       "3                       Asia  157826578            5. Low income   \n",
       "4                       Asia   29384297            5. Low income   \n",
       "..                       ...        ...                      ...   \n",
       "171            South America   16290913   3. Upper middle income   \n",
       "172            South America   11138234   4. Lower middle income   \n",
       "173            South America     737718   4. Lower middle income   \n",
       "174            South America    6943739   4. Lower middle income   \n",
       "175  Seven seas (open ocean)        140  2. High income: nonOECD   \n",
       "\n",
       "                   SUBREGION          system:index                    NAME  \n",
       "0               Central Asia  00000000000000000068              Tajikistan  \n",
       "1               Central Asia  00000000000000000069              Kyrgyzstan  \n",
       "2               Eastern Asia  0000000000000000005f             North Korea  \n",
       "3              Southern Asia  00000000000000000063              Bangladesh  \n",
       "4              Southern Asia  00000000000000000065                   Nepal  \n",
       "..                       ...                   ...                     ...  \n",
       "171            South America  0000000000000000002c                 Ecuador  \n",
       "172            South America  0000000000000000001e                 Bolivia  \n",
       "173            South America  00000000000000000029                  Guyana  \n",
       "174            South America  0000000000000000009b                Paraguay  \n",
       "175  Seven seas (open ocean)  00000000000000000017  Fr. S. Antarctic Lands  \n",
       "\n",
       "[176 rows x 11 columns]"
      ]
     },
     "execution_count": 70,
     "metadata": {},
     "output_type": "execute_result"
    }
   ],
   "source": [
    "esri_cropland_gain = geemap.csv_to_df('data/esri_cropland_gain.csv')\n",
    "esri_cropland_gain"
   ]
  },
  {
   "cell_type": "code",
   "execution_count": 71,
   "metadata": {},
   "outputs": [
    {
     "data": {
      "text/html": [
       "\n",
       "            <style>\n",
       "                .geemap-dark {\n",
       "                    --jp-widgets-color: white;\n",
       "                    --jp-widgets-label-color: white;\n",
       "                    --jp-ui-font-color1: white;\n",
       "                    --jp-layout-color2: #454545;\n",
       "                    background-color: #383838;\n",
       "                }\n",
       "                    \n",
       "                .geemap-dark .jupyter-button {\n",
       "                    --jp-layout-color3: #383838;\n",
       "                }\n",
       "                \n",
       "                .geemap-colab {\n",
       "                    background-color: var(--colab-primary-surface-color, white);\n",
       "                }\n",
       "                    \n",
       "                .geemap-colab .jupyter-button {\n",
       "                    --jp-layout-color3: var(--colab-primary-surface-color, white);\n",
       "                }\n",
       "            </style>\n",
       "            "
      ],
      "text/plain": [
       "<IPython.core.display.HTML object>"
      ]
     },
     "metadata": {},
     "output_type": "display_data"
    },
    {
     "data": {
      "application/vnd.plotly.v1+json": {
       "config": {
        "plotlyServerURL": "https://plot.ly"
       },
       "data": [
        {
         "alignmentgroup": "True",
         "hovertemplate": "Country=%{x}<br>Area (km2)=%{y}<extra></extra>",
         "legendgroup": "",
         "marker": {
          "color": "#636efa",
          "pattern": {
           "shape": ""
          }
         },
         "name": "",
         "offsetgroup": "",
         "orientation": "v",
         "showlegend": false,
         "textposition": "auto",
         "type": "bar",
         "x": [
          "Russia",
          "Brazil",
          "United States of America",
          "China",
          "India",
          "Argentina",
          "Kazakhstan",
          "Australia",
          "Canada",
          "Sudan",
          "Indonesia",
          "Nigeria",
          "Ethiopia",
          "Spain",
          "Iran",
          "Turkey",
          "Tanzania",
          "Paraguay",
          "Mexico",
          "South Africa",
          "Cambodia",
          "Ukraine",
          "Pakistan",
          "Thailand",
          "France",
          "Uganda",
          "Algeria",
          "Madagascar",
          "Myanmar",
          "Zambia"
         ],
         "xaxis": "x",
         "y": [
          279876.43137254904,
          255806.4980392157,
          224909.6156862746,
          202585.2823529412,
          104890.07058823526,
          88252.35294117648,
          85213.02352941176,
          73659.03921568627,
          71685.85490196077,
          45187.86666666667,
          36033.46666666667,
          35085.90588235294,
          34835.89803921569,
          33775.42352941176,
          31567.3568627451,
          29768,
          29097.49803921569,
          28908.96470588234,
          26207.07450980392,
          22717.321568627453,
          22513.76470588236,
          22382.745098039217,
          20425.674509803925,
          20268.96862745098,
          19943.27843137255,
          19139.72549019608,
          16914.713725490197,
          16244.850980392155,
          16027.482352941175,
          14470.392156862745
         ],
         "yaxis": "y"
        }
       ],
       "layout": {
        "barmode": "group",
        "height": 500,
        "legend": {
         "title": {
          "text": "Years"
         },
         "tracegroupgap": 0
        },
        "template": {
         "data": {
          "bar": [
           {
            "error_x": {
             "color": "#2a3f5f"
            },
            "error_y": {
             "color": "#2a3f5f"
            },
            "marker": {
             "line": {
              "color": "#E5ECF6",
              "width": 0.5
             },
             "pattern": {
              "fillmode": "overlay",
              "size": 10,
              "solidity": 0.2
             }
            },
            "type": "bar"
           }
          ],
          "barpolar": [
           {
            "marker": {
             "line": {
              "color": "#E5ECF6",
              "width": 0.5
             },
             "pattern": {
              "fillmode": "overlay",
              "size": 10,
              "solidity": 0.2
             }
            },
            "type": "barpolar"
           }
          ],
          "carpet": [
           {
            "aaxis": {
             "endlinecolor": "#2a3f5f",
             "gridcolor": "white",
             "linecolor": "white",
             "minorgridcolor": "white",
             "startlinecolor": "#2a3f5f"
            },
            "baxis": {
             "endlinecolor": "#2a3f5f",
             "gridcolor": "white",
             "linecolor": "white",
             "minorgridcolor": "white",
             "startlinecolor": "#2a3f5f"
            },
            "type": "carpet"
           }
          ],
          "choropleth": [
           {
            "colorbar": {
             "outlinewidth": 0,
             "ticks": ""
            },
            "type": "choropleth"
           }
          ],
          "contour": [
           {
            "colorbar": {
             "outlinewidth": 0,
             "ticks": ""
            },
            "colorscale": [
             [
              0,
              "#0d0887"
             ],
             [
              0.1111111111111111,
              "#46039f"
             ],
             [
              0.2222222222222222,
              "#7201a8"
             ],
             [
              0.3333333333333333,
              "#9c179e"
             ],
             [
              0.4444444444444444,
              "#bd3786"
             ],
             [
              0.5555555555555556,
              "#d8576b"
             ],
             [
              0.6666666666666666,
              "#ed7953"
             ],
             [
              0.7777777777777778,
              "#fb9f3a"
             ],
             [
              0.8888888888888888,
              "#fdca26"
             ],
             [
              1,
              "#f0f921"
             ]
            ],
            "type": "contour"
           }
          ],
          "contourcarpet": [
           {
            "colorbar": {
             "outlinewidth": 0,
             "ticks": ""
            },
            "type": "contourcarpet"
           }
          ],
          "heatmap": [
           {
            "colorbar": {
             "outlinewidth": 0,
             "ticks": ""
            },
            "colorscale": [
             [
              0,
              "#0d0887"
             ],
             [
              0.1111111111111111,
              "#46039f"
             ],
             [
              0.2222222222222222,
              "#7201a8"
             ],
             [
              0.3333333333333333,
              "#9c179e"
             ],
             [
              0.4444444444444444,
              "#bd3786"
             ],
             [
              0.5555555555555556,
              "#d8576b"
             ],
             [
              0.6666666666666666,
              "#ed7953"
             ],
             [
              0.7777777777777778,
              "#fb9f3a"
             ],
             [
              0.8888888888888888,
              "#fdca26"
             ],
             [
              1,
              "#f0f921"
             ]
            ],
            "type": "heatmap"
           }
          ],
          "heatmapgl": [
           {
            "colorbar": {
             "outlinewidth": 0,
             "ticks": ""
            },
            "colorscale": [
             [
              0,
              "#0d0887"
             ],
             [
              0.1111111111111111,
              "#46039f"
             ],
             [
              0.2222222222222222,
              "#7201a8"
             ],
             [
              0.3333333333333333,
              "#9c179e"
             ],
             [
              0.4444444444444444,
              "#bd3786"
             ],
             [
              0.5555555555555556,
              "#d8576b"
             ],
             [
              0.6666666666666666,
              "#ed7953"
             ],
             [
              0.7777777777777778,
              "#fb9f3a"
             ],
             [
              0.8888888888888888,
              "#fdca26"
             ],
             [
              1,
              "#f0f921"
             ]
            ],
            "type": "heatmapgl"
           }
          ],
          "histogram": [
           {
            "marker": {
             "pattern": {
              "fillmode": "overlay",
              "size": 10,
              "solidity": 0.2
             }
            },
            "type": "histogram"
           }
          ],
          "histogram2d": [
           {
            "colorbar": {
             "outlinewidth": 0,
             "ticks": ""
            },
            "colorscale": [
             [
              0,
              "#0d0887"
             ],
             [
              0.1111111111111111,
              "#46039f"
             ],
             [
              0.2222222222222222,
              "#7201a8"
             ],
             [
              0.3333333333333333,
              "#9c179e"
             ],
             [
              0.4444444444444444,
              "#bd3786"
             ],
             [
              0.5555555555555556,
              "#d8576b"
             ],
             [
              0.6666666666666666,
              "#ed7953"
             ],
             [
              0.7777777777777778,
              "#fb9f3a"
             ],
             [
              0.8888888888888888,
              "#fdca26"
             ],
             [
              1,
              "#f0f921"
             ]
            ],
            "type": "histogram2d"
           }
          ],
          "histogram2dcontour": [
           {
            "colorbar": {
             "outlinewidth": 0,
             "ticks": ""
            },
            "colorscale": [
             [
              0,
              "#0d0887"
             ],
             [
              0.1111111111111111,
              "#46039f"
             ],
             [
              0.2222222222222222,
              "#7201a8"
             ],
             [
              0.3333333333333333,
              "#9c179e"
             ],
             [
              0.4444444444444444,
              "#bd3786"
             ],
             [
              0.5555555555555556,
              "#d8576b"
             ],
             [
              0.6666666666666666,
              "#ed7953"
             ],
             [
              0.7777777777777778,
              "#fb9f3a"
             ],
             [
              0.8888888888888888,
              "#fdca26"
             ],
             [
              1,
              "#f0f921"
             ]
            ],
            "type": "histogram2dcontour"
           }
          ],
          "mesh3d": [
           {
            "colorbar": {
             "outlinewidth": 0,
             "ticks": ""
            },
            "type": "mesh3d"
           }
          ],
          "parcoords": [
           {
            "line": {
             "colorbar": {
              "outlinewidth": 0,
              "ticks": ""
             }
            },
            "type": "parcoords"
           }
          ],
          "pie": [
           {
            "automargin": true,
            "type": "pie"
           }
          ],
          "scatter": [
           {
            "fillpattern": {
             "fillmode": "overlay",
             "size": 10,
             "solidity": 0.2
            },
            "type": "scatter"
           }
          ],
          "scatter3d": [
           {
            "line": {
             "colorbar": {
              "outlinewidth": 0,
              "ticks": ""
             }
            },
            "marker": {
             "colorbar": {
              "outlinewidth": 0,
              "ticks": ""
             }
            },
            "type": "scatter3d"
           }
          ],
          "scattercarpet": [
           {
            "marker": {
             "colorbar": {
              "outlinewidth": 0,
              "ticks": ""
             }
            },
            "type": "scattercarpet"
           }
          ],
          "scattergeo": [
           {
            "marker": {
             "colorbar": {
              "outlinewidth": 0,
              "ticks": ""
             }
            },
            "type": "scattergeo"
           }
          ],
          "scattergl": [
           {
            "marker": {
             "colorbar": {
              "outlinewidth": 0,
              "ticks": ""
             }
            },
            "type": "scattergl"
           }
          ],
          "scattermapbox": [
           {
            "marker": {
             "colorbar": {
              "outlinewidth": 0,
              "ticks": ""
             }
            },
            "type": "scattermapbox"
           }
          ],
          "scatterpolar": [
           {
            "marker": {
             "colorbar": {
              "outlinewidth": 0,
              "ticks": ""
             }
            },
            "type": "scatterpolar"
           }
          ],
          "scatterpolargl": [
           {
            "marker": {
             "colorbar": {
              "outlinewidth": 0,
              "ticks": ""
             }
            },
            "type": "scatterpolargl"
           }
          ],
          "scatterternary": [
           {
            "marker": {
             "colorbar": {
              "outlinewidth": 0,
              "ticks": ""
             }
            },
            "type": "scatterternary"
           }
          ],
          "surface": [
           {
            "colorbar": {
             "outlinewidth": 0,
             "ticks": ""
            },
            "colorscale": [
             [
              0,
              "#0d0887"
             ],
             [
              0.1111111111111111,
              "#46039f"
             ],
             [
              0.2222222222222222,
              "#7201a8"
             ],
             [
              0.3333333333333333,
              "#9c179e"
             ],
             [
              0.4444444444444444,
              "#bd3786"
             ],
             [
              0.5555555555555556,
              "#d8576b"
             ],
             [
              0.6666666666666666,
              "#ed7953"
             ],
             [
              0.7777777777777778,
              "#fb9f3a"
             ],
             [
              0.8888888888888888,
              "#fdca26"
             ],
             [
              1,
              "#f0f921"
             ]
            ],
            "type": "surface"
           }
          ],
          "table": [
           {
            "cells": {
             "fill": {
              "color": "#EBF0F8"
             },
             "line": {
              "color": "white"
             }
            },
            "header": {
             "fill": {
              "color": "#C8D4E3"
             },
             "line": {
              "color": "white"
             }
            },
            "type": "table"
           }
          ]
         },
         "layout": {
          "annotationdefaults": {
           "arrowcolor": "#2a3f5f",
           "arrowhead": 0,
           "arrowwidth": 1
          },
          "autotypenumbers": "strict",
          "coloraxis": {
           "colorbar": {
            "outlinewidth": 0,
            "ticks": ""
           }
          },
          "colorscale": {
           "diverging": [
            [
             0,
             "#8e0152"
            ],
            [
             0.1,
             "#c51b7d"
            ],
            [
             0.2,
             "#de77ae"
            ],
            [
             0.3,
             "#f1b6da"
            ],
            [
             0.4,
             "#fde0ef"
            ],
            [
             0.5,
             "#f7f7f7"
            ],
            [
             0.6,
             "#e6f5d0"
            ],
            [
             0.7,
             "#b8e186"
            ],
            [
             0.8,
             "#7fbc41"
            ],
            [
             0.9,
             "#4d9221"
            ],
            [
             1,
             "#276419"
            ]
           ],
           "sequential": [
            [
             0,
             "#0d0887"
            ],
            [
             0.1111111111111111,
             "#46039f"
            ],
            [
             0.2222222222222222,
             "#7201a8"
            ],
            [
             0.3333333333333333,
             "#9c179e"
            ],
            [
             0.4444444444444444,
             "#bd3786"
            ],
            [
             0.5555555555555556,
             "#d8576b"
            ],
            [
             0.6666666666666666,
             "#ed7953"
            ],
            [
             0.7777777777777778,
             "#fb9f3a"
            ],
            [
             0.8888888888888888,
             "#fdca26"
            ],
            [
             1,
             "#f0f921"
            ]
           ],
           "sequentialminus": [
            [
             0,
             "#0d0887"
            ],
            [
             0.1111111111111111,
             "#46039f"
            ],
            [
             0.2222222222222222,
             "#7201a8"
            ],
            [
             0.3333333333333333,
             "#9c179e"
            ],
            [
             0.4444444444444444,
             "#bd3786"
            ],
            [
             0.5555555555555556,
             "#d8576b"
            ],
            [
             0.6666666666666666,
             "#ed7953"
            ],
            [
             0.7777777777777778,
             "#fb9f3a"
            ],
            [
             0.8888888888888888,
             "#fdca26"
            ],
            [
             1,
             "#f0f921"
            ]
           ]
          },
          "colorway": [
           "#636efa",
           "#EF553B",
           "#00cc96",
           "#ab63fa",
           "#FFA15A",
           "#19d3f3",
           "#FF6692",
           "#B6E880",
           "#FF97FF",
           "#FECB52"
          ],
          "font": {
           "color": "#2a3f5f"
          },
          "geo": {
           "bgcolor": "white",
           "lakecolor": "white",
           "landcolor": "#E5ECF6",
           "showlakes": true,
           "showland": true,
           "subunitcolor": "white"
          },
          "hoverlabel": {
           "align": "left"
          },
          "hovermode": "closest",
          "mapbox": {
           "style": "light"
          },
          "paper_bgcolor": "white",
          "plot_bgcolor": "#E5ECF6",
          "polar": {
           "angularaxis": {
            "gridcolor": "white",
            "linecolor": "white",
            "ticks": ""
           },
           "bgcolor": "#E5ECF6",
           "radialaxis": {
            "gridcolor": "white",
            "linecolor": "white",
            "ticks": ""
           }
          },
          "scene": {
           "xaxis": {
            "backgroundcolor": "#E5ECF6",
            "gridcolor": "white",
            "gridwidth": 2,
            "linecolor": "white",
            "showbackground": true,
            "ticks": "",
            "zerolinecolor": "white"
           },
           "yaxis": {
            "backgroundcolor": "#E5ECF6",
            "gridcolor": "white",
            "gridwidth": 2,
            "linecolor": "white",
            "showbackground": true,
            "ticks": "",
            "zerolinecolor": "white"
           },
           "zaxis": {
            "backgroundcolor": "#E5ECF6",
            "gridcolor": "white",
            "gridwidth": 2,
            "linecolor": "white",
            "showbackground": true,
            "ticks": "",
            "zerolinecolor": "white"
           }
          },
          "shapedefaults": {
           "line": {
            "color": "#2a3f5f"
           }
          },
          "ternary": {
           "aaxis": {
            "gridcolor": "white",
            "linecolor": "white",
            "ticks": ""
           },
           "baxis": {
            "gridcolor": "white",
            "linecolor": "white",
            "ticks": ""
           },
           "bgcolor": "#E5ECF6",
           "caxis": {
            "gridcolor": "white",
            "linecolor": "white",
            "ticks": ""
           }
          },
          "title": {
           "x": 0.05
          },
          "xaxis": {
           "automargin": true,
           "gridcolor": "white",
           "linecolor": "white",
           "ticks": "",
           "title": {
            "standoff": 15
           },
           "zerolinecolor": "white",
           "zerolinewidth": 2
          },
          "yaxis": {
           "automargin": true,
           "gridcolor": "white",
           "linecolor": "white",
           "ticks": "",
           "title": {
            "standoff": 15
           },
           "zerolinecolor": "white",
           "zerolinewidth": 2
          }
         }
        },
        "title": {
         "text": "Cropland Gain"
        },
        "xaxis": {
         "anchor": "y",
         "domain": [
          0,
          1
         ],
         "title": {
          "text": "Country"
         }
        },
        "yaxis": {
         "anchor": "x",
         "domain": [
          0,
          1
         ],
         "title": {
          "text": "Area (km2)"
         }
        }
       }
      }
     },
     "metadata": {},
     "output_type": "display_data"
    }
   ],
   "source": [
    "geemap.bar_chart(\n",
    "    esri_cropland_gain, x = 'NAME', y = 'sum', max_rows = 30, x_label = 'Country', y_label = 'Area (km2)', title = 'Cropland Gain'\n",
    ")"
   ]
  },
  {
   "cell_type": "code",
   "execution_count": 72,
   "metadata": {},
   "outputs": [
    {
     "data": {
      "text/html": [
       "\n",
       "            <style>\n",
       "                .geemap-dark {\n",
       "                    --jp-widgets-color: white;\n",
       "                    --jp-widgets-label-color: white;\n",
       "                    --jp-ui-font-color1: white;\n",
       "                    --jp-layout-color2: #454545;\n",
       "                    background-color: #383838;\n",
       "                }\n",
       "                    \n",
       "                .geemap-dark .jupyter-button {\n",
       "                    --jp-layout-color3: #383838;\n",
       "                }\n",
       "                \n",
       "                .geemap-colab {\n",
       "                    background-color: var(--colab-primary-surface-color, white);\n",
       "                }\n",
       "                    \n",
       "                .geemap-colab .jupyter-button {\n",
       "                    --jp-layout-color3: var(--colab-primary-surface-color, white);\n",
       "                }\n",
       "            </style>\n",
       "            "
      ],
      "text/plain": [
       "<IPython.core.display.HTML object>"
      ]
     },
     "metadata": {},
     "output_type": "display_data"
    },
    {
     "data": {
      "application/vnd.plotly.v1+json": {
       "config": {
        "plotlyServerURL": "https://plot.ly"
       },
       "data": [
        {
         "domain": {
          "x": [
           0,
           1
          ],
          "y": [
           0,
           1
          ]
         },
         "hovertemplate": "NAME=%{label}<br>sum=%{value}<extra></extra>",
         "labels": [
          "Russia",
          "Brazil",
          "United States of America",
          "China",
          "India",
          "Argentina",
          "Kazakhstan",
          "Australia",
          "Canada",
          "Sudan",
          "Indonesia",
          "Nigeria",
          "Ethiopia",
          "Spain",
          "Iran",
          "Turkey",
          "Tanzania",
          "Paraguay",
          "Mexico",
          "South Africa",
          "Cambodia",
          "Ukraine",
          "Pakistan",
          "Thailand",
          "France",
          "Uganda",
          "Algeria",
          "Madagascar",
          "Myanmar",
          "Other",
          "Other",
          "Other",
          "Other",
          "Other",
          "Other",
          "Other",
          "Other",
          "Other",
          "Other",
          "Other",
          "Other",
          "Other",
          "Other",
          "Other",
          "Other",
          "Other",
          "Other",
          "Other",
          "Other",
          "Other",
          "Other",
          "Other",
          "Other",
          "Other",
          "Other",
          "Other",
          "Other",
          "Other",
          "Other",
          "Other",
          "Other",
          "Other",
          "Other",
          "Other",
          "Other",
          "Other",
          "Other",
          "Other",
          "Other",
          "Other",
          "Other",
          "Other",
          "Other",
          "Other",
          "Other",
          "Other",
          "Other",
          "Other",
          "Other",
          "Other",
          "Other",
          "Other",
          "Other",
          "Other",
          "Other",
          "Other",
          "Other",
          "Other",
          "Other",
          "Other",
          "Other",
          "Other",
          "Other",
          "Other",
          "Other",
          "Other",
          "Other",
          "Other",
          "Other",
          "Other",
          "Other",
          "Other",
          "Other",
          "Other",
          "Other",
          "Other",
          "Other",
          "Other",
          "Other",
          "Other",
          "Other",
          "Other",
          "Other",
          "Other",
          "Other",
          "Other",
          "Other",
          "Other",
          "Other",
          "Other",
          "Other",
          "Other",
          "Other",
          "Other",
          "Other",
          "Other",
          "Other",
          "Other",
          "Other",
          "Other",
          "Other",
          "Other",
          "Other",
          "Other",
          "Other",
          "Other",
          "Other",
          "Other",
          "Other",
          "Other",
          "Other",
          "Other",
          "Other",
          "Other",
          "Other",
          "Other",
          "Other",
          "Other",
          "Other",
          "Other",
          "Other",
          "Other",
          "Other",
          "Other",
          "Other",
          "Other",
          "Other",
          "Other",
          "Other",
          "Other",
          "Other",
          "Other",
          "Other",
          "Other",
          "Other",
          "Other",
          "Other",
          "Other",
          "Other",
          "Other",
          "Other",
          "Other",
          "Other",
          "Other",
          "Other",
          "Other"
         ],
         "legendgroup": "",
         "name": "",
         "showlegend": true,
         "type": "pie",
         "values": [
          279876.43137254904,
          255806.4980392157,
          224909.6156862746,
          202585.2823529412,
          104890.07058823526,
          88252.35294117648,
          85213.02352941176,
          73659.03921568627,
          71685.85490196077,
          45187.86666666667,
          36033.46666666667,
          35085.90588235294,
          34835.89803921569,
          33775.42352941176,
          31567.3568627451,
          29768,
          29097.49803921569,
          28908.96470588234,
          26207.07450980392,
          22717.321568627453,
          22513.76470588236,
          22382.745098039217,
          20425.674509803925,
          20268.96862745098,
          19943.27843137255,
          19139.72549019608,
          16914.713725490197,
          16244.850980392155,
          16027.482352941175,
          14470.392156862745,
          14171.576470588236,
          14011.933333333332,
          12820.839215686276,
          12470.77254901961,
          11405.047058823526,
          10761.513725490197,
          10274.898039215686,
          9323.164705882353,
          9316.01568627451,
          9207.117647058822,
          9198.72156862745,
          8962.490196078432,
          8820.847058823529,
          8697.317647058817,
          8511.972549019605,
          8485.113725490195,
          8004.513725490197,
          7899.164705882351,
          7493.403921568628,
          7374.7764705882355,
          7276.568627450981,
          6551.564705882352,
          5879.466666666665,
          5721.419607843136,
          5546.215686274511,
          5465.886274509804,
          5363.725490196079,
          5287.027450980392,
          5263.588235294118,
          5012.878431372549,
          4779.96862745098,
          4708.145098039216,
          4588.101960784312,
          4542.4784313725495,
          4518.917647058824,
          4378.933333333333,
          4373.564705882354,
          4298.933333333333,
          4290.243137254901,
          4196.023529411766,
          3832.227450980392,
          3745.63137254902,
          3740.4784313725495,
          3579.172549019608,
          3533.5254901960784,
          3448.043137254902,
          3441.603921568628,
          3314.75294117647,
          3313.7490196078425,
          3296.6392156862744,
          3294.705882352941,
          3266.4,
          3192.976470588235,
          3119.772549019608,
          3039.1960784313733,
          2884.905882352941,
          2768.0352941176466,
          2713.019607843137,
          2711.709803921568,
          2476.913725490196,
          2396.3098039215683,
          2186.2392156862743,
          2169.956862745098,
          2119.3882352941177,
          2119.078431372549,
          1908.2980392156865,
          1892.1607843137256,
          1730.3058823529411,
          1669.298039215686,
          1594.2392156862743,
          1539.5568627450982,
          1522.8745098039217,
          1372.2588235294118,
          1336.5764705882352,
          1334.062745098039,
          1238.8000000000002,
          1207.078431372549,
          1198.949019607843,
          1127.6431372549018,
          1115.58431372549,
          1109.745098039216,
          1096.2039215686273,
          1077.1960784313724,
          1075.0823529411766,
          1054.8117647058823,
          1015.5098039215688,
          962.2745098039215,
          911.6156862745098,
          876.5058823529413,
          816.8,
          789.4549019607842,
          777.7019607843138,
          772.2470588235293,
          719.6745098039216,
          717.6392156862745,
          703.9803921568626,
          667.2980392156862,
          657.3960784313725,
          640.7843137254902,
          614,
          548.1450980392157,
          532.2862745098039,
          516.3725490196078,
          480.4901960784314,
          462.2745098039216,
          452,
          415.99215686274505,
          372.1411764705883,
          346.61960784313726,
          340.75686274509803,
          306.27058823529416,
          300.43529411764706,
          281.8588235294118,
          266.5960784313726,
          246.09803921568624,
          219.3019607843137,
          212.34901960784316,
          190.0235294117647,
          184.61176470588236,
          174.61960784313726,
          166.06666666666666,
          133.39999999999998,
          131.27450980392155,
          131.07843137254903,
          111.5686274509804,
          110.51764705882351,
          87.74509803921569,
          79,
          68.70980392156864,
          66,
          37.2235294117647,
          35.72156862745098,
          34,
          29,
          27.7843137254902,
          27,
          17.886274509803922,
          17,
          15,
          13.47843137254902,
          12,
          8,
          4,
          3,
          2,
          0
         ]
        }
       ],
       "layout": {
        "height": 500,
        "legend": {
         "tracegroupgap": 0
        },
        "template": {
         "data": {
          "bar": [
           {
            "error_x": {
             "color": "#2a3f5f"
            },
            "error_y": {
             "color": "#2a3f5f"
            },
            "marker": {
             "line": {
              "color": "#E5ECF6",
              "width": 0.5
             },
             "pattern": {
              "fillmode": "overlay",
              "size": 10,
              "solidity": 0.2
             }
            },
            "type": "bar"
           }
          ],
          "barpolar": [
           {
            "marker": {
             "line": {
              "color": "#E5ECF6",
              "width": 0.5
             },
             "pattern": {
              "fillmode": "overlay",
              "size": 10,
              "solidity": 0.2
             }
            },
            "type": "barpolar"
           }
          ],
          "carpet": [
           {
            "aaxis": {
             "endlinecolor": "#2a3f5f",
             "gridcolor": "white",
             "linecolor": "white",
             "minorgridcolor": "white",
             "startlinecolor": "#2a3f5f"
            },
            "baxis": {
             "endlinecolor": "#2a3f5f",
             "gridcolor": "white",
             "linecolor": "white",
             "minorgridcolor": "white",
             "startlinecolor": "#2a3f5f"
            },
            "type": "carpet"
           }
          ],
          "choropleth": [
           {
            "colorbar": {
             "outlinewidth": 0,
             "ticks": ""
            },
            "type": "choropleth"
           }
          ],
          "contour": [
           {
            "colorbar": {
             "outlinewidth": 0,
             "ticks": ""
            },
            "colorscale": [
             [
              0,
              "#0d0887"
             ],
             [
              0.1111111111111111,
              "#46039f"
             ],
             [
              0.2222222222222222,
              "#7201a8"
             ],
             [
              0.3333333333333333,
              "#9c179e"
             ],
             [
              0.4444444444444444,
              "#bd3786"
             ],
             [
              0.5555555555555556,
              "#d8576b"
             ],
             [
              0.6666666666666666,
              "#ed7953"
             ],
             [
              0.7777777777777778,
              "#fb9f3a"
             ],
             [
              0.8888888888888888,
              "#fdca26"
             ],
             [
              1,
              "#f0f921"
             ]
            ],
            "type": "contour"
           }
          ],
          "contourcarpet": [
           {
            "colorbar": {
             "outlinewidth": 0,
             "ticks": ""
            },
            "type": "contourcarpet"
           }
          ],
          "heatmap": [
           {
            "colorbar": {
             "outlinewidth": 0,
             "ticks": ""
            },
            "colorscale": [
             [
              0,
              "#0d0887"
             ],
             [
              0.1111111111111111,
              "#46039f"
             ],
             [
              0.2222222222222222,
              "#7201a8"
             ],
             [
              0.3333333333333333,
              "#9c179e"
             ],
             [
              0.4444444444444444,
              "#bd3786"
             ],
             [
              0.5555555555555556,
              "#d8576b"
             ],
             [
              0.6666666666666666,
              "#ed7953"
             ],
             [
              0.7777777777777778,
              "#fb9f3a"
             ],
             [
              0.8888888888888888,
              "#fdca26"
             ],
             [
              1,
              "#f0f921"
             ]
            ],
            "type": "heatmap"
           }
          ],
          "heatmapgl": [
           {
            "colorbar": {
             "outlinewidth": 0,
             "ticks": ""
            },
            "colorscale": [
             [
              0,
              "#0d0887"
             ],
             [
              0.1111111111111111,
              "#46039f"
             ],
             [
              0.2222222222222222,
              "#7201a8"
             ],
             [
              0.3333333333333333,
              "#9c179e"
             ],
             [
              0.4444444444444444,
              "#bd3786"
             ],
             [
              0.5555555555555556,
              "#d8576b"
             ],
             [
              0.6666666666666666,
              "#ed7953"
             ],
             [
              0.7777777777777778,
              "#fb9f3a"
             ],
             [
              0.8888888888888888,
              "#fdca26"
             ],
             [
              1,
              "#f0f921"
             ]
            ],
            "type": "heatmapgl"
           }
          ],
          "histogram": [
           {
            "marker": {
             "pattern": {
              "fillmode": "overlay",
              "size": 10,
              "solidity": 0.2
             }
            },
            "type": "histogram"
           }
          ],
          "histogram2d": [
           {
            "colorbar": {
             "outlinewidth": 0,
             "ticks": ""
            },
            "colorscale": [
             [
              0,
              "#0d0887"
             ],
             [
              0.1111111111111111,
              "#46039f"
             ],
             [
              0.2222222222222222,
              "#7201a8"
             ],
             [
              0.3333333333333333,
              "#9c179e"
             ],
             [
              0.4444444444444444,
              "#bd3786"
             ],
             [
              0.5555555555555556,
              "#d8576b"
             ],
             [
              0.6666666666666666,
              "#ed7953"
             ],
             [
              0.7777777777777778,
              "#fb9f3a"
             ],
             [
              0.8888888888888888,
              "#fdca26"
             ],
             [
              1,
              "#f0f921"
             ]
            ],
            "type": "histogram2d"
           }
          ],
          "histogram2dcontour": [
           {
            "colorbar": {
             "outlinewidth": 0,
             "ticks": ""
            },
            "colorscale": [
             [
              0,
              "#0d0887"
             ],
             [
              0.1111111111111111,
              "#46039f"
             ],
             [
              0.2222222222222222,
              "#7201a8"
             ],
             [
              0.3333333333333333,
              "#9c179e"
             ],
             [
              0.4444444444444444,
              "#bd3786"
             ],
             [
              0.5555555555555556,
              "#d8576b"
             ],
             [
              0.6666666666666666,
              "#ed7953"
             ],
             [
              0.7777777777777778,
              "#fb9f3a"
             ],
             [
              0.8888888888888888,
              "#fdca26"
             ],
             [
              1,
              "#f0f921"
             ]
            ],
            "type": "histogram2dcontour"
           }
          ],
          "mesh3d": [
           {
            "colorbar": {
             "outlinewidth": 0,
             "ticks": ""
            },
            "type": "mesh3d"
           }
          ],
          "parcoords": [
           {
            "line": {
             "colorbar": {
              "outlinewidth": 0,
              "ticks": ""
             }
            },
            "type": "parcoords"
           }
          ],
          "pie": [
           {
            "automargin": true,
            "type": "pie"
           }
          ],
          "scatter": [
           {
            "fillpattern": {
             "fillmode": "overlay",
             "size": 10,
             "solidity": 0.2
            },
            "type": "scatter"
           }
          ],
          "scatter3d": [
           {
            "line": {
             "colorbar": {
              "outlinewidth": 0,
              "ticks": ""
             }
            },
            "marker": {
             "colorbar": {
              "outlinewidth": 0,
              "ticks": ""
             }
            },
            "type": "scatter3d"
           }
          ],
          "scattercarpet": [
           {
            "marker": {
             "colorbar": {
              "outlinewidth": 0,
              "ticks": ""
             }
            },
            "type": "scattercarpet"
           }
          ],
          "scattergeo": [
           {
            "marker": {
             "colorbar": {
              "outlinewidth": 0,
              "ticks": ""
             }
            },
            "type": "scattergeo"
           }
          ],
          "scattergl": [
           {
            "marker": {
             "colorbar": {
              "outlinewidth": 0,
              "ticks": ""
             }
            },
            "type": "scattergl"
           }
          ],
          "scattermapbox": [
           {
            "marker": {
             "colorbar": {
              "outlinewidth": 0,
              "ticks": ""
             }
            },
            "type": "scattermapbox"
           }
          ],
          "scatterpolar": [
           {
            "marker": {
             "colorbar": {
              "outlinewidth": 0,
              "ticks": ""
             }
            },
            "type": "scatterpolar"
           }
          ],
          "scatterpolargl": [
           {
            "marker": {
             "colorbar": {
              "outlinewidth": 0,
              "ticks": ""
             }
            },
            "type": "scatterpolargl"
           }
          ],
          "scatterternary": [
           {
            "marker": {
             "colorbar": {
              "outlinewidth": 0,
              "ticks": ""
             }
            },
            "type": "scatterternary"
           }
          ],
          "surface": [
           {
            "colorbar": {
             "outlinewidth": 0,
             "ticks": ""
            },
            "colorscale": [
             [
              0,
              "#0d0887"
             ],
             [
              0.1111111111111111,
              "#46039f"
             ],
             [
              0.2222222222222222,
              "#7201a8"
             ],
             [
              0.3333333333333333,
              "#9c179e"
             ],
             [
              0.4444444444444444,
              "#bd3786"
             ],
             [
              0.5555555555555556,
              "#d8576b"
             ],
             [
              0.6666666666666666,
              "#ed7953"
             ],
             [
              0.7777777777777778,
              "#fb9f3a"
             ],
             [
              0.8888888888888888,
              "#fdca26"
             ],
             [
              1,
              "#f0f921"
             ]
            ],
            "type": "surface"
           }
          ],
          "table": [
           {
            "cells": {
             "fill": {
              "color": "#EBF0F8"
             },
             "line": {
              "color": "white"
             }
            },
            "header": {
             "fill": {
              "color": "#C8D4E3"
             },
             "line": {
              "color": "white"
             }
            },
            "type": "table"
           }
          ]
         },
         "layout": {
          "annotationdefaults": {
           "arrowcolor": "#2a3f5f",
           "arrowhead": 0,
           "arrowwidth": 1
          },
          "autotypenumbers": "strict",
          "coloraxis": {
           "colorbar": {
            "outlinewidth": 0,
            "ticks": ""
           }
          },
          "colorscale": {
           "diverging": [
            [
             0,
             "#8e0152"
            ],
            [
             0.1,
             "#c51b7d"
            ],
            [
             0.2,
             "#de77ae"
            ],
            [
             0.3,
             "#f1b6da"
            ],
            [
             0.4,
             "#fde0ef"
            ],
            [
             0.5,
             "#f7f7f7"
            ],
            [
             0.6,
             "#e6f5d0"
            ],
            [
             0.7,
             "#b8e186"
            ],
            [
             0.8,
             "#7fbc41"
            ],
            [
             0.9,
             "#4d9221"
            ],
            [
             1,
             "#276419"
            ]
           ],
           "sequential": [
            [
             0,
             "#0d0887"
            ],
            [
             0.1111111111111111,
             "#46039f"
            ],
            [
             0.2222222222222222,
             "#7201a8"
            ],
            [
             0.3333333333333333,
             "#9c179e"
            ],
            [
             0.4444444444444444,
             "#bd3786"
            ],
            [
             0.5555555555555556,
             "#d8576b"
            ],
            [
             0.6666666666666666,
             "#ed7953"
            ],
            [
             0.7777777777777778,
             "#fb9f3a"
            ],
            [
             0.8888888888888888,
             "#fdca26"
            ],
            [
             1,
             "#f0f921"
            ]
           ],
           "sequentialminus": [
            [
             0,
             "#0d0887"
            ],
            [
             0.1111111111111111,
             "#46039f"
            ],
            [
             0.2222222222222222,
             "#7201a8"
            ],
            [
             0.3333333333333333,
             "#9c179e"
            ],
            [
             0.4444444444444444,
             "#bd3786"
            ],
            [
             0.5555555555555556,
             "#d8576b"
            ],
            [
             0.6666666666666666,
             "#ed7953"
            ],
            [
             0.7777777777777778,
             "#fb9f3a"
            ],
            [
             0.8888888888888888,
             "#fdca26"
            ],
            [
             1,
             "#f0f921"
            ]
           ]
          },
          "colorway": [
           "#636efa",
           "#EF553B",
           "#00cc96",
           "#ab63fa",
           "#FFA15A",
           "#19d3f3",
           "#FF6692",
           "#B6E880",
           "#FF97FF",
           "#FECB52"
          ],
          "font": {
           "color": "#2a3f5f"
          },
          "geo": {
           "bgcolor": "white",
           "lakecolor": "white",
           "landcolor": "#E5ECF6",
           "showlakes": true,
           "showland": true,
           "subunitcolor": "white"
          },
          "hoverlabel": {
           "align": "left"
          },
          "hovermode": "closest",
          "mapbox": {
           "style": "light"
          },
          "paper_bgcolor": "white",
          "plot_bgcolor": "#E5ECF6",
          "polar": {
           "angularaxis": {
            "gridcolor": "white",
            "linecolor": "white",
            "ticks": ""
           },
           "bgcolor": "#E5ECF6",
           "radialaxis": {
            "gridcolor": "white",
            "linecolor": "white",
            "ticks": ""
           }
          },
          "scene": {
           "xaxis": {
            "backgroundcolor": "#E5ECF6",
            "gridcolor": "white",
            "gridwidth": 2,
            "linecolor": "white",
            "showbackground": true,
            "ticks": "",
            "zerolinecolor": "white"
           },
           "yaxis": {
            "backgroundcolor": "#E5ECF6",
            "gridcolor": "white",
            "gridwidth": 2,
            "linecolor": "white",
            "showbackground": true,
            "ticks": "",
            "zerolinecolor": "white"
           },
           "zaxis": {
            "backgroundcolor": "#E5ECF6",
            "gridcolor": "white",
            "gridwidth": 2,
            "linecolor": "white",
            "showbackground": true,
            "ticks": "",
            "zerolinecolor": "white"
           }
          },
          "shapedefaults": {
           "line": {
            "color": "#2a3f5f"
           }
          },
          "ternary": {
           "aaxis": {
            "gridcolor": "white",
            "linecolor": "white",
            "ticks": ""
           },
           "baxis": {
            "gridcolor": "white",
            "linecolor": "white",
            "ticks": ""
           },
           "bgcolor": "#E5ECF6",
           "caxis": {
            "gridcolor": "white",
            "linecolor": "white",
            "ticks": ""
           }
          },
          "title": {
           "x": 0.05
          },
          "xaxis": {
           "automargin": true,
           "gridcolor": "white",
           "linecolor": "white",
           "ticks": "",
           "title": {
            "standoff": 15
           },
           "zerolinecolor": "white",
           "zerolinewidth": 2
          },
          "yaxis": {
           "automargin": true,
           "gridcolor": "white",
           "linecolor": "white",
           "ticks": "",
           "title": {
            "standoff": 15
           },
           "zerolinecolor": "white",
           "zerolinewidth": 2
          }
         }
        },
        "title": {
         "text": "Cropland Gain"
        }
       }
      }
     },
     "metadata": {},
     "output_type": "display_data"
    }
   ],
   "source": [
    "geemap.pie_chart(\n",
    "    esri_cropland_gain, names = 'NAME', values = 'sum', max_rows = 30, height = 500, title = 'Cropland Gain'\n",
    ")"
   ]
  },
  {
   "cell_type": "code",
   "execution_count": 73,
   "metadata": {},
   "outputs": [
    {
     "data": {
      "text/html": [
       "\n",
       "            <style>\n",
       "                .geemap-dark {\n",
       "                    --jp-widgets-color: white;\n",
       "                    --jp-widgets-label-color: white;\n",
       "                    --jp-ui-font-color1: white;\n",
       "                    --jp-layout-color2: #454545;\n",
       "                    background-color: #383838;\n",
       "                }\n",
       "                    \n",
       "                .geemap-dark .jupyter-button {\n",
       "                    --jp-layout-color3: #383838;\n",
       "                }\n",
       "                \n",
       "                .geemap-colab {\n",
       "                    background-color: var(--colab-primary-surface-color, white);\n",
       "                }\n",
       "                    \n",
       "                .geemap-colab .jupyter-button {\n",
       "                    --jp-layout-color3: var(--colab-primary-surface-color, white);\n",
       "                }\n",
       "            </style>\n",
       "            "
      ],
      "text/plain": [
       "<IPython.core.display.HTML object>"
      ]
     },
     "metadata": {},
     "output_type": "display_data"
    },
    {
     "name": "stdout",
     "output_type": "stream",
     "text": [
      "Computing statistics ...\n",
      "Generating URL ...\n",
      "Downloading data from https://earthengine.googleapis.com/v1/projects/earthengine-legacy/tables/37a230840cc714bfd1cb79b5ab543489-13463727fdff10d7df779a0baf777a91:getFeatures\n",
      "Please wait ...\n",
      "Data downloaded to c:\\Users\\gilramolete\\OneDrive - UNIONBANK of the Philippines\\Documents 1\\geemap\\data\\esri_cropland_loss.csv\n"
     ]
    }
   ],
   "source": [
    "geemap.zonal_stats(\n",
    "    cropland_loss, countries, 'data/esri_cropland_loss.csv', stat_type = 'SUM', scale = 1000\n",
    ")"
   ]
  },
  {
   "cell_type": "code",
   "execution_count": 74,
   "metadata": {},
   "outputs": [
    {
     "data": {
      "text/html": [
       "\n",
       "            <style>\n",
       "                .geemap-dark {\n",
       "                    --jp-widgets-color: white;\n",
       "                    --jp-widgets-label-color: white;\n",
       "                    --jp-ui-font-color1: white;\n",
       "                    --jp-layout-color2: #454545;\n",
       "                    background-color: #383838;\n",
       "                }\n",
       "                    \n",
       "                .geemap-dark .jupyter-button {\n",
       "                    --jp-layout-color3: #383838;\n",
       "                }\n",
       "                \n",
       "                .geemap-colab {\n",
       "                    background-color: var(--colab-primary-surface-color, white);\n",
       "                }\n",
       "                    \n",
       "                .geemap-colab .jupyter-button {\n",
       "                    --jp-layout-color3: var(--colab-primary-surface-color, white);\n",
       "                }\n",
       "            </style>\n",
       "            "
      ],
      "text/plain": [
       "<IPython.core.display.HTML object>"
      ]
     },
     "metadata": {},
     "output_type": "display_data"
    },
    {
     "data": {
      "text/html": [
       "<div>\n",
       "<style scoped>\n",
       "    .dataframe tbody tr th:only-of-type {\n",
       "        vertical-align: middle;\n",
       "    }\n",
       "\n",
       "    .dataframe tbody tr th {\n",
       "        vertical-align: top;\n",
       "    }\n",
       "\n",
       "    .dataframe thead th {\n",
       "        text-align: right;\n",
       "    }\n",
       "</style>\n",
       "<table border=\"1\" class=\"dataframe\">\n",
       "  <thead>\n",
       "    <tr style=\"text-align: right;\">\n",
       "      <th></th>\n",
       "      <th>sum</th>\n",
       "      <th>GDP_MD_EST</th>\n",
       "      <th>ISO_A2</th>\n",
       "      <th>POP_RANK</th>\n",
       "      <th>ISO_A3</th>\n",
       "      <th>CONTINENT</th>\n",
       "      <th>POP_EST</th>\n",
       "      <th>INCOME_GRP</th>\n",
       "      <th>SUBREGION</th>\n",
       "      <th>system:index</th>\n",
       "      <th>NAME</th>\n",
       "    </tr>\n",
       "  </thead>\n",
       "  <tbody>\n",
       "    <tr>\n",
       "      <th>0</th>\n",
       "      <td>1182.800000</td>\n",
       "      <td>25810.0</td>\n",
       "      <td>TJ</td>\n",
       "      <td>13</td>\n",
       "      <td>TJK</td>\n",
       "      <td>Asia</td>\n",
       "      <td>8468555</td>\n",
       "      <td>5. Low income</td>\n",
       "      <td>Central Asia</td>\n",
       "      <td>00000000000000000068</td>\n",
       "      <td>Tajikistan</td>\n",
       "    </tr>\n",
       "    <tr>\n",
       "      <th>1</th>\n",
       "      <td>1746.988235</td>\n",
       "      <td>21010.0</td>\n",
       "      <td>KG</td>\n",
       "      <td>13</td>\n",
       "      <td>KGZ</td>\n",
       "      <td>Asia</td>\n",
       "      <td>5789122</td>\n",
       "      <td>5. Low income</td>\n",
       "      <td>Central Asia</td>\n",
       "      <td>00000000000000000069</td>\n",
       "      <td>Kyrgyzstan</td>\n",
       "    </tr>\n",
       "    <tr>\n",
       "      <th>2</th>\n",
       "      <td>4194.968627</td>\n",
       "      <td>40000.0</td>\n",
       "      <td>KP</td>\n",
       "      <td>15</td>\n",
       "      <td>PRK</td>\n",
       "      <td>Asia</td>\n",
       "      <td>25248140</td>\n",
       "      <td>5. Low income</td>\n",
       "      <td>Eastern Asia</td>\n",
       "      <td>0000000000000000005f</td>\n",
       "      <td>North Korea</td>\n",
       "    </tr>\n",
       "    <tr>\n",
       "      <th>3</th>\n",
       "      <td>9902.058824</td>\n",
       "      <td>628400.0</td>\n",
       "      <td>BD</td>\n",
       "      <td>17</td>\n",
       "      <td>BGD</td>\n",
       "      <td>Asia</td>\n",
       "      <td>157826578</td>\n",
       "      <td>5. Low income</td>\n",
       "      <td>Southern Asia</td>\n",
       "      <td>00000000000000000063</td>\n",
       "      <td>Bangladesh</td>\n",
       "    </tr>\n",
       "    <tr>\n",
       "      <th>4</th>\n",
       "      <td>1868.317647</td>\n",
       "      <td>71520.0</td>\n",
       "      <td>NP</td>\n",
       "      <td>15</td>\n",
       "      <td>NPL</td>\n",
       "      <td>Asia</td>\n",
       "      <td>29384297</td>\n",
       "      <td>5. Low income</td>\n",
       "      <td>Southern Asia</td>\n",
       "      <td>00000000000000000065</td>\n",
       "      <td>Nepal</td>\n",
       "    </tr>\n",
       "    <tr>\n",
       "      <th>...</th>\n",
       "      <td>...</td>\n",
       "      <td>...</td>\n",
       "      <td>...</td>\n",
       "      <td>...</td>\n",
       "      <td>...</td>\n",
       "      <td>...</td>\n",
       "      <td>...</td>\n",
       "      <td>...</td>\n",
       "      <td>...</td>\n",
       "      <td>...</td>\n",
       "      <td>...</td>\n",
       "    </tr>\n",
       "    <tr>\n",
       "      <th>171</th>\n",
       "      <td>4072.156863</td>\n",
       "      <td>182400.0</td>\n",
       "      <td>EC</td>\n",
       "      <td>14</td>\n",
       "      <td>ECU</td>\n",
       "      <td>South America</td>\n",
       "      <td>16290913</td>\n",
       "      <td>3. Upper middle income</td>\n",
       "      <td>South America</td>\n",
       "      <td>0000000000000000002c</td>\n",
       "      <td>Ecuador</td>\n",
       "    </tr>\n",
       "    <tr>\n",
       "      <th>172</th>\n",
       "      <td>4173.803922</td>\n",
       "      <td>78350.0</td>\n",
       "      <td>BO</td>\n",
       "      <td>14</td>\n",
       "      <td>BOL</td>\n",
       "      <td>South America</td>\n",
       "      <td>11138234</td>\n",
       "      <td>4. Lower middle income</td>\n",
       "      <td>South America</td>\n",
       "      <td>0000000000000000001e</td>\n",
       "      <td>Bolivia</td>\n",
       "    </tr>\n",
       "    <tr>\n",
       "      <th>173</th>\n",
       "      <td>360.482353</td>\n",
       "      <td>6093.0</td>\n",
       "      <td>GY</td>\n",
       "      <td>11</td>\n",
       "      <td>GUY</td>\n",
       "      <td>South America</td>\n",
       "      <td>737718</td>\n",
       "      <td>4. Lower middle income</td>\n",
       "      <td>South America</td>\n",
       "      <td>00000000000000000029</td>\n",
       "      <td>Guyana</td>\n",
       "    </tr>\n",
       "    <tr>\n",
       "      <th>174</th>\n",
       "      <td>9498.458824</td>\n",
       "      <td>64670.0</td>\n",
       "      <td>PY</td>\n",
       "      <td>13</td>\n",
       "      <td>PRY</td>\n",
       "      <td>South America</td>\n",
       "      <td>6943739</td>\n",
       "      <td>4. Lower middle income</td>\n",
       "      <td>South America</td>\n",
       "      <td>0000000000000000009b</td>\n",
       "      <td>Paraguay</td>\n",
       "    </tr>\n",
       "    <tr>\n",
       "      <th>175</th>\n",
       "      <td>9.000000</td>\n",
       "      <td>16.0</td>\n",
       "      <td>TF</td>\n",
       "      <td>1</td>\n",
       "      <td>ATF</td>\n",
       "      <td>Seven seas (open ocean)</td>\n",
       "      <td>140</td>\n",
       "      <td>2. High income: nonOECD</td>\n",
       "      <td>Seven seas (open ocean)</td>\n",
       "      <td>00000000000000000017</td>\n",
       "      <td>Fr. S. Antarctic Lands</td>\n",
       "    </tr>\n",
       "  </tbody>\n",
       "</table>\n",
       "<p>176 rows × 11 columns</p>\n",
       "</div>"
      ],
      "text/plain": [
       "             sum  GDP_MD_EST ISO_A2  POP_RANK ISO_A3                CONTINENT  \\\n",
       "0    1182.800000     25810.0     TJ        13    TJK                     Asia   \n",
       "1    1746.988235     21010.0     KG        13    KGZ                     Asia   \n",
       "2    4194.968627     40000.0     KP        15    PRK                     Asia   \n",
       "3    9902.058824    628400.0     BD        17    BGD                     Asia   \n",
       "4    1868.317647     71520.0     NP        15    NPL                     Asia   \n",
       "..           ...         ...    ...       ...    ...                      ...   \n",
       "171  4072.156863    182400.0     EC        14    ECU            South America   \n",
       "172  4173.803922     78350.0     BO        14    BOL            South America   \n",
       "173   360.482353      6093.0     GY        11    GUY            South America   \n",
       "174  9498.458824     64670.0     PY        13    PRY            South America   \n",
       "175     9.000000        16.0     TF         1    ATF  Seven seas (open ocean)   \n",
       "\n",
       "       POP_EST               INCOME_GRP                SUBREGION  \\\n",
       "0      8468555            5. Low income             Central Asia   \n",
       "1      5789122            5. Low income             Central Asia   \n",
       "2     25248140            5. Low income             Eastern Asia   \n",
       "3    157826578            5. Low income            Southern Asia   \n",
       "4     29384297            5. Low income            Southern Asia   \n",
       "..         ...                      ...                      ...   \n",
       "171   16290913   3. Upper middle income            South America   \n",
       "172   11138234   4. Lower middle income            South America   \n",
       "173     737718   4. Lower middle income            South America   \n",
       "174    6943739   4. Lower middle income            South America   \n",
       "175        140  2. High income: nonOECD  Seven seas (open ocean)   \n",
       "\n",
       "             system:index                    NAME  \n",
       "0    00000000000000000068              Tajikistan  \n",
       "1    00000000000000000069              Kyrgyzstan  \n",
       "2    0000000000000000005f             North Korea  \n",
       "3    00000000000000000063              Bangladesh  \n",
       "4    00000000000000000065                   Nepal  \n",
       "..                    ...                     ...  \n",
       "171  0000000000000000002c                 Ecuador  \n",
       "172  0000000000000000001e                 Bolivia  \n",
       "173  00000000000000000029                  Guyana  \n",
       "174  0000000000000000009b                Paraguay  \n",
       "175  00000000000000000017  Fr. S. Antarctic Lands  \n",
       "\n",
       "[176 rows x 11 columns]"
      ]
     },
     "execution_count": 74,
     "metadata": {},
     "output_type": "execute_result"
    }
   ],
   "source": [
    "esri_cropland_loss = geemap.csv_to_df('data/esri_cropland_loss.csv')\n",
    "esri_cropland_loss"
   ]
  },
  {
   "cell_type": "code",
   "execution_count": 75,
   "metadata": {},
   "outputs": [
    {
     "data": {
      "text/html": [
       "\n",
       "            <style>\n",
       "                .geemap-dark {\n",
       "                    --jp-widgets-color: white;\n",
       "                    --jp-widgets-label-color: white;\n",
       "                    --jp-ui-font-color1: white;\n",
       "                    --jp-layout-color2: #454545;\n",
       "                    background-color: #383838;\n",
       "                }\n",
       "                    \n",
       "                .geemap-dark .jupyter-button {\n",
       "                    --jp-layout-color3: #383838;\n",
       "                }\n",
       "                \n",
       "                .geemap-colab {\n",
       "                    background-color: var(--colab-primary-surface-color, white);\n",
       "                }\n",
       "                    \n",
       "                .geemap-colab .jupyter-button {\n",
       "                    --jp-layout-color3: var(--colab-primary-surface-color, white);\n",
       "                }\n",
       "            </style>\n",
       "            "
      ],
      "text/plain": [
       "<IPython.core.display.HTML object>"
      ]
     },
     "metadata": {},
     "output_type": "display_data"
    },
    {
     "data": {
      "application/vnd.plotly.v1+json": {
       "config": {
        "plotlyServerURL": "https://plot.ly"
       },
       "data": [
        {
         "alignmentgroup": "True",
         "hovertemplate": "Country=%{x}<br>Area (km2)=%{y}<extra></extra>",
         "legendgroup": "",
         "marker": {
          "color": "#636efa",
          "pattern": {
           "shape": ""
          }
         },
         "name": "",
         "offsetgroup": "",
         "orientation": "v",
         "showlegend": false,
         "textposition": "auto",
         "type": "bar",
         "x": [
          "China",
          "United States of America",
          "Russia",
          "India",
          "Brazil",
          "Kazakhstan",
          "Australia",
          "Canada",
          "South Africa",
          "Indonesia",
          "Iran",
          "Argentina",
          "Nigeria",
          "Turkey",
          "Ethiopia",
          "Mexico",
          "Ukraine",
          "Sudan",
          "Iraq",
          "Thailand",
          "France",
          "Vietnam",
          "Pakistan",
          "Morocco",
          "Poland",
          "Belarus",
          "Myanmar",
          "Bangladesh",
          "Tanzania",
          "Spain"
         ],
         "xaxis": "x",
         "y": [
          229557.47450980396,
          128810.97647058824,
          125153.81960784316,
          112348.20392156864,
          90442.68235294118,
          76281.87843137258,
          75746.29019607842,
          50128.9450980392,
          34975.07058823529,
          28705.13333333333,
          28292.12156862745,
          28263.254901960787,
          28179.015686274503,
          27533.760784313727,
          20304.27843137255,
          19470.41568627451,
          18500.011764705887,
          16915.764705882357,
          16788.13333333333,
          15803.392156862748,
          14300.576470588234,
          12753.270588235297,
          11649.450980392156,
          11250.741176470588,
          11168.949019607844,
          11131.16862745098,
          10803.333333333332,
          9902.058823529407,
          9744.533333333336,
          9520.360784313723
         ],
         "yaxis": "y"
        }
       ],
       "layout": {
        "barmode": "group",
        "height": 500,
        "legend": {
         "title": {
          "text": "Years"
         },
         "tracegroupgap": 0
        },
        "template": {
         "data": {
          "bar": [
           {
            "error_x": {
             "color": "#2a3f5f"
            },
            "error_y": {
             "color": "#2a3f5f"
            },
            "marker": {
             "line": {
              "color": "#E5ECF6",
              "width": 0.5
             },
             "pattern": {
              "fillmode": "overlay",
              "size": 10,
              "solidity": 0.2
             }
            },
            "type": "bar"
           }
          ],
          "barpolar": [
           {
            "marker": {
             "line": {
              "color": "#E5ECF6",
              "width": 0.5
             },
             "pattern": {
              "fillmode": "overlay",
              "size": 10,
              "solidity": 0.2
             }
            },
            "type": "barpolar"
           }
          ],
          "carpet": [
           {
            "aaxis": {
             "endlinecolor": "#2a3f5f",
             "gridcolor": "white",
             "linecolor": "white",
             "minorgridcolor": "white",
             "startlinecolor": "#2a3f5f"
            },
            "baxis": {
             "endlinecolor": "#2a3f5f",
             "gridcolor": "white",
             "linecolor": "white",
             "minorgridcolor": "white",
             "startlinecolor": "#2a3f5f"
            },
            "type": "carpet"
           }
          ],
          "choropleth": [
           {
            "colorbar": {
             "outlinewidth": 0,
             "ticks": ""
            },
            "type": "choropleth"
           }
          ],
          "contour": [
           {
            "colorbar": {
             "outlinewidth": 0,
             "ticks": ""
            },
            "colorscale": [
             [
              0,
              "#0d0887"
             ],
             [
              0.1111111111111111,
              "#46039f"
             ],
             [
              0.2222222222222222,
              "#7201a8"
             ],
             [
              0.3333333333333333,
              "#9c179e"
             ],
             [
              0.4444444444444444,
              "#bd3786"
             ],
             [
              0.5555555555555556,
              "#d8576b"
             ],
             [
              0.6666666666666666,
              "#ed7953"
             ],
             [
              0.7777777777777778,
              "#fb9f3a"
             ],
             [
              0.8888888888888888,
              "#fdca26"
             ],
             [
              1,
              "#f0f921"
             ]
            ],
            "type": "contour"
           }
          ],
          "contourcarpet": [
           {
            "colorbar": {
             "outlinewidth": 0,
             "ticks": ""
            },
            "type": "contourcarpet"
           }
          ],
          "heatmap": [
           {
            "colorbar": {
             "outlinewidth": 0,
             "ticks": ""
            },
            "colorscale": [
             [
              0,
              "#0d0887"
             ],
             [
              0.1111111111111111,
              "#46039f"
             ],
             [
              0.2222222222222222,
              "#7201a8"
             ],
             [
              0.3333333333333333,
              "#9c179e"
             ],
             [
              0.4444444444444444,
              "#bd3786"
             ],
             [
              0.5555555555555556,
              "#d8576b"
             ],
             [
              0.6666666666666666,
              "#ed7953"
             ],
             [
              0.7777777777777778,
              "#fb9f3a"
             ],
             [
              0.8888888888888888,
              "#fdca26"
             ],
             [
              1,
              "#f0f921"
             ]
            ],
            "type": "heatmap"
           }
          ],
          "heatmapgl": [
           {
            "colorbar": {
             "outlinewidth": 0,
             "ticks": ""
            },
            "colorscale": [
             [
              0,
              "#0d0887"
             ],
             [
              0.1111111111111111,
              "#46039f"
             ],
             [
              0.2222222222222222,
              "#7201a8"
             ],
             [
              0.3333333333333333,
              "#9c179e"
             ],
             [
              0.4444444444444444,
              "#bd3786"
             ],
             [
              0.5555555555555556,
              "#d8576b"
             ],
             [
              0.6666666666666666,
              "#ed7953"
             ],
             [
              0.7777777777777778,
              "#fb9f3a"
             ],
             [
              0.8888888888888888,
              "#fdca26"
             ],
             [
              1,
              "#f0f921"
             ]
            ],
            "type": "heatmapgl"
           }
          ],
          "histogram": [
           {
            "marker": {
             "pattern": {
              "fillmode": "overlay",
              "size": 10,
              "solidity": 0.2
             }
            },
            "type": "histogram"
           }
          ],
          "histogram2d": [
           {
            "colorbar": {
             "outlinewidth": 0,
             "ticks": ""
            },
            "colorscale": [
             [
              0,
              "#0d0887"
             ],
             [
              0.1111111111111111,
              "#46039f"
             ],
             [
              0.2222222222222222,
              "#7201a8"
             ],
             [
              0.3333333333333333,
              "#9c179e"
             ],
             [
              0.4444444444444444,
              "#bd3786"
             ],
             [
              0.5555555555555556,
              "#d8576b"
             ],
             [
              0.6666666666666666,
              "#ed7953"
             ],
             [
              0.7777777777777778,
              "#fb9f3a"
             ],
             [
              0.8888888888888888,
              "#fdca26"
             ],
             [
              1,
              "#f0f921"
             ]
            ],
            "type": "histogram2d"
           }
          ],
          "histogram2dcontour": [
           {
            "colorbar": {
             "outlinewidth": 0,
             "ticks": ""
            },
            "colorscale": [
             [
              0,
              "#0d0887"
             ],
             [
              0.1111111111111111,
              "#46039f"
             ],
             [
              0.2222222222222222,
              "#7201a8"
             ],
             [
              0.3333333333333333,
              "#9c179e"
             ],
             [
              0.4444444444444444,
              "#bd3786"
             ],
             [
              0.5555555555555556,
              "#d8576b"
             ],
             [
              0.6666666666666666,
              "#ed7953"
             ],
             [
              0.7777777777777778,
              "#fb9f3a"
             ],
             [
              0.8888888888888888,
              "#fdca26"
             ],
             [
              1,
              "#f0f921"
             ]
            ],
            "type": "histogram2dcontour"
           }
          ],
          "mesh3d": [
           {
            "colorbar": {
             "outlinewidth": 0,
             "ticks": ""
            },
            "type": "mesh3d"
           }
          ],
          "parcoords": [
           {
            "line": {
             "colorbar": {
              "outlinewidth": 0,
              "ticks": ""
             }
            },
            "type": "parcoords"
           }
          ],
          "pie": [
           {
            "automargin": true,
            "type": "pie"
           }
          ],
          "scatter": [
           {
            "fillpattern": {
             "fillmode": "overlay",
             "size": 10,
             "solidity": 0.2
            },
            "type": "scatter"
           }
          ],
          "scatter3d": [
           {
            "line": {
             "colorbar": {
              "outlinewidth": 0,
              "ticks": ""
             }
            },
            "marker": {
             "colorbar": {
              "outlinewidth": 0,
              "ticks": ""
             }
            },
            "type": "scatter3d"
           }
          ],
          "scattercarpet": [
           {
            "marker": {
             "colorbar": {
              "outlinewidth": 0,
              "ticks": ""
             }
            },
            "type": "scattercarpet"
           }
          ],
          "scattergeo": [
           {
            "marker": {
             "colorbar": {
              "outlinewidth": 0,
              "ticks": ""
             }
            },
            "type": "scattergeo"
           }
          ],
          "scattergl": [
           {
            "marker": {
             "colorbar": {
              "outlinewidth": 0,
              "ticks": ""
             }
            },
            "type": "scattergl"
           }
          ],
          "scattermapbox": [
           {
            "marker": {
             "colorbar": {
              "outlinewidth": 0,
              "ticks": ""
             }
            },
            "type": "scattermapbox"
           }
          ],
          "scatterpolar": [
           {
            "marker": {
             "colorbar": {
              "outlinewidth": 0,
              "ticks": ""
             }
            },
            "type": "scatterpolar"
           }
          ],
          "scatterpolargl": [
           {
            "marker": {
             "colorbar": {
              "outlinewidth": 0,
              "ticks": ""
             }
            },
            "type": "scatterpolargl"
           }
          ],
          "scatterternary": [
           {
            "marker": {
             "colorbar": {
              "outlinewidth": 0,
              "ticks": ""
             }
            },
            "type": "scatterternary"
           }
          ],
          "surface": [
           {
            "colorbar": {
             "outlinewidth": 0,
             "ticks": ""
            },
            "colorscale": [
             [
              0,
              "#0d0887"
             ],
             [
              0.1111111111111111,
              "#46039f"
             ],
             [
              0.2222222222222222,
              "#7201a8"
             ],
             [
              0.3333333333333333,
              "#9c179e"
             ],
             [
              0.4444444444444444,
              "#bd3786"
             ],
             [
              0.5555555555555556,
              "#d8576b"
             ],
             [
              0.6666666666666666,
              "#ed7953"
             ],
             [
              0.7777777777777778,
              "#fb9f3a"
             ],
             [
              0.8888888888888888,
              "#fdca26"
             ],
             [
              1,
              "#f0f921"
             ]
            ],
            "type": "surface"
           }
          ],
          "table": [
           {
            "cells": {
             "fill": {
              "color": "#EBF0F8"
             },
             "line": {
              "color": "white"
             }
            },
            "header": {
             "fill": {
              "color": "#C8D4E3"
             },
             "line": {
              "color": "white"
             }
            },
            "type": "table"
           }
          ]
         },
         "layout": {
          "annotationdefaults": {
           "arrowcolor": "#2a3f5f",
           "arrowhead": 0,
           "arrowwidth": 1
          },
          "autotypenumbers": "strict",
          "coloraxis": {
           "colorbar": {
            "outlinewidth": 0,
            "ticks": ""
           }
          },
          "colorscale": {
           "diverging": [
            [
             0,
             "#8e0152"
            ],
            [
             0.1,
             "#c51b7d"
            ],
            [
             0.2,
             "#de77ae"
            ],
            [
             0.3,
             "#f1b6da"
            ],
            [
             0.4,
             "#fde0ef"
            ],
            [
             0.5,
             "#f7f7f7"
            ],
            [
             0.6,
             "#e6f5d0"
            ],
            [
             0.7,
             "#b8e186"
            ],
            [
             0.8,
             "#7fbc41"
            ],
            [
             0.9,
             "#4d9221"
            ],
            [
             1,
             "#276419"
            ]
           ],
           "sequential": [
            [
             0,
             "#0d0887"
            ],
            [
             0.1111111111111111,
             "#46039f"
            ],
            [
             0.2222222222222222,
             "#7201a8"
            ],
            [
             0.3333333333333333,
             "#9c179e"
            ],
            [
             0.4444444444444444,
             "#bd3786"
            ],
            [
             0.5555555555555556,
             "#d8576b"
            ],
            [
             0.6666666666666666,
             "#ed7953"
            ],
            [
             0.7777777777777778,
             "#fb9f3a"
            ],
            [
             0.8888888888888888,
             "#fdca26"
            ],
            [
             1,
             "#f0f921"
            ]
           ],
           "sequentialminus": [
            [
             0,
             "#0d0887"
            ],
            [
             0.1111111111111111,
             "#46039f"
            ],
            [
             0.2222222222222222,
             "#7201a8"
            ],
            [
             0.3333333333333333,
             "#9c179e"
            ],
            [
             0.4444444444444444,
             "#bd3786"
            ],
            [
             0.5555555555555556,
             "#d8576b"
            ],
            [
             0.6666666666666666,
             "#ed7953"
            ],
            [
             0.7777777777777778,
             "#fb9f3a"
            ],
            [
             0.8888888888888888,
             "#fdca26"
            ],
            [
             1,
             "#f0f921"
            ]
           ]
          },
          "colorway": [
           "#636efa",
           "#EF553B",
           "#00cc96",
           "#ab63fa",
           "#FFA15A",
           "#19d3f3",
           "#FF6692",
           "#B6E880",
           "#FF97FF",
           "#FECB52"
          ],
          "font": {
           "color": "#2a3f5f"
          },
          "geo": {
           "bgcolor": "white",
           "lakecolor": "white",
           "landcolor": "#E5ECF6",
           "showlakes": true,
           "showland": true,
           "subunitcolor": "white"
          },
          "hoverlabel": {
           "align": "left"
          },
          "hovermode": "closest",
          "mapbox": {
           "style": "light"
          },
          "paper_bgcolor": "white",
          "plot_bgcolor": "#E5ECF6",
          "polar": {
           "angularaxis": {
            "gridcolor": "white",
            "linecolor": "white",
            "ticks": ""
           },
           "bgcolor": "#E5ECF6",
           "radialaxis": {
            "gridcolor": "white",
            "linecolor": "white",
            "ticks": ""
           }
          },
          "scene": {
           "xaxis": {
            "backgroundcolor": "#E5ECF6",
            "gridcolor": "white",
            "gridwidth": 2,
            "linecolor": "white",
            "showbackground": true,
            "ticks": "",
            "zerolinecolor": "white"
           },
           "yaxis": {
            "backgroundcolor": "#E5ECF6",
            "gridcolor": "white",
            "gridwidth": 2,
            "linecolor": "white",
            "showbackground": true,
            "ticks": "",
            "zerolinecolor": "white"
           },
           "zaxis": {
            "backgroundcolor": "#E5ECF6",
            "gridcolor": "white",
            "gridwidth": 2,
            "linecolor": "white",
            "showbackground": true,
            "ticks": "",
            "zerolinecolor": "white"
           }
          },
          "shapedefaults": {
           "line": {
            "color": "#2a3f5f"
           }
          },
          "ternary": {
           "aaxis": {
            "gridcolor": "white",
            "linecolor": "white",
            "ticks": ""
           },
           "baxis": {
            "gridcolor": "white",
            "linecolor": "white",
            "ticks": ""
           },
           "bgcolor": "#E5ECF6",
           "caxis": {
            "gridcolor": "white",
            "linecolor": "white",
            "ticks": ""
           }
          },
          "title": {
           "x": 0.05
          },
          "xaxis": {
           "automargin": true,
           "gridcolor": "white",
           "linecolor": "white",
           "ticks": "",
           "title": {
            "standoff": 15
           },
           "zerolinecolor": "white",
           "zerolinewidth": 2
          },
          "yaxis": {
           "automargin": true,
           "gridcolor": "white",
           "linecolor": "white",
           "ticks": "",
           "title": {
            "standoff": 15
           },
           "zerolinecolor": "white",
           "zerolinewidth": 2
          }
         }
        },
        "title": {
         "text": "Cropland Loss"
        },
        "xaxis": {
         "anchor": "y",
         "domain": [
          0,
          1
         ],
         "title": {
          "text": "Country"
         }
        },
        "yaxis": {
         "anchor": "x",
         "domain": [
          0,
          1
         ],
         "title": {
          "text": "Area (km2)"
         }
        }
       }
      }
     },
     "metadata": {},
     "output_type": "display_data"
    }
   ],
   "source": [
    "geemap.bar_chart(\n",
    "    esri_cropland_loss, x = 'NAME', y = 'sum', max_rows = 30, x_label = 'Country', y_label = 'Area (km2)', title = 'Cropland Loss'\n",
    ")"
   ]
  },
  {
   "cell_type": "code",
   "execution_count": 76,
   "metadata": {},
   "outputs": [
    {
     "data": {
      "text/html": [
       "\n",
       "            <style>\n",
       "                .geemap-dark {\n",
       "                    --jp-widgets-color: white;\n",
       "                    --jp-widgets-label-color: white;\n",
       "                    --jp-ui-font-color1: white;\n",
       "                    --jp-layout-color2: #454545;\n",
       "                    background-color: #383838;\n",
       "                }\n",
       "                    \n",
       "                .geemap-dark .jupyter-button {\n",
       "                    --jp-layout-color3: #383838;\n",
       "                }\n",
       "                \n",
       "                .geemap-colab {\n",
       "                    background-color: var(--colab-primary-surface-color, white);\n",
       "                }\n",
       "                    \n",
       "                .geemap-colab .jupyter-button {\n",
       "                    --jp-layout-color3: var(--colab-primary-surface-color, white);\n",
       "                }\n",
       "            </style>\n",
       "            "
      ],
      "text/plain": [
       "<IPython.core.display.HTML object>"
      ]
     },
     "metadata": {},
     "output_type": "display_data"
    },
    {
     "data": {
      "application/vnd.plotly.v1+json": {
       "config": {
        "plotlyServerURL": "https://plot.ly"
       },
       "data": [
        {
         "domain": {
          "x": [
           0,
           1
          ],
          "y": [
           0,
           1
          ]
         },
         "hovertemplate": "NAME=%{label}<br>sum=%{value}<extra></extra>",
         "labels": [
          "China",
          "United States of America",
          "Russia",
          "India",
          "Brazil",
          "Kazakhstan",
          "Australia",
          "Canada",
          "South Africa",
          "Indonesia",
          "Iran",
          "Argentina",
          "Nigeria",
          "Turkey",
          "Ethiopia",
          "Mexico",
          "Ukraine",
          "Sudan",
          "Iraq",
          "Thailand",
          "France",
          "Vietnam",
          "Pakistan",
          "Morocco",
          "Poland",
          "Belarus",
          "Myanmar",
          "Bangladesh",
          "Tanzania",
          "Other",
          "Other",
          "Other",
          "Other",
          "Other",
          "Other",
          "Other",
          "Other",
          "Other",
          "Other",
          "Other",
          "Other",
          "Other",
          "Other",
          "Other",
          "Other",
          "Other",
          "Other",
          "Other",
          "Other",
          "Other",
          "Other",
          "Other",
          "Other",
          "Other",
          "Other",
          "Other",
          "Other",
          "Other",
          "Other",
          "Other",
          "Other",
          "Other",
          "Other",
          "Other",
          "Other",
          "Other",
          "Other",
          "Other",
          "Other",
          "Other",
          "Other",
          "Other",
          "Other",
          "Other",
          "Other",
          "Other",
          "Other",
          "Other",
          "Other",
          "Other",
          "Other",
          "Other",
          "Other",
          "Other",
          "Other",
          "Other",
          "Other",
          "Other",
          "Other",
          "Other",
          "Other",
          "Other",
          "Other",
          "Other",
          "Other",
          "Other",
          "Other",
          "Other",
          "Other",
          "Other",
          "Other",
          "Other",
          "Other",
          "Other",
          "Other",
          "Other",
          "Other",
          "Other",
          "Other",
          "Other",
          "Other",
          "Other",
          "Other",
          "Other",
          "Other",
          "Other",
          "Other",
          "Other",
          "Other",
          "Other",
          "Other",
          "Other",
          "Other",
          "Other",
          "Other",
          "Other",
          "Other",
          "Other",
          "Other",
          "Other",
          "Other",
          "Other",
          "Other",
          "Other",
          "Other",
          "Other",
          "Other",
          "Other",
          "Other",
          "Other",
          "Other",
          "Other",
          "Other",
          "Other",
          "Other",
          "Other",
          "Other",
          "Other",
          "Other",
          "Other",
          "Other",
          "Other",
          "Other",
          "Other",
          "Other",
          "Other",
          "Other",
          "Other",
          "Other",
          "Other",
          "Other",
          "Other",
          "Other",
          "Other",
          "Other",
          "Other",
          "Other",
          "Other",
          "Other",
          "Other",
          "Other",
          "Other",
          "Other",
          "Other",
          "Other",
          "Other"
         ],
         "legendgroup": "",
         "name": "",
         "showlegend": true,
         "type": "pie",
         "values": [
          229557.47450980396,
          128810.97647058824,
          125153.81960784316,
          112348.20392156864,
          90442.68235294118,
          76281.87843137258,
          75746.29019607842,
          50128.9450980392,
          34975.07058823529,
          28705.13333333333,
          28292.12156862745,
          28263.254901960787,
          28179.015686274503,
          27533.760784313727,
          20304.27843137255,
          19470.41568627451,
          18500.011764705887,
          16915.764705882357,
          16788.13333333333,
          15803.392156862748,
          14300.576470588234,
          12753.270588235297,
          11649.450980392156,
          11250.741176470588,
          11168.949019607844,
          11131.16862745098,
          10803.333333333332,
          9902.058823529407,
          9744.533333333336,
          9520.360784313723,
          9498.45882352941,
          9394.949019607844,
          9183.015686274512,
          8105.615686274511,
          7985.2156862745105,
          7649.129411764707,
          7539.596078431373,
          7375.643137254901,
          7318.65882352941,
          7071.3019607843125,
          6811.1098039215685,
          6491.635294117647,
          6200.799999999999,
          6005.290196078431,
          5963.588235294117,
          5930.333333333333,
          5900.90588235294,
          5841.321568627451,
          5733.956862745097,
          5479.027450980391,
          5478.725490196079,
          5381.388235294116,
          5334.921568627451,
          5326.952941176468,
          5297.113725490196,
          5217.156862745098,
          5108.094117647057,
          4944.411764705883,
          4828.678431372548,
          4805.654901960785,
          4785.980392156863,
          4668.356862745099,
          4354.003921568627,
          4254.980392156862,
          4194.968627450982,
          4173.803921568627,
          4072.156862745098,
          4038.345098039216,
          3920.3803921568633,
          3590.658823529412,
          3473.8078431372546,
          3458.105882352941,
          2913.564705882353,
          2826.9254901960785,
          2528.529411764706,
          2401.5647058823524,
          2297.901960784314,
          2258.007843137255,
          2190.6117647058823,
          2190.2666666666664,
          2122.282352941176,
          1886.9215686274508,
          1873.8,
          1868.3176470588237,
          1838.164705882353,
          1832.9764705882355,
          1769.235294117647,
          1746.9882352941174,
          1724.976470588235,
          1697.0666666666668,
          1671.7607843137257,
          1573.3686274509805,
          1554.7372549019608,
          1550.027450980392,
          1528.2666666666664,
          1420.0235294117645,
          1397.549019607843,
          1365.9450980392155,
          1289.9450980392155,
          1256.2313725490196,
          1219.9176470588234,
          1182.8,
          1103.027450980392,
          1103.007843137255,
          1083.2313725490196,
          1012.886274509804,
          972.1254901960784,
          970.7254901960782,
          923.6823529411764,
          902.5803921568628,
          881.5764705882353,
          872.3764705882353,
          868.4156862745097,
          843.2745098039217,
          837.2784313725488,
          829.2431372549019,
          789.1960784313725,
          752.8000000000001,
          746.0313725490197,
          698.7529411764706,
          695.7725490196079,
          695.2117647058824,
          678.3490196078432,
          675.2,
          672.5450980392158,
          653.6274509803923,
          527.1882352941177,
          463.3176470588235,
          449.80392156862735,
          414.6627450980392,
          409.41568627450977,
          396.8392156862745,
          379.1725490196079,
          360.6627450980392,
          360.4823529411763,
          350.9921568627451,
          346.721568627451,
          344.4,
          281.7725490196078,
          246.0078431372549,
          237.3686274509804,
          233.9843137254902,
          231.6039215686274,
          224.83921568627449,
          223.71372549019608,
          196.2,
          191.9921568627451,
          181.41568627450985,
          162.9098039215686,
          158.30588235294118,
          140.7372549019608,
          121.2,
          120.54901960784314,
          115.14117647058823,
          109.12549019607845,
          91.29803921568627,
          65.67450980392157,
          62.55294117647058,
          61,
          55.05490196078431,
          41.11764705882353,
          34.61176470588235,
          33,
          31.031372549019608,
          26.87843137254902,
          26,
          18,
          16,
          14.525490196078431,
          10.36078431372549,
          9,
          8,
          6,
          4,
          0,
          0
         ]
        }
       ],
       "layout": {
        "height": 500,
        "legend": {
         "tracegroupgap": 0
        },
        "template": {
         "data": {
          "bar": [
           {
            "error_x": {
             "color": "#2a3f5f"
            },
            "error_y": {
             "color": "#2a3f5f"
            },
            "marker": {
             "line": {
              "color": "#E5ECF6",
              "width": 0.5
             },
             "pattern": {
              "fillmode": "overlay",
              "size": 10,
              "solidity": 0.2
             }
            },
            "type": "bar"
           }
          ],
          "barpolar": [
           {
            "marker": {
             "line": {
              "color": "#E5ECF6",
              "width": 0.5
             },
             "pattern": {
              "fillmode": "overlay",
              "size": 10,
              "solidity": 0.2
             }
            },
            "type": "barpolar"
           }
          ],
          "carpet": [
           {
            "aaxis": {
             "endlinecolor": "#2a3f5f",
             "gridcolor": "white",
             "linecolor": "white",
             "minorgridcolor": "white",
             "startlinecolor": "#2a3f5f"
            },
            "baxis": {
             "endlinecolor": "#2a3f5f",
             "gridcolor": "white",
             "linecolor": "white",
             "minorgridcolor": "white",
             "startlinecolor": "#2a3f5f"
            },
            "type": "carpet"
           }
          ],
          "choropleth": [
           {
            "colorbar": {
             "outlinewidth": 0,
             "ticks": ""
            },
            "type": "choropleth"
           }
          ],
          "contour": [
           {
            "colorbar": {
             "outlinewidth": 0,
             "ticks": ""
            },
            "colorscale": [
             [
              0,
              "#0d0887"
             ],
             [
              0.1111111111111111,
              "#46039f"
             ],
             [
              0.2222222222222222,
              "#7201a8"
             ],
             [
              0.3333333333333333,
              "#9c179e"
             ],
             [
              0.4444444444444444,
              "#bd3786"
             ],
             [
              0.5555555555555556,
              "#d8576b"
             ],
             [
              0.6666666666666666,
              "#ed7953"
             ],
             [
              0.7777777777777778,
              "#fb9f3a"
             ],
             [
              0.8888888888888888,
              "#fdca26"
             ],
             [
              1,
              "#f0f921"
             ]
            ],
            "type": "contour"
           }
          ],
          "contourcarpet": [
           {
            "colorbar": {
             "outlinewidth": 0,
             "ticks": ""
            },
            "type": "contourcarpet"
           }
          ],
          "heatmap": [
           {
            "colorbar": {
             "outlinewidth": 0,
             "ticks": ""
            },
            "colorscale": [
             [
              0,
              "#0d0887"
             ],
             [
              0.1111111111111111,
              "#46039f"
             ],
             [
              0.2222222222222222,
              "#7201a8"
             ],
             [
              0.3333333333333333,
              "#9c179e"
             ],
             [
              0.4444444444444444,
              "#bd3786"
             ],
             [
              0.5555555555555556,
              "#d8576b"
             ],
             [
              0.6666666666666666,
              "#ed7953"
             ],
             [
              0.7777777777777778,
              "#fb9f3a"
             ],
             [
              0.8888888888888888,
              "#fdca26"
             ],
             [
              1,
              "#f0f921"
             ]
            ],
            "type": "heatmap"
           }
          ],
          "heatmapgl": [
           {
            "colorbar": {
             "outlinewidth": 0,
             "ticks": ""
            },
            "colorscale": [
             [
              0,
              "#0d0887"
             ],
             [
              0.1111111111111111,
              "#46039f"
             ],
             [
              0.2222222222222222,
              "#7201a8"
             ],
             [
              0.3333333333333333,
              "#9c179e"
             ],
             [
              0.4444444444444444,
              "#bd3786"
             ],
             [
              0.5555555555555556,
              "#d8576b"
             ],
             [
              0.6666666666666666,
              "#ed7953"
             ],
             [
              0.7777777777777778,
              "#fb9f3a"
             ],
             [
              0.8888888888888888,
              "#fdca26"
             ],
             [
              1,
              "#f0f921"
             ]
            ],
            "type": "heatmapgl"
           }
          ],
          "histogram": [
           {
            "marker": {
             "pattern": {
              "fillmode": "overlay",
              "size": 10,
              "solidity": 0.2
             }
            },
            "type": "histogram"
           }
          ],
          "histogram2d": [
           {
            "colorbar": {
             "outlinewidth": 0,
             "ticks": ""
            },
            "colorscale": [
             [
              0,
              "#0d0887"
             ],
             [
              0.1111111111111111,
              "#46039f"
             ],
             [
              0.2222222222222222,
              "#7201a8"
             ],
             [
              0.3333333333333333,
              "#9c179e"
             ],
             [
              0.4444444444444444,
              "#bd3786"
             ],
             [
              0.5555555555555556,
              "#d8576b"
             ],
             [
              0.6666666666666666,
              "#ed7953"
             ],
             [
              0.7777777777777778,
              "#fb9f3a"
             ],
             [
              0.8888888888888888,
              "#fdca26"
             ],
             [
              1,
              "#f0f921"
             ]
            ],
            "type": "histogram2d"
           }
          ],
          "histogram2dcontour": [
           {
            "colorbar": {
             "outlinewidth": 0,
             "ticks": ""
            },
            "colorscale": [
             [
              0,
              "#0d0887"
             ],
             [
              0.1111111111111111,
              "#46039f"
             ],
             [
              0.2222222222222222,
              "#7201a8"
             ],
             [
              0.3333333333333333,
              "#9c179e"
             ],
             [
              0.4444444444444444,
              "#bd3786"
             ],
             [
              0.5555555555555556,
              "#d8576b"
             ],
             [
              0.6666666666666666,
              "#ed7953"
             ],
             [
              0.7777777777777778,
              "#fb9f3a"
             ],
             [
              0.8888888888888888,
              "#fdca26"
             ],
             [
              1,
              "#f0f921"
             ]
            ],
            "type": "histogram2dcontour"
           }
          ],
          "mesh3d": [
           {
            "colorbar": {
             "outlinewidth": 0,
             "ticks": ""
            },
            "type": "mesh3d"
           }
          ],
          "parcoords": [
           {
            "line": {
             "colorbar": {
              "outlinewidth": 0,
              "ticks": ""
             }
            },
            "type": "parcoords"
           }
          ],
          "pie": [
           {
            "automargin": true,
            "type": "pie"
           }
          ],
          "scatter": [
           {
            "fillpattern": {
             "fillmode": "overlay",
             "size": 10,
             "solidity": 0.2
            },
            "type": "scatter"
           }
          ],
          "scatter3d": [
           {
            "line": {
             "colorbar": {
              "outlinewidth": 0,
              "ticks": ""
             }
            },
            "marker": {
             "colorbar": {
              "outlinewidth": 0,
              "ticks": ""
             }
            },
            "type": "scatter3d"
           }
          ],
          "scattercarpet": [
           {
            "marker": {
             "colorbar": {
              "outlinewidth": 0,
              "ticks": ""
             }
            },
            "type": "scattercarpet"
           }
          ],
          "scattergeo": [
           {
            "marker": {
             "colorbar": {
              "outlinewidth": 0,
              "ticks": ""
             }
            },
            "type": "scattergeo"
           }
          ],
          "scattergl": [
           {
            "marker": {
             "colorbar": {
              "outlinewidth": 0,
              "ticks": ""
             }
            },
            "type": "scattergl"
           }
          ],
          "scattermapbox": [
           {
            "marker": {
             "colorbar": {
              "outlinewidth": 0,
              "ticks": ""
             }
            },
            "type": "scattermapbox"
           }
          ],
          "scatterpolar": [
           {
            "marker": {
             "colorbar": {
              "outlinewidth": 0,
              "ticks": ""
             }
            },
            "type": "scatterpolar"
           }
          ],
          "scatterpolargl": [
           {
            "marker": {
             "colorbar": {
              "outlinewidth": 0,
              "ticks": ""
             }
            },
            "type": "scatterpolargl"
           }
          ],
          "scatterternary": [
           {
            "marker": {
             "colorbar": {
              "outlinewidth": 0,
              "ticks": ""
             }
            },
            "type": "scatterternary"
           }
          ],
          "surface": [
           {
            "colorbar": {
             "outlinewidth": 0,
             "ticks": ""
            },
            "colorscale": [
             [
              0,
              "#0d0887"
             ],
             [
              0.1111111111111111,
              "#46039f"
             ],
             [
              0.2222222222222222,
              "#7201a8"
             ],
             [
              0.3333333333333333,
              "#9c179e"
             ],
             [
              0.4444444444444444,
              "#bd3786"
             ],
             [
              0.5555555555555556,
              "#d8576b"
             ],
             [
              0.6666666666666666,
              "#ed7953"
             ],
             [
              0.7777777777777778,
              "#fb9f3a"
             ],
             [
              0.8888888888888888,
              "#fdca26"
             ],
             [
              1,
              "#f0f921"
             ]
            ],
            "type": "surface"
           }
          ],
          "table": [
           {
            "cells": {
             "fill": {
              "color": "#EBF0F8"
             },
             "line": {
              "color": "white"
             }
            },
            "header": {
             "fill": {
              "color": "#C8D4E3"
             },
             "line": {
              "color": "white"
             }
            },
            "type": "table"
           }
          ]
         },
         "layout": {
          "annotationdefaults": {
           "arrowcolor": "#2a3f5f",
           "arrowhead": 0,
           "arrowwidth": 1
          },
          "autotypenumbers": "strict",
          "coloraxis": {
           "colorbar": {
            "outlinewidth": 0,
            "ticks": ""
           }
          },
          "colorscale": {
           "diverging": [
            [
             0,
             "#8e0152"
            ],
            [
             0.1,
             "#c51b7d"
            ],
            [
             0.2,
             "#de77ae"
            ],
            [
             0.3,
             "#f1b6da"
            ],
            [
             0.4,
             "#fde0ef"
            ],
            [
             0.5,
             "#f7f7f7"
            ],
            [
             0.6,
             "#e6f5d0"
            ],
            [
             0.7,
             "#b8e186"
            ],
            [
             0.8,
             "#7fbc41"
            ],
            [
             0.9,
             "#4d9221"
            ],
            [
             1,
             "#276419"
            ]
           ],
           "sequential": [
            [
             0,
             "#0d0887"
            ],
            [
             0.1111111111111111,
             "#46039f"
            ],
            [
             0.2222222222222222,
             "#7201a8"
            ],
            [
             0.3333333333333333,
             "#9c179e"
            ],
            [
             0.4444444444444444,
             "#bd3786"
            ],
            [
             0.5555555555555556,
             "#d8576b"
            ],
            [
             0.6666666666666666,
             "#ed7953"
            ],
            [
             0.7777777777777778,
             "#fb9f3a"
            ],
            [
             0.8888888888888888,
             "#fdca26"
            ],
            [
             1,
             "#f0f921"
            ]
           ],
           "sequentialminus": [
            [
             0,
             "#0d0887"
            ],
            [
             0.1111111111111111,
             "#46039f"
            ],
            [
             0.2222222222222222,
             "#7201a8"
            ],
            [
             0.3333333333333333,
             "#9c179e"
            ],
            [
             0.4444444444444444,
             "#bd3786"
            ],
            [
             0.5555555555555556,
             "#d8576b"
            ],
            [
             0.6666666666666666,
             "#ed7953"
            ],
            [
             0.7777777777777778,
             "#fb9f3a"
            ],
            [
             0.8888888888888888,
             "#fdca26"
            ],
            [
             1,
             "#f0f921"
            ]
           ]
          },
          "colorway": [
           "#636efa",
           "#EF553B",
           "#00cc96",
           "#ab63fa",
           "#FFA15A",
           "#19d3f3",
           "#FF6692",
           "#B6E880",
           "#FF97FF",
           "#FECB52"
          ],
          "font": {
           "color": "#2a3f5f"
          },
          "geo": {
           "bgcolor": "white",
           "lakecolor": "white",
           "landcolor": "#E5ECF6",
           "showlakes": true,
           "showland": true,
           "subunitcolor": "white"
          },
          "hoverlabel": {
           "align": "left"
          },
          "hovermode": "closest",
          "mapbox": {
           "style": "light"
          },
          "paper_bgcolor": "white",
          "plot_bgcolor": "#E5ECF6",
          "polar": {
           "angularaxis": {
            "gridcolor": "white",
            "linecolor": "white",
            "ticks": ""
           },
           "bgcolor": "#E5ECF6",
           "radialaxis": {
            "gridcolor": "white",
            "linecolor": "white",
            "ticks": ""
           }
          },
          "scene": {
           "xaxis": {
            "backgroundcolor": "#E5ECF6",
            "gridcolor": "white",
            "gridwidth": 2,
            "linecolor": "white",
            "showbackground": true,
            "ticks": "",
            "zerolinecolor": "white"
           },
           "yaxis": {
            "backgroundcolor": "#E5ECF6",
            "gridcolor": "white",
            "gridwidth": 2,
            "linecolor": "white",
            "showbackground": true,
            "ticks": "",
            "zerolinecolor": "white"
           },
           "zaxis": {
            "backgroundcolor": "#E5ECF6",
            "gridcolor": "white",
            "gridwidth": 2,
            "linecolor": "white",
            "showbackground": true,
            "ticks": "",
            "zerolinecolor": "white"
           }
          },
          "shapedefaults": {
           "line": {
            "color": "#2a3f5f"
           }
          },
          "ternary": {
           "aaxis": {
            "gridcolor": "white",
            "linecolor": "white",
            "ticks": ""
           },
           "baxis": {
            "gridcolor": "white",
            "linecolor": "white",
            "ticks": ""
           },
           "bgcolor": "#E5ECF6",
           "caxis": {
            "gridcolor": "white",
            "linecolor": "white",
            "ticks": ""
           }
          },
          "title": {
           "x": 0.05
          },
          "xaxis": {
           "automargin": true,
           "gridcolor": "white",
           "linecolor": "white",
           "ticks": "",
           "title": {
            "standoff": 15
           },
           "zerolinecolor": "white",
           "zerolinewidth": 2
          },
          "yaxis": {
           "automargin": true,
           "gridcolor": "white",
           "linecolor": "white",
           "ticks": "",
           "title": {
            "standoff": 15
           },
           "zerolinecolor": "white",
           "zerolinewidth": 2
          }
         }
        },
        "title": {
         "text": "Cropland Loss"
        }
       }
      }
     },
     "metadata": {},
     "output_type": "display_data"
    }
   ],
   "source": [
    "geemap.pie_chart(\n",
    "    esri_cropland_loss, names = 'NAME', values = 'sum', max_rows = 30, height = 500, title = 'Cropland Loss'\n",
    ")"
   ]
  },
  {
   "cell_type": "markdown",
   "metadata": {},
   "source": [
    "# Dynamic World Land Cover"
   ]
  },
  {
   "cell_type": "markdown",
   "metadata": {},
   "source": [
    "This is a near realtime 10m resolution global LULC dataset, produced using deep learning, freely available and openly licensed. This is a result of leveraging a novel DL approach, based on Sentinel-2 Top of Atmosphere. This offers global land cover updating every 2-5 days, depending on the location."
   ]
  },
  {
   "cell_type": "markdown",
   "metadata": {},
   "source": [
    "## Classification and Probability"
   ]
  },
  {
   "cell_type": "code",
   "execution_count": 77,
   "metadata": {},
   "outputs": [
    {
     "data": {
      "text/html": [
       "\n",
       "            <style>\n",
       "                .geemap-dark {\n",
       "                    --jp-widgets-color: white;\n",
       "                    --jp-widgets-label-color: white;\n",
       "                    --jp-ui-font-color1: white;\n",
       "                    --jp-layout-color2: #454545;\n",
       "                    background-color: #383838;\n",
       "                }\n",
       "                    \n",
       "                .geemap-dark .jupyter-button {\n",
       "                    --jp-layout-color3: #383838;\n",
       "                }\n",
       "                \n",
       "                .geemap-colab {\n",
       "                    background-color: var(--colab-primary-surface-color, white);\n",
       "                }\n",
       "                    \n",
       "                .geemap-colab .jupyter-button {\n",
       "                    --jp-layout-color3: var(--colab-primary-surface-color, white);\n",
       "                }\n",
       "            </style>\n",
       "            "
      ],
      "text/plain": [
       "<IPython.core.display.HTML object>"
      ]
     },
     "metadata": {},
     "output_type": "display_data"
    },
    {
     "data": {
      "application/vnd.jupyter.widget-view+json": {
       "model_id": "3ff62cce007e461c84499ed0c617eb42",
       "version_major": 2,
       "version_minor": 0
      },
      "text/plain": [
       "Map(center=[43.0006, -88.9088], controls=(WidgetControl(options=['position', 'transparent_bg'], widget=SearchD…"
      ]
     },
     "execution_count": 77,
     "metadata": {},
     "output_type": "execute_result"
    }
   ],
   "source": [
    "Map = geemap.Map()\n",
    "\n",
    "region = ee.Geometry.BBox(-179, -89, 179, 89)\n",
    "start_date = '2022-01-01'\n",
    "end_date = '2023-01-01'\n",
    "\n",
    "dw_class = geemap.dynamic_world(region, start_date, end_date, return_type = 'class')\n",
    "dw = geemap.dynamic_world(region, start_date, end_date, return_type = 'hillshade')\n",
    "\n",
    "dw_vis = {\n",
    "    'min': 0,\n",
    "    'max': 8,\n",
    "    'palette': 'dw'\n",
    "}\n",
    "\n",
    "Map.addLayer(dw_class, dw_vis, 'DW Land Cover', False)\n",
    "Map.addLayer(dw, {}, 'DW Land Cover Hillshade') \n",
    "\n",
    "Map.add_legend(title = 'Dynamic World Land Cover', builtin_legend = 'Dynamic_World')\n",
    "Map.set_center(-88.9088, 43.0006, 12)\n",
    "Map"
   ]
  },
  {
   "cell_type": "markdown",
   "metadata": {},
   "source": [
    "## ESA Land Cover vs. Dynamic World"
   ]
  },
  {
   "cell_type": "code",
   "execution_count": 78,
   "metadata": {},
   "outputs": [
    {
     "data": {
      "text/html": [
       "\n",
       "            <style>\n",
       "                .geemap-dark {\n",
       "                    --jp-widgets-color: white;\n",
       "                    --jp-widgets-label-color: white;\n",
       "                    --jp-ui-font-color1: white;\n",
       "                    --jp-layout-color2: #454545;\n",
       "                    background-color: #383838;\n",
       "                }\n",
       "                    \n",
       "                .geemap-dark .jupyter-button {\n",
       "                    --jp-layout-color3: #383838;\n",
       "                }\n",
       "                \n",
       "                .geemap-colab {\n",
       "                    background-color: var(--colab-primary-surface-color, white);\n",
       "                }\n",
       "                    \n",
       "                .geemap-colab .jupyter-button {\n",
       "                    --jp-layout-color3: var(--colab-primary-surface-color, white);\n",
       "                }\n",
       "            </style>\n",
       "            "
      ],
      "text/plain": [
       "<IPython.core.display.HTML object>"
      ]
     },
     "metadata": {},
     "output_type": "display_data"
    },
    {
     "data": {
      "application/vnd.jupyter.widget-view+json": {
       "model_id": "e7984e3d1a49416186f810e72d65a2f1",
       "version_major": 2,
       "version_minor": 0
      },
      "text/plain": [
       "Map(center=[43.0006, -88.9088], controls=(ZoomControl(options=['position', 'zoom_in_text', 'zoom_in_title', 'z…"
      ]
     },
     "execution_count": 78,
     "metadata": {},
     "output_type": "execute_result"
    }
   ],
   "source": [
    "Map = geemap.Map(center = [39.3322, -106.7349], zoom = 10)\n",
    "\n",
    "left_layer = geemap.ee_tile_layer(esa, esa_vis, \"ESA Land Cover\")\n",
    "right_layer = geemap.ee_tile_layer(dw, {}, \"Dynamic World Land Cover\")\n",
    "\n",
    "Map.split_map(left_layer, right_layer)\n",
    "Map.add_legend(\n",
    "    title=\"ESA Land Cover\", builtin_legend='ESA_WorldCover', position='bottomleft'\n",
    ")\n",
    "Map.add_legend(\n",
    "    title = \"Dynamic World Land Cover\",\n",
    "    builtin_legend = 'Dynamic_World',\n",
    "    position = 'bottomright',\n",
    ")\n",
    "Map.setCenter(-88.9088, 43.0006, 12)\n",
    "\n",
    "Map"
   ]
  },
  {
   "cell_type": "markdown",
   "metadata": {},
   "source": [
    "## ESRI Land Cover vs. Dynamic World"
   ]
  },
  {
   "cell_type": "code",
   "execution_count": 79,
   "metadata": {},
   "outputs": [
    {
     "data": {
      "text/html": [
       "\n",
       "            <style>\n",
       "                .geemap-dark {\n",
       "                    --jp-widgets-color: white;\n",
       "                    --jp-widgets-label-color: white;\n",
       "                    --jp-ui-font-color1: white;\n",
       "                    --jp-layout-color2: #454545;\n",
       "                    background-color: #383838;\n",
       "                }\n",
       "                    \n",
       "                .geemap-dark .jupyter-button {\n",
       "                    --jp-layout-color3: #383838;\n",
       "                }\n",
       "                \n",
       "                .geemap-colab {\n",
       "                    background-color: var(--colab-primary-surface-color, white);\n",
       "                }\n",
       "                    \n",
       "                .geemap-colab .jupyter-button {\n",
       "                    --jp-layout-color3: var(--colab-primary-surface-color, white);\n",
       "                }\n",
       "            </style>\n",
       "            "
      ],
      "text/plain": [
       "<IPython.core.display.HTML object>"
      ]
     },
     "metadata": {},
     "output_type": "display_data"
    },
    {
     "data": {
      "application/vnd.jupyter.widget-view+json": {
       "model_id": "e8cf0ff6eb804fd2829f3603fefa9d39",
       "version_major": 2,
       "version_minor": 0
      },
      "text/plain": [
       "Map(center=[43.0006, -88.9088], controls=(ZoomControl(options=['position', 'zoom_in_text', 'zoom_in_title', 'z…"
      ]
     },
     "execution_count": 79,
     "metadata": {},
     "output_type": "execute_result"
    }
   ],
   "source": [
    "Map = geemap.Map(center = [-89.3998, 43.0886], zoom = 10)\n",
    "\n",
    "left_layer = geemap.ee_tile_layer(esri_2021, esri_vis, \"ESRI Land Cover\")\n",
    "right_layer = geemap.ee_tile_layer(dw, {}, \"Dynamic World Land Cover\")\n",
    "\n",
    "Map.split_map(left_layer, right_layer)\n",
    "Map.add_legend(\n",
    "    title = \"ESRI Land Cover\", builtin_legend = 'ESRI_LandCover', position = 'bottomleft'\n",
    ")\n",
    "Map.add_legend(\n",
    "    title = \"Dynamic World Land Cover\",\n",
    "    builtin_legend = 'Dynamic_World',\n",
    "    position = 'bottomright',\n",
    ")\n",
    "Map.setCenter(-88.9088, 43.0006, 12)\n",
    "\n",
    "Map"
   ]
  },
  {
   "cell_type": "code",
   "execution_count": null,
   "metadata": {},
   "outputs": [],
   "source": []
  }
 ],
 "metadata": {
  "kernelspec": {
   "display_name": "Python 3",
   "language": "python",
   "name": "python3"
  },
  "language_info": {
   "codemirror_mode": {
    "name": "ipython",
    "version": 3
   },
   "file_extension": ".py",
   "mimetype": "text/x-python",
   "name": "python",
   "nbconvert_exporter": "python",
   "pygments_lexer": "ipython3",
   "version": "3.10.0"
  }
 },
 "nbformat": 4,
 "nbformat_minor": 2
}
