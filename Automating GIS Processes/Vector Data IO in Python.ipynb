{
 "cells": [
  {
   "cell_type": "code",
   "execution_count": 1,
   "id": "919221a0-9288-4383-b38a-43a7a676e7ce",
   "metadata": {},
   "outputs": [
    {
     "data": {
      "text/plain": [
       "'C:\\\\Users\\\\gilramolete\\\\OneDrive - UNIONBANK of the Philippines\\\\Documents 1\\\\Geospatial Analysis\\\\Automating GIS Processes'"
      ]
     },
     "execution_count": 1,
     "metadata": {},
     "output_type": "execute_result"
    }
   ],
   "source": [
    "import pandas as pd\n",
    "import seaborn as sns\n",
    "import matplotlib.pyplot as plt\n",
    "import numpy as np\n",
    "\n",
    "import fiona\n",
    "from fiona.env import GDALEnv\n",
    "\n",
    "import geopandas as gpd\n",
    "#!pip3 install pyproj==1.9.6\n",
    "import pyproj\n",
    "import psycopg2\n",
    "import sqlite3\n",
    "import shapely.wkb as swkb\n",
    "import requests\n",
    "#!pip3 install geojson\n",
    "import geojson\n",
    "\n",
    "from sqlalchemy.engine.url import URL\n",
    "from sqlalchemy import create_engine, event\n",
    "from sqlalchemy import MetaData\n",
    "from sqlalchemy.orm import sessionmaker\n",
    "#!pip3 install geoalchemy2\n",
    "from geoalchemy2 import WKTElement, Geometry\n",
    "\n",
    "import os\n",
    "os.getcwd()"
   ]
  },
  {
   "cell_type": "markdown",
   "id": "47bf6901-cec4-4e7c-a0fe-f90d3f615601",
   "metadata": {},
   "source": [
    "# Vector Data I/O in Python"
   ]
  },
  {
   "cell_type": "code",
   "execution_count": 2,
   "id": "2a6bc3d0-6429-468d-8859-b29b3fc3ed70",
   "metadata": {},
   "outputs": [
    {
     "data": {
      "text/plain": [
       "dict_keys(['PCIDSK', 'netCDF', 'PDS4', 'JP2OpenJPEG', 'PDF', 'MBTiles', 'EEDA', 'DB2ODBC', 'ESRI Shapefile', 'MapInfo File', 'UK .NTF', 'OGR_SDTS', 'S57', 'DGN', 'OGR_VRT', 'REC', 'Memory', 'BNA', 'CSV', 'NAS', 'GML', 'GPX', 'KML', 'GeoJSON', 'GeoJSONSeq', 'ESRIJSON', 'TopoJSON', 'OGR_GMT', 'GPKG', 'SQLite', 'ODBC', 'WAsP', 'PGeo', 'MSSQLSpatial', 'PostgreSQL', 'OpenFileGDB', 'XPlane', 'DXF', 'CAD', 'Geoconcept', 'GeoRSS', 'GPSTrackMaker', 'VFK', 'PGDUMP', 'OSM', 'GPSBabel', 'SUA', 'OpenAir', 'OGR_PDS', 'WFS', 'WFS3', 'HTF', 'AeronavFAA', 'Geomedia', 'EDIGEO', 'GFT', 'SVG', 'CouchDB', 'Cloudant', 'Idrisi', 'ARCGEN', 'SEGUKOOA', 'SEGY', 'XLS', 'ODS', 'XLSX', 'ElasticSearch', 'Walk', 'Carto', 'AmigoCloud', 'SXF', 'Selafin', 'JML', 'PLSCENES', 'CSW', 'VDV', 'GMLAS', 'MVT', 'TIGER', 'AVCBin', 'AVCE00', 'NGW', 'HTTP'])"
      ]
     },
     "execution_count": 2,
     "metadata": {},
     "output_type": "execute_result"
    }
   ],
   "source": [
    "# See all available drivers supported by GDAL\n",
    "env = GDALEnv()\n",
    "\n",
    "# This will print all available Drivers supported by GDAL\n",
    "# All these can be used for reading data from them and most often also writing data into\n",
    "env.drivers().keys()"
   ]
  },
  {
   "cell_type": "code",
   "execution_count": 3,
   "id": "e9e19ef1-e3df-46d0-94af-6384338cd09c",
   "metadata": {},
   "outputs": [
    {
     "data": {
      "text/plain": [
       "{'AeronavFAA': 'r',\n",
       " 'ARCGEN': 'r',\n",
       " 'BNA': 'raw',\n",
       " 'DXF': 'raw',\n",
       " 'CSV': 'raw',\n",
       " 'OpenFileGDB': 'r',\n",
       " 'ESRIJSON': 'r',\n",
       " 'ESRI Shapefile': 'raw',\n",
       " 'GeoJSON': 'rw',\n",
       " 'GeoJSONSeq': 'rw',\n",
       " 'GPKG': 'rw',\n",
       " 'GML': 'raw',\n",
       " 'GPX': 'raw',\n",
       " 'GPSTrackMaker': 'raw',\n",
       " 'Idrisi': 'r',\n",
       " 'MapInfo File': 'raw',\n",
       " 'DGN': 'raw',\n",
       " 'PCIDSK': 'r',\n",
       " 'S57': 'r',\n",
       " 'SEGY': 'r',\n",
       " 'SUA': 'r',\n",
       " 'TopoJSON': 'r'}"
      ]
     },
     "execution_count": 3,
     "metadata": {},
     "output_type": "execute_result"
    }
   ],
   "source": [
    "# Available drivers in geopandas/fiona. Same as: fiona.supported_drivers\n",
    "gpd.io.file.fiona.drvsupport.supported_drivers"
   ]
  },
  {
   "cell_type": "markdown",
   "id": "97e44a42-d8c0-4b6d-9e44-583c066ddf10",
   "metadata": {},
   "source": [
    "## Reading and writing Shapefiles"
   ]
  },
  {
   "cell_type": "code",
   "execution_count": 3,
   "id": "3f96d732-d528-42d5-9e00-a0c13a0fc04b",
   "metadata": {
    "tags": []
   },
   "outputs": [
    {
     "ename": "CRSError",
     "evalue": "Invalid projection: EPSG:4326: (Internal Proj Error: proj_create: SQLite error on SELECT name, type, coordinate_system_auth_name, coordinate_system_code, datum_auth_name, datum_code, area_of_use_auth_name, area_of_use_code, text_definition, deprecated FROM geodetic_crs WHERE auth_name = ? AND code = ?: no such column: area_of_use_auth_name)",
     "output_type": "error",
     "traceback": [
      "\u001b[1;31m---------------------------------------------------------------------------\u001b[0m",
      "\u001b[1;31mCRSError\u001b[0m                                  Traceback (most recent call last)",
      "\u001b[1;32mC:\\Users\\GILRAM~1\\AppData\\Local\\Temp/ipykernel_27816/310471955.py\u001b[0m in \u001b[0;36m<module>\u001b[1;34m\u001b[0m\n\u001b[0;32m      1\u001b[0m \u001b[1;32mfrom\u001b[0m \u001b[0mpyproj\u001b[0m \u001b[1;32mimport\u001b[0m \u001b[0mCRS\u001b[0m\u001b[1;33m\u001b[0m\u001b[1;33m\u001b[0m\u001b[0m\n\u001b[0;32m      2\u001b[0m \u001b[1;33m\u001b[0m\u001b[0m\n\u001b[1;32m----> 3\u001b[1;33m \u001b[0mcrs\u001b[0m\u001b[1;33m=\u001b[0m\u001b[0mCRS\u001b[0m\u001b[1;33m(\u001b[0m\u001b[1;34m'EPSG:4326'\u001b[0m\u001b[1;33m)\u001b[0m\u001b[1;33m.\u001b[0m\u001b[0mto_proj4\u001b[0m\u001b[1;33m(\u001b[0m\u001b[1;33m)\u001b[0m\u001b[1;33m\u001b[0m\u001b[1;33m\u001b[0m\u001b[0m\n\u001b[0m\u001b[0;32m      4\u001b[0m \u001b[1;33m\u001b[0m\u001b[0m\n\u001b[0;32m      5\u001b[0m \u001b[1;31m# Read file from Shapefile\u001b[0m\u001b[1;33m\u001b[0m\u001b[1;33m\u001b[0m\u001b[0m\n",
      "\u001b[1;32m~\\Anaconda3\\lib\\site-packages\\pyproj\\crs\\crs.py\u001b[0m in \u001b[0;36m__init__\u001b[1;34m(self, projparams, **kwargs)\u001b[0m\n\u001b[0;32m    294\u001b[0m             \u001b[0mprojstring\u001b[0m \u001b[1;33m=\u001b[0m \u001b[0m_prepare_from_string\u001b[0m\u001b[1;33m(\u001b[0m\u001b[1;34m\" \"\u001b[0m\u001b[1;33m.\u001b[0m\u001b[0mjoin\u001b[0m\u001b[1;33m(\u001b[0m\u001b[1;33m(\u001b[0m\u001b[0mprojstring\u001b[0m\u001b[1;33m,\u001b[0m \u001b[0mprojkwargs\u001b[0m\u001b[1;33m)\u001b[0m\u001b[1;33m)\u001b[0m\u001b[1;33m)\u001b[0m\u001b[1;33m\u001b[0m\u001b[1;33m\u001b[0m\u001b[0m\n\u001b[0;32m    295\u001b[0m \u001b[1;33m\u001b[0m\u001b[0m\n\u001b[1;32m--> 296\u001b[1;33m         \u001b[0msuper\u001b[0m\u001b[1;33m(\u001b[0m\u001b[1;33m)\u001b[0m\u001b[1;33m.\u001b[0m\u001b[0m__init__\u001b[0m\u001b[1;33m(\u001b[0m\u001b[0mprojstring\u001b[0m\u001b[1;33m)\u001b[0m\u001b[1;33m\u001b[0m\u001b[1;33m\u001b[0m\u001b[0m\n\u001b[0m\u001b[0;32m    297\u001b[0m \u001b[1;33m\u001b[0m\u001b[0m\n\u001b[0;32m    298\u001b[0m     \u001b[1;33m@\u001b[0m\u001b[0mstaticmethod\u001b[0m\u001b[1;33m\u001b[0m\u001b[1;33m\u001b[0m\u001b[0m\n",
      "\u001b[1;32mpyproj/_crs.pyx\u001b[0m in \u001b[0;36mpyproj._crs._CRS.__init__\u001b[1;34m()\u001b[0m\n",
      "\u001b[1;31mCRSError\u001b[0m: Invalid projection: EPSG:4326: (Internal Proj Error: proj_create: SQLite error on SELECT name, type, coordinate_system_auth_name, coordinate_system_code, datum_auth_name, datum_code, area_of_use_auth_name, area_of_use_code, text_definition, deprecated FROM geodetic_crs WHERE auth_name = ? AND code = ?: no such column: area_of_use_auth_name)"
     ]
    }
   ],
   "source": [
    "from pyproj import CRS\n",
    "\n",
    "crs=CRS('EPSG:4326').to_proj4()\n",
    "\n",
    "# Read file from Shapefile\n",
    "fp = \"data/L2_data/Europe_borders.shp\"\n",
    "#from pyproj import Proj, transform\n",
    "\n",
    "data = gpd.read_file(fp)\n",
    "#data.set_crs(epsg = 4326, inplace = True)\n",
    "data.head()"
   ]
  },
  {
   "cell_type": "code",
   "execution_count": 7,
   "id": "8dd63af0-89cc-45fd-878b-13654124bb0f",
   "metadata": {},
   "outputs": [
    {
     "ename": "NameError",
     "evalue": "name 'data' is not defined",
     "output_type": "error",
     "traceback": [
      "\u001b[1;31m---------------------------------------------------------------------------\u001b[0m",
      "\u001b[1;31mNameError\u001b[0m                                 Traceback (most recent call last)",
      "\u001b[1;32mC:\\Users\\GILRAM~1\\AppData\\Local\\Temp/ipykernel_3704/4276018392.py\u001b[0m in \u001b[0;36m<module>\u001b[1;34m\u001b[0m\n\u001b[0;32m      1\u001b[0m \u001b[1;31m# Write to Shapefile (just make a copy)\u001b[0m\u001b[1;33m\u001b[0m\u001b[1;33m\u001b[0m\u001b[0m\n\u001b[0;32m      2\u001b[0m \u001b[0moutfp\u001b[0m \u001b[1;33m=\u001b[0m \u001b[1;34m\"data/Europe_borders_copy.shp\"\u001b[0m\u001b[1;33m\u001b[0m\u001b[1;33m\u001b[0m\u001b[0m\n\u001b[1;32m----> 3\u001b[1;33m \u001b[0mdata\u001b[0m\u001b[1;33m.\u001b[0m\u001b[0mto_file\u001b[0m\u001b[1;33m(\u001b[0m\u001b[0moutfp\u001b[0m\u001b[1;33m)\u001b[0m\u001b[1;33m\u001b[0m\u001b[1;33m\u001b[0m\u001b[0m\n\u001b[0m",
      "\u001b[1;31mNameError\u001b[0m: name 'data' is not defined"
     ]
    }
   ],
   "source": [
    "# Write to Shapefile (just make a copy)\n",
    "outfp = \"data/Europe_borders_copy.shp\"\n",
    "data.to_file(outfp)"
   ]
  },
  {
   "cell_type": "markdown",
   "id": "7f7884eb-6fa2-4192-90ed-fc0806a88061",
   "metadata": {},
   "source": [
    "## Reading and writing GeoDatabase"
   ]
  },
  {
   "cell_type": "code",
   "execution_count": null,
   "id": "28ae8557-4f71-49f0-989d-5def6ce30b63",
   "metadata": {},
   "outputs": [],
   "source": [
    "# Read file from File Geodatabase\n",
    "fp = \"data/L2_data/Finland.gdb\"\n",
    "data = gpd.read_file(fp, driver = \"FileGDB\", layer = 'country')\n",
    "\n",
    "# Write to same FileGDB (just add a new layer)\n",
    "outfp = \"L2_data/Finland.gdb\"\n",
    "data.to_file(outfp, driver = \"FileGDB\", layer = \"country_copy\")"
   ]
  },
  {
   "cell_type": "markdown",
   "id": "59dbab9f-b06e-4ef9-992d-9eb8344a3b7a",
   "metadata": {},
   "source": [
    "## Reading and writing MapInfo Tab"
   ]
  },
  {
   "cell_type": "code",
   "execution_count": null,
   "id": "a7388f27-6685-4446-ad61-2e253f9357c5",
   "metadata": {},
   "outputs": [],
   "source": [
    "# Read file from MapInfo Tab\n",
    "fp = \"L2_data/Finland.tab\"\n",
    "data = gpd.read_file(fp, driver = \"MapInfo File\")\n",
    "\n",
    "# Write to same FileGDB (just add a new layer)\n",
    "outfp = \"L2_data/Finland_copy.tab\"\n",
    "data.to_file(outfp, driver = \"MapInfo File\")"
   ]
  },
  {
   "cell_type": "markdown",
   "id": "6b94296c-293c-4075-97c9-0b0d5c697286",
   "metadata": {},
   "source": [
    "## Reading PostGIS database using psycopg2"
   ]
  },
  {
   "cell_type": "code",
   "execution_count": null,
   "id": "f0c6b740-9f45-483b-8f41-7fe1f10cbd82",
   "metadata": {},
   "outputs": [],
   "source": [
    "# Create connection to database with psycopg2 module (update params according your db)\n",
    "conn, cursor = psycopg2.connect(dbname = 'my_postgis_database', user = 'my_username', password = 'my_pwd',\n",
    "                                host = '123.22.432.16', port = 5432)\n",
    "\n",
    "# Specify sql query\n",
    "sql = \"SELECT * FROM MY_TABLE;\"\n",
    "\n",
    "# Read data from PostGIS\n",
    "data = gpd.read_postgis(sql = sql, con = conn)"
   ]
  },
  {
   "cell_type": "markdown",
   "id": "1bda60ee-a20c-477d-a62d-386e37051e7c",
   "metadata": {},
   "source": [
    "## Reading and writing PostGIS database using SqlAlchemy + GeoAlchemy"
   ]
  },
  {
   "cell_type": "code",
   "execution_count": null,
   "id": "1e56e43b-291a-49b8-b60c-1ab71a7afb9b",
   "metadata": {},
   "outputs": [],
   "source": [
    "# Update with your db parameters\n",
    "HOST = '123.234.345.16'\n",
    "DB = 'my_database'\n",
    "USER = 'my_user'\n",
    "PORT = 5432\n",
    "PWD = 'my_password'\n",
    "\n",
    "# Database info\n",
    "db_url = URL(drivername = 'postgresql+psycopg2', host = HOST, database = DB,\n",
    "                   username = USER, port = PORT, password = PWD)\n",
    "\n",
    "# Create engine\n",
    "engine = create_engine(db_url)\n",
    "\n",
    "# Init Metadata\n",
    "meta = MetaData()\n",
    "\n",
    "# Load table definitions from db\n",
    "meta.reflect(engine)\n",
    "\n",
    "# Create session\n",
    "Session = sessionmaker(bind = engine)\n",
    "session = Session()\n",
    "\n",
    "# ========================\n",
    "# Read data from PostGIS\n",
    "# ========================\n",
    "\n",
    "# Specify sql query\n",
    "sql = \"SELECT * FROM finland;\"\n",
    "\n",
    "# Pull the data\n",
    "data = gpd.read_postgis(sql = sql, con = engine)\n",
    "\n",
    "# Close session\n",
    "session.close()\n",
    "\n",
    "# =========================================\n",
    "# Write data to PostGIS (make a copy table)\n",
    "# =========================================\n",
    "\n",
    "# Coordinate Reference System (srid)\n",
    "crs = 4326\n",
    "\n",
    "# Target table\n",
    "target_table = 'finland_copy'\n",
    "\n",
    "# Convert Shapely geometries to WKTElements into column 'geom' (default in PostGIS)\n",
    "data['geom'] = data['geometry'].apply(lambda row: WKTElement(row.wkt, srid=crs))\n",
    "\n",
    "# Drop Shapely geometries\n",
    "data = data.drop('geometry', axis = b1)\n",
    "\n",
    "# Write to PostGIS (overwrite if table exists, be careful with this! )\n",
    "# Possible behavior: 'replace', 'append', 'fail'\n",
    "\n",
    "data.to_sql(target_table, engine, if_exists = 'replace', index = False)"
   ]
  },
  {
   "cell_type": "markdown",
   "id": "5f9ceff6-ca05-4067-bc8f-f8f77addba5b",
   "metadata": {},
   "source": [
    "## Reading and writing Spatialite database"
   ]
  },
  {
   "cell_type": "code",
   "execution_count": null,
   "id": "c0be3efe-0a44-49b9-bd8e-bad3c0226056",
   "metadata": {},
   "outputs": [],
   "source": [
    "# DB path\n",
    "dbfp = 'L2_data/Finland.sqlite'\n",
    "\n",
    "# Name for the table\n",
    "tbl_name = 'finland'\n",
    "\n",
    "# SRID (crs of your data)\n",
    "srid = 4326\n",
    "\n",
    "# Parse Geometry type of the input Data\n",
    "gtype = data.geom_type.unique()\n",
    "assert len(gtype) == 1, \"Mixed Geometries! Cannot insert into SQLite table.\"\n",
    "geom_type = gtype[0].upper()\n",
    "\n",
    "# Initialize database engine\n",
    "engine = create_engine('sqlite:///{db}'.format(db = dbfp), module=sqlite)\n",
    "\n",
    "# Initialize table without geometries\n",
    "geo = data.drop(['geometry'], axis = 1)\n",
    "\n",
    "with sqlite3.connect(dbfp) as conn:\n",
    "    geo.to_sql(tbl_name, conn, if_exists = 'replace', index = False)\n",
    "\n",
    "# Enable spatialite extension\n",
    "with sqlite3.connect(dbfp) as conn:\n",
    "    conn.enable_load_extension(True)\n",
    "    conn.load_extension(\"mod_spatialite\")\n",
    "    conn.execute(\"SELECT InitSpatialMetaData(1);\")\n",
    "    # Add geometry column with specified CRS with defined geometry typehaving two dimensions\n",
    "    conn.execute(\n",
    "        \"SELECT AddGeometryColumn({table}, 'wkb_geometry',\\\n",
    "        {srid}, {geom_type}, 2);\".format(table = tbl_name, srid = srid, geom_type = geom_type)\n",
    "    )\n",
    "\n",
    "# Convert Shapely geometries into well-known-binary format\n",
    "data['geometry'] = data['geometry'].apply(lambda geom: swkb.dumps(geom))\n",
    "\n",
    "# Push to database (overwrite if table exists)\n",
    "data.to_sql(tbl_name, engine, if_exists = 'replace', index = False)"
   ]
  },
  {
   "cell_type": "markdown",
   "id": "7f3a2417-8fb2-45de-9da0-4924db4800d5",
   "metadata": {},
   "source": [
    "## Read Web Feature Service (WFS)"
   ]
  },
  {
   "cell_type": "code",
   "execution_count": 35,
   "id": "9b1b8834-4f64-47d5-b27f-f70ff64b0024",
   "metadata": {},
   "outputs": [
    {
     "data": {
      "text/html": [
       "<div>\n",
       "<style scoped>\n",
       "    .dataframe tbody tr th:only-of-type {\n",
       "        vertical-align: middle;\n",
       "    }\n",
       "\n",
       "    .dataframe tbody tr th {\n",
       "        vertical-align: top;\n",
       "    }\n",
       "\n",
       "    .dataframe thead th {\n",
       "        text-align: right;\n",
       "    }\n",
       "</style>\n",
       "<table border=\"1\" class=\"dataframe\">\n",
       "  <thead>\n",
       "    <tr style=\"text-align: right;\">\n",
       "      <th></th>\n",
       "      <th>geometry</th>\n",
       "      <th>objectid</th>\n",
       "      <th>kunta</th>\n",
       "      <th>grd_id</th>\n",
       "      <th>id_nro</th>\n",
       "      <th>xkoord</th>\n",
       "      <th>ykoord</th>\n",
       "      <th>vaesto</th>\n",
       "      <th>miehet</th>\n",
       "      <th>naiset</th>\n",
       "      <th>ika_0_14</th>\n",
       "      <th>ika_15_64</th>\n",
       "      <th>ika_65_</th>\n",
       "      <th>bbox</th>\n",
       "    </tr>\n",
       "  </thead>\n",
       "  <tbody>\n",
       "    <tr>\n",
       "      <th>0</th>\n",
       "      <td>POLYGON ((85000.000 6690000.000, 85000.000 669...</td>\n",
       "      <td>74</td>\n",
       "      <td>043</td>\n",
       "      <td>5kmN1338E0017</td>\n",
       "      <td>2436</td>\n",
       "      <td>85000</td>\n",
       "      <td>6690000</td>\n",
       "      <td>58</td>\n",
       "      <td>25</td>\n",
       "      <td>33</td>\n",
       "      <td>7</td>\n",
       "      <td>39</td>\n",
       "      <td>12</td>\n",
       "      <td>[85000, 6690000, 90000, 6695000]</td>\n",
       "    </tr>\n",
       "    <tr>\n",
       "      <th>1</th>\n",
       "      <td>POLYGON ((85000.000 6695000.000, 85000.000 670...</td>\n",
       "      <td>75</td>\n",
       "      <td>043</td>\n",
       "      <td>5kmN1339E0017</td>\n",
       "      <td>2571</td>\n",
       "      <td>85000</td>\n",
       "      <td>6695000</td>\n",
       "      <td>450</td>\n",
       "      <td>231</td>\n",
       "      <td>219</td>\n",
       "      <td>66</td>\n",
       "      <td>266</td>\n",
       "      <td>118</td>\n",
       "      <td>[85000, 6695000, 90000, 6700000]</td>\n",
       "    </tr>\n",
       "    <tr>\n",
       "      <th>2</th>\n",
       "      <td>POLYGON ((85000.000 6700000.000, 85000.000 670...</td>\n",
       "      <td>76</td>\n",
       "      <td>043</td>\n",
       "      <td>5kmN1340E0017</td>\n",
       "      <td>2706</td>\n",
       "      <td>85000</td>\n",
       "      <td>6700000</td>\n",
       "      <td>80</td>\n",
       "      <td>44</td>\n",
       "      <td>36</td>\n",
       "      <td>7</td>\n",
       "      <td>56</td>\n",
       "      <td>17</td>\n",
       "      <td>[85000, 6700000, 90000, 6705000]</td>\n",
       "    </tr>\n",
       "    <tr>\n",
       "      <th>3</th>\n",
       "      <td>POLYGON ((90000.000 6690000.000, 90000.000 669...</td>\n",
       "      <td>97</td>\n",
       "      <td>043</td>\n",
       "      <td>5kmN1338E0018</td>\n",
       "      <td>2437</td>\n",
       "      <td>90000</td>\n",
       "      <td>6690000</td>\n",
       "      <td>36</td>\n",
       "      <td>19</td>\n",
       "      <td>17</td>\n",
       "      <td>3</td>\n",
       "      <td>19</td>\n",
       "      <td>14</td>\n",
       "      <td>[90000, 6690000, 95000, 6695000]</td>\n",
       "    </tr>\n",
       "    <tr>\n",
       "      <th>4</th>\n",
       "      <td>POLYGON ((90000.000 6695000.000, 90000.000 670...</td>\n",
       "      <td>98</td>\n",
       "      <td>043</td>\n",
       "      <td>5kmN1339E0018</td>\n",
       "      <td>2572</td>\n",
       "      <td>90000</td>\n",
       "      <td>6695000</td>\n",
       "      <td>275</td>\n",
       "      <td>139</td>\n",
       "      <td>136</td>\n",
       "      <td>47</td>\n",
       "      <td>160</td>\n",
       "      <td>68</td>\n",
       "      <td>[90000, 6695000, 95000, 6700000]</td>\n",
       "    </tr>\n",
       "  </tbody>\n",
       "</table>\n",
       "</div>"
      ],
      "text/plain": [
       "                                            geometry  objectid kunta  \\\n",
       "0  POLYGON ((85000.000 6690000.000, 85000.000 669...        74   043   \n",
       "1  POLYGON ((85000.000 6695000.000, 85000.000 670...        75   043   \n",
       "2  POLYGON ((85000.000 6700000.000, 85000.000 670...        76   043   \n",
       "3  POLYGON ((90000.000 6690000.000, 90000.000 669...        97   043   \n",
       "4  POLYGON ((90000.000 6695000.000, 90000.000 670...        98   043   \n",
       "\n",
       "          grd_id  id_nro  xkoord   ykoord  vaesto  miehet  naiset  ika_0_14  \\\n",
       "0  5kmN1338E0017    2436   85000  6690000      58      25      33         7   \n",
       "1  5kmN1339E0017    2571   85000  6695000     450     231     219        66   \n",
       "2  5kmN1340E0017    2706   85000  6700000      80      44      36         7   \n",
       "3  5kmN1338E0018    2437   90000  6690000      36      19      17         3   \n",
       "4  5kmN1339E0018    2572   90000  6695000     275     139     136        47   \n",
       "\n",
       "   ika_15_64  ika_65_                              bbox  \n",
       "0         39       12  [85000, 6690000, 90000, 6695000]  \n",
       "1        266      118  [85000, 6695000, 90000, 6700000]  \n",
       "2         56       17  [85000, 6700000, 90000, 6705000]  \n",
       "3         19       14  [90000, 6690000, 95000, 6695000]  \n",
       "4        160       68  [90000, 6695000, 95000, 6700000]  "
      ]
     },
     "execution_count": 35,
     "metadata": {},
     "output_type": "execute_result"
    }
   ],
   "source": [
    "# Specify the url for the backend. Here we are using data from Statistics Finland: https://www.stat.fi/org/avoindata/paikkatietoaineistot_en.html\n",
    "url = 'http://geo.stat.fi/geoserver/vaestoruutu/wfs'\n",
    "\n",
    "# Specify parameters (read data in json format).\n",
    "# Available feature types in this particular data source: http://geo.stat.fi/geoserver/vaestoruutu/wfs?service=wfs&version=2.0.0&request=describeFeatureType\n",
    "params = dict(service = 'WFS', version = '2.0.0', request = 'GetFeature',\n",
    "         typeName = 'vaestoruutu:vaki2017_5km', outputFormat = 'json')\n",
    "\n",
    "# Fetch data from WFS using requests\n",
    "r = requests.get(url, params = params)\n",
    "\n",
    "# Create GeoDataFrame from geojson\n",
    "data = gpd.GeoDataFrame.from_features(geojson.loads(r.content))\n",
    "data.head()"
   ]
  },
  {
   "cell_type": "code",
   "execution_count": null,
   "id": "e5d90cfc-4e5e-4a2a-a779-f3bf08f37889",
   "metadata": {},
   "outputs": [],
   "source": []
  }
 ],
 "metadata": {
  "kernelspec": {
   "display_name": "Python 3 (ipykernel)",
   "language": "python",
   "name": "python3"
  },
  "language_info": {
   "codemirror_mode": {
    "name": "ipython",
    "version": 3
   },
   "file_extension": ".py",
   "mimetype": "text/x-python",
   "name": "python",
   "nbconvert_exporter": "python",
   "pygments_lexer": "ipython3",
   "version": "3.9.7"
  }
 },
 "nbformat": 4,
 "nbformat_minor": 5
}
