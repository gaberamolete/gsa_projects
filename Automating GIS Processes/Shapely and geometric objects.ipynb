{
 "cells": [
  {
   "cell_type": "code",
   "execution_count": 9,
   "id": "107f6dd7-e2a8-4378-b130-646a705036b6",
   "metadata": {
    "tags": []
   },
   "outputs": [
    {
     "name": "stdout",
     "output_type": "stream",
     "text": [
      "Collecting folium\n",
      "  Downloading folium-0.12.1.post1-py2.py3-none-any.whl (95 kB)\n",
      "Requirement already satisfied: jinja2>=2.9 in c:\\users\\gilramolete\\anaconda3\\lib\\site-packages (from folium) (3.0.3)\n",
      "Requirement already satisfied: requests in c:\\users\\gilramolete\\anaconda3\\lib\\site-packages (from folium) (2.27.1)\n",
      "Collecting branca>=0.3.0\n",
      "  Downloading branca-0.5.0-py3-none-any.whl (24 kB)\n",
      "Requirement already satisfied: numpy in c:\\users\\gilramolete\\anaconda3\\lib\\site-packages (from folium) (1.22.4)\n",
      "Requirement already satisfied: MarkupSafe>=2.0 in c:\\users\\gilramolete\\anaconda3\\lib\\site-packages (from jinja2>=2.9->folium) (2.0.1)\n",
      "Requirement already satisfied: charset-normalizer~=2.0.0 in c:\\users\\gilramolete\\anaconda3\\lib\\site-packages (from requests->folium) (2.0.4)\n",
      "Requirement already satisfied: idna<4,>=2.5 in c:\\users\\gilramolete\\anaconda3\\lib\\site-packages (from requests->folium) (3.2)\n",
      "Requirement already satisfied: urllib3<1.27,>=1.21.1 in c:\\users\\gilramolete\\anaconda3\\lib\\site-packages (from requests->folium) (1.26.7)\n",
      "Requirement already satisfied: certifi>=2017.4.17 in c:\\users\\gilramolete\\anaconda3\\lib\\site-packages (from requests->folium) (2022.5.18.1)\n",
      "Installing collected packages: branca, folium\n",
      "Successfully installed branca-0.5.0 folium-0.12.1.post1\n"
     ]
    }
   ],
   "source": [
    "import geopandas as gpd\n",
    "import pysal\n",
    "import cartopy\n",
    "#!pip3 install geoplot\n",
    "import geoplot\n",
    "#!pip3 install osmnx\n",
    "#import osmnx -- not working\n",
    "#!pip3 install folium\n",
    "import folium\n",
    "import dash\n",
    "import rasterio\n",
    "import contextily\n",
    "\n",
    "import pandas as pd\n",
    "import seaborn as sns\n",
    "import matplotlib.pyplot as plt\n",
    "import numpy as np"
   ]
  },
  {
   "cell_type": "markdown",
   "id": "f49b355a-c0bc-45bd-b8a0-90805a706ef0",
   "metadata": {},
   "source": [
    "# Shapely and geometric objects"
   ]
  },
  {
   "cell_type": "markdown",
   "id": "4b7d3a2e-e033-4f26-a473-08068b985190",
   "metadata": {},
   "source": [
    "## Spatial data model"
   ]
  },
  {
   "attachments": {
    "2be821cf-441d-4987-8e0a-b6165473a58a.png": {
     "image/png": "[encoded data removed]"
    }
   },
   "cell_type": "markdown",
   "id": "d1dc0ebb-3957-49b6-8cef-ca50fc3b85cd",
   "metadata": {},
   "source": [
    "![image.png](attachment:2be821cf-441d-4987-8e0a-b6165473a58a.png)\n",
    "\n",
    "The most fundamental geometric objects are `Points`, `Lines` and `Polygons` which are the basic ingredients when working with spatial data in vector format. Python has a specific module called Shapely for doing various geometric operations. There are many useful functionalities that you can do with Shapely such as:\n",
    "- Create a `Line` or `Polygon` from a `Collection` of `Point`-geometries\n",
    "- Calculate areas/length/bounds etc. of input geometries\n",
    "- Conduct geometric operations based on the input geometries such as `Union`, `Difference`, `Distance` etc.\n",
    "- Conduct spatial queries between geometries such as `Intersects`, `Touches`, `Crosses`, `Within` etc.\n",
    "\n",
    "Geometric Objects consist of coordinate tuples where:\n",
    "- `Point` - object represents a single point in space. Points can be either two-dimensional (x, y) or three dimensional (x, y, z).\n",
    "- `LineString` - object (i.e. a line) represents a sequence of points joined together to form a line. Hence, a line consist of a list of at least two coordinate tuples\n",
    "- `Polygon` - object represents a filled area that consists of a list of at least three coordinate tuples that forms the outerior ring and a (possible) list of hole polygons.\n",
    "\n",
    "It is also possible to have a collection of geometric objects (e.g. Polygons with multiple parts):\n",
    "- `MultiPoint` - object represents a collection of points and consists of a list of coordinate-tuples\n",
    "- `MultiLineString` - object represents a collection of lines and consists of a list of line-like sequences\n",
    "- `MultiPolygon` - object represents a collection of polygons that consists of a list of polygon-like sequences that construct from exterior ring and (possible) hole list tuples\n",
    "\n",
    "Tuples belong to sequence data types in Python. Other sequence data types are lists and ranges. Tuples have many similarities with lists and ranges, but they are often used for different purposes. The main difference between tuples and lists is that tuples are immutable, which means that the contents of a tuple cannot be altered (while lists are mutable; you can, for example, add and remove values from lists)."
   ]
  },
  {
   "cell_type": "markdown",
   "id": "a2031faa-f099-4ee5-bd6d-779e3f74ecce",
   "metadata": {},
   "source": [
    "## Point\n",
    "Creating points are easy, simply by passing x- and y-coordinates into `Point()`-object (also possible z-coordinates):"
   ]
  },
  {
   "cell_type": "code",
   "execution_count": 10,
   "id": "97077374-47d6-4bac-a95f-c0cf11e9bca0",
   "metadata": {},
   "outputs": [],
   "source": [
    "from shapely.geometry import Point, LineString, Polygon\n",
    "\n",
    "# Create Point geometric object(s) with coordinates\n",
    "point1 = Point(2.2, 4.2)\n",
    "point2 = Point(7.2, -25.1)\n",
    "point3 = Point(9.26, -2.456)\n",
    "point3D = Point(9.26, -2.456, 0.57)"
   ]
  },
  {
   "cell_type": "markdown",
   "id": "5bee85b8-ee29-42ed-99a6-c5bce2e3532f",
   "metadata": {},
   "source": [
    "Let's see what the variables look like:"
   ]
  },
  {
   "cell_type": "code",
   "execution_count": 11,
   "id": "cf459e0e-a85d-4458-99c2-35d01dd5a47a",
   "metadata": {},
   "outputs": [
    {
     "data": {
      "image/svg+xml": [
       "<svg xmlns=\"http://www.w3.org/2000/svg\" xmlns:xlink=\"http://www.w3.org/1999/xlink\" width=\"100.0\" height=\"100.0\" viewBox=\"1.2000000000000002 3.2 2.0 2.0\" preserveAspectRatio=\"xMinYMin meet\"><g transform=\"matrix(1,0,0,-1,0,8.4)\"><circle cx=\"2.2\" cy=\"4.2\" r=\"0.06\" stroke=\"#555555\" stroke-width=\"0.02\" fill=\"#66cc99\" opacity=\"0.6\" /></g></svg>"
      ],
      "text/plain": [
       "<shapely.geometry.point.Point at 0x25892777f40>"
      ]
     },
     "execution_count": 11,
     "metadata": {},
     "output_type": "execute_result"
    }
   ],
   "source": [
    "point1"
   ]
  },
  {
   "cell_type": "code",
   "execution_count": 12,
   "id": "74c7d6d5-054f-45fd-90f8-8c44c772adc2",
   "metadata": {},
   "outputs": [
    {
     "data": {
      "image/svg+xml": [
       "<svg xmlns=\"http://www.w3.org/2000/svg\" xmlns:xlink=\"http://www.w3.org/1999/xlink\" width=\"100.0\" height=\"100.0\" viewBox=\"6.2 -26.1 1.9999999999999991 2.0\" preserveAspectRatio=\"xMinYMin meet\"><g transform=\"matrix(1,0,0,-1,0,-50.2)\"><circle cx=\"7.2\" cy=\"-25.1\" r=\"0.06\" stroke=\"#555555\" stroke-width=\"0.02\" fill=\"#66cc99\" opacity=\"0.6\" /></g></svg>"
      ],
      "text/plain": [
       "<shapely.geometry.point.Point at 0x25892777ee0>"
      ]
     },
     "execution_count": 12,
     "metadata": {},
     "output_type": "execute_result"
    }
   ],
   "source": [
    "point2"
   ]
  },
  {
   "cell_type": "code",
   "execution_count": 13,
   "id": "3cfa1569-d53a-49f3-b97d-9559e6a2b8d5",
   "metadata": {},
   "outputs": [
    {
     "data": {
      "image/svg+xml": [
       "<svg xmlns=\"http://www.w3.org/2000/svg\" xmlns:xlink=\"http://www.w3.org/1999/xlink\" width=\"100.0\" height=\"100.0\" viewBox=\"8.26 -3.456 2.0 2.0\" preserveAspectRatio=\"xMinYMin meet\"><g transform=\"matrix(1,0,0,-1,0,-4.912)\"><circle cx=\"9.26\" cy=\"-2.456\" r=\"0.06\" stroke=\"#555555\" stroke-width=\"0.02\" fill=\"#66cc99\" opacity=\"0.6\" /></g></svg>"
      ],
      "text/plain": [
       "<shapely.geometry.point.Point at 0x25892927fd0>"
      ]
     },
     "execution_count": 13,
     "metadata": {},
     "output_type": "execute_result"
    }
   ],
   "source": [
    "point3D"
   ]
  },
  {
   "cell_type": "markdown",
   "id": "24fd2c51-315e-47b9-accd-af246662c0b8",
   "metadata": {},
   "source": [
    "We can also print out the points to see the actual definition:"
   ]
  },
  {
   "cell_type": "code",
   "execution_count": 14,
   "id": "26ae1aca-cee7-4999-8e18-428501808fee",
   "metadata": {},
   "outputs": [
    {
     "name": "stdout",
     "output_type": "stream",
     "text": [
      "POINT (2.2 4.2)\n",
      "POINT Z (9.26 -2.456 0.57)\n"
     ]
    }
   ],
   "source": [
    "print(point1)\n",
    "print(point3D)"
   ]
  },
  {
   "cell_type": "code",
   "execution_count": 15,
   "id": "e0284829-8e72-442f-beed-72855b165f43",
   "metadata": {},
   "outputs": [
    {
     "data": {
      "text/plain": [
       "shapely.geometry.point.Point"
      ]
     },
     "execution_count": 15,
     "metadata": {},
     "output_type": "execute_result"
    }
   ],
   "source": [
    "type(point1)"
   ]
  },
  {
   "cell_type": "markdown",
   "id": "ed5efc51-c00d-4b9c-a9a6-aa18949599bb",
   "metadata": {},
   "source": [
    "## Point Attributes and functions"
   ]
  },
  {
   "cell_type": "markdown",
   "id": "49c68c54-da76-468b-ba60-eb23a375ba9c",
   "metadata": {},
   "source": [
    "Points and other shapely objects have useful built-in attributes and methods. One of the most useful ones are the ability to extract the coordinates of a Point and calculate the Euclidian distance between points.\n",
    "\n",
    "Extracting the coordinates of a Point can be done in a couple of different ways:"
   ]
  },
  {
   "cell_type": "code",
   "execution_count": 16,
   "id": "37d86b2f-bc51-47de-a605-f49e139989b4",
   "metadata": {},
   "outputs": [
    {
     "data": {
      "text/plain": [
       "<shapely.coords.CoordinateSequence at 0x25892927100>"
      ]
     },
     "execution_count": 16,
     "metadata": {},
     "output_type": "execute_result"
    }
   ],
   "source": [
    "# Get the coordinates\n",
    "point_coords = point1.coords\n",
    "point_coords"
   ]
  },
  {
   "cell_type": "code",
   "execution_count": 17,
   "id": "9eab2067-fc25-41d3-8a6e-57cb20afafcb",
   "metadata": {},
   "outputs": [
    {
     "data": {
      "text/plain": [
       "shapely.coords.CoordinateSequence"
      ]
     },
     "execution_count": 17,
     "metadata": {},
     "output_type": "execute_result"
    }
   ],
   "source": [
    "type(point_coords)"
   ]
  },
  {
   "cell_type": "markdown",
   "id": "4025cf3d-5de3-4692-a5f3-1a28dba3f69c",
   "metadata": {},
   "source": [
    "As we can see, the data type of our `point_coords` variable is a Shapely CoordinateSequence.\n",
    "\n",
    "Let’s see how we can get out the actual coordinates from this object:"
   ]
  },
  {
   "cell_type": "code",
   "execution_count": 18,
   "id": "ff1b4f92-053b-494d-88ec-874d0a48f42c",
   "metadata": {},
   "outputs": [
    {
     "name": "stdout",
     "output_type": "stream",
     "text": [
      "xy:  (array('d', [2.2]), array('d', [4.2]))\n",
      "x:  2.2\n",
      "y:  4.2\n"
     ]
    }
   ],
   "source": [
    "# Get x and y coordinates\n",
    "xy = point_coords.xy\n",
    "\n",
    "x = point1.x\n",
    "y = point1.y\n",
    "\n",
    "print('xy: ', xy)\n",
    "print('x: ', x)\n",
    "print('y: ', y)"
   ]
  },
  {
   "cell_type": "markdown",
   "id": "ccd1d855-454e-4353-888d-160e4d04b3b8",
   "metadata": {},
   "source": [
    "As we can see from above the `xy`-variable contains a tuple where x and y coordinates are stored inside numpy arrays. Using the attributes `point1.x` and `point1.y` it is possible to get the coordinates directly as plain decimal numbers.\n",
    "\n",
    "It is also possible to calculate the distance between two objects using shapely. The returned distance is based on the projection of the points (e.g. degrees in WGS84, meters in UTM).\n",
    "\n",
    "Let’s calculate the distance between `point1` and `point2`:"
   ]
  },
  {
   "cell_type": "code",
   "execution_count": 19,
   "id": "c04231e1-0af5-4e0c-bc98-614eec066683",
   "metadata": {},
   "outputs": [
    {
     "name": "stdout",
     "output_type": "stream",
     "text": [
      "Distance between the points is 29.72 decimal degrees.\n"
     ]
    }
   ],
   "source": [
    "# Calculate the distance between point1 and point2\n",
    "point_dist = point1.distance(point2)\n",
    "print(\"Distance between the points is {0:.2f} decimal degrees.\".format(point_dist))"
   ]
  },
  {
   "cell_type": "markdown",
   "id": "647e2ebe-8976-4054-a28c-ae7de876f059",
   "metadata": {},
   "source": [
    "## LineString"
   ]
  },
  {
   "cell_type": "markdown",
   "id": "41663735-74c3-43eb-94e9-d14982031d12",
   "metadata": {},
   "source": [
    "Creating LineString -objects is fairly similar to creating Shapely Points.\n",
    "\n",
    "Now instead using a single coordinate-tuple we can construct the line using either a list of shapely Point -objects or pass the points as coordinate-tuples:"
   ]
  },
  {
   "cell_type": "code",
   "execution_count": 20,
   "id": "87235e11-5e0c-41a8-b9da-98bb75e1fbca",
   "metadata": {},
   "outputs": [
    {
     "data": {
      "image/svg+xml": [
       "<svg xmlns=\"http://www.w3.org/2000/svg\" xmlns:xlink=\"http://www.w3.org/1999/xlink\" width=\"100.0\" height=\"100.0\" viewBox=\"1.028 -26.272000000000002 9.404 31.644000000000002\" preserveAspectRatio=\"xMinYMin meet\"><g transform=\"matrix(1,0,0,-1,0,-20.900000000000002)\"><polyline fill=\"none\" stroke=\"#66cc99\" stroke-width=\"0.63288\" points=\"2.2,4.2 7.2,-25.1 9.26,-2.456\" opacity=\"0.8\" /></g></svg>"
      ],
      "text/plain": [
       "<shapely.geometry.linestring.LineString at 0x25892927df0>"
      ]
     },
     "execution_count": 20,
     "metadata": {},
     "output_type": "execute_result"
    }
   ],
   "source": [
    "# Create a LineString from our point objects\n",
    "line = LineString([point1, point2, point3])\n",
    "\n",
    "# also possible to produce the same outcome using coordinate tuples\n",
    "line2 = LineString([(2.2, 4.2), (7.2, -25.1), (9.26, -2.456)])\n",
    "\n",
    "line"
   ]
  },
  {
   "cell_type": "code",
   "execution_count": 21,
   "id": "0e26f4a3-1a67-4590-9f51-02ee438a4e14",
   "metadata": {},
   "outputs": [
    {
     "name": "stdout",
     "output_type": "stream",
     "text": [
      "line: \n",
      " LINESTRING (2.2 4.2, 7.2 -25.1, 9.26 -2.456) \n",
      "\n",
      "line2: \n",
      " LINESTRING (2.2 4.2, 7.2 -25.1, 9.26 -2.456) \n",
      "\n"
     ]
    }
   ],
   "source": [
    "print(\"line: \\n\", line, \"\\n\")\n",
    "print(\"line2: \\n\", line2, \"\\n\")"
   ]
  },
  {
   "cell_type": "code",
   "execution_count": 22,
   "id": "a7096ce5-3539-418d-ab0c-10a3800b346b",
   "metadata": {},
   "outputs": [
    {
     "name": "stdout",
     "output_type": "stream",
     "text": [
      "Object data type: <class 'shapely.geometry.linestring.LineString'>\n",
      "Geometry type as text: LineString\n"
     ]
    }
   ],
   "source": [
    "print(\"Object data type:\", type(line))\n",
    "print(\"Geometry type as text:\", line.geom_type)"
   ]
  },
  {
   "cell_type": "markdown",
   "id": "ad1f8f81-e982-4fd8-9c7f-20f729f6e465",
   "metadata": {},
   "source": [
    "## LineString attributes and functions"
   ]
  },
  {
   "cell_type": "markdown",
   "id": "c3fb48bb-6b00-4ddd-a7b5-cecfb2465d3f",
   "metadata": {},
   "source": [
    "`LineString`-object has many useful built-in attributes and functionalities. It is for instance possible to extract the coordinates or the length of a LineString (line), calculate the centroid of the line, create points along the line at specific distance, calculate the closest distance from a line to specified Point and simplify the geometry. See full list of functionalities from Shapely documentation. Here, we go through a few of them.\n",
    "\n",
    "We can extract the coordinates of a LineString similarly as with `Point`."
   ]
  },
  {
   "cell_type": "code",
   "execution_count": 23,
   "id": "de869717-cad8-43d9-ac6c-14ebc602de5c",
   "metadata": {},
   "outputs": [
    {
     "data": {
      "text/plain": [
       "(array('d', [2.2, 7.2, 9.26]), array('d', [4.2, -25.1, -2.456]))"
      ]
     },
     "execution_count": 23,
     "metadata": {},
     "output_type": "execute_result"
    }
   ],
   "source": [
    "# Get x and y coordinates of the line\n",
    "lxy = line.xy\n",
    "lxy"
   ]
  },
  {
   "cell_type": "markdown",
   "id": "aff5e2af-cd89-42f8-a665-f16a0581194c",
   "metadata": {},
   "source": [
    "As we can see, the coordinates are again stored as a numpy arrays where first array includes all x-coordinates and the second one all the y-coordinates respectively.\n",
    "\n",
    "We can extract only x or y coordinates by referring to those arrays using indices (same way you would access values in a list):"
   ]
  },
  {
   "cell_type": "code",
   "execution_count": 24,
   "id": "69836ee2-4e50-4175-a4de-ac08f7c51ae2",
   "metadata": {},
   "outputs": [
    {
     "name": "stdout",
     "output_type": "stream",
     "text": [
      "line x:\n",
      " array('d', [2.2, 7.2, 9.26]) \n",
      "\n",
      "line y:\n",
      " array('d', [4.2, -25.1, -2.456])\n"
     ]
    }
   ],
   "source": [
    "# Extract x coordinates\n",
    "line_xcoords = lxy[0]\n",
    "\n",
    "# Extract y coordinates straight from the LineObject by referring to an array at index 1\n",
    "line_ycoords = line.xy[1]\n",
    "\n",
    "print('line x:\\n', line_xcoords, '\\n')\n",
    "print('line y:\\n', line_ycoords)"
   ]
  },
  {
   "cell_type": "markdown",
   "id": "1e86ea8f-b7f2-41cd-8201-2cc739deb6c1",
   "metadata": {},
   "source": [
    "It is possible to retrieve specific attributes such as lenght of the line and center of the line (centroid) straight from the LineString object itself:"
   ]
  },
  {
   "cell_type": "code",
   "execution_count": 25,
   "id": "bf4fa73f-1ba0-4866-8117-b2a633c63c3d",
   "metadata": {},
   "outputs": [
    {
     "name": "stdout",
     "output_type": "stream",
     "text": [
      "Length of our line: 52.46\n",
      "Centroid of our line:  POINT (6.229961354035622 -11.89241115757239)\n",
      "Type of the centroid: <class 'shapely.geometry.point.Point'>\n"
     ]
    }
   ],
   "source": [
    "# Get the length of the line\n",
    "l_length = line.length\n",
    "\n",
    "# Get the centroid of the line\n",
    "l_centroid = line.centroid\n",
    "\n",
    "print(\"Length of our line: {0:.2f}\".format(l_length))\n",
    "print(\"Centroid of our line: \", l_centroid)\n",
    "print(\"Type of the centroid:\", type(l_centroid))"
   ]
  },
  {
   "cell_type": "markdown",
   "id": "e6074294-2bfa-44e5-ac42-22207b74ed8b",
   "metadata": {},
   "source": [
    "## Polygon"
   ]
  },
  {
   "cell_type": "markdown",
   "id": "8a014a93-3067-4509-bf71-fb3ebe8b8fe1",
   "metadata": {},
   "source": [
    "Creating a `Polygon`-object continues the same logic of how `Point` and `LineString` were created but Polygon object only accepts a sequence of coordinates as input.\n",
    "\n",
    "Polygon needs **at least three coordinate-tuples** (that basically forms a triangle):"
   ]
  },
  {
   "cell_type": "code",
   "execution_count": 26,
   "id": "ad36f823-e02f-42b9-a222-3b78688ce08a",
   "metadata": {},
   "outputs": [
    {
     "data": {
      "image/svg+xml": [
       "<svg xmlns=\"http://www.w3.org/2000/svg\" xmlns:xlink=\"http://www.w3.org/1999/xlink\" width=\"100.0\" height=\"100.0\" viewBox=\"1.028 -26.272000000000002 9.404 31.644000000000002\" preserveAspectRatio=\"xMinYMin meet\"><g transform=\"matrix(1,0,0,-1,0,-20.900000000000002)\"><path fill-rule=\"evenodd\" fill=\"#66cc99\" stroke=\"#555555\" stroke-width=\"0.63288\" opacity=\"0.6\" d=\"M 2.2,4.2 L 7.2,-25.1 L 9.26,-2.456 L 2.2,4.2 z\" /></g></svg>"
      ],
      "text/plain": [
       "<shapely.geometry.polygon.Polygon at 0x25894027c10>"
      ]
     },
     "execution_count": 26,
     "metadata": {},
     "output_type": "execute_result"
    }
   ],
   "source": [
    "# Creatae a Polygon from the coordinates\n",
    "poly = Polygon([(2.2, 4.2), (7.2, -25.1), (9.26, -2.456)])\n",
    "\n",
    "# Also possible to produce the same outcome using a list of lists which contain the point coordinates\n",
    "poly2 = Polygon([p.x, p.y] for p in [point1, point2, point3])\n",
    "\n",
    "poly"
   ]
  },
  {
   "cell_type": "code",
   "execution_count": 27,
   "id": "53e7b804-9c85-4b37-9480-ffccac9c66af",
   "metadata": {},
   "outputs": [
    {
     "name": "stdout",
     "output_type": "stream",
     "text": [
      "poly: POLYGON ((2.2 4.2, 7.2 -25.1, 9.26 -2.456, 2.2 4.2))\n",
      "poly2: POLYGON ((2.2 4.2, 7.2 -25.1, 9.26 -2.456, 2.2 4.2))\n"
     ]
    }
   ],
   "source": [
    "print('poly:', poly)\n",
    "print('poly2:', poly2)"
   ]
  },
  {
   "cell_type": "markdown",
   "id": "60155255-944e-4d91-99c2-e1f66e51e802",
   "metadata": {},
   "source": [
    "Notice that Polygon representation has double parentheses around the coordinates (i.e. `POLYGON ((<values in here>))` ). This is because Polygon can also have holes inside of it.\n",
    "\n",
    "Check also the data type:"
   ]
  },
  {
   "cell_type": "code",
   "execution_count": 28,
   "id": "fc245651-8363-4144-9e1d-fbfd6889af89",
   "metadata": {},
   "outputs": [
    {
     "name": "stdout",
     "output_type": "stream",
     "text": [
      "Object data type: <class 'shapely.geometry.polygon.Polygon'>\n",
      "Geometry type as text: Polygon\n"
     ]
    }
   ],
   "source": [
    "print(\"Object data type:\", type(poly))\n",
    "print(\"Geometry type as text:\", poly.geom_type)\n",
    "\n",
    "# Check the help for Polygon objects:\n",
    "#help(Polygon)"
   ]
  },
  {
   "cell_type": "markdown",
   "id": "849b4647-ff81-4768-9c47-cdb033e7a7c8",
   "metadata": {},
   "source": [
    "Let’s see how we can create a `Polygon` with a hole inside; lLet’s create a bounding box of the world and make a whole in it:"
   ]
  },
  {
   "cell_type": "code",
   "execution_count": 29,
   "id": "a1dc39de-b3cb-4cad-9ec6-f41898163f77",
   "metadata": {},
   "outputs": [],
   "source": [
    "# Define the exterior\n",
    "world_exterior = [(-180, 90), (-180, -90), (180, -90), (180, 90)]\n",
    "\n",
    "# Let's create a single big hole where we leave ten decimal degrees at the boundaries of the world\n",
    "hole = [[(-170, 80), (-170, -80), (170, -80), (170, 80)]]\n",
    "# Notice that there could be multiple holes, thus we need to provide a list of holes if ever"
   ]
  },
  {
   "cell_type": "code",
   "execution_count": 30,
   "id": "1f2af0b9-131d-476e-91dc-90ff8c3bf35e",
   "metadata": {},
   "outputs": [
    {
     "data": {
      "image/svg+xml": [
       "<svg xmlns=\"http://www.w3.org/2000/svg\" xmlns:xlink=\"http://www.w3.org/1999/xlink\" width=\"300\" height=\"208.8\" viewBox=\"-194.4 -104.4 388.8 208.8\" preserveAspectRatio=\"xMinYMin meet\"><g transform=\"matrix(1,0,0,-1,0,0.0)\"><path fill-rule=\"evenodd\" fill=\"#66cc99\" stroke=\"#555555\" stroke-width=\"2.592\" opacity=\"0.6\" d=\"M -180.0,90.0 L -180.0,-90.0 L 180.0,-90.0 L 180.0,90.0 L -180.0,90.0 z\" /></g></svg>"
      ],
      "text/plain": [
       "<shapely.geometry.polygon.Polygon at 0x2589379e8e0>"
      ]
     },
     "execution_count": 30,
     "metadata": {},
     "output_type": "execute_result"
    }
   ],
   "source": [
    "# World without a hole\n",
    "world = Polygon(shell = world_exterior)\n",
    "world"
   ]
  },
  {
   "cell_type": "code",
   "execution_count": 31,
   "id": "667c728f-9504-4a2b-9ab5-d1f5aaba1a4f",
   "metadata": {},
   "outputs": [
    {
     "data": {
      "image/svg+xml": [
       "<svg xmlns=\"http://www.w3.org/2000/svg\" xmlns:xlink=\"http://www.w3.org/1999/xlink\" width=\"300\" height=\"208.8\" viewBox=\"-194.4 -104.4 388.8 208.8\" preserveAspectRatio=\"xMinYMin meet\"><g transform=\"matrix(1,0,0,-1,0,0.0)\"><path fill-rule=\"evenodd\" fill=\"#66cc99\" stroke=\"#555555\" stroke-width=\"2.592\" opacity=\"0.6\" d=\"M -180.0,90.0 L -180.0,-90.0 L 180.0,-90.0 L 180.0,90.0 L -180.0,90.0 z M -170.0,80.0 L -170.0,-80.0 L 170.0,-80.0 L 170.0,80.0 L -170.0,80.0 z\" /></g></svg>"
      ],
      "text/plain": [
       "<shapely.geometry.polygon.Polygon at 0x258929273d0>"
      ]
     },
     "execution_count": 31,
     "metadata": {},
     "output_type": "execute_result"
    }
   ],
   "source": [
    "# World with the hole inside\n",
    "world_has_a_hole = Polygon(shell = world_exterior, holes = hole)\n",
    "world_has_a_hole"
   ]
  },
  {
   "cell_type": "code",
   "execution_count": 32,
   "id": "e678297e-b3cf-49f8-b0a8-ce99a7be4291",
   "metadata": {},
   "outputs": [
    {
     "name": "stdout",
     "output_type": "stream",
     "text": [
      "world: POLYGON ((-180 90, -180 -90, 180 -90, 180 90, -180 90))\n",
      "world_has_a_hole: POLYGON ((-180 90, -180 -90, 180 -90, 180 90, -180 90), (-170 80, -170 -80, 170 -80, 170 80, -170 80))\n",
      "type: <class 'shapely.geometry.polygon.Polygon'>\n"
     ]
    }
   ],
   "source": [
    "print('world:', world)\n",
    "print('world_has_a_hole:', world_has_a_hole)\n",
    "print('type:', type(world_has_a_hole))"
   ]
  },
  {
   "cell_type": "markdown",
   "id": "466cd842-f92a-4bb9-a3a4-d6fd78788d3b",
   "metadata": {},
   "source": [
    "As we can see the `Polygon` has now two different tuples of coordinates. The first one represents the exterior and the second one represents the hole inside of the Polygon."
   ]
  },
  {
   "cell_type": "markdown",
   "id": "a0f1e8ab-6250-40f7-9fc9-a4131b5e032c",
   "metadata": {},
   "source": [
    "## Polygon attributes and functions"
   ]
  },
  {
   "cell_type": "markdown",
   "id": "810fe6a7-5273-4038-b9a5-9eccab4465e0",
   "metadata": {},
   "source": [
    "We can again access different attributes directly from the `Polygon` object itself that can be really useful for many analyses, such as `area`, `centroid`, `bounding box`, `exterior`, and `exterior-length`. See a full list of methods in the Shapely User Manual.\n",
    "\n",
    "Here, we can see a few of the available attributes and how to access them:"
   ]
  },
  {
   "cell_type": "code",
   "execution_count": 33,
   "id": "04acf2aa-42e4-4e52-a316-d1de6d9d3bae",
   "metadata": {},
   "outputs": [
    {
     "name": "stdout",
     "output_type": "stream",
     "text": [
      "Poly centroid:  POINT (-0 -0)\n",
      "Poly Area:  64800.0\n",
      "Poly Bounding Box:  (-180.0, -90.0, 180.0, 90.0)\n",
      "Poly Exterior:  LINEARRING (-180 90, -180 -90, 180 -90, 180 90, -180 90)\n",
      "Poly Exterior Length:  1080.0\n"
     ]
    }
   ],
   "source": [
    "# Get centroid of the Polygon\n",
    "world_centroid = world.centroid\n",
    "\n",
    "# Get the area of the Polygon\n",
    "world_area = world.area\n",
    "\n",
    "# Get the bounds of the Polygon (i.e. bounding box)\n",
    "world_bbox = world.bounds\n",
    "\n",
    "# Get the exterior of the Polygon\n",
    "world_ext = world.exterior\n",
    "\n",
    "# Get the length of the exterior\n",
    "world_ext_length = world_ext.length\n",
    "\n",
    "# Print the outputs\n",
    "print(\"Poly centroid: \", world_centroid)\n",
    "print(\"Poly Area: \", world_area)\n",
    "print(\"Poly Bounding Box: \", world_bbox)\n",
    "print(\"Poly Exterior: \", world_ext)\n",
    "print(\"Poly Exterior Length: \", world_ext_length)"
   ]
  },
  {
   "cell_type": "markdown",
   "id": "6050a03f-b08e-4d11-a9b8-33d1792d17a1",
   "metadata": {},
   "source": [
    "As we can see above, it is again fairly straightforward to access different attributes from the `Polygon`-object. Notice, that the extrerior length is given here with decimal degrees because we passed latitude and longitude coordinates into our Polygon."
   ]
  },
  {
   "cell_type": "markdown",
   "id": "b5c7979d-b8f2-4d94-9cd4-118a374083ea",
   "metadata": {},
   "source": [
    "## Geometry collections"
   ]
  },
  {
   "cell_type": "markdown",
   "id": "c45564de-a77f-4789-945c-92f9b03ebefc",
   "metadata": {},
   "source": [
    "In some occassions it is useful to store e.g. multiple lines or polygons under a single feature (i.e. a single row in a Shapefile represents more than one line or polygon object). Collections of points are implemented by using a `MultiPoint`-object, collections of curves by using a `MultiLineString`-object, and collections of surfaces by a `MultiPolygon`-object. These collections are not computationally significant, but are useful for modeling certain kinds of features. A Y-shaped line feature (such as road), or multiple polygons (e.g. islands on a like), can be presented nicely as a whole by a using `MultiLineString` or `MultiPolygon` accordingly. Creating and visualizing a minimum bounding box e.g. around your data points is a really useful function for many purposes (e.g. trying to understand the extent of your data), here we demonstrate how to create one using Shapely.\n",
    "\n",
    "Geometry collections can be constructed in a following manner:"
   ]
  },
  {
   "cell_type": "code",
   "execution_count": 34,
   "id": "f0a886dc-0229-43b9-9943-ca454d8277c4",
   "metadata": {},
   "outputs": [],
   "source": [
    "from shapely.geometry import MultiPoint, MultiLineString, MultiPolygon, box\n",
    "\n",
    "# Create a MultiPlot object of our points 1, 2, and 3\n",
    "multi_point = MultiPoint([point1, point2, point3])\n",
    "\n",
    "# Also possible to pass coordinate tuples inside\n",
    "multi_point2 = MultiPoint([(2.2, 4.2), (7.2, -25.1), (9.26, -2.456)])\n",
    "\n",
    "# We can also create a MultiLineString with two lines\n",
    "line1 = LineString([point1, point2])\n",
    "line2 = LineString([point2, point3])\n",
    "multi_line = MultiLineString([line1, line2])"
   ]
  },
  {
   "cell_type": "markdown",
   "id": "17135fea-d454-4d48-a296-0349b68659a5",
   "metadata": {},
   "source": [
    "`MultiPolygon` can be done in a similar manner. Let's divide our world into western and eastern hemispheres with a hole on the western hemisphere."
   ]
  },
  {
   "cell_type": "code",
   "execution_count": 35,
   "id": "54e0af37-2af3-45e4-b227-be52b6b8e280",
   "metadata": {},
   "outputs": [
    {
     "name": "stdout",
     "output_type": "stream",
     "text": [
      "MultiPoint: MULTIPOINT (2.2 4.2, 7.2 -25.1, 9.26 -2.456)\n",
      "MultiLine:  MULTILINESTRING ((2.2 4.2, 7.2 -25.1), (7.2 -25.1, 9.26 -2.456))\n",
      "Bounding box:  POLYGON ((180 -90, 180 90, 0 90, 0 -90, 180 -90))\n",
      "MultiPoly:  MULTIPOLYGON (((-180 90, -180 -90, 0 -90, 0 90, -180 90), (-170 80, -170 -80, -10 -80, -10 80, -170 80)), ((180 -90, 180 90, 0 90, 0 -90, 180 -90)))\n"
     ]
    }
   ],
   "source": [
    "# Let's create the exterior of the western part of the world\n",
    "west_exterior = [(-180, 90), (-180, -90), (0, -90), (0, 90)]\n",
    "\n",
    "# Let's create a hole\n",
    "west_hole = [[(-170, 80), (-170, -80), (-10, -80), (-10, 80)]]\n",
    "\n",
    "# Create the Polygon\n",
    "west_poly = Polygon(shell = west_exterior, holes = west_hole)\n",
    "\n",
    "# For bounding box, we need to specify the lower-left corner coordinates and upper-right coordinatesd\n",
    "min_x, min_y = 0, -90\n",
    "max_x, max_y = 180, 90\n",
    "\n",
    "# Create the polygon using box() function\n",
    "east_poly_box = box(minx = min_x, miny = min_y, maxx = max_x, maxy = max_y)\n",
    "\n",
    "# Let's create our MultiPolygon; we can pass multiple Polygon-objects into our MultiPolygon as a list\n",
    "multi_poly = MultiPolygon([west_poly, east_poly_box])\n",
    "\n",
    "# Print outputs\n",
    "print(\"MultiPoint:\", multi_point)\n",
    "print(\"MultiLine: \", multi_line)\n",
    "print(\"Bounding box: \", east_poly_box)\n",
    "print(\"MultiPoly: \", multi_poly)"
   ]
  },
  {
   "cell_type": "code",
   "execution_count": 36,
   "id": "57d08fca-cd89-4061-ae3d-376b264d061b",
   "metadata": {},
   "outputs": [
    {
     "data": {
      "image/svg+xml": [
       "<svg xmlns=\"http://www.w3.org/2000/svg\" xmlns:xlink=\"http://www.w3.org/1999/xlink\" width=\"100.0\" height=\"100.0\" viewBox=\"1.028 -26.272000000000002 9.404 31.644000000000002\" preserveAspectRatio=\"xMinYMin meet\"><g transform=\"matrix(1,0,0,-1,0,-20.900000000000002)\"><g><circle cx=\"2.2\" cy=\"4.2\" r=\"0.9493199999999999\" stroke=\"#555555\" stroke-width=\"0.31644\" fill=\"#66cc99\" opacity=\"0.6\" /><circle cx=\"7.2\" cy=\"-25.1\" r=\"0.9493199999999999\" stroke=\"#555555\" stroke-width=\"0.31644\" fill=\"#66cc99\" opacity=\"0.6\" /><circle cx=\"9.26\" cy=\"-2.456\" r=\"0.9493199999999999\" stroke=\"#555555\" stroke-width=\"0.31644\" fill=\"#66cc99\" opacity=\"0.6\" /></g></g></svg>"
      ],
      "text/plain": [
       "<shapely.geometry.multipoint.MultiPoint at 0x25892927310>"
      ]
     },
     "execution_count": 36,
     "metadata": {},
     "output_type": "execute_result"
    }
   ],
   "source": [
    "multi_point"
   ]
  },
  {
   "cell_type": "code",
   "execution_count": 37,
   "id": "e5db403f-b656-46a9-9cbb-d030a101c9b4",
   "metadata": {},
   "outputs": [
    {
     "data": {
      "image/svg+xml": [
       "<svg xmlns=\"http://www.w3.org/2000/svg\" xmlns:xlink=\"http://www.w3.org/1999/xlink\" width=\"100.0\" height=\"100.0\" viewBox=\"1.028 -26.272000000000002 9.404 31.644000000000002\" preserveAspectRatio=\"xMinYMin meet\"><g transform=\"matrix(1,0,0,-1,0,-20.900000000000002)\"><g><polyline fill=\"none\" stroke=\"#66cc99\" stroke-width=\"0.63288\" points=\"2.2,4.2 7.2,-25.1\" opacity=\"0.8\" /><polyline fill=\"none\" stroke=\"#66cc99\" stroke-width=\"0.63288\" points=\"7.2,-25.1 9.26,-2.456\" opacity=\"0.8\" /></g></g></svg>"
      ],
      "text/plain": [
       "<shapely.geometry.multilinestring.MultiLineString at 0x2589291f340>"
      ]
     },
     "execution_count": 37,
     "metadata": {},
     "output_type": "execute_result"
    }
   ],
   "source": [
    "multi_line"
   ]
  },
  {
   "cell_type": "code",
   "execution_count": 38,
   "id": "62223271-a99e-478d-b6d4-ef1c9d8e9ff6",
   "metadata": {},
   "outputs": [
    {
     "data": {
      "image/svg+xml": [
       "<svg xmlns=\"http://www.w3.org/2000/svg\" xmlns:xlink=\"http://www.w3.org/1999/xlink\" width=\"194.39999999999998\" height=\"194.4\" viewBox=\"-187.2 -97.2 194.39999999999998 194.4\" preserveAspectRatio=\"xMinYMin meet\"><g transform=\"matrix(1,0,0,-1,0,0.0)\"><path fill-rule=\"evenodd\" fill=\"#66cc99\" stroke=\"#555555\" stroke-width=\"2.0\" opacity=\"0.6\" d=\"M -180.0,90.0 L -180.0,-90.0 L 0.0,-90.0 L 0.0,90.0 L -180.0,90.0 z M -170.0,80.0 L -170.0,-80.0 L -10.0,-80.0 L -10.0,80.0 L -170.0,80.0 z\" /></g></svg>"
      ],
      "text/plain": [
       "<shapely.geometry.polygon.Polygon at 0x2589405a3a0>"
      ]
     },
     "execution_count": 38,
     "metadata": {},
     "output_type": "execute_result"
    }
   ],
   "source": [
    "west_poly"
   ]
  },
  {
   "cell_type": "code",
   "execution_count": 39,
   "id": "59846edc-2be1-4aeb-9400-f0e60b88a9a2",
   "metadata": {},
   "outputs": [
    {
     "data": {
      "image/svg+xml": [
       "<svg xmlns=\"http://www.w3.org/2000/svg\" xmlns:xlink=\"http://www.w3.org/1999/xlink\" width=\"194.39999999999998\" height=\"194.4\" viewBox=\"-7.2 -97.2 194.39999999999998 194.4\" preserveAspectRatio=\"xMinYMin meet\"><g transform=\"matrix(1,0,0,-1,0,0.0)\"><path fill-rule=\"evenodd\" fill=\"#66cc99\" stroke=\"#555555\" stroke-width=\"2.0\" opacity=\"0.6\" d=\"M 180.0,-90.0 L 180.0,90.0 L 0.0,90.0 L 0.0,-90.0 L 180.0,-90.0 z\" /></g></svg>"
      ],
      "text/plain": [
       "<shapely.geometry.polygon.Polygon at 0x25894027d00>"
      ]
     },
     "execution_count": 39,
     "metadata": {},
     "output_type": "execute_result"
    }
   ],
   "source": [
    "east_poly_box"
   ]
  },
  {
   "cell_type": "code",
   "execution_count": 40,
   "id": "54dfe6b1-d30f-410b-b332-cbdd478024b2",
   "metadata": {},
   "outputs": [
    {
     "data": {
      "image/svg+xml": [
       "<svg xmlns=\"http://www.w3.org/2000/svg\" xmlns:xlink=\"http://www.w3.org/1999/xlink\" width=\"300\" height=\"208.8\" viewBox=\"-194.4 -104.4 388.8 208.8\" preserveAspectRatio=\"xMinYMin meet\"><g transform=\"matrix(1,0,0,-1,0,0.0)\"><g><path fill-rule=\"evenodd\" fill=\"#ff3333\" stroke=\"#555555\" stroke-width=\"2.592\" opacity=\"0.6\" d=\"M -180.0,90.0 L -180.0,-90.0 L 0.0,-90.0 L 0.0,90.0 L -180.0,90.0 z M -170.0,80.0 L -170.0,-80.0 L -10.0,-80.0 L -10.0,80.0 L -170.0,80.0 z\" /><path fill-rule=\"evenodd\" fill=\"#ff3333\" stroke=\"#555555\" stroke-width=\"2.592\" opacity=\"0.6\" d=\"M 180.0,-90.0 L 180.0,90.0 L 0.0,90.0 L 0.0,-90.0 L 180.0,-90.0 z\" /></g></g></svg>"
      ],
      "text/plain": [
       "<shapely.geometry.multipolygon.MultiPolygon at 0x25894027ee0>"
      ]
     },
     "execution_count": 40,
     "metadata": {},
     "output_type": "execute_result"
    }
   ],
   "source": [
    "multi_poly"
   ]
  },
  {
   "cell_type": "markdown",
   "id": "e4fb9cea-1926-4e84-b795-ed92c336cd54",
   "metadata": {},
   "source": [
    "We can see that the outputs are similar to the basic geometric objects that we created previously but now these objects contain multiple features of those points, lines or polygons."
   ]
  },
  {
   "cell_type": "markdown",
   "id": "ce2dc7eb-04bb-4476-9c67-e094c9448098",
   "metadata": {},
   "source": [
    "## Geometry collection-objects' attributes and functions"
   ]
  },
  {
   "cell_type": "code",
   "execution_count": 41,
   "id": "f25458da-732c-4ea4-975e-48ac6e0ba0b5",
   "metadata": {},
   "outputs": [
    {
     "name": "stdout",
     "output_type": "stream",
     "text": [
      "Convex hull of the points:  POLYGON ((7.2 -25.1, 2.2 4.2, 9.26 -2.456, 7.2 -25.1))\n"
     ]
    },
    {
     "data": {
      "image/svg+xml": [
       "<svg xmlns=\"http://www.w3.org/2000/svg\" xmlns:xlink=\"http://www.w3.org/1999/xlink\" width=\"100.0\" height=\"100.0\" viewBox=\"1.028 -26.272000000000002 9.404 31.644000000000002\" preserveAspectRatio=\"xMinYMin meet\"><g transform=\"matrix(1,0,0,-1,0,-20.900000000000002)\"><path fill-rule=\"evenodd\" fill=\"#66cc99\" stroke=\"#555555\" stroke-width=\"0.63288\" opacity=\"0.6\" d=\"M 7.2,-25.1 L 2.2,4.2 L 9.26,-2.456 L 7.2,-25.1 z\" /></g></svg>"
      ],
      "text/plain": [
       "<shapely.geometry.polygon.Polygon at 0x2589405a9a0>"
      ]
     },
     "execution_count": 41,
     "metadata": {},
     "output_type": "execute_result"
    }
   ],
   "source": [
    "# Convex Hull of our MultiPoint --> https://en.wikipedia.org/wiki/Convex_hull\n",
    "convex = multi_point.convex_hull\n",
    "\n",
    "print('Convex hull of the points: ', convex)\n",
    "convex"
   ]
  },
  {
   "cell_type": "markdown",
   "id": "608814b7-1ec3-443c-beb6-545fe14c543a",
   "metadata": {},
   "source": [
    "Other useful attributes of geometry collections:"
   ]
  },
  {
   "cell_type": "code",
   "execution_count": 42,
   "id": "86bd012e-b425-47fd-856e-0964c5317e79",
   "metadata": {},
   "outputs": [
    {
     "name": "stdout",
     "output_type": "stream",
     "text": [
      "Number of lines in MultiLineString: 2\n"
     ]
    }
   ],
   "source": [
    "# How many lines do we have inside our MultiLineString?\n",
    "lines_count = len(multi_line)\n",
    "\n",
    "print(\"Number of lines in MultiLineString:\", lines_count)"
   ]
  },
  {
   "cell_type": "code",
   "execution_count": 43,
   "id": "3214025b-b19e-4ff8-91e8-f37ce65ca7e6",
   "metadata": {},
   "outputs": [
    {
     "data": {
      "text/plain": [
       "39200.0"
      ]
     },
     "execution_count": 43,
     "metadata": {},
     "output_type": "execute_result"
    }
   ],
   "source": [
    "# Let's calculate the area of our MultiPolygon\n",
    "multi_poly_area = multi_poly.area\n",
    "multi_poly_area"
   ]
  },
  {
   "cell_type": "markdown",
   "id": "32178132-c34d-41e3-8dd7-0416afe26426",
   "metadata": {},
   "source": [
    "We can also access different items inside our geometry collections. We can e.g. access a single polygon from our `MultiPolygon`-object by referring to the index:"
   ]
  },
  {
   "cell_type": "code",
   "execution_count": 44,
   "id": "c31d385a-c664-4734-9dcc-78f7deafec28",
   "metadata": {},
   "outputs": [
    {
     "name": "stdout",
     "output_type": "stream",
     "text": [
      "Area of our MultiPolygon: 39200.0\n",
      "Area of our Western Hemisphere polygon: 6800.0\n"
     ]
    }
   ],
   "source": [
    "# Let's calculate the area of our Western hemisphere (with a hole), which is at index 0\n",
    "west_area = multi_poly[0].area\n",
    "\n",
    "# Print outputs:\n",
    "print(\"Area of our MultiPolygon:\", multi_poly_area)\n",
    "print(\"Area of our Western Hemisphere polygon:\", west_area)"
   ]
  },
  {
   "cell_type": "markdown",
   "id": "0145821b-c9a1-4741-aafc-64900e7556aa",
   "metadata": {},
   "source": [
    "From the above we can see that MultiPolygons have exactly the same attributes available as single geometric objects but now the information such as area calculates the area of ALL of the individual -objects combined.\n",
    "\n",
    "We can also check if we have a “valid” MultiPolygon. MultiPolygon is thought as valid if **the individual polygons do not intersect with each other.** Here, because the polygons have a common 0-meridian, we should NOT have a valid polygon. We can check the validity of an object from the is_valid -attribute that tells if the polygons or lines intersect with each other. This can be really useful information when trying to find topological errors from your data:"
   ]
  },
  {
   "cell_type": "code",
   "execution_count": 45,
   "id": "af4df487-9133-450b-9c2f-19268ab8581e",
   "metadata": {},
   "outputs": [
    {
     "name": "stdout",
     "output_type": "stream",
     "text": [
      "Is polygon valid?:  False\n"
     ]
    }
   ],
   "source": [
    "valid = multi_poly.is_valid\n",
    "print(\"Is polygon valid?: \", valid)"
   ]
  },
  {
   "cell_type": "markdown",
   "id": "181b7936-951d-4976-9f39-b9fbd48cf3c6",
   "metadata": {},
   "source": [
    "# Exercises"
   ]
  },
  {
   "cell_type": "markdown",
   "id": "19b244b3-905e-4718-9c07-d4cddab17e8c",
   "metadata": {},
   "source": [
    "## Creating basic geometries"
   ]
  },
  {
   "cell_type": "markdown",
   "id": "a32c24b1-9ea3-4417-b34c-dd219ba6baa9",
   "metadata": {},
   "source": [
    "Create a function called `create_point_geom()` that has two parameters (x_coord, y_coord). Function should create a shapely `Point` geometry object and return that."
   ]
  },
  {
   "cell_type": "code",
   "execution_count": 80,
   "id": "c45b0935-96dc-4863-88f4-48b273a659b2",
   "metadata": {},
   "outputs": [],
   "source": [
    "def create_point_geom(x_coord, y_coord):\n",
    "    \"\"\"\n",
    "    The function should create a shapely Point geometry object and return that.\n",
    "    \"\"\"\n",
    "    point = Point(x_coord, y_coord)\n",
    "    return point"
   ]
  },
  {
   "cell_type": "code",
   "execution_count": 47,
   "id": "156d6ed9-8ac3-43b6-877f-9bad4f8dd611",
   "metadata": {},
   "outputs": [
    {
     "data": {
      "image/svg+xml": [
       "<svg xmlns=\"http://www.w3.org/2000/svg\" xmlns:xlink=\"http://www.w3.org/1999/xlink\" width=\"100.0\" height=\"100.0\" viewBox=\"-1.0 0.10000000000000009 2.0 2.0\" preserveAspectRatio=\"xMinYMin meet\"><g transform=\"matrix(1,0,0,-1,0,2.2)\"><circle cx=\"0.0\" cy=\"1.1\" r=\"0.06\" stroke=\"#555555\" stroke-width=\"0.02\" fill=\"#66cc99\" opacity=\"0.6\" /></g></svg>"
      ],
      "text/plain": [
       "<shapely.geometry.point.Point at 0x2589405ad30>"
      ]
     },
     "execution_count": 47,
     "metadata": {},
     "output_type": "execute_result"
    }
   ],
   "source": [
    "point1 = create_point_geom(0.0, 1.1)\n",
    "point1"
   ]
  },
  {
   "cell_type": "code",
   "execution_count": 48,
   "id": "fe54685e-2824-4ea4-894e-7738080b06ad",
   "metadata": {},
   "outputs": [
    {
     "data": {
      "text/plain": [
       "'Point'"
      ]
     },
     "execution_count": 48,
     "metadata": {},
     "output_type": "execute_result"
    }
   ],
   "source": [
    "point1.geom_type"
   ]
  },
  {
   "cell_type": "markdown",
   "id": "2be70590-16f1-4a46-a023-2cface3c4973",
   "metadata": {},
   "source": [
    "Create a function called `create_line_geom()` that takes a list of Shapely Point objects as parameter called `points` and returns a LineString object of those input points. In addition, you should take care that the function is used as it should:\n",
    "- Inside the function, you should first check with `assert`-functionality that the input is a list (see lesson 6 from the Geo-Python course and hints for this exercise). If something else than a list is passed for the function, you should return an Error message:` \"Input should be a list!\"`\n",
    "- You should also check with `assert` that the input list contains at least two values. If not, return an Error message: `\"LineString object requires at least two Points!\"`\n",
    "- Optional: Finally, you should check with `assert` that all values in the input list are truly Shapely Points. If not, return an Error message: `\"All list values should be Shapely Point objects!\"`"
   ]
  },
  {
   "cell_type": "code",
   "execution_count": 79,
   "id": "8b71519e-7754-4110-a09a-5dbaa79e760c",
   "metadata": {},
   "outputs": [],
   "source": [
    "import shapely\n",
    "def create_line_geom(points):\n",
    "    \"\"\"\n",
    "    The function should take a list of Shapely Point objects as parameter called `points` and return\n",
    "    a LineString object of those input points.\n",
    "    \"\"\"\n",
    "    assert type(points) is list, 'Input should be a list!'\n",
    "    assert len(points) >= 2, 'LineString object requires at least two Points!'\n",
    "    for point in points:\n",
    "        assert isinstance(point, shapely.geometry.point.Point), 'All list values should be Shapely Point objects!'\n",
    "    line = LineString(points)\n",
    "    return line"
   ]
  },
  {
   "cell_type": "code",
   "execution_count": 50,
   "id": "e6e563f4-00eb-4138-a567-99d24ce3e5e8",
   "metadata": {},
   "outputs": [
    {
     "data": {
      "image/svg+xml": [
       "<svg xmlns=\"http://www.w3.org/2000/svg\" xmlns:xlink=\"http://www.w3.org/1999/xlink\" width=\"100.0\" height=\"100.0\" viewBox=\"42.9992 -5.4008 59.4216 29.9416\" preserveAspectRatio=\"xMinYMin meet\"><g transform=\"matrix(1,0,0,-1,0,19.14)\"><polyline fill=\"none\" stroke=\"#66cc99\" stroke-width=\"1.188432\" points=\"45.2,22.34 100.22,-3.2\" opacity=\"0.8\" /></g></svg>"
      ],
      "text/plain": [
       "<shapely.geometry.linestring.LineString at 0x25894056f40>"
      ]
     },
     "execution_count": 50,
     "metadata": {},
     "output_type": "execute_result"
    }
   ],
   "source": [
    "line1 = LineString([Point(45.2, 22.34), Point(100.22, -3.2)]) # change this for testing\n",
    "line1"
   ]
  },
  {
   "cell_type": "code",
   "execution_count": 51,
   "id": "3ce76130-165f-4b32-aefa-173ec05aa62a",
   "metadata": {},
   "outputs": [
    {
     "data": {
      "text/plain": [
       "'LineString'"
      ]
     },
     "execution_count": 51,
     "metadata": {},
     "output_type": "execute_result"
    }
   ],
   "source": [
    "line1.geom_type"
   ]
  },
  {
   "cell_type": "code",
   "execution_count": 52,
   "id": "624b6af3-a15a-4b9e-8599-ce3c890472ed",
   "metadata": {},
   "outputs": [
    {
     "name": "stdout",
     "output_type": "stream",
     "text": [
      "List check works\n"
     ]
    }
   ],
   "source": [
    "try:\n",
    "    # Pass something else than a list\n",
    "    create_line_geom(\"Give me a line!\")\n",
    "except AssertionError:\n",
    "    print(\"List check works\")\n",
    "except Exception as e:\n",
    "    raise e"
   ]
  },
  {
   "cell_type": "markdown",
   "id": "fbac5402-facc-485a-8e3d-bd21bd0ae46e",
   "metadata": {},
   "source": [
    "Create a function called `create_poly_geom()` that has one parameter called `coords`. The `coords` parameter should contain a list of coordinate tuples. The function should create and return a Polygon object based on these coordinates.\n",
    "- Inside the function, you should first check with `assert`-functionality that the input is a list (see lesson 6 and hints). If something else than a list is passed for the function, you should return an Error message: `\"Input should be a list!\"`\n",
    "- You should also check with `assert` that the input list contains at least three values. If not, return an Error message: `\"Polygon object requires at least three Points!\"`\n",
    "- Check the data type of the objects in the input list. All values in the input list should be tuples. If not, return an error message:` \"All list values should be coordinate tuples!\"` using `assert`.\n",
    "- Optional: Allow also an input containing a list of Shapely Point objects. If `coords` contans a list of Shapely Point objects, return a polygon based on these points. If the input is neither a list of tuples, nor a list of Points, return an appropriate error message using `assert`."
   ]
  },
  {
   "cell_type": "code",
   "execution_count": 78,
   "id": "2be54bb2-f5df-4ae1-8816-7ed7b4e5b420",
   "metadata": {},
   "outputs": [],
   "source": [
    "def create_poly_geom(coords):\n",
    "    \"\"\"\n",
    "    The function should create and return a Polygon object based on the coordinates in parameter `coords`.\n",
    "    \"\"\"\n",
    "    assert type(coords) is list, 'Input should be a list!'\n",
    "    assert len(coords) >= 3, 'LineString object requires at least three Points!'\n",
    "    for coord in coords:\n",
    "        if isinstance(coord, shapely.geometry.point.Point):\n",
    "            continue\n",
    "        else:\n",
    "            assert isinstance(coord, tuple), 'All list values should be coordinate tuples!'\n",
    "    poly = Polygon(coords)    \n",
    "    # poly = Polygon([p.x, p.y] for p in coords)\n",
    "    return poly"
   ]
  },
  {
   "cell_type": "code",
   "execution_count": 54,
   "id": "5927cc57-6465-4dae-88bf-53674799ce74",
   "metadata": {},
   "outputs": [
    {
     "data": {
      "image/svg+xml": [
       "<svg xmlns=\"http://www.w3.org/2000/svg\" xmlns:xlink=\"http://www.w3.org/1999/xlink\" width=\"100.0\" height=\"100.0\" viewBox=\"42.9992 -5.4008 59.4216 29.9416\" preserveAspectRatio=\"xMinYMin meet\"><g transform=\"matrix(1,0,0,-1,0,19.14)\"><path fill-rule=\"evenodd\" fill=\"#66cc99\" stroke=\"#555555\" stroke-width=\"1.188432\" opacity=\"0.6\" d=\"M 45.2,22.34 L 100.22,-3.2 L 70.0,10.2 L 45.2,22.34 z\" /></g></svg>"
      ],
      "text/plain": [
       "<shapely.geometry.polygon.Polygon at 0x2589405a4f0>"
      ]
     },
     "execution_count": 54,
     "metadata": {},
     "output_type": "execute_result"
    }
   ],
   "source": [
    "hello = [(45.2, 22.34), (100.22, -3.20), (70.0, 10.20)]\n",
    "poly1 = create_poly_geom(hello)\n",
    "poly1"
   ]
  },
  {
   "cell_type": "code",
   "execution_count": 55,
   "id": "55b8ede6-6def-4c65-ae05-adcb53d62ef2",
   "metadata": {},
   "outputs": [
    {
     "data": {
      "text/plain": [
       "'Polygon'"
      ]
     },
     "execution_count": 55,
     "metadata": {},
     "output_type": "execute_result"
    }
   ],
   "source": [
    "poly1.geom_type"
   ]
  },
  {
   "cell_type": "code",
   "execution_count": 56,
   "id": "bd965d7e-f524-4c02-9cf9-7de70ba7aea2",
   "metadata": {},
   "outputs": [
    {
     "name": "stdout",
     "output_type": "stream",
     "text": [
      "List check works\n"
     ]
    }
   ],
   "source": [
    "try:\n",
    "    # Pass something else than a list\n",
    "    create_poly_geom(\"Give me a polygon\")\n",
    "except AssertionError:\n",
    "    print(\"List check works\")\n",
    "except Exception as e:\n",
    "    raise e"
   ]
  },
  {
   "cell_type": "code",
   "execution_count": 57,
   "id": "8b5aa190-990c-4b3f-9afe-f35dc47bfb8c",
   "metadata": {},
   "outputs": [
    {
     "data": {
      "text/plain": [
       "'Point'"
      ]
     },
     "execution_count": 57,
     "metadata": {},
     "output_type": "execute_result"
    }
   ],
   "source": [
    "point1.geom_type"
   ]
  },
  {
   "cell_type": "markdown",
   "id": "a0753b20-fea5-4f2e-a05a-4369aac4a52c",
   "metadata": {},
   "source": [
    "## Attributes of geometries"
   ]
  },
  {
   "cell_type": "markdown",
   "id": "d71a419b-f143-40d9-8f12-fd02f0d8a4a8",
   "metadata": {},
   "source": [
    "Create a function called `get_centroid()` that has one parameter called `geom`. The function should take any kind of Shapely's geometric -object as an input, and return a centroid of that geometry. In addition, you should take care that the function is used as it should:\n",
    "\n",
    "Inside the function, you should first check with `assert`-functionality that the input is a Shapely Point, LineString or Polygon geometry (see lesson 6 and hints). If something else than a list is passed for the function, you should return an Error message: `\"Input should be a Shapely geometry!\"`"
   ]
  },
  {
   "cell_type": "code",
   "execution_count": 77,
   "id": "2c7a5055-6758-4acd-ab69-0d63abd520df",
   "metadata": {},
   "outputs": [],
   "source": [
    "def get_centroid(geom):\n",
    "    \"\"\"\n",
    "    The function should take any kind of Shapely's geometric -object as an input, and return a centroid of that geometry.\n",
    "    \"\"\"\n",
    "    assert type(geom) in [shapely.geometry.point.Point,\n",
    "                          shapely.geometry.linestring.LineString,\n",
    "                          shapely.geometry.polygon.Polygon], 'Input should be a Shapely geometry'\n",
    "    centroid = geom.centroid\n",
    "    return centroid"
   ]
  },
  {
   "cell_type": "code",
   "execution_count": 59,
   "id": "5effc4d4-18ed-47f1-82de-4db6d866e491",
   "metadata": {},
   "outputs": [
    {
     "data": {
      "text/plain": [
       "shapely.geometry.linestring.LineString"
      ]
     },
     "execution_count": 59,
     "metadata": {},
     "output_type": "execute_result"
    }
   ],
   "source": [
    "type(line1)"
   ]
  },
  {
   "cell_type": "code",
   "execution_count": 60,
   "id": "b4a3da01-c912-4641-8a1e-9628624b77d4",
   "metadata": {},
   "outputs": [
    {
     "name": "stdout",
     "output_type": "stream",
     "text": [
      "POINT (71.80666666666667 9.780000000000001)\n"
     ]
    }
   ],
   "source": [
    "centroid = get_centroid(poly1)\n",
    "print(centroid)"
   ]
  },
  {
   "cell_type": "code",
   "execution_count": 61,
   "id": "58acb82d-2734-4d0a-a3fb-52d6f586cbb4",
   "metadata": {},
   "outputs": [
    {
     "name": "stdout",
     "output_type": "stream",
     "text": [
      "Geometry -check works\n"
     ]
    }
   ],
   "source": [
    "try:\n",
    "    # Pass something else than a Shapely geometry\n",
    "    get_centroid(\"Give me a centroid!\")\n",
    "except AssertionError:\n",
    "    print(\"Geometry -check works\")\n",
    "except Exception as e:\n",
    "    raise e"
   ]
  },
  {
   "cell_type": "markdown",
   "id": "d2602e0b-79f4-49df-a0e0-0f2bf384fd3a",
   "metadata": {},
   "source": [
    "Create a function called `get_area()` with one parameter called `polygon`. Function should take a Shapely's Polygon -object as input and returns the area of that geometry.\n",
    "\n",
    "Inside the function, you should first check with `assert`-functionality that the input is a Shapely Polygon geometry (see lesson 6 and hints). If something else than a list is passed for the function, you should return an Error message: `\"Input should be a Shapely Polygon -object!\"`"
   ]
  },
  {
   "cell_type": "code",
   "execution_count": 75,
   "id": "3a47da56-9338-42d8-8e2d-11b85e60c155",
   "metadata": {},
   "outputs": [],
   "source": [
    "def get_area(polygon):\n",
    "    \"\"\"\n",
    "    The function should take a Shapely's Polygon -object as input and returns the area of that geometry.\n",
    "    \"\"\"\n",
    "    assert type(polygon) is shapely.geometry.polygon.Polygon, 'Input should be a Shapely Polygon-object!'\n",
    "    area = polygon.area\n",
    "    return area"
   ]
  },
  {
   "cell_type": "code",
   "execution_count": 63,
   "id": "468c9d08-663b-4251-bb80-4549941e44e4",
   "metadata": {},
   "outputs": [
    {
     "name": "stdout",
     "output_type": "stream",
     "text": [
      "17.275400000000047\n"
     ]
    }
   ],
   "source": [
    "area = get_area(poly1)\n",
    "print(area)"
   ]
  },
  {
   "cell_type": "markdown",
   "id": "3296af42-cc4a-4222-83bf-d25b5a4d4459",
   "metadata": {},
   "source": [
    "Create a function called `get_length()` with parameter called `geom`. The function should accept either a Shapely LineString or Polygon -object as input. Function should check the type of the input and returns the length of the line if input is LineString and length of the exterior ring if input is Polygon. If something else is passed to the function, you should return an `Error \"'geom' should be either LineString or Polygon!\"`. (Use assert functionality)."
   ]
  },
  {
   "cell_type": "code",
   "execution_count": 73,
   "id": "b726ae64-cb24-4f15-bd86-66f79fe05cee",
   "metadata": {},
   "outputs": [],
   "source": [
    "def get_length(geom):\n",
    "    \"\"\"\n",
    "    The function should accept either a Shapely LineString or Polygon -object as input.\n",
    "    It should check the type of the input and returns the length of the line if input is a\n",
    "    LineString and length of the exterior ring if input is Polygon.\n",
    "    \"\"\"\n",
    "    assert type(geom) in [shapely.geometry.linestring.LineString,\n",
    "                         shapely.geometry.polygon.Polygon], \"'geom' should be either LineString or Polygon!\"\n",
    "    if type(geom) is shapely.geometry.linestring.LineString:\n",
    "        length = geom.length\n",
    "    else:\n",
    "        world_ext = geom.exterior\n",
    "        length = world_ext.length\n",
    "    return length"
   ]
  },
  {
   "cell_type": "code",
   "execution_count": 65,
   "id": "20ae1d3d-5d26-43f5-bdc0-93b73007438a",
   "metadata": {},
   "outputs": [
    {
     "name": "stdout",
     "output_type": "stream",
     "text": [
      "Line length: 60.66\n"
     ]
    }
   ],
   "source": [
    "line_length = get_length(line1)\n",
    "print(\"Line length:\", round(line_length,2))"
   ]
  },
  {
   "cell_type": "code",
   "execution_count": 66,
   "id": "ae04fa6c-3fde-43dc-9557-3113b05db684",
   "metadata": {},
   "outputs": [
    {
     "name": "stdout",
     "output_type": "stream",
     "text": [
      "Polygon exterior length: 121.33\n"
     ]
    }
   ],
   "source": [
    "poly_exterior_length = get_length(poly1)\n",
    "print(\"Polygon exterior length:\", round(poly_exterior_length,2))"
   ]
  },
  {
   "cell_type": "code",
   "execution_count": 68,
   "id": "24dc67c0-5ece-41c2-b095-ef5dd4213350",
   "metadata": {},
   "outputs": [
    {
     "name": "stdout",
     "output_type": "stream",
     "text": [
      "Geometry -check works\n"
     ]
    }
   ],
   "source": [
    "try:\n",
    "    # Pass something else than a Shapely LineString or Polygon\n",
    "    get_length(Point(1, 2))\n",
    "except AssertionError:\n",
    "    print(\"Geometry -check works\")\n",
    "except Exception as e:\n",
    "    raise e"
   ]
  },
  {
   "cell_type": "code",
   "execution_count": 69,
   "id": "e41db5da-d562-4bb9-985b-871e2aef87ee",
   "metadata": {},
   "outputs": [
    {
     "ename": "AssertionError",
     "evalue": "'geom' should be either LineString or Polygon!",
     "output_type": "error",
     "traceback": [
      "\u001b[1;31m---------------------------------------------------------------------------\u001b[0m",
      "\u001b[1;31mAssertionError\u001b[0m                            Traceback (most recent call last)",
      "\u001b[1;32mC:\\Users\\GILRAM~1\\AppData\\Local\\Temp/ipykernel_7704/3840306980.py\u001b[0m in \u001b[0;36m<module>\u001b[1;34m\u001b[0m\n\u001b[1;32m----> 1\u001b[1;33m \u001b[0mget_length\u001b[0m\u001b[1;33m(\u001b[0m\u001b[0mPoint\u001b[0m\u001b[1;33m(\u001b[0m\u001b[1;36m3\u001b[0m\u001b[1;33m,\u001b[0m \u001b[1;36m4\u001b[0m\u001b[1;33m)\u001b[0m\u001b[1;33m)\u001b[0m\u001b[1;33m\u001b[0m\u001b[1;33m\u001b[0m\u001b[0m\n\u001b[0m",
      "\u001b[1;32mC:\\Users\\GILRAM~1\\AppData\\Local\\Temp/ipykernel_7704/1007475251.py\u001b[0m in \u001b[0;36mget_length\u001b[1;34m(geom)\u001b[0m\n\u001b[0;32m      1\u001b[0m \u001b[1;32mdef\u001b[0m \u001b[0mget_length\u001b[0m\u001b[1;33m(\u001b[0m\u001b[0mgeom\u001b[0m\u001b[1;33m)\u001b[0m\u001b[1;33m:\u001b[0m\u001b[1;33m\u001b[0m\u001b[1;33m\u001b[0m\u001b[0m\n\u001b[1;32m----> 2\u001b[1;33m     assert type(geom) in [shapely.geometry.linestring.LineString,\n\u001b[0m\u001b[0;32m      3\u001b[0m                          shapely.geometry.polygon.Polygon], \"'geom' should be either LineString or Polygon!\"\n\u001b[0;32m      4\u001b[0m     \u001b[1;32mif\u001b[0m \u001b[0mtype\u001b[0m\u001b[1;33m(\u001b[0m\u001b[0mgeom\u001b[0m\u001b[1;33m)\u001b[0m \u001b[1;32mis\u001b[0m \u001b[0mshapely\u001b[0m\u001b[1;33m.\u001b[0m\u001b[0mgeometry\u001b[0m\u001b[1;33m.\u001b[0m\u001b[0mlinestring\u001b[0m\u001b[1;33m.\u001b[0m\u001b[0mLineString\u001b[0m\u001b[1;33m:\u001b[0m\u001b[1;33m\u001b[0m\u001b[1;33m\u001b[0m\u001b[0m\n\u001b[0;32m      5\u001b[0m         \u001b[0mlength\u001b[0m \u001b[1;33m=\u001b[0m \u001b[0mgeom\u001b[0m\u001b[1;33m.\u001b[0m\u001b[0mlength\u001b[0m\u001b[1;33m\u001b[0m\u001b[1;33m\u001b[0m\u001b[0m\n",
      "\u001b[1;31mAssertionError\u001b[0m: 'geom' should be either LineString or Polygon!"
     ]
    }
   ],
   "source": [
    "get_length(Point(3, 4))"
   ]
  },
  {
   "cell_type": "code",
   "execution_count": 81,
   "id": "f846cbbb-7296-42ee-99b9-54d90a124ac5",
   "metadata": {},
   "outputs": [
    {
     "name": "stdout",
     "output_type": "stream",
     "text": [
      "I created functions for doing these tasks:\n",
      "\n",
      "- create_point_geom: \n",
      "    The function should create a shapely Point geometry object and return that.\n",
      "    \n",
      "- create_line_geom: \n",
      "    The function should take a list of Shapely Point objects as parameter called `points` and return\n",
      "    a LineString object of those input points.\n",
      "    \n",
      "- create_poly_geom: \n",
      "    The function should create and return a Polygon object based on the coordinates in parameter `coords`.\n",
      "    \n",
      "- get_centroid: \n",
      "    The function should take any kind of Shapely's geometric -object as an input, and return a centroid of that geometry.\n",
      "    \n",
      "- get_area: \n",
      "    The function should take a Shapely's Polygon -object as input and returns the area of that geometry.\n",
      "    \n",
      "- get_length: \n",
      "    The function should accept either a Shapely LineString or Polygon -object as input.\n",
      "    It should check the type of the input and returns the length of the line if input is a\n",
      "    LineString and length of the exterior ring if input is Polygon.\n",
      "    \n"
     ]
    }
   ],
   "source": [
    "functions = [create_point_geom, create_line_geom, create_poly_geom, get_centroid,\n",
    "            get_area, get_length]\n",
    "\n",
    "print(\"I created functions for doing these tasks:\\n\")\n",
    "\n",
    "for function in functions:\n",
    "    #Print function name and docstring:\n",
    "    print(\"-\", function.__name__ +\":\", function.__doc__)"
   ]
  },
  {
   "cell_type": "markdown",
   "id": "c4db9477-4307-40bf-9b24-301a72783947",
   "metadata": {},
   "source": [
    "## Reading coordinates from a file and creating geometries"
   ]
  },
  {
   "cell_type": "markdown",
   "id": "e59020a8-4095-4865-b606-16bb73f9d1eb",
   "metadata": {},
   "source": [
    "One of the most typical problems in GIS is the situation where you have a set of coordinates in some file, and you need to map those. Python is a really handy tool for these kind of situations, as it is possible to read data from (basically) any kind of input datafile (such as csv-, txt-, excel-, gpx-files (gps data), databases etc.).\n",
    "\n",
    "Thus, let's see how we can read data from a file and create Point -objects from them that can be saved e.g. as a new Shapefile (we will learn this next week). Our dataset travelTimes_2015_Helsinki.txt consist of travel times between specific locations in Helsinki Region. The first four rows of our data looks like this:\n",
    "\n",
    "   `from_id;to_id;fromid_toid;route_number;at;from_x;from_y;to_x;to_y;total_route_time;route_time;route_distance\n",
    "   5861326;5785640;5861326_5785640;1;08:10;24.9704379;60.3119173;24.8560344;60.399940599999994;125.0;99.0;22917.6\n",
    "   5861326;5785641;5861326_5785641;1;08:10;24.9704379;60.3119173;24.8605682;60.4000135;123.0;102.0;23123.5\n",
    "   5861326;5785642;5861326_5785642;1;08:10;24.9704379;60.3119173;24.865102;60.4000863;125.0;103.0;23241.3`\n",
    "\n",
    "As we can see, there exists many columns in the data, but the few important ones needed here are:\n",
    "\n",
    "| **column** | **Description** |\n",
    "| --- | --- |\n",
    "| from_x | x-coordinate of the **origin** location (longitude) |\n",
    "| from_y | y-coordinate of the **origin** location (latitude) |\n",
    "| to_x | x-coordinate of the **destination** location (longitude) |\n",
    "| to_y | y-coordinate of the **destination** location (latitude) |\n",
    "| total_route_time | travel time with public transportation at the route |"
   ]
  },
  {
   "cell_type": "code",
   "execution_count": 82,
   "id": "de701e56-428c-453e-b105-a29f31c02a9e",
   "metadata": {},
   "outputs": [
    {
     "data": {
      "text/html": [
       "<div>\n",
       "<style scoped>\n",
       "    .dataframe tbody tr th:only-of-type {\n",
       "        vertical-align: middle;\n",
       "    }\n",
       "\n",
       "    .dataframe tbody tr th {\n",
       "        vertical-align: top;\n",
       "    }\n",
       "\n",
       "    .dataframe thead th {\n",
       "        text-align: right;\n",
       "    }\n",
       "</style>\n",
       "<table border=\"1\" class=\"dataframe\">\n",
       "  <thead>\n",
       "    <tr style=\"text-align: right;\">\n",
       "      <th></th>\n",
       "      <th>from_id</th>\n",
       "      <th>to_id</th>\n",
       "      <th>fromid_toid</th>\n",
       "      <th>route_number</th>\n",
       "      <th>at</th>\n",
       "      <th>from_x</th>\n",
       "      <th>from_y</th>\n",
       "      <th>to_x</th>\n",
       "      <th>to_y</th>\n",
       "      <th>total_route_time</th>\n",
       "      <th>route_time</th>\n",
       "      <th>route_distance</th>\n",
       "      <th>route_total_lines</th>\n",
       "    </tr>\n",
       "  </thead>\n",
       "  <tbody>\n",
       "    <tr>\n",
       "      <th>0</th>\n",
       "      <td>5861326</td>\n",
       "      <td>5785640</td>\n",
       "      <td>5861326_5785640</td>\n",
       "      <td>1</td>\n",
       "      <td>08:10</td>\n",
       "      <td>24.970438</td>\n",
       "      <td>60.311917</td>\n",
       "      <td>24.856034</td>\n",
       "      <td>60.399941</td>\n",
       "      <td>125.0</td>\n",
       "      <td>99.0</td>\n",
       "      <td>22917.6</td>\n",
       "      <td>2.0</td>\n",
       "    </tr>\n",
       "    <tr>\n",
       "      <th>1</th>\n",
       "      <td>5861326</td>\n",
       "      <td>5785641</td>\n",
       "      <td>5861326_5785641</td>\n",
       "      <td>1</td>\n",
       "      <td>08:10</td>\n",
       "      <td>24.970438</td>\n",
       "      <td>60.311917</td>\n",
       "      <td>24.860568</td>\n",
       "      <td>60.400014</td>\n",
       "      <td>123.0</td>\n",
       "      <td>102.0</td>\n",
       "      <td>23123.5</td>\n",
       "      <td>2.0</td>\n",
       "    </tr>\n",
       "    <tr>\n",
       "      <th>2</th>\n",
       "      <td>5861326</td>\n",
       "      <td>5785642</td>\n",
       "      <td>5861326_5785642</td>\n",
       "      <td>1</td>\n",
       "      <td>08:10</td>\n",
       "      <td>24.970438</td>\n",
       "      <td>60.311917</td>\n",
       "      <td>24.865102</td>\n",
       "      <td>60.400086</td>\n",
       "      <td>125.0</td>\n",
       "      <td>103.0</td>\n",
       "      <td>23241.3</td>\n",
       "      <td>2.0</td>\n",
       "    </tr>\n",
       "    <tr>\n",
       "      <th>3</th>\n",
       "      <td>5861326</td>\n",
       "      <td>5785643</td>\n",
       "      <td>5861326_5785643</td>\n",
       "      <td>1</td>\n",
       "      <td>08:10</td>\n",
       "      <td>24.970438</td>\n",
       "      <td>60.311917</td>\n",
       "      <td>24.869636</td>\n",
       "      <td>60.400159</td>\n",
       "      <td>129.0</td>\n",
       "      <td>107.0</td>\n",
       "      <td>23534.2</td>\n",
       "      <td>2.0</td>\n",
       "    </tr>\n",
       "    <tr>\n",
       "      <th>4</th>\n",
       "      <td>5861326</td>\n",
       "      <td>5787544</td>\n",
       "      <td>5861326_5787544</td>\n",
       "      <td>1</td>\n",
       "      <td>08:10</td>\n",
       "      <td>24.970438</td>\n",
       "      <td>60.311917</td>\n",
       "      <td>24.842582</td>\n",
       "      <td>60.397478</td>\n",
       "      <td>118.0</td>\n",
       "      <td>92.0</td>\n",
       "      <td>22428.2</td>\n",
       "      <td>2.0</td>\n",
       "    </tr>\n",
       "  </tbody>\n",
       "</table>\n",
       "</div>"
      ],
      "text/plain": [
       "   from_id    to_id      fromid_toid  route_number     at     from_x  \\\n",
       "0  5861326  5785640  5861326_5785640             1  08:10  24.970438   \n",
       "1  5861326  5785641  5861326_5785641             1  08:10  24.970438   \n",
       "2  5861326  5785642  5861326_5785642             1  08:10  24.970438   \n",
       "3  5861326  5785643  5861326_5785643             1  08:10  24.970438   \n",
       "4  5861326  5787544  5861326_5787544             1  08:10  24.970438   \n",
       "\n",
       "      from_y       to_x       to_y  total_route_time  route_time  \\\n",
       "0  60.311917  24.856034  60.399941             125.0        99.0   \n",
       "1  60.311917  24.860568  60.400014             123.0       102.0   \n",
       "2  60.311917  24.865102  60.400086             125.0       103.0   \n",
       "3  60.311917  24.869636  60.400159             129.0       107.0   \n",
       "4  60.311917  24.842582  60.397478             118.0        92.0   \n",
       "\n",
       "   route_distance  route_total_lines  \n",
       "0         22917.6                2.0  \n",
       "1         23123.5                2.0  \n",
       "2         23241.3                2.0  \n",
       "3         23534.2                2.0  \n",
       "4         22428.2                2.0  "
      ]
     },
     "execution_count": 82,
     "metadata": {},
     "output_type": "execute_result"
    }
   ],
   "source": [
    "data = pd.read_csv('data/travelTimes_2015_Helsinki.txt', sep = ';')\n",
    "data.head()"
   ]
  },
  {
   "cell_type": "code",
   "execution_count": 83,
   "id": "aaf8084e-aa24-4110-9b3e-3c1204e4216a",
   "metadata": {},
   "outputs": [
    {
     "data": {
      "text/plain": [
       "(14643, 13)"
      ]
     },
     "execution_count": 83,
     "metadata": {},
     "output_type": "execute_result"
    }
   ],
   "source": [
    "data.shape"
   ]
  },
  {
   "cell_type": "code",
   "execution_count": 84,
   "id": "aa186f42-7f5f-4869-8981-f9b4510e45bf",
   "metadata": {},
   "outputs": [],
   "source": [
    "# Select only from- and to- columns"
   ]
  },
  {
   "cell_type": "code",
   "execution_count": 85,
   "id": "815b7eaf-2357-4e00-941f-29da281abc4a",
   "metadata": {},
   "outputs": [
    {
     "data": {
      "text/html": [
       "<div>\n",
       "<style scoped>\n",
       "    .dataframe tbody tr th:only-of-type {\n",
       "        vertical-align: middle;\n",
       "    }\n",
       "\n",
       "    .dataframe tbody tr th {\n",
       "        vertical-align: top;\n",
       "    }\n",
       "\n",
       "    .dataframe thead th {\n",
       "        text-align: right;\n",
       "    }\n",
       "</style>\n",
       "<table border=\"1\" class=\"dataframe\">\n",
       "  <thead>\n",
       "    <tr style=\"text-align: right;\">\n",
       "      <th></th>\n",
       "      <th>from_x</th>\n",
       "      <th>from_y</th>\n",
       "      <th>to_x</th>\n",
       "      <th>to_y</th>\n",
       "    </tr>\n",
       "  </thead>\n",
       "  <tbody>\n",
       "    <tr>\n",
       "      <th>0</th>\n",
       "      <td>24.970438</td>\n",
       "      <td>60.311917</td>\n",
       "      <td>24.856034</td>\n",
       "      <td>60.399941</td>\n",
       "    </tr>\n",
       "    <tr>\n",
       "      <th>1</th>\n",
       "      <td>24.970438</td>\n",
       "      <td>60.311917</td>\n",
       "      <td>24.860568</td>\n",
       "      <td>60.400014</td>\n",
       "    </tr>\n",
       "    <tr>\n",
       "      <th>2</th>\n",
       "      <td>24.970438</td>\n",
       "      <td>60.311917</td>\n",
       "      <td>24.865102</td>\n",
       "      <td>60.400086</td>\n",
       "    </tr>\n",
       "    <tr>\n",
       "      <th>3</th>\n",
       "      <td>24.970438</td>\n",
       "      <td>60.311917</td>\n",
       "      <td>24.869636</td>\n",
       "      <td>60.400159</td>\n",
       "    </tr>\n",
       "    <tr>\n",
       "      <th>4</th>\n",
       "      <td>24.970438</td>\n",
       "      <td>60.311917</td>\n",
       "      <td>24.842582</td>\n",
       "      <td>60.397478</td>\n",
       "    </tr>\n",
       "  </tbody>\n",
       "</table>\n",
       "</div>"
      ],
      "text/plain": [
       "      from_x     from_y       to_x       to_y\n",
       "0  24.970438  60.311917  24.856034  60.399941\n",
       "1  24.970438  60.311917  24.860568  60.400014\n",
       "2  24.970438  60.311917  24.865102  60.400086\n",
       "3  24.970438  60.311917  24.869636  60.400159\n",
       "4  24.970438  60.311917  24.842582  60.397478"
      ]
     },
     "execution_count": 85,
     "metadata": {},
     "output_type": "execute_result"
    }
   ],
   "source": [
    "data = data[['from_x', 'from_y', 'to_x', 'to_y']]\n",
    "data.head()"
   ]
  },
  {
   "cell_type": "code",
   "execution_count": 86,
   "id": "247798cd-7e0f-45b0-83d0-1d227ff90c97",
   "metadata": {},
   "outputs": [
    {
     "data": {
      "text/plain": [
       "['from_x', 'from_y', 'to_x', 'to_y']"
      ]
     },
     "execution_count": 86,
     "metadata": {},
     "output_type": "execute_result"
    }
   ],
   "source": [
    "list(data.columns)"
   ]
  },
  {
   "cell_type": "code",
   "execution_count": 96,
   "id": "7a2b525f-7ee9-4c0c-8490-f1a6bc5e64fd",
   "metadata": {},
   "outputs": [
    {
     "name": "stdout",
     "output_type": "stream",
     "text": [
      "orig_points length: 0\n",
      "dest_points length: 0\n"
     ]
    }
   ],
   "source": [
    "# Create two empty lists for origin and destination points\n",
    "orig_points = []\n",
    "dest_points = []\n",
    "\n",
    "print('orig_points length:', len(orig_points))\n",
    "print('dest_points length:', len(dest_points))"
   ]
  },
  {
   "cell_type": "markdown",
   "id": "7f24a3c3-1292-40f9-86ad-29fc22978b96",
   "metadata": {},
   "source": [
    "Create shapely points for each origin and destination and add origin points to `orig_points` list and destination points to `dest_points` list."
   ]
  },
  {
   "cell_type": "code",
   "execution_count": 97,
   "id": "1c001dab-3cd7-42b5-9dae-9dd547c331cb",
   "metadata": {
    "tags": []
   },
   "outputs": [
    {
     "name": "stdout",
     "output_type": "stream",
     "text": [
      "ORIGIN X Y: 24.9704379 60.3119173\n",
      "DESTINATION X Y: 24.8560344 60.3999406\n"
     ]
    }
   ],
   "source": [
    "for idx, row in data.iterrows():\n",
    "    orig_point = Point(row['from_x'], row['from_y'])\n",
    "    dest_point = Point(row['to_x'], row['to_y'])\n",
    "    \n",
    "    orig_points.append(orig_point)\n",
    "    dest_points.append(dest_point)\n",
    "\n",
    "print(\"ORIGIN X Y:\", orig_points[0].x, orig_points[0].y)\n",
    "print(\"DESTINATION X Y:\", dest_points[0].x, dest_points[0].y)\n",
    "\n",
    "#Check that you created a correct amount of points:\n",
    "assert len(orig_points) == len(data), \"Number of origin points must be the same as number of rows in the original file\"\n",
    "assert len(dest_points) == len(data), \"Number of destination points must be the same as number of rows in the original file\""
   ]
  },
  {
   "cell_type": "markdown",
   "id": "85ab9630-c247-4207-a726-9b2997e3eeae",
   "metadata": {},
   "source": [
    "## Creating LineStrings that represent the movements"
   ]
  },
  {
   "cell_type": "markdown",
   "id": "334df11e-5138-43db-b32f-33fc6d942389",
   "metadata": {},
   "source": [
    "Creata a list called `lines`. Iterate over the origin and destination lists and create a Shapely LineString -object between the origin and destination point.\n",
    "- Hint - Alternative 1: You can take advantage of `range()` function here that can help accessing the values from two lists at the same time.\n",
    "- Hint - Alternative 2: You can use `zip()` function to iterate over many lists at the same time.\n",
    "\n",
    "Add the LineString into the `lines`-list."
   ]
  },
  {
   "cell_type": "code",
   "execution_count": 100,
   "id": "676fb541-18be-4605-b8ac-d0c691664c24",
   "metadata": {
    "tags": []
   },
   "outputs": [],
   "source": [
    "lines = []\n",
    "\n",
    "for origin, dest in zip(orig_points, dest_points):\n",
    "    line = LineString([origin, dest])\n",
    "    lines.append(line)\n",
    "\n",
    "assert len(lines) == len(data), \"There should be as many lines as there are rows in the original data\""
   ]
  },
  {
   "cell_type": "markdown",
   "id": "34accbe6-0775-4c0f-852c-badf84732150",
   "metadata": {},
   "source": [
    "Create a variable called `total_length`, and store the total (Euclidian) distance of all the origin-destination LineStrings that we just created into that variable."
   ]
  },
  {
   "cell_type": "code",
   "execution_count": 101,
   "id": "7716fa8b-39a4-4041-956a-0572242aeb96",
   "metadata": {},
   "outputs": [
    {
     "name": "stdout",
     "output_type": "stream",
     "text": [
      "Total length of all lines is 3148.57\n"
     ]
    }
   ],
   "source": [
    "total_length = 0\n",
    "\n",
    "for line in lines:\n",
    "    total_length += line.length\n",
    "\n",
    "print(\"Total length of all lines is\", round(total_length, 2))"
   ]
  },
  {
   "cell_type": "markdown",
   "id": "c3069b52-03f6-4f37-8a04-ccff4ee0fade",
   "metadata": {},
   "source": [
    "Write the previous parts, i.e. the creation of the LineString and calculating the total distance, into dedicated functions:\n",
    "- `create_od_lines()`: Takes two lists of Shapely Point -objects as input and returns a list of LineStrings\n",
    "- `calculate_total_distance()`: Takes a list of LineString geometries as input and returs their total length"
   ]
  },
  {
   "cell_type": "code",
   "execution_count": 102,
   "id": "ccd7952e-c7cb-40e3-9892-d675d28185cf",
   "metadata": {},
   "outputs": [],
   "source": [
    "def create_od_lines(orig_points, dest_points):\n",
    "    \"\"\"\n",
    "    Takes two lists of Shapely Point -objects as input and returns a list of LineStrings.\n",
    "    \"\"\"\n",
    "    \n",
    "    lines = []\n",
    "    \n",
    "    for origin, dest in zip(orig_points, dest_points):\n",
    "        line = LineString([origin, dest])\n",
    "        lines.append(line)\n",
    "    return lines\n",
    "\n",
    "def calculate_total_distance(lines):\n",
    "    \"\"\"\n",
    "    Takes a list of LineString geometries as input and returs their total length.\n",
    "    \"\"\"\n",
    "    total_length = 0\n",
    "\n",
    "    for line in lines:\n",
    "        total_length += line.length\n",
    "    return total_length"
   ]
  },
  {
   "cell_type": "code",
   "execution_count": 103,
   "id": "2622c321-fb20-4e06-9c4c-a9362b4c3bc2",
   "metadata": {},
   "outputs": [
    {
     "name": "stdout",
     "output_type": "stream",
     "text": [
      "Total distance 3148.57\n"
     ]
    }
   ],
   "source": [
    "od_lines = create_od_lines(orig_points, dest_points)\n",
    "\n",
    "# Calculate the total distance\n",
    "tot_dist = calculate_total_distance(od_lines)\n",
    "\n",
    "print(\"Total distance\", round(tot_dist, 2))"
   ]
  },
  {
   "cell_type": "code",
   "execution_count": null,
   "id": "f630953b-812a-4d05-989a-a22269a53770",
   "metadata": {},
   "outputs": [],
   "source": []
  }
 ],
 "metadata": {
  "kernelspec": {
   "display_name": "Python 3 (ipykernel)",
   "language": "python",
   "name": "python3"
  },
  "language_info": {
   "codemirror_mode": {
    "name": "ipython",
    "version": 3
   },
   "file_extension": ".py",
   "mimetype": "text/x-python",
   "name": "python",
   "nbconvert_exporter": "python",
   "pygments_lexer": "ipython3",
   "version": "3.9.7"
  }
 },
 "nbformat": 4,
 "nbformat_minor": 5
}
